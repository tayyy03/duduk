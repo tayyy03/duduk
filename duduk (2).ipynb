{
  "nbformat": 4,
  "nbformat_minor": 0,
  "metadata": {
    "colab": {
      "provenance": [],
      "gpuType": "T4"
    },
    "kernelspec": {
      "name": "python3",
      "display_name": "Python 3"
    },
    "language_info": {
      "name": "python"
    },
    "accelerator": "GPU"
  },
  "cells": [
    {
      "cell_type": "code",
      "execution_count": null,
      "metadata": {
        "colab": {
          "base_uri": "https://localhost:8080/"
        },
        "id": "1M6SsfrA00Jl",
        "outputId": "6c2f168d-de0d-4abb-efc0-f59bca7316f1"
      },
      "outputs": [
        {
          "output_type": "stream",
          "name": "stdout",
          "text": [
            "Requirement already satisfied: roboflow in /usr/local/lib/python3.11/dist-packages (1.1.66)\n",
            "Requirement already satisfied: certifi in /usr/local/lib/python3.11/dist-packages (from roboflow) (2025.6.15)\n",
            "Requirement already satisfied: idna==3.7 in /usr/local/lib/python3.11/dist-packages (from roboflow) (3.7)\n",
            "Requirement already satisfied: cycler in /usr/local/lib/python3.11/dist-packages (from roboflow) (0.12.1)\n",
            "Requirement already satisfied: kiwisolver>=1.3.1 in /usr/local/lib/python3.11/dist-packages (from roboflow) (1.4.8)\n",
            "Requirement already satisfied: matplotlib in /usr/local/lib/python3.11/dist-packages (from roboflow) (3.10.0)\n",
            "Requirement already satisfied: numpy>=1.18.5 in /usr/local/lib/python3.11/dist-packages (from roboflow) (2.0.2)\n",
            "Requirement already satisfied: opencv-python-headless==4.10.0.84 in /usr/local/lib/python3.11/dist-packages (from roboflow) (4.10.0.84)\n",
            "Requirement already satisfied: Pillow>=7.1.2 in /usr/local/lib/python3.11/dist-packages (from roboflow) (11.2.1)\n",
            "Requirement already satisfied: pillow-heif>=0.18.0 in /usr/local/lib/python3.11/dist-packages (from roboflow) (0.22.0)\n",
            "Requirement already satisfied: python-dateutil in /usr/local/lib/python3.11/dist-packages (from roboflow) (2.9.0.post0)\n",
            "Requirement already satisfied: python-dotenv in /usr/local/lib/python3.11/dist-packages (from roboflow) (1.1.1)\n",
            "Requirement already satisfied: requests in /usr/local/lib/python3.11/dist-packages (from roboflow) (2.32.3)\n",
            "Requirement already satisfied: six in /usr/local/lib/python3.11/dist-packages (from roboflow) (1.17.0)\n",
            "Requirement already satisfied: urllib3>=1.26.6 in /usr/local/lib/python3.11/dist-packages (from roboflow) (2.4.0)\n",
            "Requirement already satisfied: tqdm>=4.41.0 in /usr/local/lib/python3.11/dist-packages (from roboflow) (4.67.1)\n",
            "Requirement already satisfied: PyYAML>=5.3.1 in /usr/local/lib/python3.11/dist-packages (from roboflow) (6.0.2)\n",
            "Requirement already satisfied: requests-toolbelt in /usr/local/lib/python3.11/dist-packages (from roboflow) (1.0.0)\n",
            "Requirement already satisfied: filetype in /usr/local/lib/python3.11/dist-packages (from roboflow) (1.2.0)\n",
            "Requirement already satisfied: contourpy>=1.0.1 in /usr/local/lib/python3.11/dist-packages (from matplotlib->roboflow) (1.3.2)\n",
            "Requirement already satisfied: fonttools>=4.22.0 in /usr/local/lib/python3.11/dist-packages (from matplotlib->roboflow) (4.58.4)\n",
            "Requirement already satisfied: packaging>=20.0 in /usr/local/lib/python3.11/dist-packages (from matplotlib->roboflow) (24.2)\n",
            "Requirement already satisfied: pyparsing>=2.3.1 in /usr/local/lib/python3.11/dist-packages (from matplotlib->roboflow) (3.2.3)\n",
            "Requirement already satisfied: charset-normalizer<4,>=2 in /usr/local/lib/python3.11/dist-packages (from requests->roboflow) (3.4.2)\n",
            "loading Roboflow workspace...\n",
            "loading Roboflow project...\n"
          ]
        }
      ],
      "source": [
        "!pip install roboflow\n",
        "\n",
        "from roboflow import Roboflow\n",
        "rf = Roboflow(api_key=\"StM8QAPcQfMrcnhC2wWq\")\n",
        "project = rf.workspace(\"project29052025\").project(\"sitting-posture-rofqf-nqxci\")\n",
        "version = project.version(3)\n",
        "dataset = version.download(\"yolov8\")"
      ]
    },
    {
      "cell_type": "code",
      "source": [
        "import os\n",
        "import cv2\n",
        "import albumentations as A\n",
        "from albumentations.core.keypoints_utils import convert_keypoints_to_albumentations, convert_keypoints_from_albumentations"
      ],
      "metadata": {
        "id": "dn0Cyv6oU7SW"
      },
      "execution_count": null,
      "outputs": []
    },
    {
      "cell_type": "code",
      "source": [
        "INPUT_IMAGE_DIR = \"/content/sitting-posture-3/train/images\"\n",
        "INPUT_LABEL_DIR = \"/content/sitting-posture-3/train/labels\"\n",
        "OUTPUT_IMAGE_DIR = \"augmented/train/images\"\n",
        "OUTPUT_LABEL_DIR = \"augmented/train/labels\"\n",
        "AUG_PER_IMAGE = 5\n",
        "KEYPOINT_FORMAT = 'xy'\n",
        "os.makedirs(OUTPUT_IMAGE_DIR, exist_ok=True)\n",
        "os.makedirs(OUTPUT_LABEL_DIR, exist_ok=True)"
      ],
      "metadata": {
        "id": "Rvi2SQs7U8a4"
      },
      "execution_count": null,
      "outputs": []
    },
    {
      "cell_type": "code",
      "source": [
        "transform = A.Compose([\n",
        "    A.HorizontalFlip(p=0.5),\n",
        "    A.RandomBrightnessContrast(p=0.5),\n",
        "    A.Rotate(limit=10, p=0.5),\n",
        "    A.RandomScale(scale_limit=0.1, p=0.5),\n",
        "    A.GaussNoise(p=0.3),\n",
        "    A.Blur(p=0.2),\n",
        "],\n",
        "    keypoint_params=A.KeypointParams(format=KEYPOINT_FORMAT, remove_invisible=False))"
      ],
      "metadata": {
        "id": "MfcTbAcNU9z4"
      },
      "execution_count": null,
      "outputs": []
    },
    {
      "cell_type": "code",
      "source": [
        "\n",
        "def parse_keypoints_with_visibility(keypoints_norm, w, h):\n",
        "    \"\"\"Parse keypoints dengan mempertahankan visibility flag\"\"\"\n",
        "    keypoints = []\n",
        "    visibility_flags = []\n",
        "    i = 0\n",
        "\n",
        "    while i < len(keypoints_norm):\n",
        "        if i + 1 < len(keypoints_norm):\n",
        "            x = keypoints_norm[i] * w\n",
        "            y = keypoints_norm[i + 1] * h\n",
        "            keypoints.append((x, y))\n",
        "\n",
        "                      if i + 2 < len(keypoints_norm) and keypoints_norm[i + 2] in [0, 1, 2]:\n",
        "                visibility_flags.append(int(keypoints_norm[i + 2]))\n",
        "                i += 3  # skip x, y, visibility\n",
        "            else:\n",
        "                visibility_flags.append(1)\n",
        "                i += 2  # skip x, y saja\n",
        "        else:\n",
        "            break\n",
        "\n",
        "    return keypoints, visibility_flags\n",
        "\n",
        "def format_keypoints_output(keypoints, visibility_flags, w, h):\n",
        "    \"\"\"Format keypoints kembali ke format asli dengan visibility\"\"\"\n",
        "    output_parts = []\n",
        "    for i, (x, y) in enumerate(keypoints):\n",
        "        x_norm = x / w\n",
        "        y_norm = y / h\n",
        "        vis = visibility_flags[i] if i < len(visibility_flags) else 1\n",
        "        output_parts.extend([f\"{x_norm:.6f}\", f\"{y_norm:.6f}\", str(vis)])\n",
        "\n",
        "    return \" \".join(output_parts)\n",
        "\n",
        "for filename in os.listdir(INPUT_IMAGE_DIR):\n",
        "    if not filename.lower().endswith(('.jpg', '.png', '.jpeg')):\n",
        "        continue\n",
        "\n",
        "    img_path = os.path.join(INPUT_IMAGE_DIR, filename)\n",
        "    label_path = os.path.join(INPUT_LABEL_DIR, filename.rsplit('.', 1)[0] + '.txt')\n",
        "\n",
        "    image = cv2.imread(img_path)\n",
        "    if image is None:\n",
        "        print(f\"Gagal baca gambar: {img_path}\")\n",
        "        continue\n",
        "\n",
        "    h, w = image.shape[:2]\n",
        "\n",
        "    try:\n",
        "        with open(label_path, 'r') as f:\n",
        "            line = f.readline().strip()\n",
        "            if not line:\n",
        "                print(f\"Label kosong: {label_path}\")\n",
        "                continue\n",
        "\n",
        "            parts = line.split()\n",
        "            class_id = int(parts[0])\n",
        "            keypoints_norm = list(map(float, parts[1:]))\n",
        "            original_label_format = \" \".join(parts[1:])\n",
        "    except FileNotFoundError:\n",
        "        print(f\"File label tidak ditemukan: {label_path}\")\n",
        "        continue\n",
        "\n",
        "    keypoints, visibility_flags = parse_keypoints_with_visibility(keypoints_norm, w, h)\n",
        "\n",
        "    base_name = filename.rsplit('.', 1)[0]\n",
        "    ori_outname = f\"{base_name}_orig.jpg\"\n",
        "    cv2.imwrite(os.path.join(OUTPUT_IMAGE_DIR, ori_outname), image)\n",
        "\n",
        "    with open(os.path.join(OUTPUT_LABEL_DIR, ori_outname.replace('.jpg', '.txt')), 'w') as f:\n",
        "        f.write(f\"{class_id} {original_label_format}\\n\")\n",
        "\n",
        "    for i in range(AUG_PER_IMAGE):\n",
        "        try:\n",
        "            augmented = transform(image=image, keypoints=keypoints)\n",
        "            aug_img = augmented['image']\n",
        "            aug_kpts = augmented['keypoints']\n",
        "\n",
        "            aug_filename = f\"{base_name}_aug{i}.jpg\"\n",
        "            out_img_path = os.path.join(OUTPUT_IMAGE_DIR, aug_filename)\n",
        "            out_lbl_path = os.path.join(OUTPUT_LABEL_DIR, aug_filename.replace(\".jpg\", \".txt\"))\n",
        "\n",
        "            cv2.imwrite(out_img_path, aug_img)\n",
        "\n",
        "            h_aug, w_aug = aug_img.shape[:2]\n",
        "            kpts_aug_str = format_keypoints_output(aug_kpts, visibility_flags, w_aug, h_aug)\n",
        "\n",
        "            with open(out_lbl_path, 'w') as f:\n",
        "                f.write(f\"{class_id} {kpts_aug_str}\\n\")\n",
        "\n",
        "        except Exception as e:\n",
        "            print(f\"Error saat augmentasi {filename} iterasi {i}: {str(e)}\")\n",
        "            continue\n",
        "\n",
        "print(\"✅ Augmentasi selesai.\")\n"
      ],
      "metadata": {
        "colab": {
          "base_uri": "https://localhost:8080/"
        },
        "id": "xYyZPr-7U_4c",
        "outputId": "9a34e5c8-2efd-4ef7-88df-77bbc9427fff"
      },
      "execution_count": null,
      "outputs": [
        {
          "output_type": "stream",
          "name": "stdout",
          "text": [
            "✅ Augmentasi selesai.\n"
          ]
        }
      ]
    },
    {
      "cell_type": "code",
      "source": [
        "!pip install ultralytics"
      ],
      "metadata": {
        "colab": {
          "base_uri": "https://localhost:8080/"
        },
        "id": "f1UUs-Y81GA3",
        "outputId": "3d678f62-0357-49b3-adfd-c4c9a72e7926"
      },
      "execution_count": null,
      "outputs": [
        {
          "output_type": "stream",
          "name": "stdout",
          "text": [
            "Requirement already satisfied: ultralytics in /usr/local/lib/python3.11/dist-packages (8.3.159)\n",
            "Requirement already satisfied: numpy>=1.23.0 in /usr/local/lib/python3.11/dist-packages (from ultralytics) (2.0.2)\n",
            "Requirement already satisfied: matplotlib>=3.3.0 in /usr/local/lib/python3.11/dist-packages (from ultralytics) (3.10.0)\n",
            "Requirement already satisfied: opencv-python>=4.6.0 in /usr/local/lib/python3.11/dist-packages (from ultralytics) (4.11.0.86)\n",
            "Requirement already satisfied: pillow>=7.1.2 in /usr/local/lib/python3.11/dist-packages (from ultralytics) (11.2.1)\n",
            "Requirement already satisfied: pyyaml>=5.3.1 in /usr/local/lib/python3.11/dist-packages (from ultralytics) (6.0.2)\n",
            "Requirement already satisfied: requests>=2.23.0 in /usr/local/lib/python3.11/dist-packages (from ultralytics) (2.32.3)\n",
            "Requirement already satisfied: scipy>=1.4.1 in /usr/local/lib/python3.11/dist-packages (from ultralytics) (1.15.3)\n",
            "Requirement already satisfied: torch>=1.8.0 in /usr/local/lib/python3.11/dist-packages (from ultralytics) (2.6.0+cu124)\n",
            "Requirement already satisfied: torchvision>=0.9.0 in /usr/local/lib/python3.11/dist-packages (from ultralytics) (0.21.0+cu124)\n",
            "Requirement already satisfied: tqdm>=4.64.0 in /usr/local/lib/python3.11/dist-packages (from ultralytics) (4.67.1)\n",
            "Requirement already satisfied: psutil in /usr/local/lib/python3.11/dist-packages (from ultralytics) (5.9.5)\n",
            "Requirement already satisfied: py-cpuinfo in /usr/local/lib/python3.11/dist-packages (from ultralytics) (9.0.0)\n",
            "Requirement already satisfied: pandas>=1.1.4 in /usr/local/lib/python3.11/dist-packages (from ultralytics) (2.2.2)\n",
            "Requirement already satisfied: ultralytics-thop>=2.0.0 in /usr/local/lib/python3.11/dist-packages (from ultralytics) (2.0.14)\n",
            "Requirement already satisfied: contourpy>=1.0.1 in /usr/local/lib/python3.11/dist-packages (from matplotlib>=3.3.0->ultralytics) (1.3.2)\n",
            "Requirement already satisfied: cycler>=0.10 in /usr/local/lib/python3.11/dist-packages (from matplotlib>=3.3.0->ultralytics) (0.12.1)\n",
            "Requirement already satisfied: fonttools>=4.22.0 in /usr/local/lib/python3.11/dist-packages (from matplotlib>=3.3.0->ultralytics) (4.58.4)\n",
            "Requirement already satisfied: kiwisolver>=1.3.1 in /usr/local/lib/python3.11/dist-packages (from matplotlib>=3.3.0->ultralytics) (1.4.8)\n",
            "Requirement already satisfied: packaging>=20.0 in /usr/local/lib/python3.11/dist-packages (from matplotlib>=3.3.0->ultralytics) (24.2)\n",
            "Requirement already satisfied: pyparsing>=2.3.1 in /usr/local/lib/python3.11/dist-packages (from matplotlib>=3.3.0->ultralytics) (3.2.3)\n",
            "Requirement already satisfied: python-dateutil>=2.7 in /usr/local/lib/python3.11/dist-packages (from matplotlib>=3.3.0->ultralytics) (2.9.0.post0)\n",
            "Requirement already satisfied: pytz>=2020.1 in /usr/local/lib/python3.11/dist-packages (from pandas>=1.1.4->ultralytics) (2025.2)\n",
            "Requirement already satisfied: tzdata>=2022.7 in /usr/local/lib/python3.11/dist-packages (from pandas>=1.1.4->ultralytics) (2025.2)\n",
            "Requirement already satisfied: charset-normalizer<4,>=2 in /usr/local/lib/python3.11/dist-packages (from requests>=2.23.0->ultralytics) (3.4.2)\n",
            "Requirement already satisfied: idna<4,>=2.5 in /usr/local/lib/python3.11/dist-packages (from requests>=2.23.0->ultralytics) (3.7)\n",
            "Requirement already satisfied: urllib3<3,>=1.21.1 in /usr/local/lib/python3.11/dist-packages (from requests>=2.23.0->ultralytics) (2.4.0)\n",
            "Requirement already satisfied: certifi>=2017.4.17 in /usr/local/lib/python3.11/dist-packages (from requests>=2.23.0->ultralytics) (2025.6.15)\n",
            "Requirement already satisfied: filelock in /usr/local/lib/python3.11/dist-packages (from torch>=1.8.0->ultralytics) (3.18.0)\n",
            "Requirement already satisfied: typing-extensions>=4.10.0 in /usr/local/lib/python3.11/dist-packages (from torch>=1.8.0->ultralytics) (4.14.0)\n",
            "Requirement already satisfied: networkx in /usr/local/lib/python3.11/dist-packages (from torch>=1.8.0->ultralytics) (3.5)\n",
            "Requirement already satisfied: jinja2 in /usr/local/lib/python3.11/dist-packages (from torch>=1.8.0->ultralytics) (3.1.6)\n",
            "Requirement already satisfied: fsspec in /usr/local/lib/python3.11/dist-packages (from torch>=1.8.0->ultralytics) (2025.3.2)\n",
            "Requirement already satisfied: nvidia-cuda-nvrtc-cu12==12.4.127 in /usr/local/lib/python3.11/dist-packages (from torch>=1.8.0->ultralytics) (12.4.127)\n",
            "Requirement already satisfied: nvidia-cuda-runtime-cu12==12.4.127 in /usr/local/lib/python3.11/dist-packages (from torch>=1.8.0->ultralytics) (12.4.127)\n",
            "Requirement already satisfied: nvidia-cuda-cupti-cu12==12.4.127 in /usr/local/lib/python3.11/dist-packages (from torch>=1.8.0->ultralytics) (12.4.127)\n",
            "Requirement already satisfied: nvidia-cudnn-cu12==9.1.0.70 in /usr/local/lib/python3.11/dist-packages (from torch>=1.8.0->ultralytics) (9.1.0.70)\n",
            "Requirement already satisfied: nvidia-cublas-cu12==12.4.5.8 in /usr/local/lib/python3.11/dist-packages (from torch>=1.8.0->ultralytics) (12.4.5.8)\n",
            "Requirement already satisfied: nvidia-cufft-cu12==11.2.1.3 in /usr/local/lib/python3.11/dist-packages (from torch>=1.8.0->ultralytics) (11.2.1.3)\n",
            "Requirement already satisfied: nvidia-curand-cu12==10.3.5.147 in /usr/local/lib/python3.11/dist-packages (from torch>=1.8.0->ultralytics) (10.3.5.147)\n",
            "Requirement already satisfied: nvidia-cusolver-cu12==11.6.1.9 in /usr/local/lib/python3.11/dist-packages (from torch>=1.8.0->ultralytics) (11.6.1.9)\n",
            "Requirement already satisfied: nvidia-cusparse-cu12==12.3.1.170 in /usr/local/lib/python3.11/dist-packages (from torch>=1.8.0->ultralytics) (12.3.1.170)\n",
            "Requirement already satisfied: nvidia-cusparselt-cu12==0.6.2 in /usr/local/lib/python3.11/dist-packages (from torch>=1.8.0->ultralytics) (0.6.2)\n",
            "Requirement already satisfied: nvidia-nccl-cu12==2.21.5 in /usr/local/lib/python3.11/dist-packages (from torch>=1.8.0->ultralytics) (2.21.5)\n",
            "Requirement already satisfied: nvidia-nvtx-cu12==12.4.127 in /usr/local/lib/python3.11/dist-packages (from torch>=1.8.0->ultralytics) (12.4.127)\n",
            "Requirement already satisfied: nvidia-nvjitlink-cu12==12.4.127 in /usr/local/lib/python3.11/dist-packages (from torch>=1.8.0->ultralytics) (12.4.127)\n",
            "Requirement already satisfied: triton==3.2.0 in /usr/local/lib/python3.11/dist-packages (from torch>=1.8.0->ultralytics) (3.2.0)\n",
            "Requirement already satisfied: sympy==1.13.1 in /usr/local/lib/python3.11/dist-packages (from torch>=1.8.0->ultralytics) (1.13.1)\n",
            "Requirement already satisfied: mpmath<1.4,>=1.1.0 in /usr/local/lib/python3.11/dist-packages (from sympy==1.13.1->torch>=1.8.0->ultralytics) (1.3.0)\n",
            "Requirement already satisfied: six>=1.5 in /usr/local/lib/python3.11/dist-packages (from python-dateutil>=2.7->matplotlib>=3.3.0->ultralytics) (1.17.0)\n",
            "Requirement already satisfied: MarkupSafe>=2.0 in /usr/local/lib/python3.11/dist-packages (from jinja2->torch>=1.8.0->ultralytics) (3.0.2)\n"
          ]
        }
      ]
    },
    {
      "cell_type": "code",
      "source": [
        "from ultralytics import YOLO\n",
        "\n",
        "model = YOLO('yolov8s-pose.pt')"
      ],
      "metadata": {
        "id": "-S9f-suY1rBS"
      },
      "execution_count": null,
      "outputs": []
    },
    {
      "cell_type": "code",
      "source": [
        "results = model.train(data=\"/content/sitting-posture-3/data.yaml\", epochs=150, imgsz=640)"
      ],
      "metadata": {
        "colab": {
          "base_uri": "https://localhost:8080/"
        },
        "id": "tFkKg1EC11FY",
        "outputId": "6224b3ad-9ba4-4e3e-cdc8-b9e752af5f46"
      },
      "execution_count": null,
      "outputs": [
        {
          "output_type": "stream",
          "name": "stdout",
          "text": [
            "Ultralytics 8.3.159 🚀 Python-3.11.13 torch-2.6.0+cu124 CUDA:0 (Tesla T4, 15095MiB)\n",
            "\u001b[34m\u001b[1mengine/trainer: \u001b[0magnostic_nms=False, amp=True, augment=False, auto_augment=randaugment, batch=16, bgr=0.0, box=7.5, cache=False, cfg=None, classes=None, close_mosaic=10, cls=0.5, conf=None, copy_paste=0.0, copy_paste_mode=flip, cos_lr=False, cutmix=0.0, data=/content/sitting-posture-3/data.yaml, degrees=0.0, deterministic=True, device=None, dfl=1.5, dnn=False, dropout=0.0, dynamic=False, embed=None, epochs=150, erasing=0.4, exist_ok=False, fliplr=0.5, flipud=0.0, format=torchscript, fraction=1.0, freeze=None, half=False, hsv_h=0.015, hsv_s=0.7, hsv_v=0.4, imgsz=640, int8=False, iou=0.7, keras=False, kobj=1.0, line_width=None, lr0=0.01, lrf=0.01, mask_ratio=4, max_det=300, mixup=0.0, mode=train, model=yolov8s-pose.pt, momentum=0.937, mosaic=1.0, multi_scale=False, name=train2, nbs=64, nms=False, opset=None, optimize=False, optimizer=auto, overlap_mask=True, patience=100, perspective=0.0, plots=True, pose=12.0, pretrained=True, profile=False, project=None, rect=False, resume=False, retina_masks=False, save=True, save_conf=False, save_crop=False, save_dir=runs/pose/train2, save_frames=False, save_json=False, save_period=-1, save_txt=False, scale=0.5, seed=0, shear=0.0, show=False, show_boxes=True, show_conf=True, show_labels=True, simplify=True, single_cls=False, source=None, split=val, stream_buffer=False, task=pose, time=None, tracker=botsort.yaml, translate=0.1, val=True, verbose=True, vid_stride=1, visualize=False, warmup_bias_lr=0.1, warmup_epochs=3.0, warmup_momentum=0.8, weight_decay=0.0005, workers=8, workspace=None\n",
            "Overriding model.yaml kpt_shape=[17, 3] with kpt_shape=[3, 3]\n",
            "Overriding model.yaml nc=1 with nc=2\n",
            "\n",
            "                   from  n    params  module                                       arguments                     \n",
            "  0                  -1  1       928  ultralytics.nn.modules.conv.Conv             [3, 32, 3, 2]                 \n",
            "  1                  -1  1     18560  ultralytics.nn.modules.conv.Conv             [32, 64, 3, 2]                \n",
            "  2                  -1  1     29056  ultralytics.nn.modules.block.C2f             [64, 64, 1, True]             \n",
            "  3                  -1  1     73984  ultralytics.nn.modules.conv.Conv             [64, 128, 3, 2]               \n",
            "  4                  -1  2    197632  ultralytics.nn.modules.block.C2f             [128, 128, 2, True]           \n",
            "  5                  -1  1    295424  ultralytics.nn.modules.conv.Conv             [128, 256, 3, 2]              \n",
            "  6                  -1  2    788480  ultralytics.nn.modules.block.C2f             [256, 256, 2, True]           \n",
            "  7                  -1  1   1180672  ultralytics.nn.modules.conv.Conv             [256, 512, 3, 2]              \n",
            "  8                  -1  1   1838080  ultralytics.nn.modules.block.C2f             [512, 512, 1, True]           \n",
            "  9                  -1  1    656896  ultralytics.nn.modules.block.SPPF            [512, 512, 5]                 \n",
            " 10                  -1  1         0  torch.nn.modules.upsampling.Upsample         [None, 2, 'nearest']          \n",
            " 11             [-1, 6]  1         0  ultralytics.nn.modules.conv.Concat           [1]                           \n",
            " 12                  -1  1    591360  ultralytics.nn.modules.block.C2f             [768, 256, 1]                 \n",
            " 13                  -1  1         0  torch.nn.modules.upsampling.Upsample         [None, 2, 'nearest']          \n",
            " 14             [-1, 4]  1         0  ultralytics.nn.modules.conv.Concat           [1]                           \n",
            " 15                  -1  1    148224  ultralytics.nn.modules.block.C2f             [384, 128, 1]                 \n",
            " 16                  -1  1    147712  ultralytics.nn.modules.conv.Conv             [128, 128, 3, 2]              \n",
            " 17            [-1, 12]  1         0  ultralytics.nn.modules.conv.Concat           [1]                           \n",
            " 18                  -1  1    493056  ultralytics.nn.modules.block.C2f             [384, 256, 1]                 \n",
            " 19                  -1  1    590336  ultralytics.nn.modules.conv.Conv             [256, 256, 3, 2]              \n",
            " 20             [-1, 9]  1         0  ultralytics.nn.modules.conv.Concat           [1]                           \n",
            " 21                  -1  1   1969152  ultralytics.nn.modules.block.C2f             [768, 512, 1]                 \n",
            " 22        [15, 18, 21]  1   2403793  ultralytics.nn.modules.head.Pose             [2, [3, 3], [128, 256, 512]]  \n",
            "YOLOv8s-pose summary: 144 layers, 11,423,345 parameters, 11,423,329 gradients, 29.6 GFLOPs\n",
            "\n",
            "Transferred 355/397 items from pretrained weights\n",
            "Freezing layer 'model.22.dfl.conv.weight'\n",
            "\u001b[34m\u001b[1mAMP: \u001b[0mrunning Automatic Mixed Precision (AMP) checks...\n",
            "\u001b[34m\u001b[1mAMP: \u001b[0mchecks passed ✅\n",
            "\u001b[34m\u001b[1mtrain: \u001b[0mFast image access ✅ (ping: 0.0±0.0 ms, read: 1579.0±844.9 MB/s, size: 125.2 KB)\n"
          ]
        },
        {
          "output_type": "stream",
          "name": "stderr",
          "text": [
            "\u001b[34m\u001b[1mtrain: \u001b[0mScanning /content/augmented/train/labels... 1146 images, 0 backgrounds, 955 corrupt: 100%|██████████| 1146/1146 [00:00<00:00, 1684.80it/s]"
          ]
        },
        {
          "output_type": "stream",
          "name": "stdout",
          "text": [
            "\u001b[34m\u001b[1mtrain: \u001b[0m/content/augmented/train/images/bad_posture_20241012_172107_png.rf.00c360d14317009b6dd52977105b5722_aug0.jpg: ignoring corrupt image/label: labels require 14 columns each\n",
            "\u001b[34m\u001b[1mtrain: \u001b[0m/content/augmented/train/images/bad_posture_20241012_172107_png.rf.00c360d14317009b6dd52977105b5722_aug1.jpg: ignoring corrupt image/label: labels require 14 columns each\n",
            "\u001b[34m\u001b[1mtrain: \u001b[0m/content/augmented/train/images/bad_posture_20241012_172107_png.rf.00c360d14317009b6dd52977105b5722_aug2.jpg: ignoring corrupt image/label: labels require 14 columns each\n",
            "\u001b[34m\u001b[1mtrain: \u001b[0m/content/augmented/train/images/bad_posture_20241012_172107_png.rf.00c360d14317009b6dd52977105b5722_aug3.jpg: ignoring corrupt image/label: labels require 14 columns each\n",
            "\u001b[34m\u001b[1mtrain: \u001b[0m/content/augmented/train/images/bad_posture_20241012_172107_png.rf.00c360d14317009b6dd52977105b5722_aug4.jpg: ignoring corrupt image/label: labels require 14 columns each\n",
            "\u001b[34m\u001b[1mtrain: \u001b[0m/content/augmented/train/images/bad_posture_20241012_172310_png.rf.5495d521c82f3373c3efa64e8873e93c_aug0.jpg: ignoring corrupt image/label: labels require 14 columns each\n",
            "\u001b[34m\u001b[1mtrain: \u001b[0m/content/augmented/train/images/bad_posture_20241012_172310_png.rf.5495d521c82f3373c3efa64e8873e93c_aug1.jpg: ignoring corrupt image/label: labels require 14 columns each\n",
            "\u001b[34m\u001b[1mtrain: \u001b[0m/content/augmented/train/images/bad_posture_20241012_172310_png.rf.5495d521c82f3373c3efa64e8873e93c_aug2.jpg: ignoring corrupt image/label: labels require 14 columns each\n",
            "\u001b[34m\u001b[1mtrain: \u001b[0m/content/augmented/train/images/bad_posture_20241012_172310_png.rf.5495d521c82f3373c3efa64e8873e93c_aug3.jpg: ignoring corrupt image/label: labels require 14 columns each\n",
            "\u001b[34m\u001b[1mtrain: \u001b[0m/content/augmented/train/images/bad_posture_20241012_172310_png.rf.5495d521c82f3373c3efa64e8873e93c_aug4.jpg: ignoring corrupt image/label: labels require 14 columns each\n",
            "\u001b[34m\u001b[1mtrain: \u001b[0m/content/augmented/train/images/bad_posture_20241012_172726_png.rf.ced4e88e27d64b9dfb3d996f8883d148_aug0.jpg: ignoring corrupt image/label: labels require 14 columns each\n",
            "\u001b[34m\u001b[1mtrain: \u001b[0m/content/augmented/train/images/bad_posture_20241012_172726_png.rf.ced4e88e27d64b9dfb3d996f8883d148_aug1.jpg: ignoring corrupt image/label: labels require 14 columns each\n",
            "\u001b[34m\u001b[1mtrain: \u001b[0m/content/augmented/train/images/bad_posture_20241012_172726_png.rf.ced4e88e27d64b9dfb3d996f8883d148_aug2.jpg: ignoring corrupt image/label: labels require 14 columns each\n",
            "\u001b[34m\u001b[1mtrain: \u001b[0m/content/augmented/train/images/bad_posture_20241012_172726_png.rf.ced4e88e27d64b9dfb3d996f8883d148_aug3.jpg: ignoring corrupt image/label: labels require 14 columns each\n",
            "\u001b[34m\u001b[1mtrain: \u001b[0m/content/augmented/train/images/bad_posture_20241012_172726_png.rf.ced4e88e27d64b9dfb3d996f8883d148_aug4.jpg: ignoring corrupt image/label: labels require 14 columns each\n",
            "\u001b[34m\u001b[1mtrain: \u001b[0m/content/augmented/train/images/bad_posture_20241012_172807_png.rf.42e2eeb288e77e6af964a52090a31381_aug0.jpg: ignoring corrupt image/label: labels require 14 columns each\n",
            "\u001b[34m\u001b[1mtrain: \u001b[0m/content/augmented/train/images/bad_posture_20241012_172807_png.rf.42e2eeb288e77e6af964a52090a31381_aug1.jpg: ignoring corrupt image/label: labels require 14 columns each\n",
            "\u001b[34m\u001b[1mtrain: \u001b[0m/content/augmented/train/images/bad_posture_20241012_172807_png.rf.42e2eeb288e77e6af964a52090a31381_aug2.jpg: ignoring corrupt image/label: labels require 14 columns each\n",
            "\u001b[34m\u001b[1mtrain: \u001b[0m/content/augmented/train/images/bad_posture_20241012_172807_png.rf.42e2eeb288e77e6af964a52090a31381_aug3.jpg: ignoring corrupt image/label: labels require 14 columns each\n",
            "\u001b[34m\u001b[1mtrain: \u001b[0m/content/augmented/train/images/bad_posture_20241012_172807_png.rf.42e2eeb288e77e6af964a52090a31381_aug4.jpg: ignoring corrupt image/label: labels require 14 columns each\n",
            "\u001b[34m\u001b[1mtrain: \u001b[0m/content/augmented/train/images/bad_posture_20241012_173020_png.rf.12803a2d8f44a9984bd2cc9e97d3e5f8_aug0.jpg: ignoring corrupt image/label: labels require 14 columns each\n",
            "\u001b[34m\u001b[1mtrain: \u001b[0m/content/augmented/train/images/bad_posture_20241012_173020_png.rf.12803a2d8f44a9984bd2cc9e97d3e5f8_aug1.jpg: ignoring corrupt image/label: labels require 14 columns each\n",
            "\u001b[34m\u001b[1mtrain: \u001b[0m/content/augmented/train/images/bad_posture_20241012_173020_png.rf.12803a2d8f44a9984bd2cc9e97d3e5f8_aug2.jpg: ignoring corrupt image/label: labels require 14 columns each\n",
            "\u001b[34m\u001b[1mtrain: \u001b[0m/content/augmented/train/images/bad_posture_20241012_173020_png.rf.12803a2d8f44a9984bd2cc9e97d3e5f8_aug3.jpg: ignoring corrupt image/label: labels require 14 columns each\n",
            "\u001b[34m\u001b[1mtrain: \u001b[0m/content/augmented/train/images/bad_posture_20241012_173020_png.rf.12803a2d8f44a9984bd2cc9e97d3e5f8_aug4.jpg: ignoring corrupt image/label: labels require 14 columns each\n",
            "\u001b[34m\u001b[1mtrain: \u001b[0m/content/augmented/train/images/bad_posture_20241012_173040_png.rf.6b32c565b36bdb8769c069f0f57e42c3_aug0.jpg: ignoring corrupt image/label: labels require 14 columns each\n",
            "\u001b[34m\u001b[1mtrain: \u001b[0m/content/augmented/train/images/bad_posture_20241012_173040_png.rf.6b32c565b36bdb8769c069f0f57e42c3_aug1.jpg: ignoring corrupt image/label: labels require 14 columns each\n",
            "\u001b[34m\u001b[1mtrain: \u001b[0m/content/augmented/train/images/bad_posture_20241012_173040_png.rf.6b32c565b36bdb8769c069f0f57e42c3_aug2.jpg: ignoring corrupt image/label: labels require 14 columns each\n",
            "\u001b[34m\u001b[1mtrain: \u001b[0m/content/augmented/train/images/bad_posture_20241012_173040_png.rf.6b32c565b36bdb8769c069f0f57e42c3_aug3.jpg: ignoring corrupt image/label: labels require 14 columns each\n",
            "\u001b[34m\u001b[1mtrain: \u001b[0m/content/augmented/train/images/bad_posture_20241012_173040_png.rf.6b32c565b36bdb8769c069f0f57e42c3_aug4.jpg: ignoring corrupt image/label: labels require 14 columns each\n",
            "\u001b[34m\u001b[1mtrain: \u001b[0m/content/augmented/train/images/bad_posture_20241012_173121_png.rf.6b6f76973fcda38a39995b93690360b6_aug0.jpg: ignoring corrupt image/label: labels require 14 columns each\n",
            "\u001b[34m\u001b[1mtrain: \u001b[0m/content/augmented/train/images/bad_posture_20241012_173121_png.rf.6b6f76973fcda38a39995b93690360b6_aug1.jpg: ignoring corrupt image/label: labels require 14 columns each\n",
            "\u001b[34m\u001b[1mtrain: \u001b[0m/content/augmented/train/images/bad_posture_20241012_173121_png.rf.6b6f76973fcda38a39995b93690360b6_aug2.jpg: ignoring corrupt image/label: labels require 14 columns each\n",
            "\u001b[34m\u001b[1mtrain: \u001b[0m/content/augmented/train/images/bad_posture_20241012_173121_png.rf.6b6f76973fcda38a39995b93690360b6_aug3.jpg: ignoring corrupt image/label: labels require 14 columns each\n",
            "\u001b[34m\u001b[1mtrain: \u001b[0m/content/augmented/train/images/bad_posture_20241012_173121_png.rf.6b6f76973fcda38a39995b93690360b6_aug4.jpg: ignoring corrupt image/label: labels require 14 columns each\n",
            "\u001b[34m\u001b[1mtrain: \u001b[0m/content/augmented/train/images/bad_posture_20241012_173222_png.rf.07b738219b556496a320815da888eedc_aug0.jpg: ignoring corrupt image/label: labels require 14 columns each\n",
            "\u001b[34m\u001b[1mtrain: \u001b[0m/content/augmented/train/images/bad_posture_20241012_173222_png.rf.07b738219b556496a320815da888eedc_aug1.jpg: ignoring corrupt image/label: labels require 14 columns each\n",
            "\u001b[34m\u001b[1mtrain: \u001b[0m/content/augmented/train/images/bad_posture_20241012_173222_png.rf.07b738219b556496a320815da888eedc_aug2.jpg: ignoring corrupt image/label: labels require 14 columns each\n",
            "\u001b[34m\u001b[1mtrain: \u001b[0m/content/augmented/train/images/bad_posture_20241012_173222_png.rf.07b738219b556496a320815da888eedc_aug3.jpg: ignoring corrupt image/label: labels require 14 columns each\n",
            "\u001b[34m\u001b[1mtrain: \u001b[0m/content/augmented/train/images/bad_posture_20241012_173222_png.rf.07b738219b556496a320815da888eedc_aug4.jpg: ignoring corrupt image/label: labels require 14 columns each\n",
            "\u001b[34m\u001b[1mtrain: \u001b[0m/content/augmented/train/images/bad_posture_20241012_173243_png.rf.56fce5f522f5ebaa06e170dd2621a198_aug0.jpg: ignoring corrupt image/label: labels require 14 columns each\n",
            "\u001b[34m\u001b[1mtrain: \u001b[0m/content/augmented/train/images/bad_posture_20241012_173243_png.rf.56fce5f522f5ebaa06e170dd2621a198_aug1.jpg: ignoring corrupt image/label: labels require 14 columns each\n",
            "\u001b[34m\u001b[1mtrain: \u001b[0m/content/augmented/train/images/bad_posture_20241012_173243_png.rf.56fce5f522f5ebaa06e170dd2621a198_aug2.jpg: ignoring corrupt image/label: labels require 14 columns each\n",
            "\u001b[34m\u001b[1mtrain: \u001b[0m/content/augmented/train/images/bad_posture_20241012_173243_png.rf.56fce5f522f5ebaa06e170dd2621a198_aug3.jpg: ignoring corrupt image/label: labels require 14 columns each\n",
            "\u001b[34m\u001b[1mtrain: \u001b[0m/content/augmented/train/images/bad_posture_20241012_173243_png.rf.56fce5f522f5ebaa06e170dd2621a198_aug4.jpg: ignoring corrupt image/label: labels require 14 columns each\n",
            "\u001b[34m\u001b[1mtrain: \u001b[0m/content/augmented/train/images/bad_posture_20241012_174037_png.rf.d608a5a867b88c664f35d61b84add1ef_aug0.jpg: ignoring corrupt image/label: labels require 14 columns each\n",
            "\u001b[34m\u001b[1mtrain: \u001b[0m/content/augmented/train/images/bad_posture_20241012_174037_png.rf.d608a5a867b88c664f35d61b84add1ef_aug1.jpg: ignoring corrupt image/label: labels require 14 columns each\n",
            "\u001b[34m\u001b[1mtrain: \u001b[0m/content/augmented/train/images/bad_posture_20241012_174037_png.rf.d608a5a867b88c664f35d61b84add1ef_aug2.jpg: ignoring corrupt image/label: labels require 14 columns each\n",
            "\u001b[34m\u001b[1mtrain: \u001b[0m/content/augmented/train/images/bad_posture_20241012_174037_png.rf.d608a5a867b88c664f35d61b84add1ef_aug3.jpg: ignoring corrupt image/label: labels require 14 columns each\n",
            "\u001b[34m\u001b[1mtrain: \u001b[0m/content/augmented/train/images/bad_posture_20241012_174037_png.rf.d608a5a867b88c664f35d61b84add1ef_aug4.jpg: ignoring corrupt image/label: labels require 14 columns each\n",
            "\u001b[34m\u001b[1mtrain: \u001b[0m/content/augmented/train/images/bad_posture_20241012_174240_png.rf.e912fdbbd9f3928117749fc30789b2e7_aug0.jpg: ignoring corrupt image/label: labels require 14 columns each\n",
            "\u001b[34m\u001b[1mtrain: \u001b[0m/content/augmented/train/images/bad_posture_20241012_174240_png.rf.e912fdbbd9f3928117749fc30789b2e7_aug1.jpg: ignoring corrupt image/label: labels require 14 columns each\n",
            "\u001b[34m\u001b[1mtrain: \u001b[0m/content/augmented/train/images/bad_posture_20241012_174240_png.rf.e912fdbbd9f3928117749fc30789b2e7_aug2.jpg: ignoring corrupt image/label: labels require 14 columns each\n",
            "\u001b[34m\u001b[1mtrain: \u001b[0m/content/augmented/train/images/bad_posture_20241012_174240_png.rf.e912fdbbd9f3928117749fc30789b2e7_aug3.jpg: ignoring corrupt image/label: labels require 14 columns each\n",
            "\u001b[34m\u001b[1mtrain: \u001b[0m/content/augmented/train/images/bad_posture_20241012_174240_png.rf.e912fdbbd9f3928117749fc30789b2e7_aug4.jpg: ignoring corrupt image/label: labels require 14 columns each\n",
            "\u001b[34m\u001b[1mtrain: \u001b[0m/content/augmented/train/images/bad_posture_20241013_215714_png.rf.2f93b4c27617b370da56475869c42f3c_aug0.jpg: ignoring corrupt image/label: labels require 14 columns each\n",
            "\u001b[34m\u001b[1mtrain: \u001b[0m/content/augmented/train/images/bad_posture_20241013_215714_png.rf.2f93b4c27617b370da56475869c42f3c_aug1.jpg: ignoring corrupt image/label: labels require 14 columns each\n",
            "\u001b[34m\u001b[1mtrain: \u001b[0m/content/augmented/train/images/bad_posture_20241013_215714_png.rf.2f93b4c27617b370da56475869c42f3c_aug2.jpg: ignoring corrupt image/label: labels require 14 columns each\n",
            "\u001b[34m\u001b[1mtrain: \u001b[0m/content/augmented/train/images/bad_posture_20241013_215714_png.rf.2f93b4c27617b370da56475869c42f3c_aug3.jpg: ignoring corrupt image/label: labels require 14 columns each\n",
            "\u001b[34m\u001b[1mtrain: \u001b[0m/content/augmented/train/images/bad_posture_20241013_215714_png.rf.2f93b4c27617b370da56475869c42f3c_aug4.jpg: ignoring corrupt image/label: labels require 14 columns each\n",
            "\u001b[34m\u001b[1mtrain: \u001b[0m/content/augmented/train/images/bad_posture_20241013_215926_png.rf.ccdc3fea38046282e0133c8a516e675f_aug0.jpg: ignoring corrupt image/label: labels require 14 columns each\n",
            "\u001b[34m\u001b[1mtrain: \u001b[0m/content/augmented/train/images/bad_posture_20241013_215926_png.rf.ccdc3fea38046282e0133c8a516e675f_aug1.jpg: ignoring corrupt image/label: labels require 14 columns each\n",
            "\u001b[34m\u001b[1mtrain: \u001b[0m/content/augmented/train/images/bad_posture_20241013_215926_png.rf.ccdc3fea38046282e0133c8a516e675f_aug2.jpg: ignoring corrupt image/label: labels require 14 columns each\n",
            "\u001b[34m\u001b[1mtrain: \u001b[0m/content/augmented/train/images/bad_posture_20241013_215926_png.rf.ccdc3fea38046282e0133c8a516e675f_aug3.jpg: ignoring corrupt image/label: labels require 14 columns each\n",
            "\u001b[34m\u001b[1mtrain: \u001b[0m/content/augmented/train/images/bad_posture_20241013_215926_png.rf.ccdc3fea38046282e0133c8a516e675f_aug4.jpg: ignoring corrupt image/label: labels require 14 columns each\n",
            "\u001b[34m\u001b[1mtrain: \u001b[0m/content/augmented/train/images/bad_posture_20241013_220037_png.rf.b4dcf8f9a5e3c87f4a406e6fd40c1c0e_aug0.jpg: ignoring corrupt image/label: labels require 14 columns each\n",
            "\u001b[34m\u001b[1mtrain: \u001b[0m/content/augmented/train/images/bad_posture_20241013_220037_png.rf.b4dcf8f9a5e3c87f4a406e6fd40c1c0e_aug1.jpg: ignoring corrupt image/label: labels require 14 columns each\n",
            "\u001b[34m\u001b[1mtrain: \u001b[0m/content/augmented/train/images/bad_posture_20241013_220037_png.rf.b4dcf8f9a5e3c87f4a406e6fd40c1c0e_aug2.jpg: ignoring corrupt image/label: labels require 14 columns each\n",
            "\u001b[34m\u001b[1mtrain: \u001b[0m/content/augmented/train/images/bad_posture_20241013_220037_png.rf.b4dcf8f9a5e3c87f4a406e6fd40c1c0e_aug3.jpg: ignoring corrupt image/label: labels require 14 columns each\n",
            "\u001b[34m\u001b[1mtrain: \u001b[0m/content/augmented/train/images/bad_posture_20241013_220037_png.rf.b4dcf8f9a5e3c87f4a406e6fd40c1c0e_aug4.jpg: ignoring corrupt image/label: labels require 14 columns each\n",
            "\u001b[34m\u001b[1mtrain: \u001b[0m/content/augmented/train/images/bad_posture_20241013_220309_png.rf.04f56b049df7807a3d9507a023681ee3_aug0.jpg: ignoring corrupt image/label: labels require 14 columns each\n",
            "\u001b[34m\u001b[1mtrain: \u001b[0m/content/augmented/train/images/bad_posture_20241013_220309_png.rf.04f56b049df7807a3d9507a023681ee3_aug1.jpg: ignoring corrupt image/label: labels require 14 columns each\n",
            "\u001b[34m\u001b[1mtrain: \u001b[0m/content/augmented/train/images/bad_posture_20241013_220309_png.rf.04f56b049df7807a3d9507a023681ee3_aug2.jpg: ignoring corrupt image/label: labels require 14 columns each\n",
            "\u001b[34m\u001b[1mtrain: \u001b[0m/content/augmented/train/images/bad_posture_20241013_220309_png.rf.04f56b049df7807a3d9507a023681ee3_aug3.jpg: ignoring corrupt image/label: labels require 14 columns each\n",
            "\u001b[34m\u001b[1mtrain: \u001b[0m/content/augmented/train/images/bad_posture_20241013_220309_png.rf.04f56b049df7807a3d9507a023681ee3_aug4.jpg: ignoring corrupt image/label: labels require 14 columns each\n",
            "\u001b[34m\u001b[1mtrain: \u001b[0m/content/augmented/train/images/bad_posture_20241013_220329_png.rf.82eee142729dbbd1e80005332df7a03a_aug0.jpg: ignoring corrupt image/label: labels require 14 columns each\n",
            "\u001b[34m\u001b[1mtrain: \u001b[0m/content/augmented/train/images/bad_posture_20241013_220329_png.rf.82eee142729dbbd1e80005332df7a03a_aug1.jpg: ignoring corrupt image/label: labels require 14 columns each\n",
            "\u001b[34m\u001b[1mtrain: \u001b[0m/content/augmented/train/images/bad_posture_20241013_220329_png.rf.82eee142729dbbd1e80005332df7a03a_aug2.jpg: ignoring corrupt image/label: labels require 14 columns each\n",
            "\u001b[34m\u001b[1mtrain: \u001b[0m/content/augmented/train/images/bad_posture_20241013_220329_png.rf.82eee142729dbbd1e80005332df7a03a_aug3.jpg: ignoring corrupt image/label: labels require 14 columns each\n",
            "\u001b[34m\u001b[1mtrain: \u001b[0m/content/augmented/train/images/bad_posture_20241013_220329_png.rf.82eee142729dbbd1e80005332df7a03a_aug4.jpg: ignoring corrupt image/label: labels require 14 columns each\n",
            "\u001b[34m\u001b[1mtrain: \u001b[0m/content/augmented/train/images/bad_posture_20241013_220642_png.rf.49e666d979fba6f48ac3b61506b3f369_aug0.jpg: ignoring corrupt image/label: labels require 14 columns each\n",
            "\u001b[34m\u001b[1mtrain: \u001b[0m/content/augmented/train/images/bad_posture_20241013_220642_png.rf.49e666d979fba6f48ac3b61506b3f369_aug1.jpg: ignoring corrupt image/label: labels require 14 columns each\n",
            "\u001b[34m\u001b[1mtrain: \u001b[0m/content/augmented/train/images/bad_posture_20241013_220642_png.rf.49e666d979fba6f48ac3b61506b3f369_aug2.jpg: ignoring corrupt image/label: labels require 14 columns each\n",
            "\u001b[34m\u001b[1mtrain: \u001b[0m/content/augmented/train/images/bad_posture_20241013_220642_png.rf.49e666d979fba6f48ac3b61506b3f369_aug3.jpg: ignoring corrupt image/label: labels require 14 columns each\n",
            "\u001b[34m\u001b[1mtrain: \u001b[0m/content/augmented/train/images/bad_posture_20241013_220642_png.rf.49e666d979fba6f48ac3b61506b3f369_aug4.jpg: ignoring corrupt image/label: labels require 14 columns each\n",
            "\u001b[34m\u001b[1mtrain: \u001b[0m/content/augmented/train/images/bad_posture_20241013_221128_png.rf.c29cfec65daa73b878bd0ee62df186b1_aug0.jpg: ignoring corrupt image/label: labels require 14 columns each\n",
            "\u001b[34m\u001b[1mtrain: \u001b[0m/content/augmented/train/images/bad_posture_20241013_221128_png.rf.c29cfec65daa73b878bd0ee62df186b1_aug1.jpg: ignoring corrupt image/label: labels require 14 columns each\n",
            "\u001b[34m\u001b[1mtrain: \u001b[0m/content/augmented/train/images/bad_posture_20241013_221128_png.rf.c29cfec65daa73b878bd0ee62df186b1_aug2.jpg: ignoring corrupt image/label: labels require 14 columns each\n",
            "\u001b[34m\u001b[1mtrain: \u001b[0m/content/augmented/train/images/bad_posture_20241013_221128_png.rf.c29cfec65daa73b878bd0ee62df186b1_aug3.jpg: ignoring corrupt image/label: labels require 14 columns each\n",
            "\u001b[34m\u001b[1mtrain: \u001b[0m/content/augmented/train/images/bad_posture_20241013_221128_png.rf.c29cfec65daa73b878bd0ee62df186b1_aug4.jpg: ignoring corrupt image/label: labels require 14 columns each\n",
            "\u001b[34m\u001b[1mtrain: \u001b[0m/content/augmented/train/images/bad_posture_20241013_221208_png.rf.611fe9d445d9cd5921d934181e1b6f21_aug0.jpg: ignoring corrupt image/label: labels require 14 columns each\n",
            "\u001b[34m\u001b[1mtrain: \u001b[0m/content/augmented/train/images/bad_posture_20241013_221208_png.rf.611fe9d445d9cd5921d934181e1b6f21_aug1.jpg: ignoring corrupt image/label: labels require 14 columns each\n",
            "\u001b[34m\u001b[1mtrain: \u001b[0m/content/augmented/train/images/bad_posture_20241013_221208_png.rf.611fe9d445d9cd5921d934181e1b6f21_aug2.jpg: ignoring corrupt image/label: labels require 14 columns each\n",
            "\u001b[34m\u001b[1mtrain: \u001b[0m/content/augmented/train/images/bad_posture_20241013_221208_png.rf.611fe9d445d9cd5921d934181e1b6f21_aug3.jpg: ignoring corrupt image/label: labels require 14 columns each\n",
            "\u001b[34m\u001b[1mtrain: \u001b[0m/content/augmented/train/images/bad_posture_20241013_221208_png.rf.611fe9d445d9cd5921d934181e1b6f21_aug4.jpg: ignoring corrupt image/label: labels require 14 columns each\n",
            "\u001b[34m\u001b[1mtrain: \u001b[0m/content/augmented/train/images/bad_posture_20241013_221218_png.rf.84eeda9d0fb4b2fc59cbdba2b5aa84cb_aug0.jpg: ignoring corrupt image/label: labels require 14 columns each\n",
            "\u001b[34m\u001b[1mtrain: \u001b[0m/content/augmented/train/images/bad_posture_20241013_221218_png.rf.84eeda9d0fb4b2fc59cbdba2b5aa84cb_aug1.jpg: ignoring corrupt image/label: labels require 14 columns each\n",
            "\u001b[34m\u001b[1mtrain: \u001b[0m/content/augmented/train/images/bad_posture_20241013_221218_png.rf.84eeda9d0fb4b2fc59cbdba2b5aa84cb_aug2.jpg: ignoring corrupt image/label: labels require 14 columns each\n",
            "\u001b[34m\u001b[1mtrain: \u001b[0m/content/augmented/train/images/bad_posture_20241013_221218_png.rf.84eeda9d0fb4b2fc59cbdba2b5aa84cb_aug3.jpg: ignoring corrupt image/label: labels require 14 columns each\n",
            "\u001b[34m\u001b[1mtrain: \u001b[0m/content/augmented/train/images/bad_posture_20241013_221218_png.rf.84eeda9d0fb4b2fc59cbdba2b5aa84cb_aug4.jpg: ignoring corrupt image/label: labels require 14 columns each\n",
            "\u001b[34m\u001b[1mtrain: \u001b[0m/content/augmented/train/images/bad_posture_20241013_221410_png.rf.81005132f5669b5cb398d66a6f7b073d_aug0.jpg: ignoring corrupt image/label: labels require 14 columns each\n",
            "\u001b[34m\u001b[1mtrain: \u001b[0m/content/augmented/train/images/bad_posture_20241013_221410_png.rf.81005132f5669b5cb398d66a6f7b073d_aug1.jpg: ignoring corrupt image/label: labels require 14 columns each\n",
            "\u001b[34m\u001b[1mtrain: \u001b[0m/content/augmented/train/images/bad_posture_20241013_221410_png.rf.81005132f5669b5cb398d66a6f7b073d_aug2.jpg: ignoring corrupt image/label: labels require 14 columns each\n",
            "\u001b[34m\u001b[1mtrain: \u001b[0m/content/augmented/train/images/bad_posture_20241013_221410_png.rf.81005132f5669b5cb398d66a6f7b073d_aug3.jpg: ignoring corrupt image/label: labels require 14 columns each\n",
            "\u001b[34m\u001b[1mtrain: \u001b[0m/content/augmented/train/images/bad_posture_20241013_221410_png.rf.81005132f5669b5cb398d66a6f7b073d_aug4.jpg: ignoring corrupt image/label: labels require 14 columns each\n",
            "\u001b[34m\u001b[1mtrain: \u001b[0m/content/augmented/train/images/bad_posture_20241013_222600_png.rf.e6eea1dfb8af5dd61308749c0a9af728_aug0.jpg: ignoring corrupt image/label: labels require 14 columns each\n",
            "\u001b[34m\u001b[1mtrain: \u001b[0m/content/augmented/train/images/bad_posture_20241013_222600_png.rf.e6eea1dfb8af5dd61308749c0a9af728_aug1.jpg: ignoring corrupt image/label: labels require 14 columns each\n",
            "\u001b[34m\u001b[1mtrain: \u001b[0m/content/augmented/train/images/bad_posture_20241013_222600_png.rf.e6eea1dfb8af5dd61308749c0a9af728_aug2.jpg: ignoring corrupt image/label: labels require 14 columns each\n",
            "\u001b[34m\u001b[1mtrain: \u001b[0m/content/augmented/train/images/bad_posture_20241013_222600_png.rf.e6eea1dfb8af5dd61308749c0a9af728_aug3.jpg: ignoring corrupt image/label: labels require 14 columns each\n",
            "\u001b[34m\u001b[1mtrain: \u001b[0m/content/augmented/train/images/bad_posture_20241013_222600_png.rf.e6eea1dfb8af5dd61308749c0a9af728_aug4.jpg: ignoring corrupt image/label: labels require 14 columns each\n",
            "\u001b[34m\u001b[1mtrain: \u001b[0m/content/augmented/train/images/bad_posture_20241013_222736_png.rf.60af945eb77aa990446995ff57df275b_aug0.jpg: ignoring corrupt image/label: labels require 14 columns each\n",
            "\u001b[34m\u001b[1mtrain: \u001b[0m/content/augmented/train/images/bad_posture_20241013_222736_png.rf.60af945eb77aa990446995ff57df275b_aug1.jpg: ignoring corrupt image/label: labels require 14 columns each\n",
            "\u001b[34m\u001b[1mtrain: \u001b[0m/content/augmented/train/images/bad_posture_20241013_222736_png.rf.60af945eb77aa990446995ff57df275b_aug2.jpg: ignoring corrupt image/label: labels require 14 columns each\n",
            "\u001b[34m\u001b[1mtrain: \u001b[0m/content/augmented/train/images/bad_posture_20241013_222736_png.rf.60af945eb77aa990446995ff57df275b_aug3.jpg: ignoring corrupt image/label: labels require 14 columns each\n",
            "\u001b[34m\u001b[1mtrain: \u001b[0m/content/augmented/train/images/bad_posture_20241013_222736_png.rf.60af945eb77aa990446995ff57df275b_aug4.jpg: ignoring corrupt image/label: labels require 14 columns each\n",
            "\u001b[34m\u001b[1mtrain: \u001b[0m/content/augmented/train/images/bad_posture_20241013_222737_png.rf.61b90f37b1c5bc2f053c11ebc73b1a0e_aug0.jpg: ignoring corrupt image/label: labels require 14 columns each\n",
            "\u001b[34m\u001b[1mtrain: \u001b[0m/content/augmented/train/images/bad_posture_20241013_222737_png.rf.61b90f37b1c5bc2f053c11ebc73b1a0e_aug1.jpg: ignoring corrupt image/label: labels require 14 columns each\n",
            "\u001b[34m\u001b[1mtrain: \u001b[0m/content/augmented/train/images/bad_posture_20241013_222737_png.rf.61b90f37b1c5bc2f053c11ebc73b1a0e_aug2.jpg: ignoring corrupt image/label: labels require 14 columns each\n",
            "\u001b[34m\u001b[1mtrain: \u001b[0m/content/augmented/train/images/bad_posture_20241013_222737_png.rf.61b90f37b1c5bc2f053c11ebc73b1a0e_aug3.jpg: ignoring corrupt image/label: labels require 14 columns each\n",
            "\u001b[34m\u001b[1mtrain: \u001b[0m/content/augmented/train/images/bad_posture_20241013_222737_png.rf.61b90f37b1c5bc2f053c11ebc73b1a0e_aug4.jpg: ignoring corrupt image/label: labels require 14 columns each\n",
            "\u001b[34m\u001b[1mtrain: \u001b[0m/content/augmented/train/images/bad_posture_20241013_222740_png.rf.4dfed0aedd8011421ac69917fa3dcf71_aug0.jpg: ignoring corrupt image/label: labels require 14 columns each\n",
            "\u001b[34m\u001b[1mtrain: \u001b[0m/content/augmented/train/images/bad_posture_20241013_222740_png.rf.4dfed0aedd8011421ac69917fa3dcf71_aug1.jpg: ignoring corrupt image/label: labels require 14 columns each\n",
            "\u001b[34m\u001b[1mtrain: \u001b[0m/content/augmented/train/images/bad_posture_20241013_222740_png.rf.4dfed0aedd8011421ac69917fa3dcf71_aug2.jpg: ignoring corrupt image/label: labels require 14 columns each\n",
            "\u001b[34m\u001b[1mtrain: \u001b[0m/content/augmented/train/images/bad_posture_20241013_222740_png.rf.4dfed0aedd8011421ac69917fa3dcf71_aug3.jpg: ignoring corrupt image/label: labels require 14 columns each\n",
            "\u001b[34m\u001b[1mtrain: \u001b[0m/content/augmented/train/images/bad_posture_20241013_222740_png.rf.4dfed0aedd8011421ac69917fa3dcf71_aug4.jpg: ignoring corrupt image/label: labels require 14 columns each\n",
            "\u001b[34m\u001b[1mtrain: \u001b[0m/content/augmented/train/images/bad_posture_20241013_222747_png.rf.37ab085ebb7e7d004daaee9c69a34ff3_aug0.jpg: ignoring corrupt image/label: labels require 14 columns each\n",
            "\u001b[34m\u001b[1mtrain: \u001b[0m/content/augmented/train/images/bad_posture_20241013_222747_png.rf.37ab085ebb7e7d004daaee9c69a34ff3_aug1.jpg: ignoring corrupt image/label: labels require 14 columns each\n",
            "\u001b[34m\u001b[1mtrain: \u001b[0m/content/augmented/train/images/bad_posture_20241013_222747_png.rf.37ab085ebb7e7d004daaee9c69a34ff3_aug2.jpg: ignoring corrupt image/label: labels require 14 columns each\n",
            "\u001b[34m\u001b[1mtrain: \u001b[0m/content/augmented/train/images/bad_posture_20241013_222747_png.rf.37ab085ebb7e7d004daaee9c69a34ff3_aug3.jpg: ignoring corrupt image/label: labels require 14 columns each\n",
            "\u001b[34m\u001b[1mtrain: \u001b[0m/content/augmented/train/images/bad_posture_20241013_222747_png.rf.37ab085ebb7e7d004daaee9c69a34ff3_aug4.jpg: ignoring corrupt image/label: labels require 14 columns each\n",
            "\u001b[34m\u001b[1mtrain: \u001b[0m/content/augmented/train/images/bad_posture_20241013_222753_png.rf.b0f968bd96263aebbf72abe8a1a703dc_aug0.jpg: ignoring corrupt image/label: labels require 14 columns each\n",
            "\u001b[34m\u001b[1mtrain: \u001b[0m/content/augmented/train/images/bad_posture_20241013_222753_png.rf.b0f968bd96263aebbf72abe8a1a703dc_aug1.jpg: ignoring corrupt image/label: labels require 14 columns each\n",
            "\u001b[34m\u001b[1mtrain: \u001b[0m/content/augmented/train/images/bad_posture_20241013_222753_png.rf.b0f968bd96263aebbf72abe8a1a703dc_aug2.jpg: ignoring corrupt image/label: labels require 14 columns each\n",
            "\u001b[34m\u001b[1mtrain: \u001b[0m/content/augmented/train/images/bad_posture_20241013_222753_png.rf.b0f968bd96263aebbf72abe8a1a703dc_aug3.jpg: ignoring corrupt image/label: labels require 14 columns each\n",
            "\u001b[34m\u001b[1mtrain: \u001b[0m/content/augmented/train/images/bad_posture_20241013_222753_png.rf.b0f968bd96263aebbf72abe8a1a703dc_aug4.jpg: ignoring corrupt image/label: labels require 14 columns each\n",
            "\u001b[34m\u001b[1mtrain: \u001b[0m/content/augmented/train/images/bad_posture_20241013_222754_png.rf.ad521009db2c4d3fd853686512c1f74e_aug0.jpg: ignoring corrupt image/label: labels require 14 columns each\n",
            "\u001b[34m\u001b[1mtrain: \u001b[0m/content/augmented/train/images/bad_posture_20241013_222754_png.rf.ad521009db2c4d3fd853686512c1f74e_aug1.jpg: ignoring corrupt image/label: labels require 14 columns each\n",
            "\u001b[34m\u001b[1mtrain: \u001b[0m/content/augmented/train/images/bad_posture_20241013_222754_png.rf.ad521009db2c4d3fd853686512c1f74e_aug2.jpg: ignoring corrupt image/label: labels require 14 columns each\n",
            "\u001b[34m\u001b[1mtrain: \u001b[0m/content/augmented/train/images/bad_posture_20241013_222754_png.rf.ad521009db2c4d3fd853686512c1f74e_aug3.jpg: ignoring corrupt image/label: labels require 14 columns each\n",
            "\u001b[34m\u001b[1mtrain: \u001b[0m/content/augmented/train/images/bad_posture_20241013_222754_png.rf.ad521009db2c4d3fd853686512c1f74e_aug4.jpg: ignoring corrupt image/label: labels require 14 columns each\n",
            "\u001b[34m\u001b[1mtrain: \u001b[0m/content/augmented/train/images/bad_posture_20241013_225714_png.rf.dcc68451b8236d5d4fdbffa3f8379f70_aug0.jpg: ignoring corrupt image/label: labels require 14 columns each\n",
            "\u001b[34m\u001b[1mtrain: \u001b[0m/content/augmented/train/images/bad_posture_20241013_225714_png.rf.dcc68451b8236d5d4fdbffa3f8379f70_aug1.jpg: ignoring corrupt image/label: labels require 14 columns each\n",
            "\u001b[34m\u001b[1mtrain: \u001b[0m/content/augmented/train/images/bad_posture_20241013_225714_png.rf.dcc68451b8236d5d4fdbffa3f8379f70_aug2.jpg: ignoring corrupt image/label: labels require 14 columns each\n",
            "\u001b[34m\u001b[1mtrain: \u001b[0m/content/augmented/train/images/bad_posture_20241013_225714_png.rf.dcc68451b8236d5d4fdbffa3f8379f70_aug3.jpg: ignoring corrupt image/label: labels require 14 columns each\n",
            "\u001b[34m\u001b[1mtrain: \u001b[0m/content/augmented/train/images/bad_posture_20241013_225714_png.rf.dcc68451b8236d5d4fdbffa3f8379f70_aug4.jpg: ignoring corrupt image/label: labels require 14 columns each\n",
            "\u001b[34m\u001b[1mtrain: \u001b[0m/content/augmented/train/images/bad_posture_20241013_225746_png.rf.704d8f44ae2f1afc8450cb92b6c06d78_aug0.jpg: ignoring corrupt image/label: labels require 14 columns each\n",
            "\u001b[34m\u001b[1mtrain: \u001b[0m/content/augmented/train/images/bad_posture_20241013_225746_png.rf.704d8f44ae2f1afc8450cb92b6c06d78_aug1.jpg: ignoring corrupt image/label: labels require 14 columns each\n",
            "\u001b[34m\u001b[1mtrain: \u001b[0m/content/augmented/train/images/bad_posture_20241013_225746_png.rf.704d8f44ae2f1afc8450cb92b6c06d78_aug2.jpg: ignoring corrupt image/label: labels require 14 columns each\n",
            "\u001b[34m\u001b[1mtrain: \u001b[0m/content/augmented/train/images/bad_posture_20241013_225746_png.rf.704d8f44ae2f1afc8450cb92b6c06d78_aug3.jpg: ignoring corrupt image/label: labels require 14 columns each\n",
            "\u001b[34m\u001b[1mtrain: \u001b[0m/content/augmented/train/images/bad_posture_20241013_225746_png.rf.704d8f44ae2f1afc8450cb92b6c06d78_aug4.jpg: ignoring corrupt image/label: labels require 14 columns each\n",
            "\u001b[34m\u001b[1mtrain: \u001b[0m/content/augmented/train/images/bad_posture_20241013_225750_png.rf.1f4c70780905077ace9b1c9015342495_aug0.jpg: ignoring corrupt image/label: labels require 14 columns each\n",
            "\u001b[34m\u001b[1mtrain: \u001b[0m/content/augmented/train/images/bad_posture_20241013_225750_png.rf.1f4c70780905077ace9b1c9015342495_aug1.jpg: ignoring corrupt image/label: labels require 14 columns each\n",
            "\u001b[34m\u001b[1mtrain: \u001b[0m/content/augmented/train/images/bad_posture_20241013_225750_png.rf.1f4c70780905077ace9b1c9015342495_aug2.jpg: ignoring corrupt image/label: labels require 14 columns each\n",
            "\u001b[34m\u001b[1mtrain: \u001b[0m/content/augmented/train/images/bad_posture_20241013_225750_png.rf.1f4c70780905077ace9b1c9015342495_aug3.jpg: ignoring corrupt image/label: labels require 14 columns each\n",
            "\u001b[34m\u001b[1mtrain: \u001b[0m/content/augmented/train/images/bad_posture_20241013_225750_png.rf.1f4c70780905077ace9b1c9015342495_aug4.jpg: ignoring corrupt image/label: labels require 14 columns each\n",
            "\u001b[34m\u001b[1mtrain: \u001b[0m/content/augmented/train/images/bad_posture_20241013_225803_png.rf.2b79af9cd7eadca11c3e8e083f4d9d88_aug0.jpg: ignoring corrupt image/label: labels require 14 columns each\n",
            "\u001b[34m\u001b[1mtrain: \u001b[0m/content/augmented/train/images/bad_posture_20241013_225803_png.rf.2b79af9cd7eadca11c3e8e083f4d9d88_aug1.jpg: ignoring corrupt image/label: labels require 14 columns each\n",
            "\u001b[34m\u001b[1mtrain: \u001b[0m/content/augmented/train/images/bad_posture_20241013_225803_png.rf.2b79af9cd7eadca11c3e8e083f4d9d88_aug2.jpg: ignoring corrupt image/label: labels require 14 columns each\n",
            "\u001b[34m\u001b[1mtrain: \u001b[0m/content/augmented/train/images/bad_posture_20241013_225803_png.rf.2b79af9cd7eadca11c3e8e083f4d9d88_aug3.jpg: ignoring corrupt image/label: labels require 14 columns each\n",
            "\u001b[34m\u001b[1mtrain: \u001b[0m/content/augmented/train/images/bad_posture_20241013_225803_png.rf.2b79af9cd7eadca11c3e8e083f4d9d88_aug4.jpg: ignoring corrupt image/label: labels require 14 columns each\n",
            "\u001b[34m\u001b[1mtrain: \u001b[0m/content/augmented/train/images/bad_posture_20241021_141406_png.rf.a4da48eb24c53b3dcaa81cd67c9c3228_aug0.jpg: ignoring corrupt image/label: labels require 14 columns each\n",
            "\u001b[34m\u001b[1mtrain: \u001b[0m/content/augmented/train/images/bad_posture_20241021_141406_png.rf.a4da48eb24c53b3dcaa81cd67c9c3228_aug1.jpg: ignoring corrupt image/label: labels require 14 columns each\n",
            "\u001b[34m\u001b[1mtrain: \u001b[0m/content/augmented/train/images/bad_posture_20241021_141406_png.rf.a4da48eb24c53b3dcaa81cd67c9c3228_aug2.jpg: ignoring corrupt image/label: labels require 14 columns each\n",
            "\u001b[34m\u001b[1mtrain: \u001b[0m/content/augmented/train/images/bad_posture_20241021_141406_png.rf.a4da48eb24c53b3dcaa81cd67c9c3228_aug3.jpg: ignoring corrupt image/label: labels require 14 columns each\n",
            "\u001b[34m\u001b[1mtrain: \u001b[0m/content/augmented/train/images/bad_posture_20241021_141406_png.rf.a4da48eb24c53b3dcaa81cd67c9c3228_aug4.jpg: ignoring corrupt image/label: labels require 14 columns each\n",
            "\u001b[34m\u001b[1mtrain: \u001b[0m/content/augmented/train/images/bad_posture_20241021_141436_png.rf.a19c8e37f0dbe632b2d9288d7c993503_aug0.jpg: ignoring corrupt image/label: labels require 14 columns each\n",
            "\u001b[34m\u001b[1mtrain: \u001b[0m/content/augmented/train/images/bad_posture_20241021_141436_png.rf.a19c8e37f0dbe632b2d9288d7c993503_aug1.jpg: ignoring corrupt image/label: labels require 14 columns each\n",
            "\u001b[34m\u001b[1mtrain: \u001b[0m/content/augmented/train/images/bad_posture_20241021_141436_png.rf.a19c8e37f0dbe632b2d9288d7c993503_aug2.jpg: ignoring corrupt image/label: labels require 14 columns each\n",
            "\u001b[34m\u001b[1mtrain: \u001b[0m/content/augmented/train/images/bad_posture_20241021_141436_png.rf.a19c8e37f0dbe632b2d9288d7c993503_aug3.jpg: ignoring corrupt image/label: labels require 14 columns each\n",
            "\u001b[34m\u001b[1mtrain: \u001b[0m/content/augmented/train/images/bad_posture_20241021_141436_png.rf.a19c8e37f0dbe632b2d9288d7c993503_aug4.jpg: ignoring corrupt image/label: labels require 14 columns each\n",
            "\u001b[34m\u001b[1mtrain: \u001b[0m/content/augmented/train/images/bad_posture_20241021_141448_png.rf.ef240dcacb9b465240f56bf0100cb596_aug0.jpg: ignoring corrupt image/label: labels require 14 columns each\n",
            "\u001b[34m\u001b[1mtrain: \u001b[0m/content/augmented/train/images/bad_posture_20241021_141448_png.rf.ef240dcacb9b465240f56bf0100cb596_aug1.jpg: ignoring corrupt image/label: labels require 14 columns each\n",
            "\u001b[34m\u001b[1mtrain: \u001b[0m/content/augmented/train/images/bad_posture_20241021_141448_png.rf.ef240dcacb9b465240f56bf0100cb596_aug2.jpg: ignoring corrupt image/label: labels require 14 columns each\n",
            "\u001b[34m\u001b[1mtrain: \u001b[0m/content/augmented/train/images/bad_posture_20241021_141448_png.rf.ef240dcacb9b465240f56bf0100cb596_aug3.jpg: ignoring corrupt image/label: labels require 14 columns each\n",
            "\u001b[34m\u001b[1mtrain: \u001b[0m/content/augmented/train/images/bad_posture_20241021_141448_png.rf.ef240dcacb9b465240f56bf0100cb596_aug4.jpg: ignoring corrupt image/label: labels require 14 columns each\n",
            "\u001b[34m\u001b[1mtrain: \u001b[0m/content/augmented/train/images/bad_posture_20241021_141725_png.rf.c1a7f9bf55f48561f4560a3d5d76464c_aug0.jpg: ignoring corrupt image/label: labels require 14 columns each\n",
            "\u001b[34m\u001b[1mtrain: \u001b[0m/content/augmented/train/images/bad_posture_20241021_141725_png.rf.c1a7f9bf55f48561f4560a3d5d76464c_aug1.jpg: ignoring corrupt image/label: labels require 14 columns each\n",
            "\u001b[34m\u001b[1mtrain: \u001b[0m/content/augmented/train/images/bad_posture_20241021_141725_png.rf.c1a7f9bf55f48561f4560a3d5d76464c_aug2.jpg: ignoring corrupt image/label: labels require 14 columns each\n",
            "\u001b[34m\u001b[1mtrain: \u001b[0m/content/augmented/train/images/bad_posture_20241021_141725_png.rf.c1a7f9bf55f48561f4560a3d5d76464c_aug3.jpg: ignoring corrupt image/label: labels require 14 columns each\n",
            "\u001b[34m\u001b[1mtrain: \u001b[0m/content/augmented/train/images/bad_posture_20241021_141725_png.rf.c1a7f9bf55f48561f4560a3d5d76464c_aug4.jpg: ignoring corrupt image/label: labels require 14 columns each\n",
            "\u001b[34m\u001b[1mtrain: \u001b[0m/content/augmented/train/images/bad_posture_20241021_141737_png.rf.9567ae66d9ba71083be141b70d134223_aug0.jpg: ignoring corrupt image/label: labels require 14 columns each\n",
            "\u001b[34m\u001b[1mtrain: \u001b[0m/content/augmented/train/images/bad_posture_20241021_141737_png.rf.9567ae66d9ba71083be141b70d134223_aug1.jpg: ignoring corrupt image/label: labels require 14 columns each\n",
            "\u001b[34m\u001b[1mtrain: \u001b[0m/content/augmented/train/images/bad_posture_20241021_141737_png.rf.9567ae66d9ba71083be141b70d134223_aug2.jpg: ignoring corrupt image/label: labels require 14 columns each\n",
            "\u001b[34m\u001b[1mtrain: \u001b[0m/content/augmented/train/images/bad_posture_20241021_141737_png.rf.9567ae66d9ba71083be141b70d134223_aug3.jpg: ignoring corrupt image/label: labels require 14 columns each\n",
            "\u001b[34m\u001b[1mtrain: \u001b[0m/content/augmented/train/images/bad_posture_20241021_141737_png.rf.9567ae66d9ba71083be141b70d134223_aug4.jpg: ignoring corrupt image/label: labels require 14 columns each\n",
            "\u001b[34m\u001b[1mtrain: \u001b[0m/content/augmented/train/images/bad_posture_20241021_141755_png.rf.985a5084e772f51e8d69ffed9624c2cd_aug0.jpg: ignoring corrupt image/label: labels require 14 columns each\n",
            "\u001b[34m\u001b[1mtrain: \u001b[0m/content/augmented/train/images/bad_posture_20241021_141755_png.rf.985a5084e772f51e8d69ffed9624c2cd_aug1.jpg: ignoring corrupt image/label: labels require 14 columns each\n",
            "\u001b[34m\u001b[1mtrain: \u001b[0m/content/augmented/train/images/bad_posture_20241021_141755_png.rf.985a5084e772f51e8d69ffed9624c2cd_aug2.jpg: ignoring corrupt image/label: labels require 14 columns each\n",
            "\u001b[34m\u001b[1mtrain: \u001b[0m/content/augmented/train/images/bad_posture_20241021_141755_png.rf.985a5084e772f51e8d69ffed9624c2cd_aug3.jpg: ignoring corrupt image/label: labels require 14 columns each\n",
            "\u001b[34m\u001b[1mtrain: \u001b[0m/content/augmented/train/images/bad_posture_20241021_141755_png.rf.985a5084e772f51e8d69ffed9624c2cd_aug4.jpg: ignoring corrupt image/label: labels require 14 columns each\n",
            "\u001b[34m\u001b[1mtrain: \u001b[0m/content/augmented/train/images/bad_posture_20241021_142022_png.rf.9b62ad057ba1dde2096217244e6a8319_aug0.jpg: ignoring corrupt image/label: labels require 14 columns each\n",
            "\u001b[34m\u001b[1mtrain: \u001b[0m/content/augmented/train/images/bad_posture_20241021_142022_png.rf.9b62ad057ba1dde2096217244e6a8319_aug1.jpg: ignoring corrupt image/label: labels require 14 columns each\n",
            "\u001b[34m\u001b[1mtrain: \u001b[0m/content/augmented/train/images/bad_posture_20241021_142022_png.rf.9b62ad057ba1dde2096217244e6a8319_aug2.jpg: ignoring corrupt image/label: labels require 14 columns each\n",
            "\u001b[34m\u001b[1mtrain: \u001b[0m/content/augmented/train/images/bad_posture_20241021_142022_png.rf.9b62ad057ba1dde2096217244e6a8319_aug3.jpg: ignoring corrupt image/label: labels require 14 columns each\n",
            "\u001b[34m\u001b[1mtrain: \u001b[0m/content/augmented/train/images/bad_posture_20241021_142022_png.rf.9b62ad057ba1dde2096217244e6a8319_aug4.jpg: ignoring corrupt image/label: labels require 14 columns each\n",
            "\u001b[34m\u001b[1mtrain: \u001b[0m/content/augmented/train/images/bad_posture_20241021_142034_png.rf.1ab282d6b9c3116382c5a0162d9c3794_aug0.jpg: ignoring corrupt image/label: labels require 14 columns each\n",
            "\u001b[34m\u001b[1mtrain: \u001b[0m/content/augmented/train/images/bad_posture_20241021_142034_png.rf.1ab282d6b9c3116382c5a0162d9c3794_aug1.jpg: ignoring corrupt image/label: labels require 14 columns each\n",
            "\u001b[34m\u001b[1mtrain: \u001b[0m/content/augmented/train/images/bad_posture_20241021_142034_png.rf.1ab282d6b9c3116382c5a0162d9c3794_aug2.jpg: ignoring corrupt image/label: labels require 14 columns each\n",
            "\u001b[34m\u001b[1mtrain: \u001b[0m/content/augmented/train/images/bad_posture_20241021_142034_png.rf.1ab282d6b9c3116382c5a0162d9c3794_aug3.jpg: ignoring corrupt image/label: labels require 14 columns each\n",
            "\u001b[34m\u001b[1mtrain: \u001b[0m/content/augmented/train/images/bad_posture_20241021_142034_png.rf.1ab282d6b9c3116382c5a0162d9c3794_aug4.jpg: ignoring corrupt image/label: labels require 14 columns each\n",
            "\u001b[34m\u001b[1mtrain: \u001b[0m/content/augmented/train/images/bad_posture_20241021_142111_png.rf.8b14b42aa3c070b7a142ec1c244b4e3b_aug0.jpg: ignoring corrupt image/label: labels require 14 columns each\n",
            "\u001b[34m\u001b[1mtrain: \u001b[0m/content/augmented/train/images/bad_posture_20241021_142111_png.rf.8b14b42aa3c070b7a142ec1c244b4e3b_aug1.jpg: ignoring corrupt image/label: labels require 14 columns each\n",
            "\u001b[34m\u001b[1mtrain: \u001b[0m/content/augmented/train/images/bad_posture_20241021_142111_png.rf.8b14b42aa3c070b7a142ec1c244b4e3b_aug2.jpg: ignoring corrupt image/label: labels require 14 columns each\n",
            "\u001b[34m\u001b[1mtrain: \u001b[0m/content/augmented/train/images/bad_posture_20241021_142111_png.rf.8b14b42aa3c070b7a142ec1c244b4e3b_aug3.jpg: ignoring corrupt image/label: labels require 14 columns each\n",
            "\u001b[34m\u001b[1mtrain: \u001b[0m/content/augmented/train/images/bad_posture_20241021_142111_png.rf.8b14b42aa3c070b7a142ec1c244b4e3b_aug4.jpg: ignoring corrupt image/label: labels require 14 columns each\n",
            "\u001b[34m\u001b[1mtrain: \u001b[0m/content/augmented/train/images/bad_posture_20241021_142123_png.rf.ffd96b5f778296af3374cbc3029dcc40_aug0.jpg: ignoring corrupt image/label: labels require 14 columns each\n",
            "\u001b[34m\u001b[1mtrain: \u001b[0m/content/augmented/train/images/bad_posture_20241021_142123_png.rf.ffd96b5f778296af3374cbc3029dcc40_aug1.jpg: ignoring corrupt image/label: labels require 14 columns each\n",
            "\u001b[34m\u001b[1mtrain: \u001b[0m/content/augmented/train/images/bad_posture_20241021_142123_png.rf.ffd96b5f778296af3374cbc3029dcc40_aug2.jpg: ignoring corrupt image/label: labels require 14 columns each\n",
            "\u001b[34m\u001b[1mtrain: \u001b[0m/content/augmented/train/images/bad_posture_20241021_142123_png.rf.ffd96b5f778296af3374cbc3029dcc40_aug3.jpg: ignoring corrupt image/label: labels require 14 columns each\n",
            "\u001b[34m\u001b[1mtrain: \u001b[0m/content/augmented/train/images/bad_posture_20241021_142123_png.rf.ffd96b5f778296af3374cbc3029dcc40_aug4.jpg: ignoring corrupt image/label: labels require 14 columns each\n",
            "\u001b[34m\u001b[1mtrain: \u001b[0m/content/augmented/train/images/bad_posture_20241021_142406_png.rf.acd40a9c70b2c57d54ec14a22fa9d179_aug0.jpg: ignoring corrupt image/label: labels require 14 columns each\n",
            "\u001b[34m\u001b[1mtrain: \u001b[0m/content/augmented/train/images/bad_posture_20241021_142406_png.rf.acd40a9c70b2c57d54ec14a22fa9d179_aug1.jpg: ignoring corrupt image/label: labels require 14 columns each\n",
            "\u001b[34m\u001b[1mtrain: \u001b[0m/content/augmented/train/images/bad_posture_20241021_142406_png.rf.acd40a9c70b2c57d54ec14a22fa9d179_aug2.jpg: ignoring corrupt image/label: labels require 14 columns each\n",
            "\u001b[34m\u001b[1mtrain: \u001b[0m/content/augmented/train/images/bad_posture_20241021_142406_png.rf.acd40a9c70b2c57d54ec14a22fa9d179_aug3.jpg: ignoring corrupt image/label: labels require 14 columns each\n",
            "\u001b[34m\u001b[1mtrain: \u001b[0m/content/augmented/train/images/bad_posture_20241021_142406_png.rf.acd40a9c70b2c57d54ec14a22fa9d179_aug4.jpg: ignoring corrupt image/label: labels require 14 columns each\n",
            "\u001b[34m\u001b[1mtrain: \u001b[0m/content/augmented/train/images/bad_posture_20241021_142418_png.rf.c34725a3448995e062ed73a06a594570_aug0.jpg: ignoring corrupt image/label: labels require 14 columns each\n",
            "\u001b[34m\u001b[1mtrain: \u001b[0m/content/augmented/train/images/bad_posture_20241021_142418_png.rf.c34725a3448995e062ed73a06a594570_aug1.jpg: ignoring corrupt image/label: labels require 14 columns each\n",
            "\u001b[34m\u001b[1mtrain: \u001b[0m/content/augmented/train/images/bad_posture_20241021_142418_png.rf.c34725a3448995e062ed73a06a594570_aug2.jpg: ignoring corrupt image/label: labels require 14 columns each\n",
            "\u001b[34m\u001b[1mtrain: \u001b[0m/content/augmented/train/images/bad_posture_20241021_142418_png.rf.c34725a3448995e062ed73a06a594570_aug3.jpg: ignoring corrupt image/label: labels require 14 columns each\n",
            "\u001b[34m\u001b[1mtrain: \u001b[0m/content/augmented/train/images/bad_posture_20241021_142418_png.rf.c34725a3448995e062ed73a06a594570_aug4.jpg: ignoring corrupt image/label: labels require 14 columns each\n",
            "\u001b[34m\u001b[1mtrain: \u001b[0m/content/augmented/train/images/bad_posture_20241021_142448_png.rf.78180263efba73eb4387dd223ae8a729_aug0.jpg: ignoring corrupt image/label: labels require 14 columns each\n",
            "\u001b[34m\u001b[1mtrain: \u001b[0m/content/augmented/train/images/bad_posture_20241021_142448_png.rf.78180263efba73eb4387dd223ae8a729_aug1.jpg: ignoring corrupt image/label: labels require 14 columns each\n",
            "\u001b[34m\u001b[1mtrain: \u001b[0m/content/augmented/train/images/bad_posture_20241021_142448_png.rf.78180263efba73eb4387dd223ae8a729_aug2.jpg: ignoring corrupt image/label: labels require 14 columns each\n",
            "\u001b[34m\u001b[1mtrain: \u001b[0m/content/augmented/train/images/bad_posture_20241021_142448_png.rf.78180263efba73eb4387dd223ae8a729_aug3.jpg: ignoring corrupt image/label: labels require 14 columns each\n",
            "\u001b[34m\u001b[1mtrain: \u001b[0m/content/augmented/train/images/bad_posture_20241021_142448_png.rf.78180263efba73eb4387dd223ae8a729_aug4.jpg: ignoring corrupt image/label: labels require 14 columns each\n",
            "\u001b[34m\u001b[1mtrain: \u001b[0m/content/augmented/train/images/bad_posture_20241021_142530_png.rf.8f4bad89879102d37137a9a3c05f569a_aug0.jpg: ignoring corrupt image/label: labels require 14 columns each\n",
            "\u001b[34m\u001b[1mtrain: \u001b[0m/content/augmented/train/images/bad_posture_20241021_142530_png.rf.8f4bad89879102d37137a9a3c05f569a_aug1.jpg: ignoring corrupt image/label: labels require 14 columns each\n",
            "\u001b[34m\u001b[1mtrain: \u001b[0m/content/augmented/train/images/bad_posture_20241021_142530_png.rf.8f4bad89879102d37137a9a3c05f569a_aug2.jpg: ignoring corrupt image/label: labels require 14 columns each\n",
            "\u001b[34m\u001b[1mtrain: \u001b[0m/content/augmented/train/images/bad_posture_20241021_142530_png.rf.8f4bad89879102d37137a9a3c05f569a_aug3.jpg: ignoring corrupt image/label: labels require 14 columns each\n",
            "\u001b[34m\u001b[1mtrain: \u001b[0m/content/augmented/train/images/bad_posture_20241021_142530_png.rf.8f4bad89879102d37137a9a3c05f569a_aug4.jpg: ignoring corrupt image/label: labels require 14 columns each\n",
            "\u001b[34m\u001b[1mtrain: \u001b[0m/content/augmented/train/images/bad_posture_20241021_142536_png.rf.172599e5104e3a5079765a03a9940fd5_aug0.jpg: ignoring corrupt image/label: labels require 14 columns each\n",
            "\u001b[34m\u001b[1mtrain: \u001b[0m/content/augmented/train/images/bad_posture_20241021_142536_png.rf.172599e5104e3a5079765a03a9940fd5_aug1.jpg: ignoring corrupt image/label: labels require 14 columns each\n",
            "\u001b[34m\u001b[1mtrain: \u001b[0m/content/augmented/train/images/bad_posture_20241021_142536_png.rf.172599e5104e3a5079765a03a9940fd5_aug2.jpg: ignoring corrupt image/label: labels require 14 columns each\n",
            "\u001b[34m\u001b[1mtrain: \u001b[0m/content/augmented/train/images/bad_posture_20241021_142536_png.rf.172599e5104e3a5079765a03a9940fd5_aug3.jpg: ignoring corrupt image/label: labels require 14 columns each\n",
            "\u001b[34m\u001b[1mtrain: \u001b[0m/content/augmented/train/images/bad_posture_20241021_142536_png.rf.172599e5104e3a5079765a03a9940fd5_aug4.jpg: ignoring corrupt image/label: labels require 14 columns each\n",
            "\u001b[34m\u001b[1mtrain: \u001b[0m/content/augmented/train/images/bad_posture_20241021_142555_png.rf.a06f15f842713533debc67f615a93f10_aug0.jpg: ignoring corrupt image/label: labels require 14 columns each\n",
            "\u001b[34m\u001b[1mtrain: \u001b[0m/content/augmented/train/images/bad_posture_20241021_142555_png.rf.a06f15f842713533debc67f615a93f10_aug1.jpg: ignoring corrupt image/label: labels require 14 columns each\n",
            "\u001b[34m\u001b[1mtrain: \u001b[0m/content/augmented/train/images/bad_posture_20241021_142555_png.rf.a06f15f842713533debc67f615a93f10_aug2.jpg: ignoring corrupt image/label: labels require 14 columns each\n",
            "\u001b[34m\u001b[1mtrain: \u001b[0m/content/augmented/train/images/bad_posture_20241021_142555_png.rf.a06f15f842713533debc67f615a93f10_aug3.jpg: ignoring corrupt image/label: labels require 14 columns each\n",
            "\u001b[34m\u001b[1mtrain: \u001b[0m/content/augmented/train/images/bad_posture_20241021_142555_png.rf.a06f15f842713533debc67f615a93f10_aug4.jpg: ignoring corrupt image/label: labels require 14 columns each\n",
            "\u001b[34m\u001b[1mtrain: \u001b[0m/content/augmented/train/images/bad_posture_20241021_142601_png.rf.c2d488fd3abd94545e5dd68527981eb1_aug0.jpg: ignoring corrupt image/label: labels require 14 columns each\n",
            "\u001b[34m\u001b[1mtrain: \u001b[0m/content/augmented/train/images/bad_posture_20241021_142601_png.rf.c2d488fd3abd94545e5dd68527981eb1_aug1.jpg: ignoring corrupt image/label: labels require 14 columns each\n",
            "\u001b[34m\u001b[1mtrain: \u001b[0m/content/augmented/train/images/bad_posture_20241021_142601_png.rf.c2d488fd3abd94545e5dd68527981eb1_aug2.jpg: ignoring corrupt image/label: labels require 14 columns each\n",
            "\u001b[34m\u001b[1mtrain: \u001b[0m/content/augmented/train/images/bad_posture_20241021_142601_png.rf.c2d488fd3abd94545e5dd68527981eb1_aug3.jpg: ignoring corrupt image/label: labels require 14 columns each\n",
            "\u001b[34m\u001b[1mtrain: \u001b[0m/content/augmented/train/images/bad_posture_20241021_142601_png.rf.c2d488fd3abd94545e5dd68527981eb1_aug4.jpg: ignoring corrupt image/label: labels require 14 columns each\n",
            "\u001b[34m\u001b[1mtrain: \u001b[0m/content/augmented/train/images/bad_posture_20241021_142713_png.rf.01343832ccef819613c4188626890d3a_aug0.jpg: ignoring corrupt image/label: labels require 14 columns each\n",
            "\u001b[34m\u001b[1mtrain: \u001b[0m/content/augmented/train/images/bad_posture_20241021_142713_png.rf.01343832ccef819613c4188626890d3a_aug1.jpg: ignoring corrupt image/label: labels require 14 columns each\n",
            "\u001b[34m\u001b[1mtrain: \u001b[0m/content/augmented/train/images/bad_posture_20241021_142713_png.rf.01343832ccef819613c4188626890d3a_aug2.jpg: ignoring corrupt image/label: labels require 14 columns each\n",
            "\u001b[34m\u001b[1mtrain: \u001b[0m/content/augmented/train/images/bad_posture_20241021_142713_png.rf.01343832ccef819613c4188626890d3a_aug3.jpg: ignoring corrupt image/label: labels require 14 columns each\n",
            "\u001b[34m\u001b[1mtrain: \u001b[0m/content/augmented/train/images/bad_posture_20241021_142713_png.rf.01343832ccef819613c4188626890d3a_aug4.jpg: ignoring corrupt image/label: labels require 14 columns each\n",
            "\u001b[34m\u001b[1mtrain: \u001b[0m/content/augmented/train/images/bad_posture_20241021_142856_png.rf.334dcd0486848aae0537f803555e31cb_aug0.jpg: ignoring corrupt image/label: labels require 14 columns each\n",
            "\u001b[34m\u001b[1mtrain: \u001b[0m/content/augmented/train/images/bad_posture_20241021_142856_png.rf.334dcd0486848aae0537f803555e31cb_aug1.jpg: ignoring corrupt image/label: labels require 14 columns each\n",
            "\u001b[34m\u001b[1mtrain: \u001b[0m/content/augmented/train/images/bad_posture_20241021_142856_png.rf.334dcd0486848aae0537f803555e31cb_aug2.jpg: ignoring corrupt image/label: labels require 14 columns each\n",
            "\u001b[34m\u001b[1mtrain: \u001b[0m/content/augmented/train/images/bad_posture_20241021_142856_png.rf.334dcd0486848aae0537f803555e31cb_aug3.jpg: ignoring corrupt image/label: labels require 14 columns each\n",
            "\u001b[34m\u001b[1mtrain: \u001b[0m/content/augmented/train/images/bad_posture_20241021_142856_png.rf.334dcd0486848aae0537f803555e31cb_aug4.jpg: ignoring corrupt image/label: labels require 14 columns each\n",
            "\u001b[34m\u001b[1mtrain: \u001b[0m/content/augmented/train/images/bad_posture_20241021_142914_png.rf.30901b8c6ea6d588babdddd686d047e1_aug0.jpg: ignoring corrupt image/label: labels require 14 columns each\n",
            "\u001b[34m\u001b[1mtrain: \u001b[0m/content/augmented/train/images/bad_posture_20241021_142914_png.rf.30901b8c6ea6d588babdddd686d047e1_aug1.jpg: ignoring corrupt image/label: labels require 14 columns each\n",
            "\u001b[34m\u001b[1mtrain: \u001b[0m/content/augmented/train/images/bad_posture_20241021_142914_png.rf.30901b8c6ea6d588babdddd686d047e1_aug2.jpg: ignoring corrupt image/label: labels require 14 columns each\n",
            "\u001b[34m\u001b[1mtrain: \u001b[0m/content/augmented/train/images/bad_posture_20241021_142914_png.rf.30901b8c6ea6d588babdddd686d047e1_aug3.jpg: ignoring corrupt image/label: labels require 14 columns each\n",
            "\u001b[34m\u001b[1mtrain: \u001b[0m/content/augmented/train/images/bad_posture_20241021_142914_png.rf.30901b8c6ea6d588babdddd686d047e1_aug4.jpg: ignoring corrupt image/label: labels require 14 columns each\n",
            "\u001b[34m\u001b[1mtrain: \u001b[0m/content/augmented/train/images/bad_posture_20241021_143008_png.rf.3757945b454f764b06ff855e6a639819_aug0.jpg: ignoring corrupt image/label: labels require 14 columns each\n",
            "\u001b[34m\u001b[1mtrain: \u001b[0m/content/augmented/train/images/bad_posture_20241021_143008_png.rf.3757945b454f764b06ff855e6a639819_aug1.jpg: ignoring corrupt image/label: labels require 14 columns each\n",
            "\u001b[34m\u001b[1mtrain: \u001b[0m/content/augmented/train/images/bad_posture_20241021_143008_png.rf.3757945b454f764b06ff855e6a639819_aug2.jpg: ignoring corrupt image/label: labels require 14 columns each\n",
            "\u001b[34m\u001b[1mtrain: \u001b[0m/content/augmented/train/images/bad_posture_20241021_143008_png.rf.3757945b454f764b06ff855e6a639819_aug3.jpg: ignoring corrupt image/label: labels require 14 columns each\n",
            "\u001b[34m\u001b[1mtrain: \u001b[0m/content/augmented/train/images/bad_posture_20241021_143008_png.rf.3757945b454f764b06ff855e6a639819_aug4.jpg: ignoring corrupt image/label: labels require 14 columns each\n",
            "\u001b[34m\u001b[1mtrain: \u001b[0m/content/augmented/train/images/bad_posture_20241021_143020_png.rf.d724373a7f84863b322c545b546039cc_aug0.jpg: ignoring corrupt image/label: labels require 14 columns each\n",
            "\u001b[34m\u001b[1mtrain: \u001b[0m/content/augmented/train/images/bad_posture_20241021_143020_png.rf.d724373a7f84863b322c545b546039cc_aug1.jpg: ignoring corrupt image/label: labels require 14 columns each\n",
            "\u001b[34m\u001b[1mtrain: \u001b[0m/content/augmented/train/images/bad_posture_20241021_143020_png.rf.d724373a7f84863b322c545b546039cc_aug2.jpg: ignoring corrupt image/label: labels require 14 columns each\n",
            "\u001b[34m\u001b[1mtrain: \u001b[0m/content/augmented/train/images/bad_posture_20241021_143020_png.rf.d724373a7f84863b322c545b546039cc_aug3.jpg: ignoring corrupt image/label: labels require 14 columns each\n",
            "\u001b[34m\u001b[1mtrain: \u001b[0m/content/augmented/train/images/bad_posture_20241021_143020_png.rf.d724373a7f84863b322c545b546039cc_aug4.jpg: ignoring corrupt image/label: labels require 14 columns each\n",
            "\u001b[34m\u001b[1mtrain: \u001b[0m/content/augmented/train/images/bad_posture_20241021_143133_png.rf.8a6ddbfccc71f3c691b325377f5e5261_aug0.jpg: ignoring corrupt image/label: labels require 14 columns each\n",
            "\u001b[34m\u001b[1mtrain: \u001b[0m/content/augmented/train/images/bad_posture_20241021_143133_png.rf.8a6ddbfccc71f3c691b325377f5e5261_aug1.jpg: ignoring corrupt image/label: labels require 14 columns each\n",
            "\u001b[34m\u001b[1mtrain: \u001b[0m/content/augmented/train/images/bad_posture_20241021_143133_png.rf.8a6ddbfccc71f3c691b325377f5e5261_aug2.jpg: ignoring corrupt image/label: labels require 14 columns each\n",
            "\u001b[34m\u001b[1mtrain: \u001b[0m/content/augmented/train/images/bad_posture_20241021_143133_png.rf.8a6ddbfccc71f3c691b325377f5e5261_aug3.jpg: ignoring corrupt image/label: labels require 14 columns each\n",
            "\u001b[34m\u001b[1mtrain: \u001b[0m/content/augmented/train/images/bad_posture_20241021_143133_png.rf.8a6ddbfccc71f3c691b325377f5e5261_aug4.jpg: ignoring corrupt image/label: labels require 14 columns each\n",
            "\u001b[34m\u001b[1mtrain: \u001b[0m/content/augmented/train/images/bad_posture_20241021_143139_png.rf.d8f8bf1142876a0b0e26e88616902e2d_aug0.jpg: ignoring corrupt image/label: labels require 14 columns each\n",
            "\u001b[34m\u001b[1mtrain: \u001b[0m/content/augmented/train/images/bad_posture_20241021_143139_png.rf.d8f8bf1142876a0b0e26e88616902e2d_aug1.jpg: ignoring corrupt image/label: labels require 14 columns each\n",
            "\u001b[34m\u001b[1mtrain: \u001b[0m/content/augmented/train/images/bad_posture_20241021_143139_png.rf.d8f8bf1142876a0b0e26e88616902e2d_aug2.jpg: ignoring corrupt image/label: labels require 14 columns each\n",
            "\u001b[34m\u001b[1mtrain: \u001b[0m/content/augmented/train/images/bad_posture_20241021_143139_png.rf.d8f8bf1142876a0b0e26e88616902e2d_aug3.jpg: ignoring corrupt image/label: labels require 14 columns each\n",
            "\u001b[34m\u001b[1mtrain: \u001b[0m/content/augmented/train/images/bad_posture_20241021_143139_png.rf.d8f8bf1142876a0b0e26e88616902e2d_aug4.jpg: ignoring corrupt image/label: labels require 14 columns each\n",
            "\u001b[34m\u001b[1mtrain: \u001b[0m/content/augmented/train/images/bad_posture_20241021_143227_png.rf.406435e17dead104d74f8482bb086cf8_aug0.jpg: ignoring corrupt image/label: labels require 14 columns each\n",
            "\u001b[34m\u001b[1mtrain: \u001b[0m/content/augmented/train/images/bad_posture_20241021_143227_png.rf.406435e17dead104d74f8482bb086cf8_aug1.jpg: ignoring corrupt image/label: labels require 14 columns each\n",
            "\u001b[34m\u001b[1mtrain: \u001b[0m/content/augmented/train/images/bad_posture_20241021_143227_png.rf.406435e17dead104d74f8482bb086cf8_aug2.jpg: ignoring corrupt image/label: labels require 14 columns each\n",
            "\u001b[34m\u001b[1mtrain: \u001b[0m/content/augmented/train/images/bad_posture_20241021_143227_png.rf.406435e17dead104d74f8482bb086cf8_aug3.jpg: ignoring corrupt image/label: labels require 14 columns each\n",
            "\u001b[34m\u001b[1mtrain: \u001b[0m/content/augmented/train/images/bad_posture_20241021_143227_png.rf.406435e17dead104d74f8482bb086cf8_aug4.jpg: ignoring corrupt image/label: labels require 14 columns each\n",
            "\u001b[34m\u001b[1mtrain: \u001b[0m/content/augmented/train/images/bad_posture_20241021_143239_png.rf.55c14910fa55ec66f3ec5450f4d1332f_aug0.jpg: ignoring corrupt image/label: labels require 14 columns each\n",
            "\u001b[34m\u001b[1mtrain: \u001b[0m/content/augmented/train/images/bad_posture_20241021_143239_png.rf.55c14910fa55ec66f3ec5450f4d1332f_aug1.jpg: ignoring corrupt image/label: labels require 14 columns each\n",
            "\u001b[34m\u001b[1mtrain: \u001b[0m/content/augmented/train/images/bad_posture_20241021_143239_png.rf.55c14910fa55ec66f3ec5450f4d1332f_aug2.jpg: ignoring corrupt image/label: labels require 14 columns each\n",
            "\u001b[34m\u001b[1mtrain: \u001b[0m/content/augmented/train/images/bad_posture_20241021_143239_png.rf.55c14910fa55ec66f3ec5450f4d1332f_aug3.jpg: ignoring corrupt image/label: labels require 14 columns each\n",
            "\u001b[34m\u001b[1mtrain: \u001b[0m/content/augmented/train/images/bad_posture_20241021_143239_png.rf.55c14910fa55ec66f3ec5450f4d1332f_aug4.jpg: ignoring corrupt image/label: labels require 14 columns each\n",
            "\u001b[34m\u001b[1mtrain: \u001b[0m/content/augmented/train/images/bad_posture_20241021_143245_png.rf.3bdffe1bd024a59b0cdccde1d0b069b1_aug0.jpg: ignoring corrupt image/label: labels require 14 columns each\n",
            "\u001b[34m\u001b[1mtrain: \u001b[0m/content/augmented/train/images/bad_posture_20241021_143245_png.rf.3bdffe1bd024a59b0cdccde1d0b069b1_aug1.jpg: ignoring corrupt image/label: labels require 14 columns each\n",
            "\u001b[34m\u001b[1mtrain: \u001b[0m/content/augmented/train/images/bad_posture_20241021_143245_png.rf.3bdffe1bd024a59b0cdccde1d0b069b1_aug2.jpg: ignoring corrupt image/label: labels require 14 columns each\n",
            "\u001b[34m\u001b[1mtrain: \u001b[0m/content/augmented/train/images/bad_posture_20241021_143245_png.rf.3bdffe1bd024a59b0cdccde1d0b069b1_aug3.jpg: ignoring corrupt image/label: labels require 14 columns each\n",
            "\u001b[34m\u001b[1mtrain: \u001b[0m/content/augmented/train/images/bad_posture_20241021_143245_png.rf.3bdffe1bd024a59b0cdccde1d0b069b1_aug4.jpg: ignoring corrupt image/label: labels require 14 columns each\n",
            "\u001b[34m\u001b[1mtrain: \u001b[0m/content/augmented/train/images/bad_posture_20241021_143504_png.rf.5d7e7977adaf5f27a97406f290587fc1_aug0.jpg: ignoring corrupt image/label: labels require 14 columns each\n",
            "\u001b[34m\u001b[1mtrain: \u001b[0m/content/augmented/train/images/bad_posture_20241021_143504_png.rf.5d7e7977adaf5f27a97406f290587fc1_aug1.jpg: ignoring corrupt image/label: labels require 14 columns each\n",
            "\u001b[34m\u001b[1mtrain: \u001b[0m/content/augmented/train/images/bad_posture_20241021_143504_png.rf.5d7e7977adaf5f27a97406f290587fc1_aug2.jpg: ignoring corrupt image/label: labels require 14 columns each\n",
            "\u001b[34m\u001b[1mtrain: \u001b[0m/content/augmented/train/images/bad_posture_20241021_143504_png.rf.5d7e7977adaf5f27a97406f290587fc1_aug3.jpg: ignoring corrupt image/label: labels require 14 columns each\n",
            "\u001b[34m\u001b[1mtrain: \u001b[0m/content/augmented/train/images/bad_posture_20241021_143504_png.rf.5d7e7977adaf5f27a97406f290587fc1_aug4.jpg: ignoring corrupt image/label: labels require 14 columns each\n",
            "\u001b[34m\u001b[1mtrain: \u001b[0m/content/augmented/train/images/bad_posture_20241021_143534_png.rf.322d12e537da46102c57a9a46cb3affd_aug0.jpg: ignoring corrupt image/label: labels require 14 columns each\n",
            "\u001b[34m\u001b[1mtrain: \u001b[0m/content/augmented/train/images/bad_posture_20241021_143534_png.rf.322d12e537da46102c57a9a46cb3affd_aug1.jpg: ignoring corrupt image/label: labels require 14 columns each\n",
            "\u001b[34m\u001b[1mtrain: \u001b[0m/content/augmented/train/images/bad_posture_20241021_143534_png.rf.322d12e537da46102c57a9a46cb3affd_aug2.jpg: ignoring corrupt image/label: labels require 14 columns each\n",
            "\u001b[34m\u001b[1mtrain: \u001b[0m/content/augmented/train/images/bad_posture_20241021_143534_png.rf.322d12e537da46102c57a9a46cb3affd_aug3.jpg: ignoring corrupt image/label: labels require 14 columns each\n",
            "\u001b[34m\u001b[1mtrain: \u001b[0m/content/augmented/train/images/bad_posture_20241021_143534_png.rf.322d12e537da46102c57a9a46cb3affd_aug4.jpg: ignoring corrupt image/label: labels require 14 columns each\n",
            "\u001b[34m\u001b[1mtrain: \u001b[0m/content/augmented/train/images/bad_posture_20241021_143616_png.rf.4ca0c1c7563b9db77b70f585bb6c7381_aug0.jpg: ignoring corrupt image/label: labels require 14 columns each\n",
            "\u001b[34m\u001b[1mtrain: \u001b[0m/content/augmented/train/images/bad_posture_20241021_143616_png.rf.4ca0c1c7563b9db77b70f585bb6c7381_aug1.jpg: ignoring corrupt image/label: labels require 14 columns each\n",
            "\u001b[34m\u001b[1mtrain: \u001b[0m/content/augmented/train/images/bad_posture_20241021_143616_png.rf.4ca0c1c7563b9db77b70f585bb6c7381_aug2.jpg: ignoring corrupt image/label: labels require 14 columns each\n",
            "\u001b[34m\u001b[1mtrain: \u001b[0m/content/augmented/train/images/bad_posture_20241021_143616_png.rf.4ca0c1c7563b9db77b70f585bb6c7381_aug3.jpg: ignoring corrupt image/label: labels require 14 columns each\n",
            "\u001b[34m\u001b[1mtrain: \u001b[0m/content/augmented/train/images/bad_posture_20241021_143616_png.rf.4ca0c1c7563b9db77b70f585bb6c7381_aug4.jpg: ignoring corrupt image/label: labels require 14 columns each\n",
            "\u001b[34m\u001b[1mtrain: \u001b[0m/content/augmented/train/images/bad_posture_20241021_143629_png.rf.19ff7f0d3ca562c8b146a048f6f2702e_aug0.jpg: ignoring corrupt image/label: labels require 14 columns each\n",
            "\u001b[34m\u001b[1mtrain: \u001b[0m/content/augmented/train/images/bad_posture_20241021_143629_png.rf.19ff7f0d3ca562c8b146a048f6f2702e_aug1.jpg: ignoring corrupt image/label: labels require 14 columns each\n",
            "\u001b[34m\u001b[1mtrain: \u001b[0m/content/augmented/train/images/bad_posture_20241021_143629_png.rf.19ff7f0d3ca562c8b146a048f6f2702e_aug2.jpg: ignoring corrupt image/label: labels require 14 columns each\n",
            "\u001b[34m\u001b[1mtrain: \u001b[0m/content/augmented/train/images/bad_posture_20241021_143629_png.rf.19ff7f0d3ca562c8b146a048f6f2702e_aug3.jpg: ignoring corrupt image/label: labels require 14 columns each\n",
            "\u001b[34m\u001b[1mtrain: \u001b[0m/content/augmented/train/images/bad_posture_20241021_143629_png.rf.19ff7f0d3ca562c8b146a048f6f2702e_aug4.jpg: ignoring corrupt image/label: labels require 14 columns each\n",
            "\u001b[34m\u001b[1mtrain: \u001b[0m/content/augmented/train/images/bad_posture_20241021_143641_png.rf.0614759d2e57fb61eca26c8d3393910f_aug0.jpg: ignoring corrupt image/label: labels require 14 columns each\n",
            "\u001b[34m\u001b[1mtrain: \u001b[0m/content/augmented/train/images/bad_posture_20241021_143641_png.rf.0614759d2e57fb61eca26c8d3393910f_aug1.jpg: ignoring corrupt image/label: labels require 14 columns each\n",
            "\u001b[34m\u001b[1mtrain: \u001b[0m/content/augmented/train/images/bad_posture_20241021_143641_png.rf.0614759d2e57fb61eca26c8d3393910f_aug2.jpg: ignoring corrupt image/label: labels require 14 columns each\n",
            "\u001b[34m\u001b[1mtrain: \u001b[0m/content/augmented/train/images/bad_posture_20241021_143641_png.rf.0614759d2e57fb61eca26c8d3393910f_aug3.jpg: ignoring corrupt image/label: labels require 14 columns each\n",
            "\u001b[34m\u001b[1mtrain: \u001b[0m/content/augmented/train/images/bad_posture_20241021_143641_png.rf.0614759d2e57fb61eca26c8d3393910f_aug4.jpg: ignoring corrupt image/label: labels require 14 columns each\n",
            "\u001b[34m\u001b[1mtrain: \u001b[0m/content/augmented/train/images/bad_posture_20241021_143653_png.rf.fee6f4f5f1501a871105b12e7287b5be_aug0.jpg: ignoring corrupt image/label: labels require 14 columns each\n",
            "\u001b[34m\u001b[1mtrain: \u001b[0m/content/augmented/train/images/bad_posture_20241021_143653_png.rf.fee6f4f5f1501a871105b12e7287b5be_aug1.jpg: ignoring corrupt image/label: labels require 14 columns each\n",
            "\u001b[34m\u001b[1mtrain: \u001b[0m/content/augmented/train/images/bad_posture_20241021_143653_png.rf.fee6f4f5f1501a871105b12e7287b5be_aug2.jpg: ignoring corrupt image/label: labels require 14 columns each\n",
            "\u001b[34m\u001b[1mtrain: \u001b[0m/content/augmented/train/images/bad_posture_20241021_143653_png.rf.fee6f4f5f1501a871105b12e7287b5be_aug3.jpg: ignoring corrupt image/label: labels require 14 columns each\n",
            "\u001b[34m\u001b[1mtrain: \u001b[0m/content/augmented/train/images/bad_posture_20241021_143653_png.rf.fee6f4f5f1501a871105b12e7287b5be_aug4.jpg: ignoring corrupt image/label: labels require 14 columns each\n",
            "\u001b[34m\u001b[1mtrain: \u001b[0m/content/augmented/train/images/bad_posture_20241021_143705_png.rf.d224205ba55fe18963b55840d5905d3b_aug0.jpg: ignoring corrupt image/label: labels require 14 columns each\n",
            "\u001b[34m\u001b[1mtrain: \u001b[0m/content/augmented/train/images/bad_posture_20241021_143705_png.rf.d224205ba55fe18963b55840d5905d3b_aug1.jpg: ignoring corrupt image/label: labels require 14 columns each\n",
            "\u001b[34m\u001b[1mtrain: \u001b[0m/content/augmented/train/images/bad_posture_20241021_143705_png.rf.d224205ba55fe18963b55840d5905d3b_aug2.jpg: ignoring corrupt image/label: labels require 14 columns each\n",
            "\u001b[34m\u001b[1mtrain: \u001b[0m/content/augmented/train/images/bad_posture_20241021_143705_png.rf.d224205ba55fe18963b55840d5905d3b_aug3.jpg: ignoring corrupt image/label: labels require 14 columns each\n",
            "\u001b[34m\u001b[1mtrain: \u001b[0m/content/augmented/train/images/bad_posture_20241021_143705_png.rf.d224205ba55fe18963b55840d5905d3b_aug4.jpg: ignoring corrupt image/label: labels require 14 columns each\n",
            "\u001b[34m\u001b[1mtrain: \u001b[0m/content/augmented/train/images/bad_posture_20241021_143735_png.rf.5bdd5900e0c0236f16a85d7d50af3b32_aug0.jpg: ignoring corrupt image/label: labels require 14 columns each\n",
            "\u001b[34m\u001b[1mtrain: \u001b[0m/content/augmented/train/images/bad_posture_20241021_143735_png.rf.5bdd5900e0c0236f16a85d7d50af3b32_aug1.jpg: ignoring corrupt image/label: labels require 14 columns each\n",
            "\u001b[34m\u001b[1mtrain: \u001b[0m/content/augmented/train/images/bad_posture_20241021_143735_png.rf.5bdd5900e0c0236f16a85d7d50af3b32_aug2.jpg: ignoring corrupt image/label: labels require 14 columns each\n",
            "\u001b[34m\u001b[1mtrain: \u001b[0m/content/augmented/train/images/bad_posture_20241021_143735_png.rf.5bdd5900e0c0236f16a85d7d50af3b32_aug3.jpg: ignoring corrupt image/label: labels require 14 columns each\n",
            "\u001b[34m\u001b[1mtrain: \u001b[0m/content/augmented/train/images/bad_posture_20241021_143735_png.rf.5bdd5900e0c0236f16a85d7d50af3b32_aug4.jpg: ignoring corrupt image/label: labels require 14 columns each\n",
            "\u001b[34m\u001b[1mtrain: \u001b[0m/content/augmented/train/images/bad_posture_20241021_143747_png.rf.cb9d2b9403a30cfa729a6aca3db34bdb_aug0.jpg: ignoring corrupt image/label: labels require 14 columns each\n",
            "\u001b[34m\u001b[1mtrain: \u001b[0m/content/augmented/train/images/bad_posture_20241021_143747_png.rf.cb9d2b9403a30cfa729a6aca3db34bdb_aug1.jpg: ignoring corrupt image/label: labels require 14 columns each\n",
            "\u001b[34m\u001b[1mtrain: \u001b[0m/content/augmented/train/images/bad_posture_20241021_143747_png.rf.cb9d2b9403a30cfa729a6aca3db34bdb_aug2.jpg: ignoring corrupt image/label: labels require 14 columns each\n",
            "\u001b[34m\u001b[1mtrain: \u001b[0m/content/augmented/train/images/bad_posture_20241021_143747_png.rf.cb9d2b9403a30cfa729a6aca3db34bdb_aug3.jpg: ignoring corrupt image/label: labels require 14 columns each\n",
            "\u001b[34m\u001b[1mtrain: \u001b[0m/content/augmented/train/images/bad_posture_20241021_143747_png.rf.cb9d2b9403a30cfa729a6aca3db34bdb_aug4.jpg: ignoring corrupt image/label: labels require 14 columns each\n",
            "\u001b[34m\u001b[1mtrain: \u001b[0m/content/augmented/train/images/bad_posture_20241021_143817_png.rf.9ea2a2b56b6c50b02b3876de0e7de633_aug0.jpg: ignoring corrupt image/label: labels require 14 columns each\n",
            "\u001b[34m\u001b[1mtrain: \u001b[0m/content/augmented/train/images/bad_posture_20241021_143817_png.rf.9ea2a2b56b6c50b02b3876de0e7de633_aug1.jpg: ignoring corrupt image/label: labels require 14 columns each\n",
            "\u001b[34m\u001b[1mtrain: \u001b[0m/content/augmented/train/images/bad_posture_20241021_143817_png.rf.9ea2a2b56b6c50b02b3876de0e7de633_aug2.jpg: ignoring corrupt image/label: labels require 14 columns each\n",
            "\u001b[34m\u001b[1mtrain: \u001b[0m/content/augmented/train/images/bad_posture_20241021_143817_png.rf.9ea2a2b56b6c50b02b3876de0e7de633_aug3.jpg: ignoring corrupt image/label: labels require 14 columns each\n",
            "\u001b[34m\u001b[1mtrain: \u001b[0m/content/augmented/train/images/bad_posture_20241021_143817_png.rf.9ea2a2b56b6c50b02b3876de0e7de633_aug4.jpg: ignoring corrupt image/label: labels require 14 columns each\n",
            "\u001b[34m\u001b[1mtrain: \u001b[0m/content/augmented/train/images/bad_posture_20241021_143853_png.rf.57e417594649aad9e353f8603aa4c260_aug0.jpg: ignoring corrupt image/label: labels require 14 columns each\n",
            "\u001b[34m\u001b[1mtrain: \u001b[0m/content/augmented/train/images/bad_posture_20241021_143853_png.rf.57e417594649aad9e353f8603aa4c260_aug1.jpg: ignoring corrupt image/label: labels require 14 columns each\n",
            "\u001b[34m\u001b[1mtrain: \u001b[0m/content/augmented/train/images/bad_posture_20241021_143853_png.rf.57e417594649aad9e353f8603aa4c260_aug2.jpg: ignoring corrupt image/label: labels require 14 columns each\n",
            "\u001b[34m\u001b[1mtrain: \u001b[0m/content/augmented/train/images/bad_posture_20241021_143853_png.rf.57e417594649aad9e353f8603aa4c260_aug3.jpg: ignoring corrupt image/label: labels require 14 columns each\n",
            "\u001b[34m\u001b[1mtrain: \u001b[0m/content/augmented/train/images/bad_posture_20241021_143853_png.rf.57e417594649aad9e353f8603aa4c260_aug4.jpg: ignoring corrupt image/label: labels require 14 columns each\n",
            "\u001b[34m\u001b[1mtrain: \u001b[0m/content/augmented/train/images/bad_posture_20241021_143924_png.rf.0b6081f4397555ed3258d3bf327a6bef_aug0.jpg: ignoring corrupt image/label: labels require 14 columns each\n",
            "\u001b[34m\u001b[1mtrain: \u001b[0m/content/augmented/train/images/bad_posture_20241021_143924_png.rf.0b6081f4397555ed3258d3bf327a6bef_aug1.jpg: ignoring corrupt image/label: labels require 14 columns each\n",
            "\u001b[34m\u001b[1mtrain: \u001b[0m/content/augmented/train/images/bad_posture_20241021_143924_png.rf.0b6081f4397555ed3258d3bf327a6bef_aug2.jpg: ignoring corrupt image/label: labels require 14 columns each\n",
            "\u001b[34m\u001b[1mtrain: \u001b[0m/content/augmented/train/images/bad_posture_20241021_143924_png.rf.0b6081f4397555ed3258d3bf327a6bef_aug3.jpg: ignoring corrupt image/label: labels require 14 columns each\n",
            "\u001b[34m\u001b[1mtrain: \u001b[0m/content/augmented/train/images/bad_posture_20241021_143924_png.rf.0b6081f4397555ed3258d3bf327a6bef_aug4.jpg: ignoring corrupt image/label: labels require 14 columns each\n",
            "\u001b[34m\u001b[1mtrain: \u001b[0m/content/augmented/train/images/bad_posture_20241021_143936_png.rf.23b90344eb3ac69462ceae0f6117a911_aug0.jpg: ignoring corrupt image/label: labels require 14 columns each\n",
            "\u001b[34m\u001b[1mtrain: \u001b[0m/content/augmented/train/images/bad_posture_20241021_143936_png.rf.23b90344eb3ac69462ceae0f6117a911_aug1.jpg: ignoring corrupt image/label: labels require 14 columns each\n",
            "\u001b[34m\u001b[1mtrain: \u001b[0m/content/augmented/train/images/bad_posture_20241021_143936_png.rf.23b90344eb3ac69462ceae0f6117a911_aug2.jpg: ignoring corrupt image/label: labels require 14 columns each\n",
            "\u001b[34m\u001b[1mtrain: \u001b[0m/content/augmented/train/images/bad_posture_20241021_143936_png.rf.23b90344eb3ac69462ceae0f6117a911_aug3.jpg: ignoring corrupt image/label: labels require 14 columns each\n",
            "\u001b[34m\u001b[1mtrain: \u001b[0m/content/augmented/train/images/bad_posture_20241021_143936_png.rf.23b90344eb3ac69462ceae0f6117a911_aug4.jpg: ignoring corrupt image/label: labels require 14 columns each\n",
            "\u001b[34m\u001b[1mtrain: \u001b[0m/content/augmented/train/images/bad_posture_20241021_143948_png.rf.11b151e96a6e9a73f35fb1c095eab5f6_aug0.jpg: ignoring corrupt image/label: labels require 14 columns each\n",
            "\u001b[34m\u001b[1mtrain: \u001b[0m/content/augmented/train/images/bad_posture_20241021_143948_png.rf.11b151e96a6e9a73f35fb1c095eab5f6_aug1.jpg: ignoring corrupt image/label: labels require 14 columns each\n",
            "\u001b[34m\u001b[1mtrain: \u001b[0m/content/augmented/train/images/bad_posture_20241021_143948_png.rf.11b151e96a6e9a73f35fb1c095eab5f6_aug2.jpg: ignoring corrupt image/label: labels require 14 columns each\n",
            "\u001b[34m\u001b[1mtrain: \u001b[0m/content/augmented/train/images/bad_posture_20241021_143948_png.rf.11b151e96a6e9a73f35fb1c095eab5f6_aug3.jpg: ignoring corrupt image/label: labels require 14 columns each\n",
            "\u001b[34m\u001b[1mtrain: \u001b[0m/content/augmented/train/images/bad_posture_20241021_143948_png.rf.11b151e96a6e9a73f35fb1c095eab5f6_aug4.jpg: ignoring corrupt image/label: labels require 14 columns each\n",
            "\u001b[34m\u001b[1mtrain: \u001b[0m/content/augmented/train/images/bad_posture_20241021_144000_png.rf.39268127366d543b6457f73e502cf0a5_aug0.jpg: ignoring corrupt image/label: labels require 14 columns each\n",
            "\u001b[34m\u001b[1mtrain: \u001b[0m/content/augmented/train/images/bad_posture_20241021_144000_png.rf.39268127366d543b6457f73e502cf0a5_aug1.jpg: ignoring corrupt image/label: labels require 14 columns each\n",
            "\u001b[34m\u001b[1mtrain: \u001b[0m/content/augmented/train/images/bad_posture_20241021_144000_png.rf.39268127366d543b6457f73e502cf0a5_aug2.jpg: ignoring corrupt image/label: labels require 14 columns each\n",
            "\u001b[34m\u001b[1mtrain: \u001b[0m/content/augmented/train/images/bad_posture_20241021_144000_png.rf.39268127366d543b6457f73e502cf0a5_aug3.jpg: ignoring corrupt image/label: labels require 14 columns each\n",
            "\u001b[34m\u001b[1mtrain: \u001b[0m/content/augmented/train/images/bad_posture_20241021_144000_png.rf.39268127366d543b6457f73e502cf0a5_aug4.jpg: ignoring corrupt image/label: labels require 14 columns each\n",
            "\u001b[34m\u001b[1mtrain: \u001b[0m/content/augmented/train/images/bad_posture_20241021_144036_png.rf.d03ea5853ada2e3db5b52dc013ffbaf8_aug0.jpg: ignoring corrupt image/label: labels require 14 columns each\n",
            "\u001b[34m\u001b[1mtrain: \u001b[0m/content/augmented/train/images/bad_posture_20241021_144036_png.rf.d03ea5853ada2e3db5b52dc013ffbaf8_aug1.jpg: ignoring corrupt image/label: labels require 14 columns each\n",
            "\u001b[34m\u001b[1mtrain: \u001b[0m/content/augmented/train/images/bad_posture_20241021_144036_png.rf.d03ea5853ada2e3db5b52dc013ffbaf8_aug2.jpg: ignoring corrupt image/label: labels require 14 columns each\n",
            "\u001b[34m\u001b[1mtrain: \u001b[0m/content/augmented/train/images/bad_posture_20241021_144036_png.rf.d03ea5853ada2e3db5b52dc013ffbaf8_aug3.jpg: ignoring corrupt image/label: labels require 14 columns each\n",
            "\u001b[34m\u001b[1mtrain: \u001b[0m/content/augmented/train/images/bad_posture_20241021_144036_png.rf.d03ea5853ada2e3db5b52dc013ffbaf8_aug4.jpg: ignoring corrupt image/label: labels require 14 columns each\n",
            "\u001b[34m\u001b[1mtrain: \u001b[0m/content/augmented/train/images/bad_posture_20241021_144048_png.rf.7b835920375887c608c00ff039f26b67_aug0.jpg: ignoring corrupt image/label: labels require 14 columns each\n",
            "\u001b[34m\u001b[1mtrain: \u001b[0m/content/augmented/train/images/bad_posture_20241021_144048_png.rf.7b835920375887c608c00ff039f26b67_aug1.jpg: ignoring corrupt image/label: labels require 14 columns each\n",
            "\u001b[34m\u001b[1mtrain: \u001b[0m/content/augmented/train/images/bad_posture_20241021_144048_png.rf.7b835920375887c608c00ff039f26b67_aug2.jpg: ignoring corrupt image/label: labels require 14 columns each\n",
            "\u001b[34m\u001b[1mtrain: \u001b[0m/content/augmented/train/images/bad_posture_20241021_144048_png.rf.7b835920375887c608c00ff039f26b67_aug3.jpg: ignoring corrupt image/label: labels require 14 columns each\n",
            "\u001b[34m\u001b[1mtrain: \u001b[0m/content/augmented/train/images/bad_posture_20241021_144048_png.rf.7b835920375887c608c00ff039f26b67_aug4.jpg: ignoring corrupt image/label: labels require 14 columns each\n",
            "\u001b[34m\u001b[1mtrain: \u001b[0m/content/augmented/train/images/bad_posture_20241021_144100_png.rf.bc727bbee2872a7358796237fe1c595c_aug0.jpg: ignoring corrupt image/label: labels require 14 columns each\n",
            "\u001b[34m\u001b[1mtrain: \u001b[0m/content/augmented/train/images/bad_posture_20241021_144100_png.rf.bc727bbee2872a7358796237fe1c595c_aug1.jpg: ignoring corrupt image/label: labels require 14 columns each\n",
            "\u001b[34m\u001b[1mtrain: \u001b[0m/content/augmented/train/images/bad_posture_20241021_144100_png.rf.bc727bbee2872a7358796237fe1c595c_aug2.jpg: ignoring corrupt image/label: labels require 14 columns each\n",
            "\u001b[34m\u001b[1mtrain: \u001b[0m/content/augmented/train/images/bad_posture_20241021_144100_png.rf.bc727bbee2872a7358796237fe1c595c_aug3.jpg: ignoring corrupt image/label: labels require 14 columns each\n",
            "\u001b[34m\u001b[1mtrain: \u001b[0m/content/augmented/train/images/bad_posture_20241021_144100_png.rf.bc727bbee2872a7358796237fe1c595c_aug4.jpg: ignoring corrupt image/label: labels require 14 columns each\n",
            "\u001b[34m\u001b[1mtrain: \u001b[0m/content/augmented/train/images/bad_posture_20241021_144118_png.rf.79de87c1abf2ee9002e4ff6feba421bf_aug0.jpg: ignoring corrupt image/label: labels require 14 columns each\n",
            "\u001b[34m\u001b[1mtrain: \u001b[0m/content/augmented/train/images/bad_posture_20241021_144118_png.rf.79de87c1abf2ee9002e4ff6feba421bf_aug1.jpg: ignoring corrupt image/label: labels require 14 columns each\n",
            "\u001b[34m\u001b[1mtrain: \u001b[0m/content/augmented/train/images/bad_posture_20241021_144118_png.rf.79de87c1abf2ee9002e4ff6feba421bf_aug2.jpg: ignoring corrupt image/label: labels require 14 columns each\n",
            "\u001b[34m\u001b[1mtrain: \u001b[0m/content/augmented/train/images/bad_posture_20241021_144118_png.rf.79de87c1abf2ee9002e4ff6feba421bf_aug3.jpg: ignoring corrupt image/label: labels require 14 columns each\n",
            "\u001b[34m\u001b[1mtrain: \u001b[0m/content/augmented/train/images/bad_posture_20241021_144118_png.rf.79de87c1abf2ee9002e4ff6feba421bf_aug4.jpg: ignoring corrupt image/label: labels require 14 columns each\n",
            "\u001b[34m\u001b[1mtrain: \u001b[0m/content/augmented/train/images/bad_posture_20241021_144143_png.rf.055444c505dafefca8690c763e216b20_aug0.jpg: ignoring corrupt image/label: labels require 14 columns each\n",
            "\u001b[34m\u001b[1mtrain: \u001b[0m/content/augmented/train/images/bad_posture_20241021_144143_png.rf.055444c505dafefca8690c763e216b20_aug1.jpg: ignoring corrupt image/label: labels require 14 columns each\n",
            "\u001b[34m\u001b[1mtrain: \u001b[0m/content/augmented/train/images/bad_posture_20241021_144143_png.rf.055444c505dafefca8690c763e216b20_aug2.jpg: ignoring corrupt image/label: labels require 14 columns each\n",
            "\u001b[34m\u001b[1mtrain: \u001b[0m/content/augmented/train/images/bad_posture_20241021_144143_png.rf.055444c505dafefca8690c763e216b20_aug3.jpg: ignoring corrupt image/label: labels require 14 columns each\n",
            "\u001b[34m\u001b[1mtrain: \u001b[0m/content/augmented/train/images/bad_posture_20241021_144143_png.rf.055444c505dafefca8690c763e216b20_aug4.jpg: ignoring corrupt image/label: labels require 14 columns each\n",
            "\u001b[34m\u001b[1mtrain: \u001b[0m/content/augmented/train/images/bad_posture_20241021_144407_png.rf.250694c589b4b96f0f68ab269c6f4227_aug0.jpg: ignoring corrupt image/label: labels require 14 columns each\n",
            "\u001b[34m\u001b[1mtrain: \u001b[0m/content/augmented/train/images/bad_posture_20241021_144407_png.rf.250694c589b4b96f0f68ab269c6f4227_aug1.jpg: ignoring corrupt image/label: labels require 14 columns each\n",
            "\u001b[34m\u001b[1mtrain: \u001b[0m/content/augmented/train/images/bad_posture_20241021_144407_png.rf.250694c589b4b96f0f68ab269c6f4227_aug2.jpg: ignoring corrupt image/label: labels require 14 columns each\n",
            "\u001b[34m\u001b[1mtrain: \u001b[0m/content/augmented/train/images/bad_posture_20241021_144407_png.rf.250694c589b4b96f0f68ab269c6f4227_aug3.jpg: ignoring corrupt image/label: labels require 14 columns each\n",
            "\u001b[34m\u001b[1mtrain: \u001b[0m/content/augmented/train/images/bad_posture_20241021_144407_png.rf.250694c589b4b96f0f68ab269c6f4227_aug4.jpg: ignoring corrupt image/label: labels require 14 columns each\n",
            "\u001b[34m\u001b[1mtrain: \u001b[0m/content/augmented/train/images/bad_posture_20241021_144426_png.rf.799bcaed3b713de3499444cefc59c95b_aug0.jpg: ignoring corrupt image/label: labels require 14 columns each\n",
            "\u001b[34m\u001b[1mtrain: \u001b[0m/content/augmented/train/images/bad_posture_20241021_144426_png.rf.799bcaed3b713de3499444cefc59c95b_aug1.jpg: ignoring corrupt image/label: labels require 14 columns each\n",
            "\u001b[34m\u001b[1mtrain: \u001b[0m/content/augmented/train/images/bad_posture_20241021_144426_png.rf.799bcaed3b713de3499444cefc59c95b_aug2.jpg: ignoring corrupt image/label: labels require 14 columns each\n",
            "\u001b[34m\u001b[1mtrain: \u001b[0m/content/augmented/train/images/bad_posture_20241021_144426_png.rf.799bcaed3b713de3499444cefc59c95b_aug3.jpg: ignoring corrupt image/label: labels require 14 columns each\n",
            "\u001b[34m\u001b[1mtrain: \u001b[0m/content/augmented/train/images/bad_posture_20241021_144426_png.rf.799bcaed3b713de3499444cefc59c95b_aug4.jpg: ignoring corrupt image/label: labels require 14 columns each\n",
            "\u001b[34m\u001b[1mtrain: \u001b[0m/content/augmented/train/images/bad_posture_20241021_144538_png.rf.609f8ab485398246d25fb3eeaf1fea48_aug0.jpg: ignoring corrupt image/label: labels require 14 columns each\n",
            "\u001b[34m\u001b[1mtrain: \u001b[0m/content/augmented/train/images/bad_posture_20241021_144538_png.rf.609f8ab485398246d25fb3eeaf1fea48_aug1.jpg: ignoring corrupt image/label: labels require 14 columns each\n",
            "\u001b[34m\u001b[1mtrain: \u001b[0m/content/augmented/train/images/bad_posture_20241021_144538_png.rf.609f8ab485398246d25fb3eeaf1fea48_aug2.jpg: ignoring corrupt image/label: labels require 14 columns each\n",
            "\u001b[34m\u001b[1mtrain: \u001b[0m/content/augmented/train/images/bad_posture_20241021_144538_png.rf.609f8ab485398246d25fb3eeaf1fea48_aug3.jpg: ignoring corrupt image/label: labels require 14 columns each\n",
            "\u001b[34m\u001b[1mtrain: \u001b[0m/content/augmented/train/images/bad_posture_20241021_144538_png.rf.609f8ab485398246d25fb3eeaf1fea48_aug4.jpg: ignoring corrupt image/label: labels require 14 columns each\n",
            "\u001b[34m\u001b[1mtrain: \u001b[0m/content/augmented/train/images/bad_posture_20241021_144550_png.rf.1d7bf94ed9b6cd5cf90ba816d8991564_aug0.jpg: ignoring corrupt image/label: labels require 14 columns each\n",
            "\u001b[34m\u001b[1mtrain: \u001b[0m/content/augmented/train/images/bad_posture_20241021_144550_png.rf.1d7bf94ed9b6cd5cf90ba816d8991564_aug1.jpg: ignoring corrupt image/label: labels require 14 columns each\n",
            "\u001b[34m\u001b[1mtrain: \u001b[0m/content/augmented/train/images/bad_posture_20241021_144550_png.rf.1d7bf94ed9b6cd5cf90ba816d8991564_aug2.jpg: ignoring corrupt image/label: labels require 14 columns each\n",
            "\u001b[34m\u001b[1mtrain: \u001b[0m/content/augmented/train/images/bad_posture_20241021_144550_png.rf.1d7bf94ed9b6cd5cf90ba816d8991564_aug3.jpg: ignoring corrupt image/label: labels require 14 columns each\n",
            "\u001b[34m\u001b[1mtrain: \u001b[0m/content/augmented/train/images/bad_posture_20241021_144550_png.rf.1d7bf94ed9b6cd5cf90ba816d8991564_aug4.jpg: ignoring corrupt image/label: labels require 14 columns each\n",
            "\u001b[34m\u001b[1mtrain: \u001b[0m/content/augmented/train/images/bad_posture_20241021_144638_png.rf.be0c195edf9fb1c215be3f557355476e_aug0.jpg: ignoring corrupt image/label: labels require 14 columns each\n",
            "\u001b[34m\u001b[1mtrain: \u001b[0m/content/augmented/train/images/bad_posture_20241021_144638_png.rf.be0c195edf9fb1c215be3f557355476e_aug1.jpg: ignoring corrupt image/label: labels require 14 columns each\n",
            "\u001b[34m\u001b[1mtrain: \u001b[0m/content/augmented/train/images/bad_posture_20241021_144638_png.rf.be0c195edf9fb1c215be3f557355476e_aug2.jpg: ignoring corrupt image/label: labels require 14 columns each\n",
            "\u001b[34m\u001b[1mtrain: \u001b[0m/content/augmented/train/images/bad_posture_20241021_144638_png.rf.be0c195edf9fb1c215be3f557355476e_aug3.jpg: ignoring corrupt image/label: labels require 14 columns each\n",
            "\u001b[34m\u001b[1mtrain: \u001b[0m/content/augmented/train/images/bad_posture_20241021_144638_png.rf.be0c195edf9fb1c215be3f557355476e_aug4.jpg: ignoring corrupt image/label: labels require 14 columns each\n",
            "\u001b[34m\u001b[1mtrain: \u001b[0m/content/augmented/train/images/bad_posture_20241021_145052_png.rf.e2f0567ba3d86b3eb049de98d6f3d2e8_aug0.jpg: ignoring corrupt image/label: labels require 14 columns each\n",
            "\u001b[34m\u001b[1mtrain: \u001b[0m/content/augmented/train/images/bad_posture_20241021_145052_png.rf.e2f0567ba3d86b3eb049de98d6f3d2e8_aug1.jpg: ignoring corrupt image/label: labels require 14 columns each\n",
            "\u001b[34m\u001b[1mtrain: \u001b[0m/content/augmented/train/images/bad_posture_20241021_145052_png.rf.e2f0567ba3d86b3eb049de98d6f3d2e8_aug2.jpg: ignoring corrupt image/label: labels require 14 columns each\n",
            "\u001b[34m\u001b[1mtrain: \u001b[0m/content/augmented/train/images/bad_posture_20241021_145052_png.rf.e2f0567ba3d86b3eb049de98d6f3d2e8_aug3.jpg: ignoring corrupt image/label: labels require 14 columns each\n",
            "\u001b[34m\u001b[1mtrain: \u001b[0m/content/augmented/train/images/bad_posture_20241021_145052_png.rf.e2f0567ba3d86b3eb049de98d6f3d2e8_aug4.jpg: ignoring corrupt image/label: labels require 14 columns each\n",
            "\u001b[34m\u001b[1mtrain: \u001b[0m/content/augmented/train/images/bad_posture_20241021_145122_png.rf.5f1a031013f440522495134aa87a60bd_aug0.jpg: ignoring corrupt image/label: labels require 14 columns each\n",
            "\u001b[34m\u001b[1mtrain: \u001b[0m/content/augmented/train/images/bad_posture_20241021_145122_png.rf.5f1a031013f440522495134aa87a60bd_aug1.jpg: ignoring corrupt image/label: labels require 14 columns each\n",
            "\u001b[34m\u001b[1mtrain: \u001b[0m/content/augmented/train/images/bad_posture_20241021_145122_png.rf.5f1a031013f440522495134aa87a60bd_aug2.jpg: ignoring corrupt image/label: labels require 14 columns each\n",
            "\u001b[34m\u001b[1mtrain: \u001b[0m/content/augmented/train/images/bad_posture_20241021_145122_png.rf.5f1a031013f440522495134aa87a60bd_aug3.jpg: ignoring corrupt image/label: labels require 14 columns each\n",
            "\u001b[34m\u001b[1mtrain: \u001b[0m/content/augmented/train/images/bad_posture_20241021_145122_png.rf.5f1a031013f440522495134aa87a60bd_aug4.jpg: ignoring corrupt image/label: labels require 14 columns each\n",
            "\u001b[34m\u001b[1mtrain: \u001b[0m/content/augmented/train/images/bad_posture_20241021_145134_png.rf.7a223c3ade6c9cf6ac96611fdc8cc8f3_aug0.jpg: ignoring corrupt image/label: labels require 14 columns each\n",
            "\u001b[34m\u001b[1mtrain: \u001b[0m/content/augmented/train/images/bad_posture_20241021_145134_png.rf.7a223c3ade6c9cf6ac96611fdc8cc8f3_aug1.jpg: ignoring corrupt image/label: labels require 14 columns each\n",
            "\u001b[34m\u001b[1mtrain: \u001b[0m/content/augmented/train/images/bad_posture_20241021_145134_png.rf.7a223c3ade6c9cf6ac96611fdc8cc8f3_aug2.jpg: ignoring corrupt image/label: labels require 14 columns each\n",
            "\u001b[34m\u001b[1mtrain: \u001b[0m/content/augmented/train/images/bad_posture_20241021_145134_png.rf.7a223c3ade6c9cf6ac96611fdc8cc8f3_aug3.jpg: ignoring corrupt image/label: labels require 14 columns each\n",
            "\u001b[34m\u001b[1mtrain: \u001b[0m/content/augmented/train/images/bad_posture_20241021_145134_png.rf.7a223c3ade6c9cf6ac96611fdc8cc8f3_aug4.jpg: ignoring corrupt image/label: labels require 14 columns each\n",
            "\u001b[34m\u001b[1mtrain: \u001b[0m/content/augmented/train/images/bad_posture_20241021_145211_png.rf.9dca7e14e64950fdf4f6bc41e50cea0b_aug0.jpg: ignoring corrupt image/label: labels require 14 columns each\n",
            "\u001b[34m\u001b[1mtrain: \u001b[0m/content/augmented/train/images/bad_posture_20241021_145211_png.rf.9dca7e14e64950fdf4f6bc41e50cea0b_aug1.jpg: ignoring corrupt image/label: labels require 14 columns each\n",
            "\u001b[34m\u001b[1mtrain: \u001b[0m/content/augmented/train/images/bad_posture_20241021_145211_png.rf.9dca7e14e64950fdf4f6bc41e50cea0b_aug2.jpg: ignoring corrupt image/label: labels require 14 columns each\n",
            "\u001b[34m\u001b[1mtrain: \u001b[0m/content/augmented/train/images/bad_posture_20241021_145211_png.rf.9dca7e14e64950fdf4f6bc41e50cea0b_aug3.jpg: ignoring corrupt image/label: labels require 14 columns each\n",
            "\u001b[34m\u001b[1mtrain: \u001b[0m/content/augmented/train/images/bad_posture_20241021_145211_png.rf.9dca7e14e64950fdf4f6bc41e50cea0b_aug4.jpg: ignoring corrupt image/label: labels require 14 columns each\n",
            "\u001b[34m\u001b[1mtrain: \u001b[0m/content/augmented/train/images/bad_posture_20241021_145335_png.rf.968928e32103b1e0bf4d8970c6a7f511_aug0.jpg: ignoring corrupt image/label: labels require 14 columns each\n",
            "\u001b[34m\u001b[1mtrain: \u001b[0m/content/augmented/train/images/bad_posture_20241021_145335_png.rf.968928e32103b1e0bf4d8970c6a7f511_aug1.jpg: ignoring corrupt image/label: labels require 14 columns each\n",
            "\u001b[34m\u001b[1mtrain: \u001b[0m/content/augmented/train/images/bad_posture_20241021_145335_png.rf.968928e32103b1e0bf4d8970c6a7f511_aug2.jpg: ignoring corrupt image/label: labels require 14 columns each\n",
            "\u001b[34m\u001b[1mtrain: \u001b[0m/content/augmented/train/images/bad_posture_20241021_145335_png.rf.968928e32103b1e0bf4d8970c6a7f511_aug3.jpg: ignoring corrupt image/label: labels require 14 columns each\n",
            "\u001b[34m\u001b[1mtrain: \u001b[0m/content/augmented/train/images/bad_posture_20241021_145335_png.rf.968928e32103b1e0bf4d8970c6a7f511_aug4.jpg: ignoring corrupt image/label: labels require 14 columns each\n",
            "\u001b[34m\u001b[1mtrain: \u001b[0m/content/augmented/train/images/bad_posture_20241021_145555_png.rf.f6d9b632d856ac058cdeba8de5dd719a_aug0.jpg: ignoring corrupt image/label: labels require 14 columns each\n",
            "\u001b[34m\u001b[1mtrain: \u001b[0m/content/augmented/train/images/bad_posture_20241021_145555_png.rf.f6d9b632d856ac058cdeba8de5dd719a_aug1.jpg: ignoring corrupt image/label: labels require 14 columns each\n",
            "\u001b[34m\u001b[1mtrain: \u001b[0m/content/augmented/train/images/bad_posture_20241021_145555_png.rf.f6d9b632d856ac058cdeba8de5dd719a_aug2.jpg: ignoring corrupt image/label: labels require 14 columns each\n",
            "\u001b[34m\u001b[1mtrain: \u001b[0m/content/augmented/train/images/bad_posture_20241021_145555_png.rf.f6d9b632d856ac058cdeba8de5dd719a_aug3.jpg: ignoring corrupt image/label: labels require 14 columns each\n",
            "\u001b[34m\u001b[1mtrain: \u001b[0m/content/augmented/train/images/bad_posture_20241021_145555_png.rf.f6d9b632d856ac058cdeba8de5dd719a_aug4.jpg: ignoring corrupt image/label: labels require 14 columns each\n",
            "\u001b[34m\u001b[1mtrain: \u001b[0m/content/augmented/train/images/bad_posture_20241021_180437_png.rf.ad3708e9d281e88fadecedcc9c6c43dc_aug0.jpg: ignoring corrupt image/label: labels require 14 columns each\n",
            "\u001b[34m\u001b[1mtrain: \u001b[0m/content/augmented/train/images/bad_posture_20241021_180437_png.rf.ad3708e9d281e88fadecedcc9c6c43dc_aug1.jpg: ignoring corrupt image/label: labels require 14 columns each\n",
            "\u001b[34m\u001b[1mtrain: \u001b[0m/content/augmented/train/images/bad_posture_20241021_180437_png.rf.ad3708e9d281e88fadecedcc9c6c43dc_aug2.jpg: ignoring corrupt image/label: labels require 14 columns each\n",
            "\u001b[34m\u001b[1mtrain: \u001b[0m/content/augmented/train/images/bad_posture_20241021_180437_png.rf.ad3708e9d281e88fadecedcc9c6c43dc_aug3.jpg: ignoring corrupt image/label: labels require 14 columns each\n",
            "\u001b[34m\u001b[1mtrain: \u001b[0m/content/augmented/train/images/bad_posture_20241021_180437_png.rf.ad3708e9d281e88fadecedcc9c6c43dc_aug4.jpg: ignoring corrupt image/label: labels require 14 columns each\n",
            "\u001b[34m\u001b[1mtrain: \u001b[0m/content/augmented/train/images/bad_posture_20241021_180513_png.rf.bb4cdd9df293de20727ee868d9a2fd57_aug0.jpg: ignoring corrupt image/label: labels require 14 columns each\n",
            "\u001b[34m\u001b[1mtrain: \u001b[0m/content/augmented/train/images/bad_posture_20241021_180513_png.rf.bb4cdd9df293de20727ee868d9a2fd57_aug1.jpg: ignoring corrupt image/label: labels require 14 columns each\n",
            "\u001b[34m\u001b[1mtrain: \u001b[0m/content/augmented/train/images/bad_posture_20241021_180513_png.rf.bb4cdd9df293de20727ee868d9a2fd57_aug2.jpg: ignoring corrupt image/label: labels require 14 columns each\n",
            "\u001b[34m\u001b[1mtrain: \u001b[0m/content/augmented/train/images/bad_posture_20241021_180513_png.rf.bb4cdd9df293de20727ee868d9a2fd57_aug3.jpg: ignoring corrupt image/label: labels require 14 columns each\n",
            "\u001b[34m\u001b[1mtrain: \u001b[0m/content/augmented/train/images/bad_posture_20241021_180513_png.rf.bb4cdd9df293de20727ee868d9a2fd57_aug4.jpg: ignoring corrupt image/label: labels require 14 columns each\n",
            "\u001b[34m\u001b[1mtrain: \u001b[0m/content/augmented/train/images/good_posture_20241012_172057_png.rf.4263144e0d5c0becd74ae2e3eabf45dc_aug0.jpg: ignoring corrupt image/label: labels require 14 columns each\n",
            "\u001b[34m\u001b[1mtrain: \u001b[0m/content/augmented/train/images/good_posture_20241012_172057_png.rf.4263144e0d5c0becd74ae2e3eabf45dc_aug1.jpg: ignoring corrupt image/label: labels require 14 columns each\n",
            "\u001b[34m\u001b[1mtrain: \u001b[0m/content/augmented/train/images/good_posture_20241012_172057_png.rf.4263144e0d5c0becd74ae2e3eabf45dc_aug2.jpg: ignoring corrupt image/label: labels require 14 columns each\n",
            "\u001b[34m\u001b[1mtrain: \u001b[0m/content/augmented/train/images/good_posture_20241012_172057_png.rf.4263144e0d5c0becd74ae2e3eabf45dc_aug3.jpg: ignoring corrupt image/label: labels require 14 columns each\n",
            "\u001b[34m\u001b[1mtrain: \u001b[0m/content/augmented/train/images/good_posture_20241012_172057_png.rf.4263144e0d5c0becd74ae2e3eabf45dc_aug4.jpg: ignoring corrupt image/label: labels require 14 columns each\n",
            "\u001b[34m\u001b[1mtrain: \u001b[0m/content/augmented/train/images/good_posture_20241012_172219_png.rf.6405ebfec7ceb49de39f1758c064ef0a_aug0.jpg: ignoring corrupt image/label: labels require 14 columns each\n",
            "\u001b[34m\u001b[1mtrain: \u001b[0m/content/augmented/train/images/good_posture_20241012_172219_png.rf.6405ebfec7ceb49de39f1758c064ef0a_aug1.jpg: ignoring corrupt image/label: labels require 14 columns each\n",
            "\u001b[34m\u001b[1mtrain: \u001b[0m/content/augmented/train/images/good_posture_20241012_172219_png.rf.6405ebfec7ceb49de39f1758c064ef0a_aug2.jpg: ignoring corrupt image/label: labels require 14 columns each\n",
            "\u001b[34m\u001b[1mtrain: \u001b[0m/content/augmented/train/images/good_posture_20241012_172219_png.rf.6405ebfec7ceb49de39f1758c064ef0a_aug3.jpg: ignoring corrupt image/label: labels require 14 columns each\n",
            "\u001b[34m\u001b[1mtrain: \u001b[0m/content/augmented/train/images/good_posture_20241012_172219_png.rf.6405ebfec7ceb49de39f1758c064ef0a_aug4.jpg: ignoring corrupt image/label: labels require 14 columns each\n",
            "\u001b[34m\u001b[1mtrain: \u001b[0m/content/augmented/train/images/good_posture_20241012_172239_png.rf.fa4cd5a9ff910570ee23e5678944dd29_aug0.jpg: ignoring corrupt image/label: labels require 14 columns each\n",
            "\u001b[34m\u001b[1mtrain: \u001b[0m/content/augmented/train/images/good_posture_20241012_172239_png.rf.fa4cd5a9ff910570ee23e5678944dd29_aug1.jpg: ignoring corrupt image/label: labels require 14 columns each\n",
            "\u001b[34m\u001b[1mtrain: \u001b[0m/content/augmented/train/images/good_posture_20241012_172239_png.rf.fa4cd5a9ff910570ee23e5678944dd29_aug2.jpg: ignoring corrupt image/label: labels require 14 columns each\n",
            "\u001b[34m\u001b[1mtrain: \u001b[0m/content/augmented/train/images/good_posture_20241012_172239_png.rf.fa4cd5a9ff910570ee23e5678944dd29_aug3.jpg: ignoring corrupt image/label: labels require 14 columns each\n",
            "\u001b[34m\u001b[1mtrain: \u001b[0m/content/augmented/train/images/good_posture_20241012_172239_png.rf.fa4cd5a9ff910570ee23e5678944dd29_aug4.jpg: ignoring corrupt image/label: labels require 14 columns each\n",
            "\u001b[34m\u001b[1mtrain: \u001b[0m/content/augmented/train/images/good_posture_20241012_174139_png.rf.dbf35c22bf0b0022fd55c9dbbb104f02_aug0.jpg: ignoring corrupt image/label: labels require 14 columns each\n",
            "\u001b[34m\u001b[1mtrain: \u001b[0m/content/augmented/train/images/good_posture_20241012_174139_png.rf.dbf35c22bf0b0022fd55c9dbbb104f02_aug1.jpg: ignoring corrupt image/label: labels require 14 columns each\n",
            "\u001b[34m\u001b[1mtrain: \u001b[0m/content/augmented/train/images/good_posture_20241012_174139_png.rf.dbf35c22bf0b0022fd55c9dbbb104f02_aug2.jpg: ignoring corrupt image/label: labels require 14 columns each\n",
            "\u001b[34m\u001b[1mtrain: \u001b[0m/content/augmented/train/images/good_posture_20241012_174139_png.rf.dbf35c22bf0b0022fd55c9dbbb104f02_aug3.jpg: ignoring corrupt image/label: labels require 14 columns each\n",
            "\u001b[34m\u001b[1mtrain: \u001b[0m/content/augmented/train/images/good_posture_20241012_174139_png.rf.dbf35c22bf0b0022fd55c9dbbb104f02_aug4.jpg: ignoring corrupt image/label: labels require 14 columns each\n",
            "\u001b[34m\u001b[1mtrain: \u001b[0m/content/augmented/train/images/good_posture_20241012_174311_png.rf.d9b4cce486411574aa1d34941a3e9bfa_aug0.jpg: ignoring corrupt image/label: labels require 14 columns each\n",
            "\u001b[34m\u001b[1mtrain: \u001b[0m/content/augmented/train/images/good_posture_20241012_174311_png.rf.d9b4cce486411574aa1d34941a3e9bfa_aug1.jpg: ignoring corrupt image/label: labels require 14 columns each\n",
            "\u001b[34m\u001b[1mtrain: \u001b[0m/content/augmented/train/images/good_posture_20241012_174311_png.rf.d9b4cce486411574aa1d34941a3e9bfa_aug2.jpg: ignoring corrupt image/label: labels require 14 columns each\n",
            "\u001b[34m\u001b[1mtrain: \u001b[0m/content/augmented/train/images/good_posture_20241012_174311_png.rf.d9b4cce486411574aa1d34941a3e9bfa_aug3.jpg: ignoring corrupt image/label: labels require 14 columns each\n",
            "\u001b[34m\u001b[1mtrain: \u001b[0m/content/augmented/train/images/good_posture_20241012_174311_png.rf.d9b4cce486411574aa1d34941a3e9bfa_aug4.jpg: ignoring corrupt image/label: labels require 14 columns each\n",
            "\u001b[34m\u001b[1mtrain: \u001b[0m/content/augmented/train/images/good_posture_20241012_174321_png.rf.f1845311e1320c7bb9a68bb74a6ef837_aug0.jpg: ignoring corrupt image/label: labels require 14 columns each\n",
            "\u001b[34m\u001b[1mtrain: \u001b[0m/content/augmented/train/images/good_posture_20241012_174321_png.rf.f1845311e1320c7bb9a68bb74a6ef837_aug1.jpg: ignoring corrupt image/label: labels require 14 columns each\n",
            "\u001b[34m\u001b[1mtrain: \u001b[0m/content/augmented/train/images/good_posture_20241012_174321_png.rf.f1845311e1320c7bb9a68bb74a6ef837_aug2.jpg: ignoring corrupt image/label: labels require 14 columns each\n",
            "\u001b[34m\u001b[1mtrain: \u001b[0m/content/augmented/train/images/good_posture_20241012_174321_png.rf.f1845311e1320c7bb9a68bb74a6ef837_aug3.jpg: ignoring corrupt image/label: labels require 14 columns each\n",
            "\u001b[34m\u001b[1mtrain: \u001b[0m/content/augmented/train/images/good_posture_20241012_174321_png.rf.f1845311e1320c7bb9a68bb74a6ef837_aug4.jpg: ignoring corrupt image/label: labels require 14 columns each\n",
            "\u001b[34m\u001b[1mtrain: \u001b[0m/content/augmented/train/images/good_posture_20241012_174331_png.rf.0bcd04e5eeff1a51c9164071daf953b8_aug0.jpg: ignoring corrupt image/label: labels require 14 columns each\n",
            "\u001b[34m\u001b[1mtrain: \u001b[0m/content/augmented/train/images/good_posture_20241012_174331_png.rf.0bcd04e5eeff1a51c9164071daf953b8_aug1.jpg: ignoring corrupt image/label: labels require 14 columns each\n",
            "\u001b[34m\u001b[1mtrain: \u001b[0m/content/augmented/train/images/good_posture_20241012_174331_png.rf.0bcd04e5eeff1a51c9164071daf953b8_aug2.jpg: ignoring corrupt image/label: labels require 14 columns each\n",
            "\u001b[34m\u001b[1mtrain: \u001b[0m/content/augmented/train/images/good_posture_20241012_174331_png.rf.0bcd04e5eeff1a51c9164071daf953b8_aug3.jpg: ignoring corrupt image/label: labels require 14 columns each\n",
            "\u001b[34m\u001b[1mtrain: \u001b[0m/content/augmented/train/images/good_posture_20241012_174331_png.rf.0bcd04e5eeff1a51c9164071daf953b8_aug4.jpg: ignoring corrupt image/label: labels require 14 columns each\n",
            "\u001b[34m\u001b[1mtrain: \u001b[0m/content/augmented/train/images/good_posture_20241012_174341_png.rf.99daf1acb049582528bf655abb8b0058_aug0.jpg: ignoring corrupt image/label: labels require 14 columns each\n",
            "\u001b[34m\u001b[1mtrain: \u001b[0m/content/augmented/train/images/good_posture_20241012_174341_png.rf.99daf1acb049582528bf655abb8b0058_aug1.jpg: ignoring corrupt image/label: labels require 14 columns each\n",
            "\u001b[34m\u001b[1mtrain: \u001b[0m/content/augmented/train/images/good_posture_20241012_174341_png.rf.99daf1acb049582528bf655abb8b0058_aug2.jpg: ignoring corrupt image/label: labels require 14 columns each\n",
            "\u001b[34m\u001b[1mtrain: \u001b[0m/content/augmented/train/images/good_posture_20241012_174341_png.rf.99daf1acb049582528bf655abb8b0058_aug3.jpg: ignoring corrupt image/label: labels require 14 columns each\n",
            "\u001b[34m\u001b[1mtrain: \u001b[0m/content/augmented/train/images/good_posture_20241012_174341_png.rf.99daf1acb049582528bf655abb8b0058_aug4.jpg: ignoring corrupt image/label: labels require 14 columns each\n",
            "\u001b[34m\u001b[1mtrain: \u001b[0m/content/augmented/train/images/good_posture_20241012_174351_png.rf.00f3d01e59b16d2908a77c45832a56c0_aug0.jpg: ignoring corrupt image/label: labels require 14 columns each\n",
            "\u001b[34m\u001b[1mtrain: \u001b[0m/content/augmented/train/images/good_posture_20241012_174351_png.rf.00f3d01e59b16d2908a77c45832a56c0_aug1.jpg: ignoring corrupt image/label: labels require 14 columns each\n",
            "\u001b[34m\u001b[1mtrain: \u001b[0m/content/augmented/train/images/good_posture_20241012_174351_png.rf.00f3d01e59b16d2908a77c45832a56c0_aug2.jpg: ignoring corrupt image/label: labels require 14 columns each\n",
            "\u001b[34m\u001b[1mtrain: \u001b[0m/content/augmented/train/images/good_posture_20241012_174351_png.rf.00f3d01e59b16d2908a77c45832a56c0_aug3.jpg: ignoring corrupt image/label: labels require 14 columns each\n",
            "\u001b[34m\u001b[1mtrain: \u001b[0m/content/augmented/train/images/good_posture_20241012_174351_png.rf.00f3d01e59b16d2908a77c45832a56c0_aug4.jpg: ignoring corrupt image/label: labels require 14 columns each\n",
            "\u001b[34m\u001b[1mtrain: \u001b[0m/content/augmented/train/images/good_posture_20241012_174401_png.rf.0a0587444ee25ee70af7ec42c87d05bf_aug0.jpg: ignoring corrupt image/label: labels require 14 columns each\n",
            "\u001b[34m\u001b[1mtrain: \u001b[0m/content/augmented/train/images/good_posture_20241012_174401_png.rf.0a0587444ee25ee70af7ec42c87d05bf_aug1.jpg: ignoring corrupt image/label: labels require 14 columns each\n",
            "\u001b[34m\u001b[1mtrain: \u001b[0m/content/augmented/train/images/good_posture_20241012_174401_png.rf.0a0587444ee25ee70af7ec42c87d05bf_aug2.jpg: ignoring corrupt image/label: labels require 14 columns each\n",
            "\u001b[34m\u001b[1mtrain: \u001b[0m/content/augmented/train/images/good_posture_20241012_174401_png.rf.0a0587444ee25ee70af7ec42c87d05bf_aug3.jpg: ignoring corrupt image/label: labels require 14 columns each\n",
            "\u001b[34m\u001b[1mtrain: \u001b[0m/content/augmented/train/images/good_posture_20241012_174401_png.rf.0a0587444ee25ee70af7ec42c87d05bf_aug4.jpg: ignoring corrupt image/label: labels require 14 columns each\n",
            "\u001b[34m\u001b[1mtrain: \u001b[0m/content/augmented/train/images/good_posture_20241013_222638_png.rf.f148998b002187c4f4a344b615b62a39_aug0.jpg: ignoring corrupt image/label: labels require 14 columns each\n",
            "\u001b[34m\u001b[1mtrain: \u001b[0m/content/augmented/train/images/good_posture_20241013_222638_png.rf.f148998b002187c4f4a344b615b62a39_aug1.jpg: ignoring corrupt image/label: labels require 14 columns each\n",
            "\u001b[34m\u001b[1mtrain: \u001b[0m/content/augmented/train/images/good_posture_20241013_222638_png.rf.f148998b002187c4f4a344b615b62a39_aug2.jpg: ignoring corrupt image/label: labels require 14 columns each\n",
            "\u001b[34m\u001b[1mtrain: \u001b[0m/content/augmented/train/images/good_posture_20241013_222638_png.rf.f148998b002187c4f4a344b615b62a39_aug3.jpg: ignoring corrupt image/label: labels require 14 columns each\n",
            "\u001b[34m\u001b[1mtrain: \u001b[0m/content/augmented/train/images/good_posture_20241013_222638_png.rf.f148998b002187c4f4a344b615b62a39_aug4.jpg: ignoring corrupt image/label: labels require 14 columns each\n",
            "\u001b[34m\u001b[1mtrain: \u001b[0m/content/augmented/train/images/good_posture_20241013_222655_png.rf.7926444ae5029c052edebd4a74230ebe_aug0.jpg: ignoring corrupt image/label: labels require 14 columns each\n",
            "\u001b[34m\u001b[1mtrain: \u001b[0m/content/augmented/train/images/good_posture_20241013_222655_png.rf.7926444ae5029c052edebd4a74230ebe_aug1.jpg: ignoring corrupt image/label: labels require 14 columns each\n",
            "\u001b[34m\u001b[1mtrain: \u001b[0m/content/augmented/train/images/good_posture_20241013_222655_png.rf.7926444ae5029c052edebd4a74230ebe_aug2.jpg: ignoring corrupt image/label: labels require 14 columns each\n",
            "\u001b[34m\u001b[1mtrain: \u001b[0m/content/augmented/train/images/good_posture_20241013_222655_png.rf.7926444ae5029c052edebd4a74230ebe_aug3.jpg: ignoring corrupt image/label: labels require 14 columns each\n",
            "\u001b[34m\u001b[1mtrain: \u001b[0m/content/augmented/train/images/good_posture_20241013_222655_png.rf.7926444ae5029c052edebd4a74230ebe_aug4.jpg: ignoring corrupt image/label: labels require 14 columns each\n",
            "\u001b[34m\u001b[1mtrain: \u001b[0m/content/augmented/train/images/good_posture_20241013_222710_png.rf.0210695f3262701c1cefb167d8755ec8_aug0.jpg: ignoring corrupt image/label: labels require 14 columns each\n",
            "\u001b[34m\u001b[1mtrain: \u001b[0m/content/augmented/train/images/good_posture_20241013_222710_png.rf.0210695f3262701c1cefb167d8755ec8_aug1.jpg: ignoring corrupt image/label: labels require 14 columns each\n",
            "\u001b[34m\u001b[1mtrain: \u001b[0m/content/augmented/train/images/good_posture_20241013_222710_png.rf.0210695f3262701c1cefb167d8755ec8_aug2.jpg: ignoring corrupt image/label: labels require 14 columns each\n",
            "\u001b[34m\u001b[1mtrain: \u001b[0m/content/augmented/train/images/good_posture_20241013_222710_png.rf.0210695f3262701c1cefb167d8755ec8_aug3.jpg: ignoring corrupt image/label: labels require 14 columns each\n",
            "\u001b[34m\u001b[1mtrain: \u001b[0m/content/augmented/train/images/good_posture_20241013_222710_png.rf.0210695f3262701c1cefb167d8755ec8_aug4.jpg: ignoring corrupt image/label: labels require 14 columns each\n",
            "\u001b[34m\u001b[1mtrain: \u001b[0m/content/augmented/train/images/good_posture_20241013_222712_png.rf.d69f332aa627cb4bb866de21c2c88505_aug0.jpg: ignoring corrupt image/label: labels require 14 columns each\n",
            "\u001b[34m\u001b[1mtrain: \u001b[0m/content/augmented/train/images/good_posture_20241013_222712_png.rf.d69f332aa627cb4bb866de21c2c88505_aug1.jpg: ignoring corrupt image/label: labels require 14 columns each\n",
            "\u001b[34m\u001b[1mtrain: \u001b[0m/content/augmented/train/images/good_posture_20241013_222712_png.rf.d69f332aa627cb4bb866de21c2c88505_aug2.jpg: ignoring corrupt image/label: labels require 14 columns each\n",
            "\u001b[34m\u001b[1mtrain: \u001b[0m/content/augmented/train/images/good_posture_20241013_222712_png.rf.d69f332aa627cb4bb866de21c2c88505_aug3.jpg: ignoring corrupt image/label: labels require 14 columns each\n",
            "\u001b[34m\u001b[1mtrain: \u001b[0m/content/augmented/train/images/good_posture_20241013_222712_png.rf.d69f332aa627cb4bb866de21c2c88505_aug4.jpg: ignoring corrupt image/label: labels require 14 columns each\n",
            "\u001b[34m\u001b[1mtrain: \u001b[0m/content/augmented/train/images/good_posture_20241013_222721_png.rf.2cc5c0a2b714e2bde681cee87455e05a_aug0.jpg: ignoring corrupt image/label: labels require 14 columns each\n",
            "\u001b[34m\u001b[1mtrain: \u001b[0m/content/augmented/train/images/good_posture_20241013_222721_png.rf.2cc5c0a2b714e2bde681cee87455e05a_aug1.jpg: ignoring corrupt image/label: labels require 14 columns each\n",
            "\u001b[34m\u001b[1mtrain: \u001b[0m/content/augmented/train/images/good_posture_20241013_222721_png.rf.2cc5c0a2b714e2bde681cee87455e05a_aug2.jpg: ignoring corrupt image/label: labels require 14 columns each\n",
            "\u001b[34m\u001b[1mtrain: \u001b[0m/content/augmented/train/images/good_posture_20241013_222721_png.rf.2cc5c0a2b714e2bde681cee87455e05a_aug3.jpg: ignoring corrupt image/label: labels require 14 columns each\n",
            "\u001b[34m\u001b[1mtrain: \u001b[0m/content/augmented/train/images/good_posture_20241013_222721_png.rf.2cc5c0a2b714e2bde681cee87455e05a_aug4.jpg: ignoring corrupt image/label: labels require 14 columns each\n",
            "\u001b[34m\u001b[1mtrain: \u001b[0m/content/augmented/train/images/good_posture_20241013_222724_png.rf.7ee7c8d0b02d76b321a13483f518bda8_aug0.jpg: ignoring corrupt image/label: labels require 14 columns each\n",
            "\u001b[34m\u001b[1mtrain: \u001b[0m/content/augmented/train/images/good_posture_20241013_222724_png.rf.7ee7c8d0b02d76b321a13483f518bda8_aug1.jpg: ignoring corrupt image/label: labels require 14 columns each\n",
            "\u001b[34m\u001b[1mtrain: \u001b[0m/content/augmented/train/images/good_posture_20241013_222724_png.rf.7ee7c8d0b02d76b321a13483f518bda8_aug2.jpg: ignoring corrupt image/label: labels require 14 columns each\n",
            "\u001b[34m\u001b[1mtrain: \u001b[0m/content/augmented/train/images/good_posture_20241013_222724_png.rf.7ee7c8d0b02d76b321a13483f518bda8_aug3.jpg: ignoring corrupt image/label: labels require 14 columns each\n",
            "\u001b[34m\u001b[1mtrain: \u001b[0m/content/augmented/train/images/good_posture_20241013_222724_png.rf.7ee7c8d0b02d76b321a13483f518bda8_aug4.jpg: ignoring corrupt image/label: labels require 14 columns each\n",
            "\u001b[34m\u001b[1mtrain: \u001b[0m/content/augmented/train/images/good_posture_20241013_222728_png.rf.714ded357f93103224992a71437a05d4_aug0.jpg: ignoring corrupt image/label: labels require 14 columns each\n",
            "\u001b[34m\u001b[1mtrain: \u001b[0m/content/augmented/train/images/good_posture_20241013_222728_png.rf.714ded357f93103224992a71437a05d4_aug1.jpg: ignoring corrupt image/label: labels require 14 columns each\n",
            "\u001b[34m\u001b[1mtrain: \u001b[0m/content/augmented/train/images/good_posture_20241013_222728_png.rf.714ded357f93103224992a71437a05d4_aug2.jpg: ignoring corrupt image/label: labels require 14 columns each\n",
            "\u001b[34m\u001b[1mtrain: \u001b[0m/content/augmented/train/images/good_posture_20241013_222728_png.rf.714ded357f93103224992a71437a05d4_aug3.jpg: ignoring corrupt image/label: labels require 14 columns each\n",
            "\u001b[34m\u001b[1mtrain: \u001b[0m/content/augmented/train/images/good_posture_20241013_222728_png.rf.714ded357f93103224992a71437a05d4_aug4.jpg: ignoring corrupt image/label: labels require 14 columns each\n",
            "\u001b[34m\u001b[1mtrain: \u001b[0m/content/augmented/train/images/good_posture_20241013_222732_png.rf.637247125b4eeacae84fc27cd3e5cf79_aug0.jpg: ignoring corrupt image/label: labels require 14 columns each\n",
            "\u001b[34m\u001b[1mtrain: \u001b[0m/content/augmented/train/images/good_posture_20241013_222732_png.rf.637247125b4eeacae84fc27cd3e5cf79_aug1.jpg: ignoring corrupt image/label: labels require 14 columns each\n",
            "\u001b[34m\u001b[1mtrain: \u001b[0m/content/augmented/train/images/good_posture_20241013_222732_png.rf.637247125b4eeacae84fc27cd3e5cf79_aug2.jpg: ignoring corrupt image/label: labels require 14 columns each\n",
            "\u001b[34m\u001b[1mtrain: \u001b[0m/content/augmented/train/images/good_posture_20241013_222732_png.rf.637247125b4eeacae84fc27cd3e5cf79_aug3.jpg: ignoring corrupt image/label: labels require 14 columns each\n",
            "\u001b[34m\u001b[1mtrain: \u001b[0m/content/augmented/train/images/good_posture_20241013_222732_png.rf.637247125b4eeacae84fc27cd3e5cf79_aug4.jpg: ignoring corrupt image/label: labels require 14 columns each\n",
            "\u001b[34m\u001b[1mtrain: \u001b[0m/content/augmented/train/images/good_posture_20241013_222738_png.rf.21e4146bf83f3b495ef80d09506ce7ef_aug0.jpg: ignoring corrupt image/label: labels require 14 columns each\n",
            "\u001b[34m\u001b[1mtrain: \u001b[0m/content/augmented/train/images/good_posture_20241013_222738_png.rf.21e4146bf83f3b495ef80d09506ce7ef_aug1.jpg: ignoring corrupt image/label: labels require 14 columns each\n",
            "\u001b[34m\u001b[1mtrain: \u001b[0m/content/augmented/train/images/good_posture_20241013_222738_png.rf.21e4146bf83f3b495ef80d09506ce7ef_aug2.jpg: ignoring corrupt image/label: labels require 14 columns each\n",
            "\u001b[34m\u001b[1mtrain: \u001b[0m/content/augmented/train/images/good_posture_20241013_222738_png.rf.21e4146bf83f3b495ef80d09506ce7ef_aug3.jpg: ignoring corrupt image/label: labels require 14 columns each\n",
            "\u001b[34m\u001b[1mtrain: \u001b[0m/content/augmented/train/images/good_posture_20241013_222738_png.rf.21e4146bf83f3b495ef80d09506ce7ef_aug4.jpg: ignoring corrupt image/label: labels require 14 columns each\n",
            "\u001b[34m\u001b[1mtrain: \u001b[0m/content/augmented/train/images/good_posture_20241013_222741_png.rf.ec2c6571fdeb88f0411edfd2fd959cad_aug0.jpg: ignoring corrupt image/label: labels require 14 columns each\n",
            "\u001b[34m\u001b[1mtrain: \u001b[0m/content/augmented/train/images/good_posture_20241013_222741_png.rf.ec2c6571fdeb88f0411edfd2fd959cad_aug1.jpg: ignoring corrupt image/label: labels require 14 columns each\n",
            "\u001b[34m\u001b[1mtrain: \u001b[0m/content/augmented/train/images/good_posture_20241013_222741_png.rf.ec2c6571fdeb88f0411edfd2fd959cad_aug2.jpg: ignoring corrupt image/label: labels require 14 columns each\n",
            "\u001b[34m\u001b[1mtrain: \u001b[0m/content/augmented/train/images/good_posture_20241013_222741_png.rf.ec2c6571fdeb88f0411edfd2fd959cad_aug3.jpg: ignoring corrupt image/label: labels require 14 columns each\n",
            "\u001b[34m\u001b[1mtrain: \u001b[0m/content/augmented/train/images/good_posture_20241013_222741_png.rf.ec2c6571fdeb88f0411edfd2fd959cad_aug4.jpg: ignoring corrupt image/label: labels require 14 columns each\n",
            "\u001b[34m\u001b[1mtrain: \u001b[0m/content/augmented/train/images/good_posture_20241013_222750_png.rf.0418a461c40bdd797fc402e860046acf_aug0.jpg: ignoring corrupt image/label: labels require 14 columns each\n",
            "\u001b[34m\u001b[1mtrain: \u001b[0m/content/augmented/train/images/good_posture_20241013_222750_png.rf.0418a461c40bdd797fc402e860046acf_aug1.jpg: ignoring corrupt image/label: labels require 14 columns each\n",
            "\u001b[34m\u001b[1mtrain: \u001b[0m/content/augmented/train/images/good_posture_20241013_222750_png.rf.0418a461c40bdd797fc402e860046acf_aug2.jpg: ignoring corrupt image/label: labels require 14 columns each\n",
            "\u001b[34m\u001b[1mtrain: \u001b[0m/content/augmented/train/images/good_posture_20241013_222750_png.rf.0418a461c40bdd797fc402e860046acf_aug3.jpg: ignoring corrupt image/label: labels require 14 columns each\n",
            "\u001b[34m\u001b[1mtrain: \u001b[0m/content/augmented/train/images/good_posture_20241013_222750_png.rf.0418a461c40bdd797fc402e860046acf_aug4.jpg: ignoring corrupt image/label: labels require 14 columns each\n",
            "\u001b[34m\u001b[1mtrain: \u001b[0m/content/augmented/train/images/good_posture_20241013_222757_png.rf.beeae4201f280ef87a35b273e381a9d2_aug0.jpg: ignoring corrupt image/label: labels require 14 columns each\n",
            "\u001b[34m\u001b[1mtrain: \u001b[0m/content/augmented/train/images/good_posture_20241013_222757_png.rf.beeae4201f280ef87a35b273e381a9d2_aug1.jpg: ignoring corrupt image/label: labels require 14 columns each\n",
            "\u001b[34m\u001b[1mtrain: \u001b[0m/content/augmented/train/images/good_posture_20241013_222757_png.rf.beeae4201f280ef87a35b273e381a9d2_aug2.jpg: ignoring corrupt image/label: labels require 14 columns each\n",
            "\u001b[34m\u001b[1mtrain: \u001b[0m/content/augmented/train/images/good_posture_20241013_222757_png.rf.beeae4201f280ef87a35b273e381a9d2_aug3.jpg: ignoring corrupt image/label: labels require 14 columns each\n",
            "\u001b[34m\u001b[1mtrain: \u001b[0m/content/augmented/train/images/good_posture_20241013_222757_png.rf.beeae4201f280ef87a35b273e381a9d2_aug4.jpg: ignoring corrupt image/label: labels require 14 columns each\n",
            "\u001b[34m\u001b[1mtrain: \u001b[0m/content/augmented/train/images/good_posture_20241013_225721_png.rf.a975378f5c28152c37bb49f83872c741_aug0.jpg: ignoring corrupt image/label: labels require 14 columns each\n",
            "\u001b[34m\u001b[1mtrain: \u001b[0m/content/augmented/train/images/good_posture_20241013_225721_png.rf.a975378f5c28152c37bb49f83872c741_aug1.jpg: ignoring corrupt image/label: labels require 14 columns each\n",
            "\u001b[34m\u001b[1mtrain: \u001b[0m/content/augmented/train/images/good_posture_20241013_225721_png.rf.a975378f5c28152c37bb49f83872c741_aug2.jpg: ignoring corrupt image/label: labels require 14 columns each\n",
            "\u001b[34m\u001b[1mtrain: \u001b[0m/content/augmented/train/images/good_posture_20241013_225721_png.rf.a975378f5c28152c37bb49f83872c741_aug3.jpg: ignoring corrupt image/label: labels require 14 columns each\n",
            "\u001b[34m\u001b[1mtrain: \u001b[0m/content/augmented/train/images/good_posture_20241013_225721_png.rf.a975378f5c28152c37bb49f83872c741_aug4.jpg: ignoring corrupt image/label: labels require 14 columns each\n",
            "\u001b[34m\u001b[1mtrain: \u001b[0m/content/augmented/train/images/good_posture_20241013_225734_png.rf.c9afa9478ecd5769c092f289aa3a6ff9_aug0.jpg: ignoring corrupt image/label: labels require 14 columns each\n",
            "\u001b[34m\u001b[1mtrain: \u001b[0m/content/augmented/train/images/good_posture_20241013_225734_png.rf.c9afa9478ecd5769c092f289aa3a6ff9_aug1.jpg: ignoring corrupt image/label: labels require 14 columns each\n",
            "\u001b[34m\u001b[1mtrain: \u001b[0m/content/augmented/train/images/good_posture_20241013_225734_png.rf.c9afa9478ecd5769c092f289aa3a6ff9_aug2.jpg: ignoring corrupt image/label: labels require 14 columns each\n",
            "\u001b[34m\u001b[1mtrain: \u001b[0m/content/augmented/train/images/good_posture_20241013_225734_png.rf.c9afa9478ecd5769c092f289aa3a6ff9_aug3.jpg: ignoring corrupt image/label: labels require 14 columns each\n",
            "\u001b[34m\u001b[1mtrain: \u001b[0m/content/augmented/train/images/good_posture_20241013_225734_png.rf.c9afa9478ecd5769c092f289aa3a6ff9_aug4.jpg: ignoring corrupt image/label: labels require 14 columns each\n",
            "\u001b[34m\u001b[1mtrain: \u001b[0m/content/augmented/train/images/good_posture_20241013_225737_png.rf.6c200a6964b304e3b54d18bd29d71d32_aug0.jpg: ignoring corrupt image/label: labels require 14 columns each\n",
            "\u001b[34m\u001b[1mtrain: \u001b[0m/content/augmented/train/images/good_posture_20241013_225737_png.rf.6c200a6964b304e3b54d18bd29d71d32_aug1.jpg: ignoring corrupt image/label: labels require 14 columns each\n",
            "\u001b[34m\u001b[1mtrain: \u001b[0m/content/augmented/train/images/good_posture_20241013_225737_png.rf.6c200a6964b304e3b54d18bd29d71d32_aug2.jpg: ignoring corrupt image/label: labels require 14 columns each\n",
            "\u001b[34m\u001b[1mtrain: \u001b[0m/content/augmented/train/images/good_posture_20241013_225737_png.rf.6c200a6964b304e3b54d18bd29d71d32_aug3.jpg: ignoring corrupt image/label: labels require 14 columns each\n",
            "\u001b[34m\u001b[1mtrain: \u001b[0m/content/augmented/train/images/good_posture_20241013_225737_png.rf.6c200a6964b304e3b54d18bd29d71d32_aug4.jpg: ignoring corrupt image/label: labels require 14 columns each\n",
            "\u001b[34m\u001b[1mtrain: \u001b[0m/content/augmented/train/images/good_posture_20241013_225738_png.rf.1abc5dc0a2242da32a84ac274f193055_aug0.jpg: ignoring corrupt image/label: labels require 14 columns each\n",
            "\u001b[34m\u001b[1mtrain: \u001b[0m/content/augmented/train/images/good_posture_20241013_225738_png.rf.1abc5dc0a2242da32a84ac274f193055_aug1.jpg: ignoring corrupt image/label: labels require 14 columns each\n",
            "\u001b[34m\u001b[1mtrain: \u001b[0m/content/augmented/train/images/good_posture_20241013_225738_png.rf.1abc5dc0a2242da32a84ac274f193055_aug2.jpg: ignoring corrupt image/label: labels require 14 columns each\n",
            "\u001b[34m\u001b[1mtrain: \u001b[0m/content/augmented/train/images/good_posture_20241013_225738_png.rf.1abc5dc0a2242da32a84ac274f193055_aug3.jpg: ignoring corrupt image/label: labels require 14 columns each\n",
            "\u001b[34m\u001b[1mtrain: \u001b[0m/content/augmented/train/images/good_posture_20241013_225738_png.rf.1abc5dc0a2242da32a84ac274f193055_aug4.jpg: ignoring corrupt image/label: labels require 14 columns each\n",
            "\u001b[34m\u001b[1mtrain: \u001b[0m/content/augmented/train/images/good_posture_20241013_225741_png.rf.d40c5218620bb392ee2e87ca1c655e12_aug0.jpg: ignoring corrupt image/label: labels require 14 columns each\n",
            "\u001b[34m\u001b[1mtrain: \u001b[0m/content/augmented/train/images/good_posture_20241013_225741_png.rf.d40c5218620bb392ee2e87ca1c655e12_aug1.jpg: ignoring corrupt image/label: labels require 14 columns each\n",
            "\u001b[34m\u001b[1mtrain: \u001b[0m/content/augmented/train/images/good_posture_20241013_225741_png.rf.d40c5218620bb392ee2e87ca1c655e12_aug2.jpg: ignoring corrupt image/label: labels require 14 columns each\n",
            "\u001b[34m\u001b[1mtrain: \u001b[0m/content/augmented/train/images/good_posture_20241013_225741_png.rf.d40c5218620bb392ee2e87ca1c655e12_aug3.jpg: ignoring corrupt image/label: labels require 14 columns each\n",
            "\u001b[34m\u001b[1mtrain: \u001b[0m/content/augmented/train/images/good_posture_20241013_225741_png.rf.d40c5218620bb392ee2e87ca1c655e12_aug4.jpg: ignoring corrupt image/label: labels require 14 columns each\n",
            "\u001b[34m\u001b[1mtrain: \u001b[0m/content/augmented/train/images/good_posture_20241013_225742_png.rf.99f4c6d7e4e987bebc6b66ea30fc7ac7_aug0.jpg: ignoring corrupt image/label: labels require 14 columns each\n",
            "\u001b[34m\u001b[1mtrain: \u001b[0m/content/augmented/train/images/good_posture_20241013_225742_png.rf.99f4c6d7e4e987bebc6b66ea30fc7ac7_aug1.jpg: ignoring corrupt image/label: labels require 14 columns each\n",
            "\u001b[34m\u001b[1mtrain: \u001b[0m/content/augmented/train/images/good_posture_20241013_225742_png.rf.99f4c6d7e4e987bebc6b66ea30fc7ac7_aug2.jpg: ignoring corrupt image/label: labels require 14 columns each\n",
            "\u001b[34m\u001b[1mtrain: \u001b[0m/content/augmented/train/images/good_posture_20241013_225742_png.rf.99f4c6d7e4e987bebc6b66ea30fc7ac7_aug3.jpg: ignoring corrupt image/label: labels require 14 columns each\n",
            "\u001b[34m\u001b[1mtrain: \u001b[0m/content/augmented/train/images/good_posture_20241013_225742_png.rf.99f4c6d7e4e987bebc6b66ea30fc7ac7_aug4.jpg: ignoring corrupt image/label: labels require 14 columns each\n",
            "\u001b[34m\u001b[1mtrain: \u001b[0m/content/augmented/train/images/good_posture_20241013_225743_png.rf.54bcd59f51b2597420b6967dfb8a3efc_aug0.jpg: ignoring corrupt image/label: labels require 14 columns each\n",
            "\u001b[34m\u001b[1mtrain: \u001b[0m/content/augmented/train/images/good_posture_20241013_225743_png.rf.54bcd59f51b2597420b6967dfb8a3efc_aug1.jpg: ignoring corrupt image/label: labels require 14 columns each\n",
            "\u001b[34m\u001b[1mtrain: \u001b[0m/content/augmented/train/images/good_posture_20241013_225743_png.rf.54bcd59f51b2597420b6967dfb8a3efc_aug2.jpg: ignoring corrupt image/label: labels require 14 columns each\n",
            "\u001b[34m\u001b[1mtrain: \u001b[0m/content/augmented/train/images/good_posture_20241013_225743_png.rf.54bcd59f51b2597420b6967dfb8a3efc_aug3.jpg: ignoring corrupt image/label: labels require 14 columns each\n",
            "\u001b[34m\u001b[1mtrain: \u001b[0m/content/augmented/train/images/good_posture_20241013_225743_png.rf.54bcd59f51b2597420b6967dfb8a3efc_aug4.jpg: ignoring corrupt image/label: labels require 14 columns each\n",
            "\u001b[34m\u001b[1mtrain: \u001b[0m/content/augmented/train/images/good_posture_20241021_141317_png.rf.5b229552c1260984e6c65661d9f50d24_aug0.jpg: ignoring corrupt image/label: labels require 14 columns each\n",
            "\u001b[34m\u001b[1mtrain: \u001b[0m/content/augmented/train/images/good_posture_20241021_141317_png.rf.5b229552c1260984e6c65661d9f50d24_aug1.jpg: ignoring corrupt image/label: labels require 14 columns each\n",
            "\u001b[34m\u001b[1mtrain: \u001b[0m/content/augmented/train/images/good_posture_20241021_141317_png.rf.5b229552c1260984e6c65661d9f50d24_aug2.jpg: ignoring corrupt image/label: labels require 14 columns each\n",
            "\u001b[34m\u001b[1mtrain: \u001b[0m/content/augmented/train/images/good_posture_20241021_141317_png.rf.5b229552c1260984e6c65661d9f50d24_aug3.jpg: ignoring corrupt image/label: labels require 14 columns each\n",
            "\u001b[34m\u001b[1mtrain: \u001b[0m/content/augmented/train/images/good_posture_20241021_141317_png.rf.5b229552c1260984e6c65661d9f50d24_aug4.jpg: ignoring corrupt image/label: labels require 14 columns each\n",
            "\u001b[34m\u001b[1mtrain: \u001b[0m/content/augmented/train/images/good_posture_20241021_141335_png.rf.f96c08abc9a29c9afb9c13deb02cd420_aug0.jpg: ignoring corrupt image/label: labels require 14 columns each\n",
            "\u001b[34m\u001b[1mtrain: \u001b[0m/content/augmented/train/images/good_posture_20241021_141335_png.rf.f96c08abc9a29c9afb9c13deb02cd420_aug1.jpg: ignoring corrupt image/label: labels require 14 columns each\n",
            "\u001b[34m\u001b[1mtrain: \u001b[0m/content/augmented/train/images/good_posture_20241021_141335_png.rf.f96c08abc9a29c9afb9c13deb02cd420_aug2.jpg: ignoring corrupt image/label: labels require 14 columns each\n",
            "\u001b[34m\u001b[1mtrain: \u001b[0m/content/augmented/train/images/good_posture_20241021_141335_png.rf.f96c08abc9a29c9afb9c13deb02cd420_aug3.jpg: ignoring corrupt image/label: labels require 14 columns each\n",
            "\u001b[34m\u001b[1mtrain: \u001b[0m/content/augmented/train/images/good_posture_20241021_141335_png.rf.f96c08abc9a29c9afb9c13deb02cd420_aug4.jpg: ignoring corrupt image/label: labels require 14 columns each\n",
            "\u001b[34m\u001b[1mtrain: \u001b[0m/content/augmented/train/images/good_posture_20241021_141341_png.rf.8e207bc6f6b200e8092ec415846ea30a_aug0.jpg: ignoring corrupt image/label: labels require 14 columns each\n",
            "\u001b[34m\u001b[1mtrain: \u001b[0m/content/augmented/train/images/good_posture_20241021_141341_png.rf.8e207bc6f6b200e8092ec415846ea30a_aug1.jpg: ignoring corrupt image/label: labels require 14 columns each\n",
            "\u001b[34m\u001b[1mtrain: \u001b[0m/content/augmented/train/images/good_posture_20241021_141341_png.rf.8e207bc6f6b200e8092ec415846ea30a_aug2.jpg: ignoring corrupt image/label: labels require 14 columns each\n",
            "\u001b[34m\u001b[1mtrain: \u001b[0m/content/augmented/train/images/good_posture_20241021_141341_png.rf.8e207bc6f6b200e8092ec415846ea30a_aug3.jpg: ignoring corrupt image/label: labels require 14 columns each\n",
            "\u001b[34m\u001b[1mtrain: \u001b[0m/content/augmented/train/images/good_posture_20241021_141341_png.rf.8e207bc6f6b200e8092ec415846ea30a_aug4.jpg: ignoring corrupt image/label: labels require 14 columns each\n",
            "\u001b[34m\u001b[1mtrain: \u001b[0m/content/augmented/train/images/good_posture_20241021_141454_png.rf.fb158b54ff125aedb344baf069c96c32_aug0.jpg: ignoring corrupt image/label: labels require 14 columns each\n",
            "\u001b[34m\u001b[1mtrain: \u001b[0m/content/augmented/train/images/good_posture_20241021_141454_png.rf.fb158b54ff125aedb344baf069c96c32_aug1.jpg: ignoring corrupt image/label: labels require 14 columns each\n",
            "\u001b[34m\u001b[1mtrain: \u001b[0m/content/augmented/train/images/good_posture_20241021_141454_png.rf.fb158b54ff125aedb344baf069c96c32_aug2.jpg: ignoring corrupt image/label: labels require 14 columns each\n",
            "\u001b[34m\u001b[1mtrain: \u001b[0m/content/augmented/train/images/good_posture_20241021_141454_png.rf.fb158b54ff125aedb344baf069c96c32_aug3.jpg: ignoring corrupt image/label: labels require 14 columns each\n",
            "\u001b[34m\u001b[1mtrain: \u001b[0m/content/augmented/train/images/good_posture_20241021_141454_png.rf.fb158b54ff125aedb344baf069c96c32_aug4.jpg: ignoring corrupt image/label: labels require 14 columns each\n",
            "\u001b[34m\u001b[1mtrain: \u001b[0m/content/augmented/train/images/good_posture_20241021_141536_png.rf.8ac7cb86997ecf9e356b1a23e7c7577b_aug0.jpg: ignoring corrupt image/label: labels require 14 columns each\n",
            "\u001b[34m\u001b[1mtrain: \u001b[0m/content/augmented/train/images/good_posture_20241021_141536_png.rf.8ac7cb86997ecf9e356b1a23e7c7577b_aug1.jpg: ignoring corrupt image/label: labels require 14 columns each\n",
            "\u001b[34m\u001b[1mtrain: \u001b[0m/content/augmented/train/images/good_posture_20241021_141536_png.rf.8ac7cb86997ecf9e356b1a23e7c7577b_aug2.jpg: ignoring corrupt image/label: labels require 14 columns each\n",
            "\u001b[34m\u001b[1mtrain: \u001b[0m/content/augmented/train/images/good_posture_20241021_141536_png.rf.8ac7cb86997ecf9e356b1a23e7c7577b_aug3.jpg: ignoring corrupt image/label: labels require 14 columns each\n",
            "\u001b[34m\u001b[1mtrain: \u001b[0m/content/augmented/train/images/good_posture_20241021_141536_png.rf.8ac7cb86997ecf9e356b1a23e7c7577b_aug4.jpg: ignoring corrupt image/label: labels require 14 columns each\n",
            "\u001b[34m\u001b[1mtrain: \u001b[0m/content/augmented/train/images/good_posture_20241021_141542_png.rf.49b4cc638939996b3bd21116de5a952b_aug0.jpg: ignoring corrupt image/label: labels require 14 columns each\n",
            "\u001b[34m\u001b[1mtrain: \u001b[0m/content/augmented/train/images/good_posture_20241021_141542_png.rf.49b4cc638939996b3bd21116de5a952b_aug1.jpg: ignoring corrupt image/label: labels require 14 columns each\n",
            "\u001b[34m\u001b[1mtrain: \u001b[0m/content/augmented/train/images/good_posture_20241021_141542_png.rf.49b4cc638939996b3bd21116de5a952b_aug2.jpg: ignoring corrupt image/label: labels require 14 columns each\n",
            "\u001b[34m\u001b[1mtrain: \u001b[0m/content/augmented/train/images/good_posture_20241021_141542_png.rf.49b4cc638939996b3bd21116de5a952b_aug3.jpg: ignoring corrupt image/label: labels require 14 columns each\n",
            "\u001b[34m\u001b[1mtrain: \u001b[0m/content/augmented/train/images/good_posture_20241021_141542_png.rf.49b4cc638939996b3bd21116de5a952b_aug4.jpg: ignoring corrupt image/label: labels require 14 columns each\n",
            "\u001b[34m\u001b[1mtrain: \u001b[0m/content/augmented/train/images/good_posture_20241021_141548_png.rf.6dc0e257211ccd379418de47ee683b40_aug0.jpg: ignoring corrupt image/label: labels require 14 columns each\n",
            "\u001b[34m\u001b[1mtrain: \u001b[0m/content/augmented/train/images/good_posture_20241021_141548_png.rf.6dc0e257211ccd379418de47ee683b40_aug1.jpg: ignoring corrupt image/label: labels require 14 columns each\n",
            "\u001b[34m\u001b[1mtrain: \u001b[0m/content/augmented/train/images/good_posture_20241021_141548_png.rf.6dc0e257211ccd379418de47ee683b40_aug2.jpg: ignoring corrupt image/label: labels require 14 columns each\n",
            "\u001b[34m\u001b[1mtrain: \u001b[0m/content/augmented/train/images/good_posture_20241021_141548_png.rf.6dc0e257211ccd379418de47ee683b40_aug3.jpg: ignoring corrupt image/label: labels require 14 columns each\n",
            "\u001b[34m\u001b[1mtrain: \u001b[0m/content/augmented/train/images/good_posture_20241021_141548_png.rf.6dc0e257211ccd379418de47ee683b40_aug4.jpg: ignoring corrupt image/label: labels require 14 columns each\n",
            "\u001b[34m\u001b[1mtrain: \u001b[0m/content/augmented/train/images/good_posture_20241021_141624_png.rf.fa98e642caf458710995aba388eb92a0_aug0.jpg: ignoring corrupt image/label: labels require 14 columns each\n",
            "\u001b[34m\u001b[1mtrain: \u001b[0m/content/augmented/train/images/good_posture_20241021_141624_png.rf.fa98e642caf458710995aba388eb92a0_aug1.jpg: ignoring corrupt image/label: labels require 14 columns each\n",
            "\u001b[34m\u001b[1mtrain: \u001b[0m/content/augmented/train/images/good_posture_20241021_141624_png.rf.fa98e642caf458710995aba388eb92a0_aug2.jpg: ignoring corrupt image/label: labels require 14 columns each\n",
            "\u001b[34m\u001b[1mtrain: \u001b[0m/content/augmented/train/images/good_posture_20241021_141624_png.rf.fa98e642caf458710995aba388eb92a0_aug3.jpg: ignoring corrupt image/label: labels require 14 columns each\n",
            "\u001b[34m\u001b[1mtrain: \u001b[0m/content/augmented/train/images/good_posture_20241021_141624_png.rf.fa98e642caf458710995aba388eb92a0_aug4.jpg: ignoring corrupt image/label: labels require 14 columns each\n",
            "\u001b[34m\u001b[1mtrain: \u001b[0m/content/augmented/train/images/good_posture_20241021_141630_png.rf.da4d7c8ef888fd6c3ebd64ac7380b75c_aug0.jpg: ignoring corrupt image/label: labels require 14 columns each\n",
            "\u001b[34m\u001b[1mtrain: \u001b[0m/content/augmented/train/images/good_posture_20241021_141630_png.rf.da4d7c8ef888fd6c3ebd64ac7380b75c_aug1.jpg: ignoring corrupt image/label: labels require 14 columns each\n",
            "\u001b[34m\u001b[1mtrain: \u001b[0m/content/augmented/train/images/good_posture_20241021_141630_png.rf.da4d7c8ef888fd6c3ebd64ac7380b75c_aug2.jpg: ignoring corrupt image/label: labels require 14 columns each\n",
            "\u001b[34m\u001b[1mtrain: \u001b[0m/content/augmented/train/images/good_posture_20241021_141630_png.rf.da4d7c8ef888fd6c3ebd64ac7380b75c_aug3.jpg: ignoring corrupt image/label: labels require 14 columns each\n",
            "\u001b[34m\u001b[1mtrain: \u001b[0m/content/augmented/train/images/good_posture_20241021_141630_png.rf.da4d7c8ef888fd6c3ebd64ac7380b75c_aug4.jpg: ignoring corrupt image/label: labels require 14 columns each\n",
            "\u001b[34m\u001b[1mtrain: \u001b[0m/content/augmented/train/images/good_posture_20241021_141636_png.rf.92157519e2bf4687798d728238087b4d_aug0.jpg: ignoring corrupt image/label: labels require 14 columns each\n",
            "\u001b[34m\u001b[1mtrain: \u001b[0m/content/augmented/train/images/good_posture_20241021_141636_png.rf.92157519e2bf4687798d728238087b4d_aug1.jpg: ignoring corrupt image/label: labels require 14 columns each\n",
            "\u001b[34m\u001b[1mtrain: \u001b[0m/content/augmented/train/images/good_posture_20241021_141636_png.rf.92157519e2bf4687798d728238087b4d_aug2.jpg: ignoring corrupt image/label: labels require 14 columns each\n",
            "\u001b[34m\u001b[1mtrain: \u001b[0m/content/augmented/train/images/good_posture_20241021_141636_png.rf.92157519e2bf4687798d728238087b4d_aug3.jpg: ignoring corrupt image/label: labels require 14 columns each\n",
            "\u001b[34m\u001b[1mtrain: \u001b[0m/content/augmented/train/images/good_posture_20241021_141636_png.rf.92157519e2bf4687798d728238087b4d_aug4.jpg: ignoring corrupt image/label: labels require 14 columns each\n",
            "\u001b[34m\u001b[1mtrain: \u001b[0m/content/augmented/train/images/good_posture_20241021_141649_png.rf.706786ca3f3189bd3a0f0adfa8f1a79b_aug0.jpg: ignoring corrupt image/label: labels require 14 columns each\n",
            "\u001b[34m\u001b[1mtrain: \u001b[0m/content/augmented/train/images/good_posture_20241021_141649_png.rf.706786ca3f3189bd3a0f0adfa8f1a79b_aug1.jpg: ignoring corrupt image/label: labels require 14 columns each\n",
            "\u001b[34m\u001b[1mtrain: \u001b[0m/content/augmented/train/images/good_posture_20241021_141649_png.rf.706786ca3f3189bd3a0f0adfa8f1a79b_aug2.jpg: ignoring corrupt image/label: labels require 14 columns each\n",
            "\u001b[34m\u001b[1mtrain: \u001b[0m/content/augmented/train/images/good_posture_20241021_141649_png.rf.706786ca3f3189bd3a0f0adfa8f1a79b_aug3.jpg: ignoring corrupt image/label: labels require 14 columns each\n",
            "\u001b[34m\u001b[1mtrain: \u001b[0m/content/augmented/train/images/good_posture_20241021_141649_png.rf.706786ca3f3189bd3a0f0adfa8f1a79b_aug4.jpg: ignoring corrupt image/label: labels require 14 columns each\n",
            "\u001b[34m\u001b[1mtrain: \u001b[0m/content/augmented/train/images/good_posture_20241021_141707_png.rf.1c6ac40e3ae0c323d4d6c0e37de71ecf_aug0.jpg: ignoring corrupt image/label: labels require 14 columns each\n",
            "\u001b[34m\u001b[1mtrain: \u001b[0m/content/augmented/train/images/good_posture_20241021_141707_png.rf.1c6ac40e3ae0c323d4d6c0e37de71ecf_aug1.jpg: ignoring corrupt image/label: labels require 14 columns each\n",
            "\u001b[34m\u001b[1mtrain: \u001b[0m/content/augmented/train/images/good_posture_20241021_141707_png.rf.1c6ac40e3ae0c323d4d6c0e37de71ecf_aug2.jpg: ignoring corrupt image/label: labels require 14 columns each\n",
            "\u001b[34m\u001b[1mtrain: \u001b[0m/content/augmented/train/images/good_posture_20241021_141707_png.rf.1c6ac40e3ae0c323d4d6c0e37de71ecf_aug3.jpg: ignoring corrupt image/label: labels require 14 columns each\n",
            "\u001b[34m\u001b[1mtrain: \u001b[0m/content/augmented/train/images/good_posture_20241021_141707_png.rf.1c6ac40e3ae0c323d4d6c0e37de71ecf_aug4.jpg: ignoring corrupt image/label: labels require 14 columns each\n",
            "\u001b[34m\u001b[1mtrain: \u001b[0m/content/augmented/train/images/good_posture_20241021_141713_png.rf.91889a913c1e1336b2d3ebb139f53788_aug0.jpg: ignoring corrupt image/label: labels require 14 columns each\n",
            "\u001b[34m\u001b[1mtrain: \u001b[0m/content/augmented/train/images/good_posture_20241021_141713_png.rf.91889a913c1e1336b2d3ebb139f53788_aug1.jpg: ignoring corrupt image/label: labels require 14 columns each\n",
            "\u001b[34m\u001b[1mtrain: \u001b[0m/content/augmented/train/images/good_posture_20241021_141713_png.rf.91889a913c1e1336b2d3ebb139f53788_aug2.jpg: ignoring corrupt image/label: labels require 14 columns each\n",
            "\u001b[34m\u001b[1mtrain: \u001b[0m/content/augmented/train/images/good_posture_20241021_141713_png.rf.91889a913c1e1336b2d3ebb139f53788_aug3.jpg: ignoring corrupt image/label: labels require 14 columns each\n",
            "\u001b[34m\u001b[1mtrain: \u001b[0m/content/augmented/train/images/good_posture_20241021_141713_png.rf.91889a913c1e1336b2d3ebb139f53788_aug4.jpg: ignoring corrupt image/label: labels require 14 columns each\n",
            "\u001b[34m\u001b[1mtrain: \u001b[0m/content/augmented/train/images/good_posture_20241021_141958_png.rf.1a7148ea46cc02444f77b77d3557579a_aug0.jpg: ignoring corrupt image/label: labels require 14 columns each\n",
            "\u001b[34m\u001b[1mtrain: \u001b[0m/content/augmented/train/images/good_posture_20241021_141958_png.rf.1a7148ea46cc02444f77b77d3557579a_aug1.jpg: ignoring corrupt image/label: labels require 14 columns each\n",
            "\u001b[34m\u001b[1mtrain: \u001b[0m/content/augmented/train/images/good_posture_20241021_141958_png.rf.1a7148ea46cc02444f77b77d3557579a_aug2.jpg: ignoring corrupt image/label: labels require 14 columns each\n",
            "\u001b[34m\u001b[1mtrain: \u001b[0m/content/augmented/train/images/good_posture_20241021_141958_png.rf.1a7148ea46cc02444f77b77d3557579a_aug3.jpg: ignoring corrupt image/label: labels require 14 columns each\n",
            "\u001b[34m\u001b[1mtrain: \u001b[0m/content/augmented/train/images/good_posture_20241021_141958_png.rf.1a7148ea46cc02444f77b77d3557579a_aug4.jpg: ignoring corrupt image/label: labels require 14 columns each\n",
            "\u001b[34m\u001b[1mtrain: \u001b[0m/content/augmented/train/images/good_posture_20241021_142053_png.rf.c8e9757b8e27c1f2d138b28630a343c7_aug0.jpg: ignoring corrupt image/label: labels require 14 columns each\n",
            "\u001b[34m\u001b[1mtrain: \u001b[0m/content/augmented/train/images/good_posture_20241021_142053_png.rf.c8e9757b8e27c1f2d138b28630a343c7_aug1.jpg: ignoring corrupt image/label: labels require 14 columns each\n",
            "\u001b[34m\u001b[1mtrain: \u001b[0m/content/augmented/train/images/good_posture_20241021_142053_png.rf.c8e9757b8e27c1f2d138b28630a343c7_aug2.jpg: ignoring corrupt image/label: labels require 14 columns each\n",
            "\u001b[34m\u001b[1mtrain: \u001b[0m/content/augmented/train/images/good_posture_20241021_142053_png.rf.c8e9757b8e27c1f2d138b28630a343c7_aug3.jpg: ignoring corrupt image/label: labels require 14 columns each\n",
            "\u001b[34m\u001b[1mtrain: \u001b[0m/content/augmented/train/images/good_posture_20241021_142053_png.rf.c8e9757b8e27c1f2d138b28630a343c7_aug4.jpg: ignoring corrupt image/label: labels require 14 columns each\n",
            "\u001b[34m\u001b[1mtrain: \u001b[0m/content/augmented/train/images/good_posture_20241021_142153_png.rf.f9d5494b023fb9a3c26fa7c52990bc3c_aug0.jpg: ignoring corrupt image/label: labels require 14 columns each\n",
            "\u001b[34m\u001b[1mtrain: \u001b[0m/content/augmented/train/images/good_posture_20241021_142153_png.rf.f9d5494b023fb9a3c26fa7c52990bc3c_aug1.jpg: ignoring corrupt image/label: labels require 14 columns each\n",
            "\u001b[34m\u001b[1mtrain: \u001b[0m/content/augmented/train/images/good_posture_20241021_142153_png.rf.f9d5494b023fb9a3c26fa7c52990bc3c_aug2.jpg: ignoring corrupt image/label: labels require 14 columns each\n",
            "\u001b[34m\u001b[1mtrain: \u001b[0m/content/augmented/train/images/good_posture_20241021_142153_png.rf.f9d5494b023fb9a3c26fa7c52990bc3c_aug3.jpg: ignoring corrupt image/label: labels require 14 columns each\n",
            "\u001b[34m\u001b[1mtrain: \u001b[0m/content/augmented/train/images/good_posture_20241021_142153_png.rf.f9d5494b023fb9a3c26fa7c52990bc3c_aug4.jpg: ignoring corrupt image/label: labels require 14 columns each\n",
            "\u001b[34m\u001b[1mtrain: \u001b[0m/content/augmented/train/images/good_posture_20241021_142159_png.rf.81d2375e2617516b4cf84290b592a741_aug0.jpg: ignoring corrupt image/label: labels require 14 columns each\n",
            "\u001b[34m\u001b[1mtrain: \u001b[0m/content/augmented/train/images/good_posture_20241021_142159_png.rf.81d2375e2617516b4cf84290b592a741_aug1.jpg: ignoring corrupt image/label: labels require 14 columns each\n",
            "\u001b[34m\u001b[1mtrain: \u001b[0m/content/augmented/train/images/good_posture_20241021_142159_png.rf.81d2375e2617516b4cf84290b592a741_aug2.jpg: ignoring corrupt image/label: labels require 14 columns each\n",
            "\u001b[34m\u001b[1mtrain: \u001b[0m/content/augmented/train/images/good_posture_20241021_142159_png.rf.81d2375e2617516b4cf84290b592a741_aug3.jpg: ignoring corrupt image/label: labels require 14 columns each\n",
            "\u001b[34m\u001b[1mtrain: \u001b[0m/content/augmented/train/images/good_posture_20241021_142159_png.rf.81d2375e2617516b4cf84290b592a741_aug4.jpg: ignoring corrupt image/label: labels require 14 columns each\n",
            "\u001b[34m\u001b[1mtrain: \u001b[0m/content/augmented/train/images/good_posture_20241021_142205_png.rf.9161257625b29e7d88442aed635686e2_aug0.jpg: ignoring corrupt image/label: labels require 14 columns each\n",
            "\u001b[34m\u001b[1mtrain: \u001b[0m/content/augmented/train/images/good_posture_20241021_142205_png.rf.9161257625b29e7d88442aed635686e2_aug1.jpg: ignoring corrupt image/label: labels require 14 columns each\n",
            "\u001b[34m\u001b[1mtrain: \u001b[0m/content/augmented/train/images/good_posture_20241021_142205_png.rf.9161257625b29e7d88442aed635686e2_aug2.jpg: ignoring corrupt image/label: labels require 14 columns each\n",
            "\u001b[34m\u001b[1mtrain: \u001b[0m/content/augmented/train/images/good_posture_20241021_142205_png.rf.9161257625b29e7d88442aed635686e2_aug3.jpg: ignoring corrupt image/label: labels require 14 columns each\n",
            "\u001b[34m\u001b[1mtrain: \u001b[0m/content/augmented/train/images/good_posture_20241021_142205_png.rf.9161257625b29e7d88442aed635686e2_aug4.jpg: ignoring corrupt image/label: labels require 14 columns each\n",
            "\u001b[34m\u001b[1mtrain: \u001b[0m/content/augmented/train/images/good_posture_20241021_142223_png.rf.50619a5209938fd666c652a0a9a42e24_aug0.jpg: ignoring corrupt image/label: labels require 14 columns each\n",
            "\u001b[34m\u001b[1mtrain: \u001b[0m/content/augmented/train/images/good_posture_20241021_142223_png.rf.50619a5209938fd666c652a0a9a42e24_aug1.jpg: ignoring corrupt image/label: labels require 14 columns each\n",
            "\u001b[34m\u001b[1mtrain: \u001b[0m/content/augmented/train/images/good_posture_20241021_142223_png.rf.50619a5209938fd666c652a0a9a42e24_aug2.jpg: ignoring corrupt image/label: labels require 14 columns each\n",
            "\u001b[34m\u001b[1mtrain: \u001b[0m/content/augmented/train/images/good_posture_20241021_142223_png.rf.50619a5209938fd666c652a0a9a42e24_aug3.jpg: ignoring corrupt image/label: labels require 14 columns each\n",
            "\u001b[34m\u001b[1mtrain: \u001b[0m/content/augmented/train/images/good_posture_20241021_142223_png.rf.50619a5209938fd666c652a0a9a42e24_aug4.jpg: ignoring corrupt image/label: labels require 14 columns each\n",
            "\u001b[34m\u001b[1mtrain: \u001b[0m/content/augmented/train/images/good_posture_20241021_142318_png.rf.4af050c20952d59a1b3f94798487f775_aug0.jpg: ignoring corrupt image/label: labels require 14 columns each\n",
            "\u001b[34m\u001b[1mtrain: \u001b[0m/content/augmented/train/images/good_posture_20241021_142318_png.rf.4af050c20952d59a1b3f94798487f775_aug1.jpg: ignoring corrupt image/label: labels require 14 columns each\n",
            "\u001b[34m\u001b[1mtrain: \u001b[0m/content/augmented/train/images/good_posture_20241021_142318_png.rf.4af050c20952d59a1b3f94798487f775_aug2.jpg: ignoring corrupt image/label: labels require 14 columns each\n",
            "\u001b[34m\u001b[1mtrain: \u001b[0m/content/augmented/train/images/good_posture_20241021_142318_png.rf.4af050c20952d59a1b3f94798487f775_aug3.jpg: ignoring corrupt image/label: labels require 14 columns each\n",
            "\u001b[34m\u001b[1mtrain: \u001b[0m/content/augmented/train/images/good_posture_20241021_142318_png.rf.4af050c20952d59a1b3f94798487f775_aug4.jpg: ignoring corrupt image/label: labels require 14 columns each\n",
            "\u001b[34m\u001b[1mtrain: \u001b[0m/content/augmented/train/images/good_posture_20241021_142330_png.rf.13dea91a980af9609a7deb26dfa0c96b_aug0.jpg: ignoring corrupt image/label: labels require 14 columns each\n",
            "\u001b[34m\u001b[1mtrain: \u001b[0m/content/augmented/train/images/good_posture_20241021_142330_png.rf.13dea91a980af9609a7deb26dfa0c96b_aug1.jpg: ignoring corrupt image/label: labels require 14 columns each\n",
            "\u001b[34m\u001b[1mtrain: \u001b[0m/content/augmented/train/images/good_posture_20241021_142330_png.rf.13dea91a980af9609a7deb26dfa0c96b_aug2.jpg: ignoring corrupt image/label: labels require 14 columns each\n",
            "\u001b[34m\u001b[1mtrain: \u001b[0m/content/augmented/train/images/good_posture_20241021_142330_png.rf.13dea91a980af9609a7deb26dfa0c96b_aug3.jpg: ignoring corrupt image/label: labels require 14 columns each\n",
            "\u001b[34m\u001b[1mtrain: \u001b[0m/content/augmented/train/images/good_posture_20241021_142330_png.rf.13dea91a980af9609a7deb26dfa0c96b_aug4.jpg: ignoring corrupt image/label: labels require 14 columns each\n",
            "\u001b[34m\u001b[1mtrain: \u001b[0m/content/augmented/train/images/good_posture_20241021_142336_png.rf.d9a5b7ec47f1319b4eb54f2b84144ec4_aug0.jpg: ignoring corrupt image/label: labels require 14 columns each\n",
            "\u001b[34m\u001b[1mtrain: \u001b[0m/content/augmented/train/images/good_posture_20241021_142336_png.rf.d9a5b7ec47f1319b4eb54f2b84144ec4_aug1.jpg: ignoring corrupt image/label: labels require 14 columns each\n",
            "\u001b[34m\u001b[1mtrain: \u001b[0m/content/augmented/train/images/good_posture_20241021_142336_png.rf.d9a5b7ec47f1319b4eb54f2b84144ec4_aug2.jpg: ignoring corrupt image/label: labels require 14 columns each\n",
            "\u001b[34m\u001b[1mtrain: \u001b[0m/content/augmented/train/images/good_posture_20241021_142336_png.rf.d9a5b7ec47f1319b4eb54f2b84144ec4_aug3.jpg: ignoring corrupt image/label: labels require 14 columns each\n",
            "\u001b[34m\u001b[1mtrain: \u001b[0m/content/augmented/train/images/good_posture_20241021_142336_png.rf.d9a5b7ec47f1319b4eb54f2b84144ec4_aug4.jpg: ignoring corrupt image/label: labels require 14 columns each\n",
            "\u001b[34m\u001b[1mtrain: \u001b[0m/content/augmented/train/images/good_posture_20241021_142342_png.rf.74a3108fac4e467cb3a5a2ebfc97a43c_aug0.jpg: ignoring corrupt image/label: labels require 14 columns each\n",
            "\u001b[34m\u001b[1mtrain: \u001b[0m/content/augmented/train/images/good_posture_20241021_142342_png.rf.74a3108fac4e467cb3a5a2ebfc97a43c_aug1.jpg: ignoring corrupt image/label: labels require 14 columns each\n",
            "\u001b[34m\u001b[1mtrain: \u001b[0m/content/augmented/train/images/good_posture_20241021_142342_png.rf.74a3108fac4e467cb3a5a2ebfc97a43c_aug2.jpg: ignoring corrupt image/label: labels require 14 columns each\n",
            "\u001b[34m\u001b[1mtrain: \u001b[0m/content/augmented/train/images/good_posture_20241021_142342_png.rf.74a3108fac4e467cb3a5a2ebfc97a43c_aug3.jpg: ignoring corrupt image/label: labels require 14 columns each\n",
            "\u001b[34m\u001b[1mtrain: \u001b[0m/content/augmented/train/images/good_posture_20241021_142342_png.rf.74a3108fac4e467cb3a5a2ebfc97a43c_aug4.jpg: ignoring corrupt image/label: labels require 14 columns each\n",
            "\u001b[34m\u001b[1mtrain: \u001b[0m/content/augmented/train/images/good_posture_20241021_142755_png.rf.c9e5e58033c5d4731d9560f3bd051777_aug0.jpg: ignoring corrupt image/label: labels require 14 columns each\n",
            "\u001b[34m\u001b[1mtrain: \u001b[0m/content/augmented/train/images/good_posture_20241021_142755_png.rf.c9e5e58033c5d4731d9560f3bd051777_aug1.jpg: ignoring corrupt image/label: labels require 14 columns each\n",
            "\u001b[34m\u001b[1mtrain: \u001b[0m/content/augmented/train/images/good_posture_20241021_142755_png.rf.c9e5e58033c5d4731d9560f3bd051777_aug2.jpg: ignoring corrupt image/label: labels require 14 columns each\n",
            "\u001b[34m\u001b[1mtrain: \u001b[0m/content/augmented/train/images/good_posture_20241021_142755_png.rf.c9e5e58033c5d4731d9560f3bd051777_aug3.jpg: ignoring corrupt image/label: labels require 14 columns each\n",
            "\u001b[34m\u001b[1mtrain: \u001b[0m/content/augmented/train/images/good_posture_20241021_142755_png.rf.c9e5e58033c5d4731d9560f3bd051777_aug4.jpg: ignoring corrupt image/label: labels require 14 columns each\n",
            "\u001b[34m\u001b[1mtrain: \u001b[0m/content/augmented/train/images/good_posture_20241021_144124_png.rf.44bb17805203e029fadf5fa46e6eb6bf_aug0.jpg: ignoring corrupt image/label: labels require 14 columns each\n",
            "\u001b[34m\u001b[1mtrain: \u001b[0m/content/augmented/train/images/good_posture_20241021_144124_png.rf.44bb17805203e029fadf5fa46e6eb6bf_aug1.jpg: ignoring corrupt image/label: labels require 14 columns each\n",
            "\u001b[34m\u001b[1mtrain: \u001b[0m/content/augmented/train/images/good_posture_20241021_144124_png.rf.44bb17805203e029fadf5fa46e6eb6bf_aug2.jpg: ignoring corrupt image/label: labels require 14 columns each\n",
            "\u001b[34m\u001b[1mtrain: \u001b[0m/content/augmented/train/images/good_posture_20241021_144124_png.rf.44bb17805203e029fadf5fa46e6eb6bf_aug3.jpg: ignoring corrupt image/label: labels require 14 columns each\n",
            "\u001b[34m\u001b[1mtrain: \u001b[0m/content/augmented/train/images/good_posture_20241021_144124_png.rf.44bb17805203e029fadf5fa46e6eb6bf_aug4.jpg: ignoring corrupt image/label: labels require 14 columns each\n",
            "\u001b[34m\u001b[1mtrain: \u001b[0m/content/augmented/train/images/good_posture_20241021_180312_png.rf.cbfb6f5a5e8dc9e27e17613881e65f25_aug0.jpg: ignoring corrupt image/label: labels require 14 columns each\n",
            "\u001b[34m\u001b[1mtrain: \u001b[0m/content/augmented/train/images/good_posture_20241021_180312_png.rf.cbfb6f5a5e8dc9e27e17613881e65f25_aug1.jpg: ignoring corrupt image/label: labels require 14 columns each\n",
            "\u001b[34m\u001b[1mtrain: \u001b[0m/content/augmented/train/images/good_posture_20241021_180312_png.rf.cbfb6f5a5e8dc9e27e17613881e65f25_aug2.jpg: ignoring corrupt image/label: labels require 14 columns each\n",
            "\u001b[34m\u001b[1mtrain: \u001b[0m/content/augmented/train/images/good_posture_20241021_180312_png.rf.cbfb6f5a5e8dc9e27e17613881e65f25_aug3.jpg: ignoring corrupt image/label: labels require 14 columns each\n",
            "\u001b[34m\u001b[1mtrain: \u001b[0m/content/augmented/train/images/good_posture_20241021_180312_png.rf.cbfb6f5a5e8dc9e27e17613881e65f25_aug4.jpg: ignoring corrupt image/label: labels require 14 columns each\n",
            "\u001b[34m\u001b[1mtrain: \u001b[0m/content/augmented/train/images/good_posture_20241021_180318_png.rf.e7ca64ceccdc20fd282b236d965ccdbe_aug0.jpg: ignoring corrupt image/label: labels require 14 columns each\n",
            "\u001b[34m\u001b[1mtrain: \u001b[0m/content/augmented/train/images/good_posture_20241021_180318_png.rf.e7ca64ceccdc20fd282b236d965ccdbe_aug1.jpg: ignoring corrupt image/label: labels require 14 columns each\n",
            "\u001b[34m\u001b[1mtrain: \u001b[0m/content/augmented/train/images/good_posture_20241021_180318_png.rf.e7ca64ceccdc20fd282b236d965ccdbe_aug2.jpg: ignoring corrupt image/label: labels require 14 columns each\n",
            "\u001b[34m\u001b[1mtrain: \u001b[0m/content/augmented/train/images/good_posture_20241021_180318_png.rf.e7ca64ceccdc20fd282b236d965ccdbe_aug3.jpg: ignoring corrupt image/label: labels require 14 columns each\n",
            "\u001b[34m\u001b[1mtrain: \u001b[0m/content/augmented/train/images/good_posture_20241021_180318_png.rf.e7ca64ceccdc20fd282b236d965ccdbe_aug4.jpg: ignoring corrupt image/label: labels require 14 columns each\n",
            "\u001b[34m\u001b[1mtrain: \u001b[0m/content/augmented/train/images/good_posture_20241021_180549_png.rf.da6f159e1650d8bf5d71fb35b9b719ff_aug0.jpg: ignoring corrupt image/label: labels require 14 columns each\n",
            "\u001b[34m\u001b[1mtrain: \u001b[0m/content/augmented/train/images/good_posture_20241021_180549_png.rf.da6f159e1650d8bf5d71fb35b9b719ff_aug1.jpg: ignoring corrupt image/label: labels require 14 columns each\n",
            "\u001b[34m\u001b[1mtrain: \u001b[0m/content/augmented/train/images/good_posture_20241021_180549_png.rf.da6f159e1650d8bf5d71fb35b9b719ff_aug2.jpg: ignoring corrupt image/label: labels require 14 columns each\n",
            "\u001b[34m\u001b[1mtrain: \u001b[0m/content/augmented/train/images/good_posture_20241021_180549_png.rf.da6f159e1650d8bf5d71fb35b9b719ff_aug3.jpg: ignoring corrupt image/label: labels require 14 columns each\n",
            "\u001b[34m\u001b[1mtrain: \u001b[0m/content/augmented/train/images/good_posture_20241021_180549_png.rf.da6f159e1650d8bf5d71fb35b9b719ff_aug4.jpg: ignoring corrupt image/label: labels require 14 columns each\n",
            "\u001b[34m\u001b[1mtrain: \u001b[0m/content/augmented/train/images/good_posture_20241021_180555_png.rf.4cc1cfb8b7adf742485bfbd7cbb6ee5a_aug0.jpg: ignoring corrupt image/label: labels require 14 columns each\n",
            "\u001b[34m\u001b[1mtrain: \u001b[0m/content/augmented/train/images/good_posture_20241021_180555_png.rf.4cc1cfb8b7adf742485bfbd7cbb6ee5a_aug1.jpg: ignoring corrupt image/label: labels require 14 columns each\n",
            "\u001b[34m\u001b[1mtrain: \u001b[0m/content/augmented/train/images/good_posture_20241021_180555_png.rf.4cc1cfb8b7adf742485bfbd7cbb6ee5a_aug2.jpg: ignoring corrupt image/label: labels require 14 columns each\n",
            "\u001b[34m\u001b[1mtrain: \u001b[0m/content/augmented/train/images/good_posture_20241021_180555_png.rf.4cc1cfb8b7adf742485bfbd7cbb6ee5a_aug3.jpg: ignoring corrupt image/label: labels require 14 columns each\n",
            "\u001b[34m\u001b[1mtrain: \u001b[0m/content/augmented/train/images/good_posture_20241021_180555_png.rf.4cc1cfb8b7adf742485bfbd7cbb6ee5a_aug4.jpg: ignoring corrupt image/label: labels require 14 columns each\n",
            "\u001b[34m\u001b[1mtrain: \u001b[0m/content/augmented/train/images/good_posture_20241021_180607_png.rf.ef68b6ae07766a32b6c97bb10b14a587_aug0.jpg: ignoring corrupt image/label: labels require 14 columns each\n",
            "\u001b[34m\u001b[1mtrain: \u001b[0m/content/augmented/train/images/good_posture_20241021_180607_png.rf.ef68b6ae07766a32b6c97bb10b14a587_aug1.jpg: ignoring corrupt image/label: labels require 14 columns each\n",
            "\u001b[34m\u001b[1mtrain: \u001b[0m/content/augmented/train/images/good_posture_20241021_180607_png.rf.ef68b6ae07766a32b6c97bb10b14a587_aug2.jpg: ignoring corrupt image/label: labels require 14 columns each\n",
            "\u001b[34m\u001b[1mtrain: \u001b[0m/content/augmented/train/images/good_posture_20241021_180607_png.rf.ef68b6ae07766a32b6c97bb10b14a587_aug3.jpg: ignoring corrupt image/label: labels require 14 columns each\n",
            "\u001b[34m\u001b[1mtrain: \u001b[0m/content/augmented/train/images/good_posture_20241021_180607_png.rf.ef68b6ae07766a32b6c97bb10b14a587_aug4.jpg: ignoring corrupt image/label: labels require 14 columns each\n",
            "\u001b[34m\u001b[1mtrain: \u001b[0m/content/augmented/train/images/image_20241007_191348_jpg.rf.39b67e97a4136fc354a35d610e54b393_aug0.jpg: ignoring corrupt image/label: labels require 14 columns each\n",
            "\u001b[34m\u001b[1mtrain: \u001b[0m/content/augmented/train/images/image_20241007_191348_jpg.rf.39b67e97a4136fc354a35d610e54b393_aug1.jpg: ignoring corrupt image/label: labels require 14 columns each\n",
            "\u001b[34m\u001b[1mtrain: \u001b[0m/content/augmented/train/images/image_20241007_191348_jpg.rf.39b67e97a4136fc354a35d610e54b393_aug2.jpg: ignoring corrupt image/label: labels require 14 columns each\n",
            "\u001b[34m\u001b[1mtrain: \u001b[0m/content/augmented/train/images/image_20241007_191348_jpg.rf.39b67e97a4136fc354a35d610e54b393_aug3.jpg: ignoring corrupt image/label: labels require 14 columns each\n",
            "\u001b[34m\u001b[1mtrain: \u001b[0m/content/augmented/train/images/image_20241007_191348_jpg.rf.39b67e97a4136fc354a35d610e54b393_aug4.jpg: ignoring corrupt image/label: labels require 14 columns each\n",
            "\u001b[34m\u001b[1mtrain: \u001b[0m/content/augmented/train/images/image_20241007_191654_jpg.rf.bf4ce5e52e4fd9220ab3e0e4fdf6b1a7_aug0.jpg: ignoring corrupt image/label: labels require 14 columns each\n",
            "\u001b[34m\u001b[1mtrain: \u001b[0m/content/augmented/train/images/image_20241007_191654_jpg.rf.bf4ce5e52e4fd9220ab3e0e4fdf6b1a7_aug1.jpg: ignoring corrupt image/label: labels require 14 columns each\n",
            "\u001b[34m\u001b[1mtrain: \u001b[0m/content/augmented/train/images/image_20241007_191654_jpg.rf.bf4ce5e52e4fd9220ab3e0e4fdf6b1a7_aug2.jpg: ignoring corrupt image/label: labels require 14 columns each\n",
            "\u001b[34m\u001b[1mtrain: \u001b[0m/content/augmented/train/images/image_20241007_191654_jpg.rf.bf4ce5e52e4fd9220ab3e0e4fdf6b1a7_aug3.jpg: ignoring corrupt image/label: labels require 14 columns each\n",
            "\u001b[34m\u001b[1mtrain: \u001b[0m/content/augmented/train/images/image_20241007_191654_jpg.rf.bf4ce5e52e4fd9220ab3e0e4fdf6b1a7_aug4.jpg: ignoring corrupt image/label: labels require 14 columns each\n",
            "\u001b[34m\u001b[1mtrain: \u001b[0m/content/augmented/train/images/image_20241007_192602_jpg.rf.d10b5d9df951474824a42fc5cdfd81e8_aug0.jpg: ignoring corrupt image/label: labels require 14 columns each\n",
            "\u001b[34m\u001b[1mtrain: \u001b[0m/content/augmented/train/images/image_20241007_192602_jpg.rf.d10b5d9df951474824a42fc5cdfd81e8_aug1.jpg: ignoring corrupt image/label: labels require 14 columns each\n",
            "\u001b[34m\u001b[1mtrain: \u001b[0m/content/augmented/train/images/image_20241007_192602_jpg.rf.d10b5d9df951474824a42fc5cdfd81e8_aug2.jpg: ignoring corrupt image/label: labels require 14 columns each\n",
            "\u001b[34m\u001b[1mtrain: \u001b[0m/content/augmented/train/images/image_20241007_192602_jpg.rf.d10b5d9df951474824a42fc5cdfd81e8_aug3.jpg: ignoring corrupt image/label: labels require 14 columns each\n",
            "\u001b[34m\u001b[1mtrain: \u001b[0m/content/augmented/train/images/image_20241007_192602_jpg.rf.d10b5d9df951474824a42fc5cdfd81e8_aug4.jpg: ignoring corrupt image/label: labels require 14 columns each\n",
            "\u001b[34m\u001b[1mtrain: \u001b[0m/content/augmented/train/images/image_20241007_192901_jpg.rf.9ca2c14e4549e2b68a78c34b3aae6728_aug0.jpg: ignoring corrupt image/label: labels require 14 columns each\n",
            "\u001b[34m\u001b[1mtrain: \u001b[0m/content/augmented/train/images/image_20241007_192901_jpg.rf.9ca2c14e4549e2b68a78c34b3aae6728_aug1.jpg: ignoring corrupt image/label: labels require 14 columns each\n",
            "\u001b[34m\u001b[1mtrain: \u001b[0m/content/augmented/train/images/image_20241007_192901_jpg.rf.9ca2c14e4549e2b68a78c34b3aae6728_aug2.jpg: ignoring corrupt image/label: labels require 14 columns each\n",
            "\u001b[34m\u001b[1mtrain: \u001b[0m/content/augmented/train/images/image_20241007_192901_jpg.rf.9ca2c14e4549e2b68a78c34b3aae6728_aug3.jpg: ignoring corrupt image/label: labels require 14 columns each\n",
            "\u001b[34m\u001b[1mtrain: \u001b[0m/content/augmented/train/images/image_20241007_192901_jpg.rf.9ca2c14e4549e2b68a78c34b3aae6728_aug4.jpg: ignoring corrupt image/label: labels require 14 columns each\n",
            "\u001b[34m\u001b[1mtrain: \u001b[0m/content/augmented/train/images/image_20241007_193153_jpg.rf.dbdf558f62d4cc43320578933601bb6b_aug0.jpg: ignoring corrupt image/label: labels require 14 columns each\n",
            "\u001b[34m\u001b[1mtrain: \u001b[0m/content/augmented/train/images/image_20241007_193153_jpg.rf.dbdf558f62d4cc43320578933601bb6b_aug1.jpg: ignoring corrupt image/label: labels require 14 columns each\n",
            "\u001b[34m\u001b[1mtrain: \u001b[0m/content/augmented/train/images/image_20241007_193153_jpg.rf.dbdf558f62d4cc43320578933601bb6b_aug2.jpg: ignoring corrupt image/label: labels require 14 columns each\n",
            "\u001b[34m\u001b[1mtrain: \u001b[0m/content/augmented/train/images/image_20241007_193153_jpg.rf.dbdf558f62d4cc43320578933601bb6b_aug3.jpg: ignoring corrupt image/label: labels require 14 columns each\n",
            "\u001b[34m\u001b[1mtrain: \u001b[0m/content/augmented/train/images/image_20241007_193153_jpg.rf.dbdf558f62d4cc43320578933601bb6b_aug4.jpg: ignoring corrupt image/label: labels require 14 columns each\n",
            "\u001b[34m\u001b[1mtrain: \u001b[0m/content/augmented/train/images/image_20241007_195632_jpg.rf.085d8a36c41ba831108c52b3b34cdae0_aug0.jpg: ignoring corrupt image/label: labels require 14 columns each\n",
            "\u001b[34m\u001b[1mtrain: \u001b[0m/content/augmented/train/images/image_20241007_195632_jpg.rf.085d8a36c41ba831108c52b3b34cdae0_aug1.jpg: ignoring corrupt image/label: labels require 14 columns each\n",
            "\u001b[34m\u001b[1mtrain: \u001b[0m/content/augmented/train/images/image_20241007_195632_jpg.rf.085d8a36c41ba831108c52b3b34cdae0_aug2.jpg: ignoring corrupt image/label: labels require 14 columns each\n",
            "\u001b[34m\u001b[1mtrain: \u001b[0m/content/augmented/train/images/image_20241007_195632_jpg.rf.085d8a36c41ba831108c52b3b34cdae0_aug3.jpg: ignoring corrupt image/label: labels require 14 columns each\n",
            "\u001b[34m\u001b[1mtrain: \u001b[0m/content/augmented/train/images/image_20241007_195632_jpg.rf.085d8a36c41ba831108c52b3b34cdae0_aug4.jpg: ignoring corrupt image/label: labels require 14 columns each\n",
            "\u001b[34m\u001b[1mtrain: \u001b[0m/content/augmented/train/images/image_20241007_210150_jpg.rf.b902bea305ea580410a484d319ea37f4_aug0.jpg: ignoring corrupt image/label: labels require 14 columns each\n",
            "\u001b[34m\u001b[1mtrain: \u001b[0m/content/augmented/train/images/image_20241007_210150_jpg.rf.b902bea305ea580410a484d319ea37f4_aug1.jpg: ignoring corrupt image/label: labels require 14 columns each\n",
            "\u001b[34m\u001b[1mtrain: \u001b[0m/content/augmented/train/images/image_20241007_210150_jpg.rf.b902bea305ea580410a484d319ea37f4_aug2.jpg: ignoring corrupt image/label: labels require 14 columns each\n",
            "\u001b[34m\u001b[1mtrain: \u001b[0m/content/augmented/train/images/image_20241007_210150_jpg.rf.b902bea305ea580410a484d319ea37f4_aug3.jpg: ignoring corrupt image/label: labels require 14 columns each\n",
            "\u001b[34m\u001b[1mtrain: \u001b[0m/content/augmented/train/images/image_20241007_210150_jpg.rf.b902bea305ea580410a484d319ea37f4_aug4.jpg: ignoring corrupt image/label: labels require 14 columns each\n",
            "\u001b[34m\u001b[1mtrain: \u001b[0m/content/augmented/train/images/image_20241007_214451_jpg.rf.307716cb4bd6ea511325d9cce1aa5c6e_aug0.jpg: ignoring corrupt image/label: labels require 14 columns each\n",
            "\u001b[34m\u001b[1mtrain: \u001b[0m/content/augmented/train/images/image_20241007_214451_jpg.rf.307716cb4bd6ea511325d9cce1aa5c6e_aug1.jpg: ignoring corrupt image/label: labels require 14 columns each\n",
            "\u001b[34m\u001b[1mtrain: \u001b[0m/content/augmented/train/images/image_20241007_214451_jpg.rf.307716cb4bd6ea511325d9cce1aa5c6e_aug2.jpg: ignoring corrupt image/label: labels require 14 columns each\n",
            "\u001b[34m\u001b[1mtrain: \u001b[0m/content/augmented/train/images/image_20241007_214451_jpg.rf.307716cb4bd6ea511325d9cce1aa5c6e_aug3.jpg: ignoring corrupt image/label: labels require 14 columns each\n",
            "\u001b[34m\u001b[1mtrain: \u001b[0m/content/augmented/train/images/image_20241007_214451_jpg.rf.307716cb4bd6ea511325d9cce1aa5c6e_aug4.jpg: ignoring corrupt image/label: labels require 14 columns each\n",
            "\u001b[34m\u001b[1mtrain: \u001b[0m/content/augmented/train/images/image_20241007_214540_jpg.rf.4acfc0d51b906095772a44f32bd5d1c6_aug0.jpg: ignoring corrupt image/label: labels require 14 columns each\n",
            "\u001b[34m\u001b[1mtrain: \u001b[0m/content/augmented/train/images/image_20241007_214540_jpg.rf.4acfc0d51b906095772a44f32bd5d1c6_aug1.jpg: ignoring corrupt image/label: labels require 14 columns each\n",
            "\u001b[34m\u001b[1mtrain: \u001b[0m/content/augmented/train/images/image_20241007_214540_jpg.rf.4acfc0d51b906095772a44f32bd5d1c6_aug2.jpg: ignoring corrupt image/label: labels require 14 columns each\n",
            "\u001b[34m\u001b[1mtrain: \u001b[0m/content/augmented/train/images/image_20241007_214540_jpg.rf.4acfc0d51b906095772a44f32bd5d1c6_aug3.jpg: ignoring corrupt image/label: labels require 14 columns each\n",
            "\u001b[34m\u001b[1mtrain: \u001b[0m/content/augmented/train/images/image_20241007_214540_jpg.rf.4acfc0d51b906095772a44f32bd5d1c6_aug4.jpg: ignoring corrupt image/label: labels require 14 columns each\n",
            "\u001b[34m\u001b[1mtrain: \u001b[0m/content/augmented/train/images/image_20241007_215802_jpg.rf.2e43c5f4dcbe6f4e50629ea760c2b3e8_aug0.jpg: ignoring corrupt image/label: labels require 14 columns each\n",
            "\u001b[34m\u001b[1mtrain: \u001b[0m/content/augmented/train/images/image_20241007_215802_jpg.rf.2e43c5f4dcbe6f4e50629ea760c2b3e8_aug1.jpg: ignoring corrupt image/label: labels require 14 columns each\n",
            "\u001b[34m\u001b[1mtrain: \u001b[0m/content/augmented/train/images/image_20241007_215802_jpg.rf.2e43c5f4dcbe6f4e50629ea760c2b3e8_aug2.jpg: ignoring corrupt image/label: labels require 14 columns each\n",
            "\u001b[34m\u001b[1mtrain: \u001b[0m/content/augmented/train/images/image_20241007_215802_jpg.rf.2e43c5f4dcbe6f4e50629ea760c2b3e8_aug3.jpg: ignoring corrupt image/label: labels require 14 columns each\n",
            "\u001b[34m\u001b[1mtrain: \u001b[0m/content/augmented/train/images/image_20241007_215802_jpg.rf.2e43c5f4dcbe6f4e50629ea760c2b3e8_aug4.jpg: ignoring corrupt image/label: labels require 14 columns each\n",
            "\u001b[34m\u001b[1mtrain: \u001b[0m/content/augmented/train/images/image_20241007_220813_jpg.rf.e23bf11ed34aef671cc9a5ad165f49d5_aug0.jpg: ignoring corrupt image/label: labels require 14 columns each\n",
            "\u001b[34m\u001b[1mtrain: \u001b[0m/content/augmented/train/images/image_20241007_220813_jpg.rf.e23bf11ed34aef671cc9a5ad165f49d5_aug1.jpg: ignoring corrupt image/label: labels require 14 columns each\n",
            "\u001b[34m\u001b[1mtrain: \u001b[0m/content/augmented/train/images/image_20241007_220813_jpg.rf.e23bf11ed34aef671cc9a5ad165f49d5_aug2.jpg: ignoring corrupt image/label: labels require 14 columns each\n",
            "\u001b[34m\u001b[1mtrain: \u001b[0m/content/augmented/train/images/image_20241007_220813_jpg.rf.e23bf11ed34aef671cc9a5ad165f49d5_aug3.jpg: ignoring corrupt image/label: labels require 14 columns each\n",
            "\u001b[34m\u001b[1mtrain: \u001b[0m/content/augmented/train/images/image_20241007_220813_jpg.rf.e23bf11ed34aef671cc9a5ad165f49d5_aug4.jpg: ignoring corrupt image/label: labels require 14 columns each\n",
            "\u001b[34m\u001b[1mtrain: \u001b[0m/content/augmented/train/images/image_20241007_222646_jpg.rf.1ab32b6d6d0dec6d3d19f24b97fe1a4a_aug0.jpg: ignoring corrupt image/label: labels require 14 columns each\n",
            "\u001b[34m\u001b[1mtrain: \u001b[0m/content/augmented/train/images/image_20241007_222646_jpg.rf.1ab32b6d6d0dec6d3d19f24b97fe1a4a_aug1.jpg: ignoring corrupt image/label: labels require 14 columns each\n",
            "\u001b[34m\u001b[1mtrain: \u001b[0m/content/augmented/train/images/image_20241007_222646_jpg.rf.1ab32b6d6d0dec6d3d19f24b97fe1a4a_aug2.jpg: ignoring corrupt image/label: labels require 14 columns each\n",
            "\u001b[34m\u001b[1mtrain: \u001b[0m/content/augmented/train/images/image_20241007_222646_jpg.rf.1ab32b6d6d0dec6d3d19f24b97fe1a4a_aug3.jpg: ignoring corrupt image/label: labels require 14 columns each\n",
            "\u001b[34m\u001b[1mtrain: \u001b[0m/content/augmented/train/images/image_20241007_222646_jpg.rf.1ab32b6d6d0dec6d3d19f24b97fe1a4a_aug4.jpg: ignoring corrupt image/label: labels require 14 columns each\n",
            "\u001b[34m\u001b[1mtrain: \u001b[0m/content/augmented/train/images/image_20241007_222736_jpg.rf.f3689a27bbd1df8b245a2e0a510576bf_aug0.jpg: ignoring corrupt image/label: labels require 14 columns each\n",
            "\u001b[34m\u001b[1mtrain: \u001b[0m/content/augmented/train/images/image_20241007_222736_jpg.rf.f3689a27bbd1df8b245a2e0a510576bf_aug1.jpg: ignoring corrupt image/label: labels require 14 columns each\n",
            "\u001b[34m\u001b[1mtrain: \u001b[0m/content/augmented/train/images/image_20241007_222736_jpg.rf.f3689a27bbd1df8b245a2e0a510576bf_aug2.jpg: ignoring corrupt image/label: labels require 14 columns each\n",
            "\u001b[34m\u001b[1mtrain: \u001b[0m/content/augmented/train/images/image_20241007_222736_jpg.rf.f3689a27bbd1df8b245a2e0a510576bf_aug3.jpg: ignoring corrupt image/label: labels require 14 columns each\n",
            "\u001b[34m\u001b[1mtrain: \u001b[0m/content/augmented/train/images/image_20241007_222736_jpg.rf.f3689a27bbd1df8b245a2e0a510576bf_aug4.jpg: ignoring corrupt image/label: labels require 14 columns each\n",
            "\u001b[34m\u001b[1mtrain: \u001b[0m/content/augmented/train/images/image_20241007_225038_jpg.rf.7fcef99d26ad5c8b617f392d670b1bbb_aug0.jpg: ignoring corrupt image/label: labels require 14 columns each\n",
            "\u001b[34m\u001b[1mtrain: \u001b[0m/content/augmented/train/images/image_20241007_225038_jpg.rf.7fcef99d26ad5c8b617f392d670b1bbb_aug1.jpg: ignoring corrupt image/label: labels require 14 columns each\n",
            "\u001b[34m\u001b[1mtrain: \u001b[0m/content/augmented/train/images/image_20241007_225038_jpg.rf.7fcef99d26ad5c8b617f392d670b1bbb_aug2.jpg: ignoring corrupt image/label: labels require 14 columns each\n",
            "\u001b[34m\u001b[1mtrain: \u001b[0m/content/augmented/train/images/image_20241007_225038_jpg.rf.7fcef99d26ad5c8b617f392d670b1bbb_aug3.jpg: ignoring corrupt image/label: labels require 14 columns each\n",
            "\u001b[34m\u001b[1mtrain: \u001b[0m/content/augmented/train/images/image_20241007_225038_jpg.rf.7fcef99d26ad5c8b617f392d670b1bbb_aug4.jpg: ignoring corrupt image/label: labels require 14 columns each\n",
            "\u001b[34m\u001b[1mtrain: \u001b[0m/content/augmented/train/images/image_20241007_225757_jpg.rf.b0d4088855e2dfb3164d3f285fcd8e7d_aug0.jpg: ignoring corrupt image/label: labels require 14 columns each\n",
            "\u001b[34m\u001b[1mtrain: \u001b[0m/content/augmented/train/images/image_20241007_225757_jpg.rf.b0d4088855e2dfb3164d3f285fcd8e7d_aug1.jpg: ignoring corrupt image/label: labels require 14 columns each\n",
            "\u001b[34m\u001b[1mtrain: \u001b[0m/content/augmented/train/images/image_20241007_225757_jpg.rf.b0d4088855e2dfb3164d3f285fcd8e7d_aug2.jpg: ignoring corrupt image/label: labels require 14 columns each\n",
            "\u001b[34m\u001b[1mtrain: \u001b[0m/content/augmented/train/images/image_20241007_225757_jpg.rf.b0d4088855e2dfb3164d3f285fcd8e7d_aug3.jpg: ignoring corrupt image/label: labels require 14 columns each\n",
            "\u001b[34m\u001b[1mtrain: \u001b[0m/content/augmented/train/images/image_20241007_225757_jpg.rf.b0d4088855e2dfb3164d3f285fcd8e7d_aug4.jpg: ignoring corrupt image/label: labels require 14 columns each\n",
            "\u001b[34m\u001b[1mtrain: \u001b[0m/content/augmented/train/images/image_20241007_230212_jpg.rf.c19885c4d719e28d1e765d88a2417b11_aug0.jpg: ignoring corrupt image/label: labels require 14 columns each\n",
            "\u001b[34m\u001b[1mtrain: \u001b[0m/content/augmented/train/images/image_20241007_230212_jpg.rf.c19885c4d719e28d1e765d88a2417b11_aug1.jpg: ignoring corrupt image/label: labels require 14 columns each\n",
            "\u001b[34m\u001b[1mtrain: \u001b[0m/content/augmented/train/images/image_20241007_230212_jpg.rf.c19885c4d719e28d1e765d88a2417b11_aug2.jpg: ignoring corrupt image/label: labels require 14 columns each\n",
            "\u001b[34m\u001b[1mtrain: \u001b[0m/content/augmented/train/images/image_20241007_230212_jpg.rf.c19885c4d719e28d1e765d88a2417b11_aug3.jpg: ignoring corrupt image/label: labels require 14 columns each\n",
            "\u001b[34m\u001b[1mtrain: \u001b[0m/content/augmented/train/images/image_20241007_230212_jpg.rf.c19885c4d719e28d1e765d88a2417b11_aug4.jpg: ignoring corrupt image/label: labels require 14 columns each\n",
            "\u001b[34m\u001b[1mtrain: \u001b[0m/content/augmented/train/images/image_20241007_230643_jpg.rf.35d70018b96b94eb5cdca9283b89166a_aug0.jpg: ignoring corrupt image/label: labels require 14 columns each\n",
            "\u001b[34m\u001b[1mtrain: \u001b[0m/content/augmented/train/images/image_20241007_230643_jpg.rf.35d70018b96b94eb5cdca9283b89166a_aug1.jpg: ignoring corrupt image/label: labels require 14 columns each\n",
            "\u001b[34m\u001b[1mtrain: \u001b[0m/content/augmented/train/images/image_20241007_230643_jpg.rf.35d70018b96b94eb5cdca9283b89166a_aug2.jpg: ignoring corrupt image/label: labels require 14 columns each\n",
            "\u001b[34m\u001b[1mtrain: \u001b[0m/content/augmented/train/images/image_20241007_230643_jpg.rf.35d70018b96b94eb5cdca9283b89166a_aug3.jpg: ignoring corrupt image/label: labels require 14 columns each\n",
            "\u001b[34m\u001b[1mtrain: \u001b[0m/content/augmented/train/images/image_20241007_230643_jpg.rf.35d70018b96b94eb5cdca9283b89166a_aug4.jpg: ignoring corrupt image/label: labels require 14 columns each\n",
            "\u001b[34m\u001b[1mtrain: \u001b[0m/content/augmented/train/images/image_20241008_200649_jpg.rf.b87e662ab79cc2782bace9a5f17918e5_aug0.jpg: ignoring corrupt image/label: labels require 14 columns each\n",
            "\u001b[34m\u001b[1mtrain: \u001b[0m/content/augmented/train/images/image_20241008_200649_jpg.rf.b87e662ab79cc2782bace9a5f17918e5_aug1.jpg: ignoring corrupt image/label: labels require 14 columns each\n",
            "\u001b[34m\u001b[1mtrain: \u001b[0m/content/augmented/train/images/image_20241008_200649_jpg.rf.b87e662ab79cc2782bace9a5f17918e5_aug2.jpg: ignoring corrupt image/label: labels require 14 columns each\n",
            "\u001b[34m\u001b[1mtrain: \u001b[0m/content/augmented/train/images/image_20241008_200649_jpg.rf.b87e662ab79cc2782bace9a5f17918e5_aug3.jpg: ignoring corrupt image/label: labels require 14 columns each\n",
            "\u001b[34m\u001b[1mtrain: \u001b[0m/content/augmented/train/images/image_20241008_200649_jpg.rf.b87e662ab79cc2782bace9a5f17918e5_aug4.jpg: ignoring corrupt image/label: labels require 14 columns each\n",
            "\u001b[34m\u001b[1mtrain: \u001b[0m/content/augmented/train/images/image_20241008_200801_jpg.rf.ae6743340322fbae0eb8fbcc96934435_aug0.jpg: ignoring corrupt image/label: labels require 14 columns each\n",
            "\u001b[34m\u001b[1mtrain: \u001b[0m/content/augmented/train/images/image_20241008_200801_jpg.rf.ae6743340322fbae0eb8fbcc96934435_aug1.jpg: ignoring corrupt image/label: labels require 14 columns each\n",
            "\u001b[34m\u001b[1mtrain: \u001b[0m/content/augmented/train/images/image_20241008_200801_jpg.rf.ae6743340322fbae0eb8fbcc96934435_aug2.jpg: ignoring corrupt image/label: labels require 14 columns each\n",
            "\u001b[34m\u001b[1mtrain: \u001b[0m/content/augmented/train/images/image_20241008_200801_jpg.rf.ae6743340322fbae0eb8fbcc96934435_aug3.jpg: ignoring corrupt image/label: labels require 14 columns each\n",
            "\u001b[34m\u001b[1mtrain: \u001b[0m/content/augmented/train/images/image_20241008_200801_jpg.rf.ae6743340322fbae0eb8fbcc96934435_aug4.jpg: ignoring corrupt image/label: labels require 14 columns each\n",
            "\u001b[34m\u001b[1mtrain: \u001b[0m/content/augmented/train/images/image_20241008_200913_jpg.rf.0e18eba0ea0af6714d5f77143481f45f_aug0.jpg: ignoring corrupt image/label: labels require 14 columns each\n",
            "\u001b[34m\u001b[1mtrain: \u001b[0m/content/augmented/train/images/image_20241008_200913_jpg.rf.0e18eba0ea0af6714d5f77143481f45f_aug1.jpg: ignoring corrupt image/label: labels require 14 columns each\n",
            "\u001b[34m\u001b[1mtrain: \u001b[0m/content/augmented/train/images/image_20241008_200913_jpg.rf.0e18eba0ea0af6714d5f77143481f45f_aug2.jpg: ignoring corrupt image/label: labels require 14 columns each\n",
            "\u001b[34m\u001b[1mtrain: \u001b[0m/content/augmented/train/images/image_20241008_200913_jpg.rf.0e18eba0ea0af6714d5f77143481f45f_aug3.jpg: ignoring corrupt image/label: labels require 14 columns each\n",
            "\u001b[34m\u001b[1mtrain: \u001b[0m/content/augmented/train/images/image_20241008_200913_jpg.rf.0e18eba0ea0af6714d5f77143481f45f_aug4.jpg: ignoring corrupt image/label: labels require 14 columns each\n",
            "\u001b[34m\u001b[1mtrain: \u001b[0m/content/augmented/train/images/image_20241008_201104_jpg.rf.5a6dc8822c83cd655265245759b0e46f_aug0.jpg: ignoring corrupt image/label: labels require 14 columns each\n",
            "\u001b[34m\u001b[1mtrain: \u001b[0m/content/augmented/train/images/image_20241008_201104_jpg.rf.5a6dc8822c83cd655265245759b0e46f_aug1.jpg: ignoring corrupt image/label: labels require 14 columns each\n",
            "\u001b[34m\u001b[1mtrain: \u001b[0m/content/augmented/train/images/image_20241008_201104_jpg.rf.5a6dc8822c83cd655265245759b0e46f_aug2.jpg: ignoring corrupt image/label: labels require 14 columns each\n",
            "\u001b[34m\u001b[1mtrain: \u001b[0m/content/augmented/train/images/image_20241008_201104_jpg.rf.5a6dc8822c83cd655265245759b0e46f_aug3.jpg: ignoring corrupt image/label: labels require 14 columns each\n",
            "\u001b[34m\u001b[1mtrain: \u001b[0m/content/augmented/train/images/image_20241008_201104_jpg.rf.5a6dc8822c83cd655265245759b0e46f_aug4.jpg: ignoring corrupt image/label: labels require 14 columns each\n",
            "\u001b[34m\u001b[1mtrain: \u001b[0m/content/augmented/train/images/image_20241008_201334_jpg.rf.329e121dd8055ec3bafd3709440ddbb0_aug0.jpg: ignoring corrupt image/label: labels require 14 columns each\n",
            "\u001b[34m\u001b[1mtrain: \u001b[0m/content/augmented/train/images/image_20241008_201334_jpg.rf.329e121dd8055ec3bafd3709440ddbb0_aug1.jpg: ignoring corrupt image/label: labels require 14 columns each\n",
            "\u001b[34m\u001b[1mtrain: \u001b[0m/content/augmented/train/images/image_20241008_201334_jpg.rf.329e121dd8055ec3bafd3709440ddbb0_aug2.jpg: ignoring corrupt image/label: labels require 14 columns each\n",
            "\u001b[34m\u001b[1mtrain: \u001b[0m/content/augmented/train/images/image_20241008_201334_jpg.rf.329e121dd8055ec3bafd3709440ddbb0_aug3.jpg: ignoring corrupt image/label: labels require 14 columns each\n",
            "\u001b[34m\u001b[1mtrain: \u001b[0m/content/augmented/train/images/image_20241008_201334_jpg.rf.329e121dd8055ec3bafd3709440ddbb0_aug4.jpg: ignoring corrupt image/label: labels require 14 columns each\n",
            "\u001b[34m\u001b[1mtrain: \u001b[0m/content/augmented/train/images/image_20241008_202338_jpg.rf.3be3ecc9630777f6478049062d55aa87_aug0.jpg: ignoring corrupt image/label: labels require 14 columns each\n",
            "\u001b[34m\u001b[1mtrain: \u001b[0m/content/augmented/train/images/image_20241008_202338_jpg.rf.3be3ecc9630777f6478049062d55aa87_aug1.jpg: ignoring corrupt image/label: labels require 14 columns each\n",
            "\u001b[34m\u001b[1mtrain: \u001b[0m/content/augmented/train/images/image_20241008_202338_jpg.rf.3be3ecc9630777f6478049062d55aa87_aug2.jpg: ignoring corrupt image/label: labels require 14 columns each\n",
            "\u001b[34m\u001b[1mtrain: \u001b[0m/content/augmented/train/images/image_20241008_202338_jpg.rf.3be3ecc9630777f6478049062d55aa87_aug3.jpg: ignoring corrupt image/label: labels require 14 columns each\n",
            "\u001b[34m\u001b[1mtrain: \u001b[0m/content/augmented/train/images/image_20241008_202338_jpg.rf.3be3ecc9630777f6478049062d55aa87_aug4.jpg: ignoring corrupt image/label: labels require 14 columns each\n",
            "\u001b[34m\u001b[1mtrain: \u001b[0m/content/augmented/train/images/image_20241008_202735_jpg.rf.b964677e8497379def3e8136d74ad3b5_aug0.jpg: ignoring corrupt image/label: labels require 14 columns each\n",
            "\u001b[34m\u001b[1mtrain: \u001b[0m/content/augmented/train/images/image_20241008_202735_jpg.rf.b964677e8497379def3e8136d74ad3b5_aug1.jpg: ignoring corrupt image/label: labels require 14 columns each\n",
            "\u001b[34m\u001b[1mtrain: \u001b[0m/content/augmented/train/images/image_20241008_202735_jpg.rf.b964677e8497379def3e8136d74ad3b5_aug2.jpg: ignoring corrupt image/label: labels require 14 columns each\n",
            "\u001b[34m\u001b[1mtrain: \u001b[0m/content/augmented/train/images/image_20241008_202735_jpg.rf.b964677e8497379def3e8136d74ad3b5_aug3.jpg: ignoring corrupt image/label: labels require 14 columns each\n",
            "\u001b[34m\u001b[1mtrain: \u001b[0m/content/augmented/train/images/image_20241008_202735_jpg.rf.b964677e8497379def3e8136d74ad3b5_aug4.jpg: ignoring corrupt image/label: labels require 14 columns each\n",
            "\u001b[34m\u001b[1mtrain: \u001b[0m/content/augmented/train/images/image_20241008_202917_jpg.rf.d79625b63a77e5aa23ab471189df58a1_aug0.jpg: ignoring corrupt image/label: labels require 14 columns each\n",
            "\u001b[34m\u001b[1mtrain: \u001b[0m/content/augmented/train/images/image_20241008_202917_jpg.rf.d79625b63a77e5aa23ab471189df58a1_aug1.jpg: ignoring corrupt image/label: labels require 14 columns each\n",
            "\u001b[34m\u001b[1mtrain: \u001b[0m/content/augmented/train/images/image_20241008_202917_jpg.rf.d79625b63a77e5aa23ab471189df58a1_aug2.jpg: ignoring corrupt image/label: labels require 14 columns each\n",
            "\u001b[34m\u001b[1mtrain: \u001b[0m/content/augmented/train/images/image_20241008_202917_jpg.rf.d79625b63a77e5aa23ab471189df58a1_aug3.jpg: ignoring corrupt image/label: labels require 14 columns each\n",
            "\u001b[34m\u001b[1mtrain: \u001b[0m/content/augmented/train/images/image_20241008_202917_jpg.rf.d79625b63a77e5aa23ab471189df58a1_aug4.jpg: ignoring corrupt image/label: labels require 14 columns each\n",
            "\u001b[34m\u001b[1mtrain: \u001b[0m/content/augmented/train/images/image_20241008_203730_jpg.rf.cbc3eb46d8444bfc931d9dcb8836461d_aug0.jpg: ignoring corrupt image/label: labels require 14 columns each\n",
            "\u001b[34m\u001b[1mtrain: \u001b[0m/content/augmented/train/images/image_20241008_203730_jpg.rf.cbc3eb46d8444bfc931d9dcb8836461d_aug1.jpg: ignoring corrupt image/label: labels require 14 columns each\n",
            "\u001b[34m\u001b[1mtrain: \u001b[0m/content/augmented/train/images/image_20241008_203730_jpg.rf.cbc3eb46d8444bfc931d9dcb8836461d_aug2.jpg: ignoring corrupt image/label: labels require 14 columns each\n",
            "\u001b[34m\u001b[1mtrain: \u001b[0m/content/augmented/train/images/image_20241008_203730_jpg.rf.cbc3eb46d8444bfc931d9dcb8836461d_aug3.jpg: ignoring corrupt image/label: labels require 14 columns each\n",
            "\u001b[34m\u001b[1mtrain: \u001b[0m/content/augmented/train/images/image_20241008_203730_jpg.rf.cbc3eb46d8444bfc931d9dcb8836461d_aug4.jpg: ignoring corrupt image/label: labels require 14 columns each\n",
            "\u001b[34m\u001b[1mtrain: \u001b[0m/content/augmented/train/images/image_20241008_205202_jpg.rf.4806448b37a679f392a9660d6b471eda_aug0.jpg: ignoring corrupt image/label: labels require 14 columns each\n",
            "\u001b[34m\u001b[1mtrain: \u001b[0m/content/augmented/train/images/image_20241008_205202_jpg.rf.4806448b37a679f392a9660d6b471eda_aug1.jpg: ignoring corrupt image/label: labels require 14 columns each\n",
            "\u001b[34m\u001b[1mtrain: \u001b[0m/content/augmented/train/images/image_20241008_205202_jpg.rf.4806448b37a679f392a9660d6b471eda_aug2.jpg: ignoring corrupt image/label: labels require 14 columns each\n",
            "\u001b[34m\u001b[1mtrain: \u001b[0m/content/augmented/train/images/image_20241008_205202_jpg.rf.4806448b37a679f392a9660d6b471eda_aug3.jpg: ignoring corrupt image/label: labels require 14 columns each\n",
            "\u001b[34m\u001b[1mtrain: \u001b[0m/content/augmented/train/images/image_20241008_205202_jpg.rf.4806448b37a679f392a9660d6b471eda_aug4.jpg: ignoring corrupt image/label: labels require 14 columns each\n",
            "\u001b[34m\u001b[1mtrain: \u001b[0m/content/augmented/train/images/image_20241008_205601_jpg.rf.4bcf5c441e0782a57c6807836212116b_aug0.jpg: ignoring corrupt image/label: labels require 14 columns each\n",
            "\u001b[34m\u001b[1mtrain: \u001b[0m/content/augmented/train/images/image_20241008_205601_jpg.rf.4bcf5c441e0782a57c6807836212116b_aug1.jpg: ignoring corrupt image/label: labels require 14 columns each\n",
            "\u001b[34m\u001b[1mtrain: \u001b[0m/content/augmented/train/images/image_20241008_205601_jpg.rf.4bcf5c441e0782a57c6807836212116b_aug2.jpg: ignoring corrupt image/label: labels require 14 columns each\n",
            "\u001b[34m\u001b[1mtrain: \u001b[0m/content/augmented/train/images/image_20241008_205601_jpg.rf.4bcf5c441e0782a57c6807836212116b_aug3.jpg: ignoring corrupt image/label: labels require 14 columns each\n",
            "\u001b[34m\u001b[1mtrain: \u001b[0m/content/augmented/train/images/image_20241008_205601_jpg.rf.4bcf5c441e0782a57c6807836212116b_aug4.jpg: ignoring corrupt image/label: labels require 14 columns each\n",
            "\u001b[34m\u001b[1mtrain: \u001b[0m/content/augmented/train/images/image_20241008_210224_jpg.rf.7b239c6226d122d0659e8062afdcc20c_aug0.jpg: ignoring corrupt image/label: labels require 14 columns each\n",
            "\u001b[34m\u001b[1mtrain: \u001b[0m/content/augmented/train/images/image_20241008_210224_jpg.rf.7b239c6226d122d0659e8062afdcc20c_aug1.jpg: ignoring corrupt image/label: labels require 14 columns each\n",
            "\u001b[34m\u001b[1mtrain: \u001b[0m/content/augmented/train/images/image_20241008_210224_jpg.rf.7b239c6226d122d0659e8062afdcc20c_aug2.jpg: ignoring corrupt image/label: labels require 14 columns each\n",
            "\u001b[34m\u001b[1mtrain: \u001b[0m/content/augmented/train/images/image_20241008_210224_jpg.rf.7b239c6226d122d0659e8062afdcc20c_aug3.jpg: ignoring corrupt image/label: labels require 14 columns each\n",
            "\u001b[34m\u001b[1mtrain: \u001b[0m/content/augmented/train/images/image_20241008_210224_jpg.rf.7b239c6226d122d0659e8062afdcc20c_aug4.jpg: ignoring corrupt image/label: labels require 14 columns each\n",
            "\u001b[34m\u001b[1mtrain: \u001b[0m/content/augmented/train/images/image_20241008_210538_jpg.rf.c42803c4d8e92eb8eb16e04159e0db3a_aug0.jpg: ignoring corrupt image/label: labels require 14 columns each\n",
            "\u001b[34m\u001b[1mtrain: \u001b[0m/content/augmented/train/images/image_20241008_210538_jpg.rf.c42803c4d8e92eb8eb16e04159e0db3a_aug1.jpg: ignoring corrupt image/label: labels require 14 columns each\n",
            "\u001b[34m\u001b[1mtrain: \u001b[0m/content/augmented/train/images/image_20241008_210538_jpg.rf.c42803c4d8e92eb8eb16e04159e0db3a_aug2.jpg: ignoring corrupt image/label: labels require 14 columns each\n",
            "\u001b[34m\u001b[1mtrain: \u001b[0m/content/augmented/train/images/image_20241008_210538_jpg.rf.c42803c4d8e92eb8eb16e04159e0db3a_aug3.jpg: ignoring corrupt image/label: labels require 14 columns each\n",
            "\u001b[34m\u001b[1mtrain: \u001b[0m/content/augmented/train/images/image_20241008_210538_jpg.rf.c42803c4d8e92eb8eb16e04159e0db3a_aug4.jpg: ignoring corrupt image/label: labels require 14 columns each\n",
            "\u001b[34m\u001b[1mtrain: \u001b[0m/content/augmented/train/images/image_20241009_135224_jpg.rf.ae2237bae9e721ccf8c2334f5ca3f5fd_aug0.jpg: ignoring corrupt image/label: labels require 14 columns each\n",
            "\u001b[34m\u001b[1mtrain: \u001b[0m/content/augmented/train/images/image_20241009_135224_jpg.rf.ae2237bae9e721ccf8c2334f5ca3f5fd_aug1.jpg: ignoring corrupt image/label: labels require 14 columns each\n",
            "\u001b[34m\u001b[1mtrain: \u001b[0m/content/augmented/train/images/image_20241009_135224_jpg.rf.ae2237bae9e721ccf8c2334f5ca3f5fd_aug2.jpg: ignoring corrupt image/label: labels require 14 columns each\n",
            "\u001b[34m\u001b[1mtrain: \u001b[0m/content/augmented/train/images/image_20241009_135224_jpg.rf.ae2237bae9e721ccf8c2334f5ca3f5fd_aug3.jpg: ignoring corrupt image/label: labels require 14 columns each\n",
            "\u001b[34m\u001b[1mtrain: \u001b[0m/content/augmented/train/images/image_20241009_135224_jpg.rf.ae2237bae9e721ccf8c2334f5ca3f5fd_aug4.jpg: ignoring corrupt image/label: labels require 14 columns each\n",
            "\u001b[34m\u001b[1mtrain: \u001b[0m/content/augmented/train/images/image_20241009_142917_jpg.rf.6018846a21176c7d96a483d4077a1a37_aug0.jpg: ignoring corrupt image/label: labels require 14 columns each\n",
            "\u001b[34m\u001b[1mtrain: \u001b[0m/content/augmented/train/images/image_20241009_142917_jpg.rf.6018846a21176c7d96a483d4077a1a37_aug1.jpg: ignoring corrupt image/label: labels require 14 columns each\n",
            "\u001b[34m\u001b[1mtrain: \u001b[0m/content/augmented/train/images/image_20241009_142917_jpg.rf.6018846a21176c7d96a483d4077a1a37_aug2.jpg: ignoring corrupt image/label: labels require 14 columns each\n",
            "\u001b[34m\u001b[1mtrain: \u001b[0m/content/augmented/train/images/image_20241009_142917_jpg.rf.6018846a21176c7d96a483d4077a1a37_aug3.jpg: ignoring corrupt image/label: labels require 14 columns each\n",
            "\u001b[34m\u001b[1mtrain: \u001b[0m/content/augmented/train/images/image_20241009_142917_jpg.rf.6018846a21176c7d96a483d4077a1a37_aug4.jpg: ignoring corrupt image/label: labels require 14 columns each\n",
            "\u001b[34m\u001b[1mtrain: \u001b[0m/content/augmented/train/images/image_20241009_143702_jpg.rf.94f545ac5f524ee6de537f486b2f0d71_aug0.jpg: ignoring corrupt image/label: labels require 14 columns each\n",
            "\u001b[34m\u001b[1mtrain: \u001b[0m/content/augmented/train/images/image_20241009_143702_jpg.rf.94f545ac5f524ee6de537f486b2f0d71_aug1.jpg: ignoring corrupt image/label: labels require 14 columns each\n",
            "\u001b[34m\u001b[1mtrain: \u001b[0m/content/augmented/train/images/image_20241009_143702_jpg.rf.94f545ac5f524ee6de537f486b2f0d71_aug2.jpg: ignoring corrupt image/label: labels require 14 columns each\n",
            "\u001b[34m\u001b[1mtrain: \u001b[0m/content/augmented/train/images/image_20241009_143702_jpg.rf.94f545ac5f524ee6de537f486b2f0d71_aug3.jpg: ignoring corrupt image/label: labels require 14 columns each\n",
            "\u001b[34m\u001b[1mtrain: \u001b[0m/content/augmented/train/images/image_20241009_143702_jpg.rf.94f545ac5f524ee6de537f486b2f0d71_aug4.jpg: ignoring corrupt image/label: labels require 14 columns each\n",
            "\u001b[34m\u001b[1mtrain: \u001b[0m/content/augmented/train/images/image_20241009_152252_jpg.rf.c91c9e93c03b45a1750489244e3a6c5c_aug0.jpg: ignoring corrupt image/label: labels require 14 columns each\n",
            "\u001b[34m\u001b[1mtrain: \u001b[0m/content/augmented/train/images/image_20241009_152252_jpg.rf.c91c9e93c03b45a1750489244e3a6c5c_aug1.jpg: ignoring corrupt image/label: labels require 14 columns each\n",
            "\u001b[34m\u001b[1mtrain: \u001b[0m/content/augmented/train/images/image_20241009_152252_jpg.rf.c91c9e93c03b45a1750489244e3a6c5c_aug2.jpg: ignoring corrupt image/label: labels require 14 columns each\n",
            "\u001b[34m\u001b[1mtrain: \u001b[0m/content/augmented/train/images/image_20241009_152252_jpg.rf.c91c9e93c03b45a1750489244e3a6c5c_aug3.jpg: ignoring corrupt image/label: labels require 14 columns each\n",
            "\u001b[34m\u001b[1mtrain: \u001b[0m/content/augmented/train/images/image_20241009_152252_jpg.rf.c91c9e93c03b45a1750489244e3a6c5c_aug4.jpg: ignoring corrupt image/label: labels require 14 columns each\n",
            "\u001b[34m\u001b[1mtrain: \u001b[0m/content/augmented/train/images/image_20241009_224235_jpg.rf.182acd5787f190067c1d6c2cf2ddd4e2_aug0.jpg: ignoring corrupt image/label: labels require 14 columns each\n",
            "\u001b[34m\u001b[1mtrain: \u001b[0m/content/augmented/train/images/image_20241009_224235_jpg.rf.182acd5787f190067c1d6c2cf2ddd4e2_aug1.jpg: ignoring corrupt image/label: labels require 14 columns each\n",
            "\u001b[34m\u001b[1mtrain: \u001b[0m/content/augmented/train/images/image_20241009_224235_jpg.rf.182acd5787f190067c1d6c2cf2ddd4e2_aug2.jpg: ignoring corrupt image/label: labels require 14 columns each\n",
            "\u001b[34m\u001b[1mtrain: \u001b[0m/content/augmented/train/images/image_20241009_224235_jpg.rf.182acd5787f190067c1d6c2cf2ddd4e2_aug3.jpg: ignoring corrupt image/label: labels require 14 columns each\n",
            "\u001b[34m\u001b[1mtrain: \u001b[0m/content/augmented/train/images/image_20241009_224235_jpg.rf.182acd5787f190067c1d6c2cf2ddd4e2_aug4.jpg: ignoring corrupt image/label: labels require 14 columns each\n",
            "\u001b[34m\u001b[1mtrain: \u001b[0m/content/augmented/train/images/image_20241009_224659_jpg.rf.5695f85b96ee8fb8e722de713352d02f_aug0.jpg: ignoring corrupt image/label: labels require 14 columns each\n",
            "\u001b[34m\u001b[1mtrain: \u001b[0m/content/augmented/train/images/image_20241009_224659_jpg.rf.5695f85b96ee8fb8e722de713352d02f_aug1.jpg: ignoring corrupt image/label: labels require 14 columns each\n",
            "\u001b[34m\u001b[1mtrain: \u001b[0m/content/augmented/train/images/image_20241009_224659_jpg.rf.5695f85b96ee8fb8e722de713352d02f_aug2.jpg: ignoring corrupt image/label: labels require 14 columns each\n",
            "\u001b[34m\u001b[1mtrain: \u001b[0m/content/augmented/train/images/image_20241009_224659_jpg.rf.5695f85b96ee8fb8e722de713352d02f_aug3.jpg: ignoring corrupt image/label: labels require 14 columns each\n",
            "\u001b[34m\u001b[1mtrain: \u001b[0m/content/augmented/train/images/image_20241009_224659_jpg.rf.5695f85b96ee8fb8e722de713352d02f_aug4.jpg: ignoring corrupt image/label: labels require 14 columns each\n",
            "\u001b[34m\u001b[1mtrain: \u001b[0m/content/augmented/train/images/image_20241009_224730_jpg.rf.b4aff58a9ac2defec1dc5e8e329d0790_aug0.jpg: ignoring corrupt image/label: labels require 14 columns each\n",
            "\u001b[34m\u001b[1mtrain: \u001b[0m/content/augmented/train/images/image_20241009_224730_jpg.rf.b4aff58a9ac2defec1dc5e8e329d0790_aug1.jpg: ignoring corrupt image/label: labels require 14 columns each\n",
            "\u001b[34m\u001b[1mtrain: \u001b[0m/content/augmented/train/images/image_20241009_224730_jpg.rf.b4aff58a9ac2defec1dc5e8e329d0790_aug2.jpg: ignoring corrupt image/label: labels require 14 columns each\n",
            "\u001b[34m\u001b[1mtrain: \u001b[0m/content/augmented/train/images/image_20241009_224730_jpg.rf.b4aff58a9ac2defec1dc5e8e329d0790_aug3.jpg: ignoring corrupt image/label: labels require 14 columns each\n",
            "\u001b[34m\u001b[1mtrain: \u001b[0m/content/augmented/train/images/image_20241009_224730_jpg.rf.b4aff58a9ac2defec1dc5e8e329d0790_aug4.jpg: ignoring corrupt image/label: labels require 14 columns each\n",
            "\u001b[34m\u001b[1mtrain: \u001b[0m/content/augmented/train/images/image_20241009_225721_jpg.rf.a1fbb171acc34c980c089a60df03a5aa_aug0.jpg: ignoring corrupt image/label: labels require 14 columns each\n",
            "\u001b[34m\u001b[1mtrain: \u001b[0m/content/augmented/train/images/image_20241009_225721_jpg.rf.a1fbb171acc34c980c089a60df03a5aa_aug1.jpg: ignoring corrupt image/label: labels require 14 columns each\n",
            "\u001b[34m\u001b[1mtrain: \u001b[0m/content/augmented/train/images/image_20241009_225721_jpg.rf.a1fbb171acc34c980c089a60df03a5aa_aug2.jpg: ignoring corrupt image/label: labels require 14 columns each\n",
            "\u001b[34m\u001b[1mtrain: \u001b[0m/content/augmented/train/images/image_20241009_225721_jpg.rf.a1fbb171acc34c980c089a60df03a5aa_aug3.jpg: ignoring corrupt image/label: labels require 14 columns each\n",
            "\u001b[34m\u001b[1mtrain: \u001b[0m/content/augmented/train/images/image_20241009_225721_jpg.rf.a1fbb171acc34c980c089a60df03a5aa_aug4.jpg: ignoring corrupt image/label: labels require 14 columns each\n",
            "\u001b[34m\u001b[1mtrain: \u001b[0m/content/augmented/train/images/image_20241009_225822_jpg.rf.59e1abe906c1d3db49a5dd66f8d97c6c_aug0.jpg: ignoring corrupt image/label: labels require 14 columns each\n",
            "\u001b[34m\u001b[1mtrain: \u001b[0m/content/augmented/train/images/image_20241009_225822_jpg.rf.59e1abe906c1d3db49a5dd66f8d97c6c_aug1.jpg: ignoring corrupt image/label: labels require 14 columns each\n",
            "\u001b[34m\u001b[1mtrain: \u001b[0m/content/augmented/train/images/image_20241009_225822_jpg.rf.59e1abe906c1d3db49a5dd66f8d97c6c_aug2.jpg: ignoring corrupt image/label: labels require 14 columns each\n",
            "\u001b[34m\u001b[1mtrain: \u001b[0m/content/augmented/train/images/image_20241009_225822_jpg.rf.59e1abe906c1d3db49a5dd66f8d97c6c_aug3.jpg: ignoring corrupt image/label: labels require 14 columns each\n",
            "\u001b[34m\u001b[1mtrain: \u001b[0m/content/augmented/train/images/image_20241009_225822_jpg.rf.59e1abe906c1d3db49a5dd66f8d97c6c_aug4.jpg: ignoring corrupt image/label: labels require 14 columns each\n",
            "\u001b[34m\u001b[1mtrain: \u001b[0m/content/augmented/train/images/image_20241010_173545_jpg.rf.eb4a17695c48691300cf97c05bc60cda_aug0.jpg: ignoring corrupt image/label: labels require 14 columns each\n",
            "\u001b[34m\u001b[1mtrain: \u001b[0m/content/augmented/train/images/image_20241010_173545_jpg.rf.eb4a17695c48691300cf97c05bc60cda_aug1.jpg: ignoring corrupt image/label: labels require 14 columns each\n",
            "\u001b[34m\u001b[1mtrain: \u001b[0m/content/augmented/train/images/image_20241010_173545_jpg.rf.eb4a17695c48691300cf97c05bc60cda_aug2.jpg: ignoring corrupt image/label: labels require 14 columns each\n",
            "\u001b[34m\u001b[1mtrain: \u001b[0m/content/augmented/train/images/image_20241010_173545_jpg.rf.eb4a17695c48691300cf97c05bc60cda_aug3.jpg: ignoring corrupt image/label: labels require 14 columns each\n",
            "\u001b[34m\u001b[1mtrain: \u001b[0m/content/augmented/train/images/image_20241010_173545_jpg.rf.eb4a17695c48691300cf97c05bc60cda_aug4.jpg: ignoring corrupt image/label: labels require 14 columns each\n"
          ]
        },
        {
          "output_type": "stream",
          "name": "stderr",
          "text": [
            "\n"
          ]
        },
        {
          "output_type": "stream",
          "name": "stdout",
          "text": [
            "\u001b[34m\u001b[1mtrain: \u001b[0mNew cache created: /content/augmented/train/labels.cache\n",
            "\u001b[34m\u001b[1malbumentations: \u001b[0mBlur(p=0.01, blur_limit=(3, 7)), MedianBlur(p=0.01, blur_limit=(3, 7)), ToGray(p=0.01, method='weighted_average', num_output_channels=3), CLAHE(p=0.01, clip_limit=(1.0, 4.0), tile_grid_size=(8, 8))\n",
            "\u001b[34m\u001b[1mval: \u001b[0mFast image access ✅ (ping: 0.0±0.0 ms, read: 16.3±9.7 MB/s, size: 29.9 KB)\n"
          ]
        },
        {
          "output_type": "stream",
          "name": "stderr",
          "text": [
            "\u001b[34m\u001b[1mval: \u001b[0mScanning /content/sitting-posture-3/valid/labels... 55 images, 0 backgrounds, 0 corrupt: 100%|██████████| 55/55 [00:00<00:00, 419.33it/s]"
          ]
        },
        {
          "output_type": "stream",
          "name": "stdout",
          "text": [
            "\u001b[34m\u001b[1mval: \u001b[0mNew cache created: /content/sitting-posture-3/valid/labels.cache\n"
          ]
        },
        {
          "output_type": "stream",
          "name": "stderr",
          "text": [
            "\n"
          ]
        },
        {
          "output_type": "stream",
          "name": "stdout",
          "text": [
            "Plotting labels to runs/pose/train2/labels.jpg... \n",
            "\u001b[34m\u001b[1moptimizer:\u001b[0m 'optimizer=auto' found, ignoring 'lr0=0.01' and 'momentum=0.937' and determining best 'optimizer', 'lr0' and 'momentum' automatically... \n",
            "\u001b[34m\u001b[1moptimizer:\u001b[0m AdamW(lr=0.001667, momentum=0.9) with parameter groups 63 weight(decay=0.0), 73 weight(decay=0.0005), 72 bias(decay=0.0)\n",
            "Image sizes 640 train, 640 val\n",
            "Using 2 dataloader workers\n",
            "Logging results to \u001b[1mruns/pose/train2\u001b[0m\n",
            "Starting training for 150 epochs...\n",
            "\n",
            "      Epoch    GPU_mem   box_loss  pose_loss  kobj_loss   cls_loss   dfl_loss  Instances       Size\n"
          ]
        },
        {
          "output_type": "stream",
          "name": "stderr",
          "text": [
            "      1/150      3.57G      1.373       2.21     0.7323      2.694       1.71         31        640: 100%|██████████| 12/12 [00:08<00:00,  1.41it/s]\n",
            "                 Class     Images  Instances      Box(P          R      mAP50  mAP50-95)     Pose(P          R      mAP50  mAP50-95): 100%|██████████| 2/2 [00:00<00:00,  3.06it/s]"
          ]
        },
        {
          "output_type": "stream",
          "name": "stdout",
          "text": [
            "                   all         55         55      0.636      0.864      0.835      0.514      0.671      0.809      0.827      0.345\n"
          ]
        },
        {
          "output_type": "stream",
          "name": "stderr",
          "text": [
            "\n"
          ]
        },
        {
          "output_type": "stream",
          "name": "stdout",
          "text": [
            "\n",
            "      Epoch    GPU_mem   box_loss  pose_loss  kobj_loss   cls_loss   dfl_loss  Instances       Size\n"
          ]
        },
        {
          "output_type": "stream",
          "name": "stderr",
          "text": [
            "      2/150       4.2G      1.113     0.6464     0.6395      1.588      1.365         40        640: 100%|██████████| 12/12 [00:04<00:00,  2.61it/s]\n",
            "                 Class     Images  Instances      Box(P          R      mAP50  mAP50-95)     Pose(P          R      mAP50  mAP50-95): 100%|██████████| 2/2 [00:01<00:00,  1.75it/s]"
          ]
        },
        {
          "output_type": "stream",
          "name": "stdout",
          "text": [
            "                   all         55         55      0.819        0.5      0.546      0.353      0.819        0.5      0.546      0.368\n"
          ]
        },
        {
          "output_type": "stream",
          "name": "stderr",
          "text": [
            "\n"
          ]
        },
        {
          "output_type": "stream",
          "name": "stdout",
          "text": [
            "\n",
            "      Epoch    GPU_mem   box_loss  pose_loss  kobj_loss   cls_loss   dfl_loss  Instances       Size\n"
          ]
        },
        {
          "output_type": "stream",
          "name": "stderr",
          "text": [
            "      3/150      4.23G      1.155     0.3954     0.5696      1.445       1.41         33        640: 100%|██████████| 12/12 [00:03<00:00,  3.33it/s]\n",
            "                 Class     Images  Instances      Box(P          R      mAP50  mAP50-95)     Pose(P          R      mAP50  mAP50-95): 100%|██████████| 2/2 [00:00<00:00,  3.26it/s]"
          ]
        },
        {
          "output_type": "stream",
          "name": "stdout",
          "text": [
            "                   all         55         55      0.782      0.861      0.938      0.618      0.782      0.861      0.938      0.881\n"
          ]
        },
        {
          "output_type": "stream",
          "name": "stderr",
          "text": [
            "\n"
          ]
        },
        {
          "output_type": "stream",
          "name": "stdout",
          "text": [
            "\n",
            "      Epoch    GPU_mem   box_loss  pose_loss  kobj_loss   cls_loss   dfl_loss  Instances       Size\n"
          ]
        },
        {
          "output_type": "stream",
          "name": "stderr",
          "text": [
            "      4/150      4.27G      1.096     0.3635     0.5372      1.345      1.357         42        640: 100%|██████████| 12/12 [00:03<00:00,  3.29it/s]\n",
            "                 Class     Images  Instances      Box(P          R      mAP50  mAP50-95)     Pose(P          R      mAP50  mAP50-95): 100%|██████████| 2/2 [00:00<00:00,  3.38it/s]"
          ]
        },
        {
          "output_type": "stream",
          "name": "stdout",
          "text": [
            "                   all         55         55       0.87      0.556      0.709      0.439      0.575      0.729      0.761      0.698\n"
          ]
        },
        {
          "output_type": "stream",
          "name": "stderr",
          "text": [
            "\n"
          ]
        },
        {
          "output_type": "stream",
          "name": "stdout",
          "text": [
            "\n",
            "      Epoch    GPU_mem   box_loss  pose_loss  kobj_loss   cls_loss   dfl_loss  Instances       Size\n"
          ]
        },
        {
          "output_type": "stream",
          "name": "stderr",
          "text": [
            "      5/150      4.31G      1.161     0.3251     0.4918      1.218      1.357         47        640: 100%|██████████| 12/12 [00:04<00:00,  2.59it/s]\n",
            "                 Class     Images  Instances      Box(P          R      mAP50  mAP50-95)     Pose(P          R      mAP50  mAP50-95): 100%|██████████| 2/2 [00:00<00:00,  2.69it/s]"
          ]
        },
        {
          "output_type": "stream",
          "name": "stdout",
          "text": [
            "                   all         55         55      0.658      0.726      0.888      0.365      0.658      0.726       0.89      0.799\n"
          ]
        },
        {
          "output_type": "stream",
          "name": "stderr",
          "text": [
            "\n"
          ]
        },
        {
          "output_type": "stream",
          "name": "stdout",
          "text": [
            "\n",
            "      Epoch    GPU_mem   box_loss  pose_loss  kobj_loss   cls_loss   dfl_loss  Instances       Size\n"
          ]
        },
        {
          "output_type": "stream",
          "name": "stderr",
          "text": [
            "      6/150      4.35G      1.193      0.327     0.4505       1.25      1.389         38        640: 100%|██████████| 12/12 [00:03<00:00,  3.41it/s]\n",
            "                 Class     Images  Instances      Box(P          R      mAP50  mAP50-95)     Pose(P          R      mAP50  mAP50-95): 100%|██████████| 2/2 [00:00<00:00,  3.75it/s]"
          ]
        },
        {
          "output_type": "stream",
          "name": "stdout",
          "text": [
            "                   all         55         55      0.803      0.725      0.808      0.461      0.803      0.725      0.808      0.776\n"
          ]
        },
        {
          "output_type": "stream",
          "name": "stderr",
          "text": [
            "\n"
          ]
        },
        {
          "output_type": "stream",
          "name": "stdout",
          "text": [
            "\n",
            "      Epoch    GPU_mem   box_loss  pose_loss  kobj_loss   cls_loss   dfl_loss  Instances       Size\n"
          ]
        },
        {
          "output_type": "stream",
          "name": "stderr",
          "text": [
            "      7/150      4.39G      1.119     0.3011     0.4289       1.15      1.358         34        640: 100%|██████████| 12/12 [00:03<00:00,  3.40it/s]\n",
            "                 Class     Images  Instances      Box(P          R      mAP50  mAP50-95)     Pose(P          R      mAP50  mAP50-95): 100%|██████████| 2/2 [00:00<00:00,  3.75it/s]"
          ]
        },
        {
          "output_type": "stream",
          "name": "stdout",
          "text": [
            "                   all         55         55      0.776      0.766      0.802      0.417      0.773      0.777      0.813      0.729\n"
          ]
        },
        {
          "output_type": "stream",
          "name": "stderr",
          "text": [
            "\n"
          ]
        },
        {
          "output_type": "stream",
          "name": "stdout",
          "text": [
            "\n",
            "      Epoch    GPU_mem   box_loss  pose_loss  kobj_loss   cls_loss   dfl_loss  Instances       Size\n"
          ]
        },
        {
          "output_type": "stream",
          "name": "stderr",
          "text": [
            "      8/150      4.42G      1.153     0.2765     0.3915      1.138      1.384         35        640: 100%|██████████| 12/12 [00:04<00:00,  2.64it/s]\n",
            "                 Class     Images  Instances      Box(P          R      mAP50  mAP50-95)     Pose(P          R      mAP50  mAP50-95): 100%|██████████| 2/2 [00:00<00:00,  3.10it/s]"
          ]
        },
        {
          "output_type": "stream",
          "name": "stdout",
          "text": [
            "                   all         55         55      0.738      0.787       0.75      0.441      0.738      0.787       0.75      0.731\n"
          ]
        },
        {
          "output_type": "stream",
          "name": "stderr",
          "text": [
            "\n"
          ]
        },
        {
          "output_type": "stream",
          "name": "stdout",
          "text": [
            "\n",
            "      Epoch    GPU_mem   box_loss  pose_loss  kobj_loss   cls_loss   dfl_loss  Instances       Size\n"
          ]
        },
        {
          "output_type": "stream",
          "name": "stderr",
          "text": [
            "      9/150      4.46G       1.07     0.2977     0.3438      1.003      1.297         38        640: 100%|██████████| 12/12 [00:03<00:00,  3.47it/s]\n",
            "                 Class     Images  Instances      Box(P          R      mAP50  mAP50-95)     Pose(P          R      mAP50  mAP50-95): 100%|██████████| 2/2 [00:00<00:00,  3.66it/s]"
          ]
        },
        {
          "output_type": "stream",
          "name": "stdout",
          "text": [
            "                   all         55         55      0.585      0.741      0.778      0.392      0.585      0.741      0.778      0.675\n"
          ]
        },
        {
          "output_type": "stream",
          "name": "stderr",
          "text": [
            "\n"
          ]
        },
        {
          "output_type": "stream",
          "name": "stdout",
          "text": [
            "\n",
            "      Epoch    GPU_mem   box_loss  pose_loss  kobj_loss   cls_loss   dfl_loss  Instances       Size\n"
          ]
        },
        {
          "output_type": "stream",
          "name": "stderr",
          "text": [
            "     10/150       4.5G      1.161     0.2891     0.3431     0.9858      1.353         40        640: 100%|██████████| 12/12 [00:03<00:00,  3.38it/s]\n",
            "                 Class     Images  Instances      Box(P          R      mAP50  mAP50-95)     Pose(P          R      mAP50  mAP50-95): 100%|██████████| 2/2 [00:00<00:00,  3.06it/s]"
          ]
        },
        {
          "output_type": "stream",
          "name": "stdout",
          "text": [
            "                   all         55         55      0.652      0.776      0.846      0.442      0.652      0.776      0.847      0.818\n"
          ]
        },
        {
          "output_type": "stream",
          "name": "stderr",
          "text": [
            "\n"
          ]
        },
        {
          "output_type": "stream",
          "name": "stdout",
          "text": [
            "\n",
            "      Epoch    GPU_mem   box_loss  pose_loss  kobj_loss   cls_loss   dfl_loss  Instances       Size\n"
          ]
        },
        {
          "output_type": "stream",
          "name": "stderr",
          "text": [
            "     11/150      4.54G      1.134     0.3031     0.2971     0.9993      1.337         43        640: 100%|██████████| 12/12 [00:04<00:00,  2.78it/s]\n",
            "                 Class     Images  Instances      Box(P          R      mAP50  mAP50-95)     Pose(P          R      mAP50  mAP50-95): 100%|██████████| 2/2 [00:00<00:00,  3.59it/s]"
          ]
        },
        {
          "output_type": "stream",
          "name": "stdout",
          "text": [
            "                   all         55         55      0.805      0.794      0.897      0.601      0.805      0.794        0.9      0.862\n"
          ]
        },
        {
          "output_type": "stream",
          "name": "stderr",
          "text": [
            "\n"
          ]
        },
        {
          "output_type": "stream",
          "name": "stdout",
          "text": [
            "\n",
            "      Epoch    GPU_mem   box_loss  pose_loss  kobj_loss   cls_loss   dfl_loss  Instances       Size\n"
          ]
        },
        {
          "output_type": "stream",
          "name": "stderr",
          "text": [
            "     12/150      4.57G      1.122       0.31     0.2793      1.008      1.368         39        640: 100%|██████████| 12/12 [00:03<00:00,  3.36it/s]\n",
            "                 Class     Images  Instances      Box(P          R      mAP50  mAP50-95)     Pose(P          R      mAP50  mAP50-95): 100%|██████████| 2/2 [00:00<00:00,  2.53it/s]"
          ]
        },
        {
          "output_type": "stream",
          "name": "stdout",
          "text": [
            "                   all         55         55      0.831      0.821      0.858      0.531      0.831      0.821      0.887       0.81\n"
          ]
        },
        {
          "output_type": "stream",
          "name": "stderr",
          "text": [
            "\n"
          ]
        },
        {
          "output_type": "stream",
          "name": "stdout",
          "text": [
            "\n",
            "      Epoch    GPU_mem   box_loss  pose_loss  kobj_loss   cls_loss   dfl_loss  Instances       Size\n"
          ]
        },
        {
          "output_type": "stream",
          "name": "stderr",
          "text": [
            "     13/150      4.61G      1.097      0.244     0.2557     0.9383      1.346         34        640: 100%|██████████| 12/12 [00:04<00:00,  2.85it/s]\n",
            "                 Class     Images  Instances      Box(P          R      mAP50  mAP50-95)     Pose(P          R      mAP50  mAP50-95): 100%|██████████| 2/2 [00:00<00:00,  2.08it/s]"
          ]
        },
        {
          "output_type": "stream",
          "name": "stdout",
          "text": [
            "                   all         55         55      0.856      0.807      0.807      0.511      0.856      0.807      0.812      0.775\n"
          ]
        },
        {
          "output_type": "stream",
          "name": "stderr",
          "text": [
            "\n"
          ]
        },
        {
          "output_type": "stream",
          "name": "stdout",
          "text": [
            "\n",
            "      Epoch    GPU_mem   box_loss  pose_loss  kobj_loss   cls_loss   dfl_loss  Instances       Size\n"
          ]
        },
        {
          "output_type": "stream",
          "name": "stderr",
          "text": [
            "     14/150      4.65G      1.099     0.2572     0.2399     0.8932      1.323         40        640: 100%|██████████| 12/12 [00:03<00:00,  3.21it/s]\n",
            "                 Class     Images  Instances      Box(P          R      mAP50  mAP50-95)     Pose(P          R      mAP50  mAP50-95): 100%|██████████| 2/2 [00:00<00:00,  3.69it/s]"
          ]
        },
        {
          "output_type": "stream",
          "name": "stdout",
          "text": [
            "                   all         55         55      0.738      0.787      0.764      0.406      0.738      0.787      0.789      0.699\n"
          ]
        },
        {
          "output_type": "stream",
          "name": "stderr",
          "text": [
            "\n"
          ]
        },
        {
          "output_type": "stream",
          "name": "stdout",
          "text": [
            "\n",
            "      Epoch    GPU_mem   box_loss  pose_loss  kobj_loss   cls_loss   dfl_loss  Instances       Size\n"
          ]
        },
        {
          "output_type": "stream",
          "name": "stderr",
          "text": [
            "     15/150      4.69G      1.094     0.2186     0.2373     0.9038      1.332         38        640: 100%|██████████| 12/12 [00:03<00:00,  3.42it/s]\n",
            "                 Class     Images  Instances      Box(P          R      mAP50  mAP50-95)     Pose(P          R      mAP50  mAP50-95): 100%|██████████| 2/2 [00:00<00:00,  3.76it/s]"
          ]
        },
        {
          "output_type": "stream",
          "name": "stdout",
          "text": [
            "                   all         55         55      0.754      0.833      0.837      0.457      0.765      0.846      0.853      0.818\n"
          ]
        },
        {
          "output_type": "stream",
          "name": "stderr",
          "text": [
            "\n"
          ]
        },
        {
          "output_type": "stream",
          "name": "stdout",
          "text": [
            "\n",
            "      Epoch    GPU_mem   box_loss  pose_loss  kobj_loss   cls_loss   dfl_loss  Instances       Size\n"
          ]
        },
        {
          "output_type": "stream",
          "name": "stderr",
          "text": [
            "     16/150      4.73G      1.077     0.2074     0.2187     0.8391       1.32         37        640: 100%|██████████| 12/12 [00:04<00:00,  3.00it/s]\n",
            "                 Class     Images  Instances      Box(P          R      mAP50  mAP50-95)     Pose(P          R      mAP50  mAP50-95): 100%|██████████| 2/2 [00:00<00:00,  2.05it/s]"
          ]
        },
        {
          "output_type": "stream",
          "name": "stdout",
          "text": [
            "                   all         55         55      0.858      0.872      0.882      0.601      0.858      0.872      0.887      0.849\n"
          ]
        },
        {
          "output_type": "stream",
          "name": "stderr",
          "text": [
            "\n"
          ]
        },
        {
          "output_type": "stream",
          "name": "stdout",
          "text": [
            "\n",
            "      Epoch    GPU_mem   box_loss  pose_loss  kobj_loss   cls_loss   dfl_loss  Instances       Size\n"
          ]
        },
        {
          "output_type": "stream",
          "name": "stderr",
          "text": [
            "     17/150      4.76G      1.047     0.2047     0.2114     0.8654      1.288         48        640: 100%|██████████| 12/12 [00:03<00:00,  3.30it/s]\n",
            "                 Class     Images  Instances      Box(P          R      mAP50  mAP50-95)     Pose(P          R      mAP50  mAP50-95): 100%|██████████| 2/2 [00:00<00:00,  3.72it/s]"
          ]
        },
        {
          "output_type": "stream",
          "name": "stdout",
          "text": [
            "                   all         55         55      0.724      0.751      0.794      0.547      0.724      0.751      0.796      0.794\n"
          ]
        },
        {
          "output_type": "stream",
          "name": "stderr",
          "text": [
            "\n"
          ]
        },
        {
          "output_type": "stream",
          "name": "stdout",
          "text": [
            "\n",
            "      Epoch    GPU_mem   box_loss  pose_loss  kobj_loss   cls_loss   dfl_loss  Instances       Size\n"
          ]
        },
        {
          "output_type": "stream",
          "name": "stderr",
          "text": [
            "     18/150       4.8G      1.025     0.1871     0.2085     0.8024      1.297         32        640: 100%|██████████| 12/12 [00:03<00:00,  3.37it/s]\n",
            "                 Class     Images  Instances      Box(P          R      mAP50  mAP50-95)     Pose(P          R      mAP50  mAP50-95): 100%|██████████| 2/2 [00:00<00:00,  3.67it/s]"
          ]
        },
        {
          "output_type": "stream",
          "name": "stdout",
          "text": [
            "                   all         55         55      0.876      0.863      0.866      0.587      0.876      0.863      0.872      0.855\n"
          ]
        },
        {
          "output_type": "stream",
          "name": "stderr",
          "text": [
            "\n"
          ]
        },
        {
          "output_type": "stream",
          "name": "stdout",
          "text": [
            "\n",
            "      Epoch    GPU_mem   box_loss  pose_loss  kobj_loss   cls_loss   dfl_loss  Instances       Size\n"
          ]
        },
        {
          "output_type": "stream",
          "name": "stderr",
          "text": [
            "     19/150      4.84G      1.066     0.2049     0.1862      0.853      1.314         37        640: 100%|██████████| 12/12 [00:04<00:00,  2.81it/s]\n",
            "                 Class     Images  Instances      Box(P          R      mAP50  mAP50-95)     Pose(P          R      mAP50  mAP50-95): 100%|██████████| 2/2 [00:01<00:00,  1.98it/s]"
          ]
        },
        {
          "output_type": "stream",
          "name": "stdout",
          "text": [
            "                   all         55         55      0.827      0.932      0.938      0.565      0.827      0.932      0.938      0.926\n"
          ]
        },
        {
          "output_type": "stream",
          "name": "stderr",
          "text": [
            "\n"
          ]
        },
        {
          "output_type": "stream",
          "name": "stdout",
          "text": [
            "\n",
            "      Epoch    GPU_mem   box_loss  pose_loss  kobj_loss   cls_loss   dfl_loss  Instances       Size\n"
          ]
        },
        {
          "output_type": "stream",
          "name": "stderr",
          "text": [
            "     20/150      4.88G      1.048     0.2285     0.2065     0.8513      1.313         39        640: 100%|██████████| 12/12 [00:03<00:00,  3.41it/s]\n",
            "                 Class     Images  Instances      Box(P          R      mAP50  mAP50-95)     Pose(P          R      mAP50  mAP50-95): 100%|██████████| 2/2 [00:00<00:00,  3.72it/s]"
          ]
        },
        {
          "output_type": "stream",
          "name": "stdout",
          "text": [
            "                   all         55         55      0.843      0.879      0.928      0.606      0.843      0.879      0.928      0.928\n"
          ]
        },
        {
          "output_type": "stream",
          "name": "stderr",
          "text": [
            "\n"
          ]
        },
        {
          "output_type": "stream",
          "name": "stdout",
          "text": [
            "\n",
            "      Epoch    GPU_mem   box_loss  pose_loss  kobj_loss   cls_loss   dfl_loss  Instances       Size\n"
          ]
        },
        {
          "output_type": "stream",
          "name": "stderr",
          "text": [
            "     21/150      4.92G     0.9659     0.2503     0.1933     0.8038      1.286         31        640: 100%|██████████| 12/12 [00:03<00:00,  3.34it/s]\n",
            "                 Class     Images  Instances      Box(P          R      mAP50  mAP50-95)     Pose(P          R      mAP50  mAP50-95): 100%|██████████| 2/2 [00:00<00:00,  3.76it/s]"
          ]
        },
        {
          "output_type": "stream",
          "name": "stdout",
          "text": [
            "                   all         55         55        0.9      0.856      0.881      0.606        0.9      0.856      0.881      0.881\n"
          ]
        },
        {
          "output_type": "stream",
          "name": "stderr",
          "text": [
            "\n"
          ]
        },
        {
          "output_type": "stream",
          "name": "stdout",
          "text": [
            "\n",
            "      Epoch    GPU_mem   box_loss  pose_loss  kobj_loss   cls_loss   dfl_loss  Instances       Size\n"
          ]
        },
        {
          "output_type": "stream",
          "name": "stderr",
          "text": [
            "     22/150      4.95G     0.9798     0.2311     0.1954     0.7818      1.275         41        640: 100%|██████████| 12/12 [00:04<00:00,  2.62it/s]\n",
            "                 Class     Images  Instances      Box(P          R      mAP50  mAP50-95)     Pose(P          R      mAP50  mAP50-95): 100%|██████████| 2/2 [00:00<00:00,  2.30it/s]"
          ]
        },
        {
          "output_type": "stream",
          "name": "stdout",
          "text": [
            "                   all         55         55      0.897      0.903       0.94      0.615      0.904      0.898      0.942      0.935\n"
          ]
        },
        {
          "output_type": "stream",
          "name": "stderr",
          "text": [
            "\n"
          ]
        },
        {
          "output_type": "stream",
          "name": "stdout",
          "text": [
            "\n",
            "      Epoch    GPU_mem   box_loss  pose_loss  kobj_loss   cls_loss   dfl_loss  Instances       Size\n"
          ]
        },
        {
          "output_type": "stream",
          "name": "stderr",
          "text": [
            "     23/150      4.99G     0.9465     0.1882     0.1861     0.7932      1.222         39        640: 100%|██████████| 12/12 [00:03<00:00,  3.35it/s]\n",
            "                 Class     Images  Instances      Box(P          R      mAP50  mAP50-95)     Pose(P          R      mAP50  mAP50-95): 100%|██████████| 2/2 [00:00<00:00,  3.74it/s]"
          ]
        },
        {
          "output_type": "stream",
          "name": "stdout",
          "text": [
            "                   all         55         55      0.834       0.98       0.97      0.668      0.834       0.98       0.97      0.969\n"
          ]
        },
        {
          "output_type": "stream",
          "name": "stderr",
          "text": [
            "\n"
          ]
        },
        {
          "output_type": "stream",
          "name": "stdout",
          "text": [
            "\n",
            "      Epoch    GPU_mem   box_loss  pose_loss  kobj_loss   cls_loss   dfl_loss  Instances       Size\n"
          ]
        },
        {
          "output_type": "stream",
          "name": "stderr",
          "text": [
            "     24/150      5.03G     0.9882     0.1605      0.169     0.8206      1.279         35        640: 100%|██████████| 12/12 [00:03<00:00,  3.40it/s]\n",
            "                 Class     Images  Instances      Box(P          R      mAP50  mAP50-95)     Pose(P          R      mAP50  mAP50-95): 100%|██████████| 2/2 [00:00<00:00,  3.71it/s]"
          ]
        },
        {
          "output_type": "stream",
          "name": "stdout",
          "text": [
            "                   all         55         55      0.946      0.821      0.952      0.658      0.946      0.821      0.952      0.951\n"
          ]
        },
        {
          "output_type": "stream",
          "name": "stderr",
          "text": [
            "\n"
          ]
        },
        {
          "output_type": "stream",
          "name": "stdout",
          "text": [
            "\n",
            "      Epoch    GPU_mem   box_loss  pose_loss  kobj_loss   cls_loss   dfl_loss  Instances       Size\n"
          ]
        },
        {
          "output_type": "stream",
          "name": "stderr",
          "text": [
            "     25/150      5.07G     0.9289     0.1988     0.1723     0.7375      1.228         40        640: 100%|██████████| 12/12 [00:04<00:00,  2.66it/s]\n",
            "                 Class     Images  Instances      Box(P          R      mAP50  mAP50-95)     Pose(P          R      mAP50  mAP50-95): 100%|██████████| 2/2 [00:00<00:00,  3.13it/s]"
          ]
        },
        {
          "output_type": "stream",
          "name": "stdout",
          "text": [
            "                   all         55         55      0.905      0.848      0.932      0.594      0.905      0.848      0.932      0.932\n"
          ]
        },
        {
          "output_type": "stream",
          "name": "stderr",
          "text": [
            "\n"
          ]
        },
        {
          "output_type": "stream",
          "name": "stdout",
          "text": [
            "\n",
            "      Epoch    GPU_mem   box_loss  pose_loss  kobj_loss   cls_loss   dfl_loss  Instances       Size\n"
          ]
        },
        {
          "output_type": "stream",
          "name": "stderr",
          "text": [
            "     26/150       5.1G     0.9755     0.1632     0.1792      0.726      1.255         40        640: 100%|██████████| 12/12 [00:03<00:00,  3.42it/s]\n",
            "                 Class     Images  Instances      Box(P          R      mAP50  mAP50-95)     Pose(P          R      mAP50  mAP50-95): 100%|██████████| 2/2 [00:00<00:00,  3.33it/s]"
          ]
        },
        {
          "output_type": "stream",
          "name": "stdout",
          "text": [
            "                   all         55         55      0.962      0.903      0.982      0.695      0.962      0.903      0.982      0.982\n"
          ]
        },
        {
          "output_type": "stream",
          "name": "stderr",
          "text": [
            "\n"
          ]
        },
        {
          "output_type": "stream",
          "name": "stdout",
          "text": [
            "\n",
            "      Epoch    GPU_mem   box_loss  pose_loss  kobj_loss   cls_loss   dfl_loss  Instances       Size\n"
          ]
        },
        {
          "output_type": "stream",
          "name": "stderr",
          "text": [
            "     27/150      5.14G     0.9414     0.1584     0.1492     0.7121      1.237         47        640: 100%|██████████| 12/12 [00:03<00:00,  3.41it/s]\n",
            "                 Class     Images  Instances      Box(P          R      mAP50  mAP50-95)     Pose(P          R      mAP50  mAP50-95): 100%|██████████| 2/2 [00:00<00:00,  2.59it/s]"
          ]
        },
        {
          "output_type": "stream",
          "name": "stdout",
          "text": [
            "                   all         55         55      0.828      0.861      0.898      0.635      0.828      0.861      0.898      0.892\n"
          ]
        },
        {
          "output_type": "stream",
          "name": "stderr",
          "text": [
            "\n"
          ]
        },
        {
          "output_type": "stream",
          "name": "stdout",
          "text": [
            "\n",
            "      Epoch    GPU_mem   box_loss  pose_loss  kobj_loss   cls_loss   dfl_loss  Instances       Size\n"
          ]
        },
        {
          "output_type": "stream",
          "name": "stderr",
          "text": [
            "     28/150      5.18G     0.9697      0.168     0.1693      0.722      1.237         38        640: 100%|██████████| 12/12 [00:04<00:00,  2.76it/s]\n",
            "                 Class     Images  Instances      Box(P          R      mAP50  mAP50-95)     Pose(P          R      mAP50  mAP50-95): 100%|██████████| 2/2 [00:00<00:00,  3.54it/s]"
          ]
        },
        {
          "output_type": "stream",
          "name": "stdout",
          "text": [
            "                   all         55         55      0.909      0.895       0.95      0.651      0.909      0.895       0.95       0.95\n"
          ]
        },
        {
          "output_type": "stream",
          "name": "stderr",
          "text": [
            "\n"
          ]
        },
        {
          "output_type": "stream",
          "name": "stdout",
          "text": [
            "\n",
            "      Epoch    GPU_mem   box_loss  pose_loss  kobj_loss   cls_loss   dfl_loss  Instances       Size\n"
          ]
        },
        {
          "output_type": "stream",
          "name": "stderr",
          "text": [
            "     29/150      5.25G     0.9913     0.1746     0.1548     0.7665      1.266         46        640: 100%|██████████| 12/12 [00:03<00:00,  3.45it/s]\n",
            "                 Class     Images  Instances      Box(P          R      mAP50  mAP50-95)     Pose(P          R      mAP50  mAP50-95): 100%|██████████| 2/2 [00:00<00:00,  3.62it/s]"
          ]
        },
        {
          "output_type": "stream",
          "name": "stdout",
          "text": [
            "                   all         55         55      0.921      0.863      0.952       0.66      0.921      0.863      0.952      0.948\n"
          ]
        },
        {
          "output_type": "stream",
          "name": "stderr",
          "text": [
            "\n"
          ]
        },
        {
          "output_type": "stream",
          "name": "stdout",
          "text": [
            "\n",
            "      Epoch    GPU_mem   box_loss  pose_loss  kobj_loss   cls_loss   dfl_loss  Instances       Size\n"
          ]
        },
        {
          "output_type": "stream",
          "name": "stderr",
          "text": [
            "     30/150      5.29G     0.9775     0.1778     0.1452     0.7787      1.252         45        640: 100%|██████████| 12/12 [00:03<00:00,  3.18it/s]\n",
            "                 Class     Images  Instances      Box(P          R      mAP50  mAP50-95)     Pose(P          R      mAP50  mAP50-95): 100%|██████████| 2/2 [00:00<00:00,  2.43it/s]"
          ]
        },
        {
          "output_type": "stream",
          "name": "stdout",
          "text": [
            "                   all         55         55      0.929      0.932      0.978      0.689      0.929      0.932      0.978      0.978\n"
          ]
        },
        {
          "output_type": "stream",
          "name": "stderr",
          "text": [
            "\n"
          ]
        },
        {
          "output_type": "stream",
          "name": "stdout",
          "text": [
            "\n",
            "      Epoch    GPU_mem   box_loss  pose_loss  kobj_loss   cls_loss   dfl_loss  Instances       Size\n"
          ]
        },
        {
          "output_type": "stream",
          "name": "stderr",
          "text": [
            "     31/150      5.36G     0.9369     0.1768     0.1557     0.7278      1.235         37        640: 100%|██████████| 12/12 [00:04<00:00,  2.92it/s]\n",
            "                 Class     Images  Instances      Box(P          R      mAP50  mAP50-95)     Pose(P          R      mAP50  mAP50-95): 100%|██████████| 2/2 [00:00<00:00,  3.82it/s]"
          ]
        },
        {
          "output_type": "stream",
          "name": "stdout",
          "text": [
            "                   all         55         55       0.89      0.946      0.956      0.677       0.89      0.946      0.956      0.956\n"
          ]
        },
        {
          "output_type": "stream",
          "name": "stderr",
          "text": [
            "\n"
          ]
        },
        {
          "output_type": "stream",
          "name": "stdout",
          "text": [
            "\n",
            "      Epoch    GPU_mem   box_loss  pose_loss  kobj_loss   cls_loss   dfl_loss  Instances       Size\n"
          ]
        },
        {
          "output_type": "stream",
          "name": "stderr",
          "text": [
            "     32/150      5.43G     0.8929     0.1702     0.1673     0.7026      1.208         46        640: 100%|██████████| 12/12 [00:03<00:00,  3.41it/s]\n",
            "                 Class     Images  Instances      Box(P          R      mAP50  mAP50-95)     Pose(P          R      mAP50  mAP50-95): 100%|██████████| 2/2 [00:00<00:00,  3.64it/s]"
          ]
        },
        {
          "output_type": "stream",
          "name": "stdout",
          "text": [
            "                   all         55         55       0.83      0.959      0.951      0.593       0.83      0.959      0.951       0.95\n"
          ]
        },
        {
          "output_type": "stream",
          "name": "stderr",
          "text": [
            "\n"
          ]
        },
        {
          "output_type": "stream",
          "name": "stdout",
          "text": [
            "\n",
            "      Epoch    GPU_mem   box_loss  pose_loss  kobj_loss   cls_loss   dfl_loss  Instances       Size\n"
          ]
        },
        {
          "output_type": "stream",
          "name": "stderr",
          "text": [
            "     33/150       5.5G     0.9556     0.1766     0.1444     0.6817      1.239         44        640: 100%|██████████| 12/12 [00:03<00:00,  3.08it/s]\n",
            "                 Class     Images  Instances      Box(P          R      mAP50  mAP50-95)     Pose(P          R      mAP50  mAP50-95): 100%|██████████| 2/2 [00:00<00:00,  2.26it/s]"
          ]
        },
        {
          "output_type": "stream",
          "name": "stdout",
          "text": [
            "                   all         55         55      0.819      0.914      0.929       0.64      0.819      0.914      0.933       0.93\n"
          ]
        },
        {
          "output_type": "stream",
          "name": "stderr",
          "text": [
            "\n"
          ]
        },
        {
          "output_type": "stream",
          "name": "stdout",
          "text": [
            "\n",
            "      Epoch    GPU_mem   box_loss  pose_loss  kobj_loss   cls_loss   dfl_loss  Instances       Size\n"
          ]
        },
        {
          "output_type": "stream",
          "name": "stderr",
          "text": [
            "     34/150      5.57G     0.9066      0.148     0.1616     0.6612      1.221         37        640: 100%|██████████| 12/12 [00:03<00:00,  3.00it/s]\n",
            "                 Class     Images  Instances      Box(P          R      mAP50  mAP50-95)     Pose(P          R      mAP50  mAP50-95): 100%|██████████| 2/2 [00:00<00:00,  3.82it/s]"
          ]
        },
        {
          "output_type": "stream",
          "name": "stdout",
          "text": [
            "                   all         55         55      0.912      0.885      0.957      0.677      0.912      0.885      0.957      0.955\n"
          ]
        },
        {
          "output_type": "stream",
          "name": "stderr",
          "text": [
            "\n"
          ]
        },
        {
          "output_type": "stream",
          "name": "stdout",
          "text": [
            "\n",
            "      Epoch    GPU_mem   box_loss  pose_loss  kobj_loss   cls_loss   dfl_loss  Instances       Size\n"
          ]
        },
        {
          "output_type": "stream",
          "name": "stderr",
          "text": [
            "     35/150      5.64G     0.8849     0.1611     0.1555     0.6793      1.215         35        640: 100%|██████████| 12/12 [00:03<00:00,  3.42it/s]\n",
            "                 Class     Images  Instances      Box(P          R      mAP50  mAP50-95)     Pose(P          R      mAP50  mAP50-95): 100%|██████████| 2/2 [00:00<00:00,  3.85it/s]"
          ]
        },
        {
          "output_type": "stream",
          "name": "stdout",
          "text": [
            "                   all         55         55      0.929      0.892      0.971      0.653      0.929      0.892      0.971      0.971\n"
          ]
        },
        {
          "output_type": "stream",
          "name": "stderr",
          "text": [
            "\n"
          ]
        },
        {
          "output_type": "stream",
          "name": "stdout",
          "text": [
            "\n",
            "      Epoch    GPU_mem   box_loss  pose_loss  kobj_loss   cls_loss   dfl_loss  Instances       Size\n"
          ]
        },
        {
          "output_type": "stream",
          "name": "stderr",
          "text": [
            "     36/150      5.71G     0.9206     0.1387     0.1303     0.6757      1.204         42        640: 100%|██████████| 12/12 [00:04<00:00,  2.88it/s]\n",
            "                 Class     Images  Instances      Box(P          R      mAP50  mAP50-95)     Pose(P          R      mAP50  mAP50-95): 100%|██████████| 2/2 [00:00<00:00,  2.16it/s]"
          ]
        },
        {
          "output_type": "stream",
          "name": "stdout",
          "text": [
            "                   all         55         55      0.873      0.911      0.968      0.695      0.873      0.911      0.968      0.968\n"
          ]
        },
        {
          "output_type": "stream",
          "name": "stderr",
          "text": [
            "\n"
          ]
        },
        {
          "output_type": "stream",
          "name": "stdout",
          "text": [
            "\n",
            "      Epoch    GPU_mem   box_loss  pose_loss  kobj_loss   cls_loss   dfl_loss  Instances       Size\n"
          ]
        },
        {
          "output_type": "stream",
          "name": "stderr",
          "text": [
            "     37/150      5.75G     0.9139     0.1489     0.1422      0.708      1.229         38        640: 100%|██████████| 12/12 [00:03<00:00,  3.37it/s]\n",
            "                 Class     Images  Instances      Box(P          R      mAP50  mAP50-95)     Pose(P          R      mAP50  mAP50-95): 100%|██████████| 2/2 [00:00<00:00,  3.87it/s]"
          ]
        },
        {
          "output_type": "stream",
          "name": "stdout",
          "text": [
            "                   all         55         55      0.886      0.778      0.896      0.616      0.886      0.778      0.901      0.897\n"
          ]
        },
        {
          "output_type": "stream",
          "name": "stderr",
          "text": [
            "\n"
          ]
        },
        {
          "output_type": "stream",
          "name": "stdout",
          "text": [
            "\n",
            "      Epoch    GPU_mem   box_loss  pose_loss  kobj_loss   cls_loss   dfl_loss  Instances       Size\n"
          ]
        },
        {
          "output_type": "stream",
          "name": "stderr",
          "text": [
            "     38/150      5.82G     0.9242     0.1507     0.1315     0.6856      1.251         32        640: 100%|██████████| 12/12 [00:03<00:00,  3.34it/s]\n",
            "                 Class     Images  Instances      Box(P          R      mAP50  mAP50-95)     Pose(P          R      mAP50  mAP50-95): 100%|██████████| 2/2 [00:00<00:00,  3.40it/s]"
          ]
        },
        {
          "output_type": "stream",
          "name": "stdout",
          "text": [
            "                   all         55         55      0.869      0.848      0.905      0.642      0.869      0.848      0.905      0.905\n"
          ]
        },
        {
          "output_type": "stream",
          "name": "stderr",
          "text": [
            "\n"
          ]
        },
        {
          "output_type": "stream",
          "name": "stdout",
          "text": [
            "\n",
            "      Epoch    GPU_mem   box_loss  pose_loss  kobj_loss   cls_loss   dfl_loss  Instances       Size\n"
          ]
        },
        {
          "output_type": "stream",
          "name": "stderr",
          "text": [
            "     39/150      5.89G      0.861     0.1395     0.1436     0.6471      1.205         36        640: 100%|██████████| 12/12 [00:04<00:00,  2.76it/s]\n",
            "                 Class     Images  Instances      Box(P          R      mAP50  mAP50-95)     Pose(P          R      mAP50  mAP50-95): 100%|██████████| 2/2 [00:00<00:00,  2.00it/s]"
          ]
        },
        {
          "output_type": "stream",
          "name": "stdout",
          "text": [
            "                   all         55         55      0.914      0.909      0.939       0.67      0.914      0.909      0.941       0.94\n"
          ]
        },
        {
          "output_type": "stream",
          "name": "stderr",
          "text": [
            "\n"
          ]
        },
        {
          "output_type": "stream",
          "name": "stdout",
          "text": [
            "\n",
            "      Epoch    GPU_mem   box_loss  pose_loss  kobj_loss   cls_loss   dfl_loss  Instances       Size\n"
          ]
        },
        {
          "output_type": "stream",
          "name": "stderr",
          "text": [
            "     40/150      5.96G     0.8596      0.124     0.1469     0.6182      1.203         36        640: 100%|██████████| 12/12 [00:03<00:00,  3.35it/s]\n",
            "                 Class     Images  Instances      Box(P          R      mAP50  mAP50-95)     Pose(P          R      mAP50  mAP50-95): 100%|██████████| 2/2 [00:00<00:00,  3.65it/s]"
          ]
        },
        {
          "output_type": "stream",
          "name": "stdout",
          "text": [
            "                   all         55         55      0.905      0.861      0.903      0.636      0.905      0.861      0.903      0.903\n"
          ]
        },
        {
          "output_type": "stream",
          "name": "stderr",
          "text": [
            "\n"
          ]
        },
        {
          "output_type": "stream",
          "name": "stdout",
          "text": [
            "\n",
            "      Epoch    GPU_mem   box_loss  pose_loss  kobj_loss   cls_loss   dfl_loss  Instances       Size\n"
          ]
        },
        {
          "output_type": "stream",
          "name": "stderr",
          "text": [
            "     41/150      6.04G     0.8905     0.1313     0.1228     0.6973      1.215         36        640: 100%|██████████| 12/12 [00:03<00:00,  3.37it/s]\n",
            "                 Class     Images  Instances      Box(P          R      mAP50  mAP50-95)     Pose(P          R      mAP50  mAP50-95): 100%|██████████| 2/2 [00:00<00:00,  3.83it/s]"
          ]
        },
        {
          "output_type": "stream",
          "name": "stdout",
          "text": [
            "                   all         55         55        0.9       0.88      0.946      0.674        0.9       0.88      0.946      0.946\n"
          ]
        },
        {
          "output_type": "stream",
          "name": "stderr",
          "text": [
            "\n"
          ]
        },
        {
          "output_type": "stream",
          "name": "stdout",
          "text": [
            "\n",
            "      Epoch    GPU_mem   box_loss  pose_loss  kobj_loss   cls_loss   dfl_loss  Instances       Size\n"
          ]
        },
        {
          "output_type": "stream",
          "name": "stderr",
          "text": [
            "     42/150      6.11G     0.8663     0.1465     0.1157     0.6564      1.221         44        640: 100%|██████████| 12/12 [00:04<00:00,  2.58it/s]\n",
            "                 Class     Images  Instances      Box(P          R      mAP50  mAP50-95)     Pose(P          R      mAP50  mAP50-95): 100%|██████████| 2/2 [00:00<00:00,  3.13it/s]"
          ]
        },
        {
          "output_type": "stream",
          "name": "stdout",
          "text": [
            "                   all         55         55      0.874      0.924      0.969      0.688      0.874      0.924      0.969      0.969\n"
          ]
        },
        {
          "output_type": "stream",
          "name": "stderr",
          "text": [
            "\n"
          ]
        },
        {
          "output_type": "stream",
          "name": "stdout",
          "text": [
            "\n",
            "      Epoch    GPU_mem   box_loss  pose_loss  kobj_loss   cls_loss   dfl_loss  Instances       Size\n"
          ]
        },
        {
          "output_type": "stream",
          "name": "stderr",
          "text": [
            "     43/150      6.14G     0.9056     0.1423     0.1459     0.6515      1.232         38        640: 100%|██████████| 12/12 [00:03<00:00,  3.37it/s]\n",
            "                 Class     Images  Instances      Box(P          R      mAP50  mAP50-95)     Pose(P          R      mAP50  mAP50-95): 100%|██████████| 2/2 [00:00<00:00,  3.86it/s]"
          ]
        },
        {
          "output_type": "stream",
          "name": "stdout",
          "text": [
            "                   all         55         55      0.902      0.931      0.964      0.684      0.902      0.931      0.964      0.964\n"
          ]
        },
        {
          "output_type": "stream",
          "name": "stderr",
          "text": [
            "\n"
          ]
        },
        {
          "output_type": "stream",
          "name": "stdout",
          "text": [
            "\n",
            "      Epoch    GPU_mem   box_loss  pose_loss  kobj_loss   cls_loss   dfl_loss  Instances       Size\n"
          ]
        },
        {
          "output_type": "stream",
          "name": "stderr",
          "text": [
            "     44/150      6.21G     0.8726     0.1626     0.1351     0.6458      1.193         39        640: 100%|██████████| 12/12 [00:03<00:00,  3.40it/s]\n",
            "                 Class     Images  Instances      Box(P          R      mAP50  mAP50-95)     Pose(P          R      mAP50  mAP50-95): 100%|██████████| 2/2 [00:00<00:00,  3.73it/s]"
          ]
        },
        {
          "output_type": "stream",
          "name": "stdout",
          "text": [
            "                   all         55         55      0.949      0.913      0.956      0.677      0.949      0.913      0.956      0.956\n"
          ]
        },
        {
          "output_type": "stream",
          "name": "stderr",
          "text": [
            "\n"
          ]
        },
        {
          "output_type": "stream",
          "name": "stdout",
          "text": [
            "\n",
            "      Epoch    GPU_mem   box_loss  pose_loss  kobj_loss   cls_loss   dfl_loss  Instances       Size\n"
          ]
        },
        {
          "output_type": "stream",
          "name": "stderr",
          "text": [
            "     45/150      6.29G     0.8908     0.1088     0.1163     0.6184      1.222         34        640: 100%|██████████| 12/12 [00:04<00:00,  2.59it/s]\n",
            "                 Class     Images  Instances      Box(P          R      mAP50  mAP50-95)     Pose(P          R      mAP50  mAP50-95): 100%|██████████| 2/2 [00:00<00:00,  3.61it/s]"
          ]
        },
        {
          "output_type": "stream",
          "name": "stdout",
          "text": [
            "                   all         55         55      0.891      0.931      0.969      0.715      0.891      0.931      0.969      0.969\n"
          ]
        },
        {
          "output_type": "stream",
          "name": "stderr",
          "text": [
            "\n"
          ]
        },
        {
          "output_type": "stream",
          "name": "stdout",
          "text": [
            "\n",
            "      Epoch    GPU_mem   box_loss  pose_loss  kobj_loss   cls_loss   dfl_loss  Instances       Size\n"
          ]
        },
        {
          "output_type": "stream",
          "name": "stderr",
          "text": [
            "     46/150      6.36G     0.8996     0.1245     0.1314     0.6438      1.232         45        640: 100%|██████████| 12/12 [00:03<00:00,  3.37it/s]\n",
            "                 Class     Images  Instances      Box(P          R      mAP50  mAP50-95)     Pose(P          R      mAP50  mAP50-95): 100%|██████████| 2/2 [00:00<00:00,  3.63it/s]"
          ]
        },
        {
          "output_type": "stream",
          "name": "stdout",
          "text": [
            "                   all         55         55      0.912      0.962      0.979      0.713      0.912      0.962      0.979      0.979\n"
          ]
        },
        {
          "output_type": "stream",
          "name": "stderr",
          "text": [
            "\n"
          ]
        },
        {
          "output_type": "stream",
          "name": "stdout",
          "text": [
            "\n",
            "      Epoch    GPU_mem   box_loss  pose_loss  kobj_loss   cls_loss   dfl_loss  Instances       Size\n"
          ]
        },
        {
          "output_type": "stream",
          "name": "stderr",
          "text": [
            "     47/150      6.43G     0.8505     0.1107     0.1252     0.6292      1.171         45        640: 100%|██████████| 12/12 [00:03<00:00,  3.39it/s]\n",
            "                 Class     Images  Instances      Box(P          R      mAP50  mAP50-95)     Pose(P          R      mAP50  mAP50-95): 100%|██████████| 2/2 [00:00<00:00,  3.01it/s]"
          ]
        },
        {
          "output_type": "stream",
          "name": "stdout",
          "text": [
            "                   all         55         55      0.956      0.938      0.979      0.704      0.956      0.938      0.979      0.979\n"
          ]
        },
        {
          "output_type": "stream",
          "name": "stderr",
          "text": [
            "\n"
          ]
        },
        {
          "output_type": "stream",
          "name": "stdout",
          "text": [
            "\n",
            "      Epoch    GPU_mem   box_loss  pose_loss  kobj_loss   cls_loss   dfl_loss  Instances       Size\n"
          ]
        },
        {
          "output_type": "stream",
          "name": "stderr",
          "text": [
            "     48/150       6.5G     0.8902     0.1115     0.1192     0.5987      1.184         27        640: 100%|██████████| 12/12 [00:04<00:00,  2.73it/s]\n",
            "                 Class     Images  Instances      Box(P          R      mAP50  mAP50-95)     Pose(P          R      mAP50  mAP50-95): 100%|██████████| 2/2 [00:00<00:00,  3.89it/s]"
          ]
        },
        {
          "output_type": "stream",
          "name": "stdout",
          "text": [
            "                   all         55         55      0.884       0.95      0.967      0.671      0.884       0.95      0.967      0.967\n"
          ]
        },
        {
          "output_type": "stream",
          "name": "stderr",
          "text": [
            "\n"
          ]
        },
        {
          "output_type": "stream",
          "name": "stdout",
          "text": [
            "\n",
            "      Epoch    GPU_mem   box_loss  pose_loss  kobj_loss   cls_loss   dfl_loss  Instances       Size\n"
          ]
        },
        {
          "output_type": "stream",
          "name": "stderr",
          "text": [
            "     49/150      6.54G     0.9027     0.1281     0.1147     0.6613      1.218         37        640: 100%|██████████| 12/12 [00:03<00:00,  3.42it/s]\n",
            "                 Class     Images  Instances      Box(P          R      mAP50  mAP50-95)     Pose(P          R      mAP50  mAP50-95): 100%|██████████| 2/2 [00:00<00:00,  3.91it/s]"
          ]
        },
        {
          "output_type": "stream",
          "name": "stdout",
          "text": [
            "                   all         55         55      0.848      0.933      0.941      0.631      0.848      0.933      0.941      0.941\n"
          ]
        },
        {
          "output_type": "stream",
          "name": "stderr",
          "text": [
            "\n"
          ]
        },
        {
          "output_type": "stream",
          "name": "stdout",
          "text": [
            "\n",
            "      Epoch    GPU_mem   box_loss  pose_loss  kobj_loss   cls_loss   dfl_loss  Instances       Size\n"
          ]
        },
        {
          "output_type": "stream",
          "name": "stderr",
          "text": [
            "     50/150      6.61G     0.9141     0.1307     0.1295      0.657      1.209         40        640: 100%|██████████| 12/12 [00:03<00:00,  3.21it/s]\n",
            "                 Class     Images  Instances      Box(P          R      mAP50  mAP50-95)     Pose(P          R      mAP50  mAP50-95): 100%|██████████| 2/2 [00:00<00:00,  2.47it/s]"
          ]
        },
        {
          "output_type": "stream",
          "name": "stdout",
          "text": [
            "                   all         55         55      0.924      0.939      0.945      0.672      0.924      0.939      0.945      0.945\n"
          ]
        },
        {
          "output_type": "stream",
          "name": "stderr",
          "text": [
            "\n"
          ]
        },
        {
          "output_type": "stream",
          "name": "stdout",
          "text": [
            "\n",
            "      Epoch    GPU_mem   box_loss  pose_loss  kobj_loss   cls_loss   dfl_loss  Instances       Size\n"
          ]
        },
        {
          "output_type": "stream",
          "name": "stderr",
          "text": [
            "     51/150      6.68G     0.8547     0.1277     0.1189     0.6096      1.186         38        640: 100%|██████████| 12/12 [00:04<00:00,  2.88it/s]\n",
            "                 Class     Images  Instances      Box(P          R      mAP50  mAP50-95)     Pose(P          R      mAP50  mAP50-95): 100%|██████████| 2/2 [00:00<00:00,  3.93it/s]"
          ]
        },
        {
          "output_type": "stream",
          "name": "stdout",
          "text": [
            "                   all         55         55       0.91      0.833       0.84      0.572       0.91      0.833       0.84       0.84\n"
          ]
        },
        {
          "output_type": "stream",
          "name": "stderr",
          "text": [
            "\n"
          ]
        },
        {
          "output_type": "stream",
          "name": "stdout",
          "text": [
            "\n",
            "      Epoch    GPU_mem   box_loss  pose_loss  kobj_loss   cls_loss   dfl_loss  Instances       Size\n"
          ]
        },
        {
          "output_type": "stream",
          "name": "stderr",
          "text": [
            "     52/150      6.75G     0.8752     0.1222     0.1395     0.6375      1.182         35        640: 100%|██████████| 12/12 [00:03<00:00,  3.45it/s]\n",
            "                 Class     Images  Instances      Box(P          R      mAP50  mAP50-95)     Pose(P          R      mAP50  mAP50-95): 100%|██████████| 2/2 [00:00<00:00,  3.72it/s]"
          ]
        },
        {
          "output_type": "stream",
          "name": "stdout",
          "text": [
            "                   all         55         55      0.905      0.905      0.965      0.674      0.905      0.905      0.965      0.965\n"
          ]
        },
        {
          "output_type": "stream",
          "name": "stderr",
          "text": [
            "\n"
          ]
        },
        {
          "output_type": "stream",
          "name": "stdout",
          "text": [
            "\n",
            "      Epoch    GPU_mem   box_loss  pose_loss  kobj_loss   cls_loss   dfl_loss  Instances       Size\n"
          ]
        },
        {
          "output_type": "stream",
          "name": "stderr",
          "text": [
            "     53/150      6.82G     0.8524     0.1265     0.1332     0.6247      1.223         42        640: 100%|██████████| 12/12 [00:03<00:00,  3.26it/s]\n",
            "                 Class     Images  Instances      Box(P          R      mAP50  mAP50-95)     Pose(P          R      mAP50  mAP50-95): 100%|██████████| 2/2 [00:00<00:00,  2.32it/s]"
          ]
        },
        {
          "output_type": "stream",
          "name": "stdout",
          "text": [
            "                   all         55         55      0.861      0.958       0.97      0.682      0.861      0.958       0.97       0.97\n"
          ]
        },
        {
          "output_type": "stream",
          "name": "stderr",
          "text": [
            "\n"
          ]
        },
        {
          "output_type": "stream",
          "name": "stdout",
          "text": [
            "\n",
            "      Epoch    GPU_mem   box_loss  pose_loss  kobj_loss   cls_loss   dfl_loss  Instances       Size\n"
          ]
        },
        {
          "output_type": "stream",
          "name": "stderr",
          "text": [
            "     54/150      6.89G     0.8269     0.1274     0.1097      0.605      1.163         42        640: 100%|██████████| 12/12 [00:04<00:00,  2.94it/s]\n",
            "                 Class     Images  Instances      Box(P          R      mAP50  mAP50-95)     Pose(P          R      mAP50  mAP50-95): 100%|██████████| 2/2 [00:00<00:00,  3.65it/s]"
          ]
        },
        {
          "output_type": "stream",
          "name": "stdout",
          "text": [
            "                   all         55         55      0.953      0.907      0.964      0.675      0.953      0.907      0.964      0.964\n"
          ]
        },
        {
          "output_type": "stream",
          "name": "stderr",
          "text": [
            "\n"
          ]
        },
        {
          "output_type": "stream",
          "name": "stdout",
          "text": [
            "\n",
            "      Epoch    GPU_mem   box_loss  pose_loss  kobj_loss   cls_loss   dfl_loss  Instances       Size\n"
          ]
        },
        {
          "output_type": "stream",
          "name": "stderr",
          "text": [
            "     55/150      6.93G     0.8863     0.1165     0.1127     0.6385      1.236         32        640: 100%|██████████| 12/12 [00:03<00:00,  3.32it/s]\n",
            "                 Class     Images  Instances      Box(P          R      mAP50  mAP50-95)     Pose(P          R      mAP50  mAP50-95): 100%|██████████| 2/2 [00:00<00:00,  3.90it/s]"
          ]
        },
        {
          "output_type": "stream",
          "name": "stdout",
          "text": [
            "                   all         55         55      0.831      0.996      0.977      0.692      0.831      0.996      0.977      0.977\n"
          ]
        },
        {
          "output_type": "stream",
          "name": "stderr",
          "text": [
            "\n"
          ]
        },
        {
          "output_type": "stream",
          "name": "stdout",
          "text": [
            "\n",
            "      Epoch    GPU_mem   box_loss  pose_loss  kobj_loss   cls_loss   dfl_loss  Instances       Size\n"
          ]
        },
        {
          "output_type": "stream",
          "name": "stderr",
          "text": [
            "     56/150         7G      0.798     0.1247     0.1304     0.6012       1.16         41        640: 100%|██████████| 12/12 [00:03<00:00,  3.03it/s]\n",
            "                 Class     Images  Instances      Box(P          R      mAP50  mAP50-95)     Pose(P          R      mAP50  mAP50-95): 100%|██████████| 2/2 [00:00<00:00,  2.25it/s]"
          ]
        },
        {
          "output_type": "stream",
          "name": "stdout",
          "text": [
            "                   all         55         55      0.938       0.93      0.991      0.728      0.938       0.93      0.991      0.991\n"
          ]
        },
        {
          "output_type": "stream",
          "name": "stderr",
          "text": [
            "\n"
          ]
        },
        {
          "output_type": "stream",
          "name": "stdout",
          "text": [
            "\n",
            "      Epoch    GPU_mem   box_loss  pose_loss  kobj_loss   cls_loss   dfl_loss  Instances       Size\n"
          ]
        },
        {
          "output_type": "stream",
          "name": "stderr",
          "text": [
            "     57/150      7.07G     0.8208     0.1266     0.1117      0.592      1.168         39        640: 100%|██████████| 12/12 [00:03<00:00,  3.16it/s]\n",
            "                 Class     Images  Instances      Box(P          R      mAP50  mAP50-95)     Pose(P          R      mAP50  mAP50-95): 100%|██████████| 2/2 [00:00<00:00,  3.36it/s]"
          ]
        },
        {
          "output_type": "stream",
          "name": "stdout",
          "text": [
            "                   all         55         55      0.948      0.959      0.987      0.706      0.948      0.959      0.987      0.987\n"
          ]
        },
        {
          "output_type": "stream",
          "name": "stderr",
          "text": [
            "\n"
          ]
        },
        {
          "output_type": "stream",
          "name": "stdout",
          "text": [
            "\n",
            "      Epoch    GPU_mem   box_loss  pose_loss  kobj_loss   cls_loss   dfl_loss  Instances       Size\n"
          ]
        },
        {
          "output_type": "stream",
          "name": "stderr",
          "text": [
            "     58/150      7.14G     0.7875      0.117     0.1257     0.5786      1.156         41        640: 100%|██████████| 12/12 [00:03<00:00,  3.45it/s]\n",
            "                 Class     Images  Instances      Box(P          R      mAP50  mAP50-95)     Pose(P          R      mAP50  mAP50-95): 100%|██████████| 2/2 [00:00<00:00,  3.85it/s]"
          ]
        },
        {
          "output_type": "stream",
          "name": "stdout",
          "text": [
            "                   all         55         55      0.872      0.981      0.978      0.702      0.872      0.981      0.978      0.978\n"
          ]
        },
        {
          "output_type": "stream",
          "name": "stderr",
          "text": [
            "\n"
          ]
        },
        {
          "output_type": "stream",
          "name": "stdout",
          "text": [
            "\n",
            "      Epoch    GPU_mem   box_loss  pose_loss  kobj_loss   cls_loss   dfl_loss  Instances       Size\n"
          ]
        },
        {
          "output_type": "stream",
          "name": "stderr",
          "text": [
            "     59/150      7.21G     0.8053     0.1298      0.106     0.5611      1.145         38        640: 100%|██████████| 12/12 [00:04<00:00,  2.96it/s]\n",
            "                 Class     Images  Instances      Box(P          R      mAP50  mAP50-95)     Pose(P          R      mAP50  mAP50-95): 100%|██████████| 2/2 [00:01<00:00,  1.90it/s]"
          ]
        },
        {
          "output_type": "stream",
          "name": "stdout",
          "text": [
            "                   all         55         55      0.855      0.942      0.963       0.69      0.855      0.942      0.963      0.962\n"
          ]
        },
        {
          "output_type": "stream",
          "name": "stderr",
          "text": [
            "\n"
          ]
        },
        {
          "output_type": "stream",
          "name": "stdout",
          "text": [
            "\n",
            "      Epoch    GPU_mem   box_loss  pose_loss  kobj_loss   cls_loss   dfl_loss  Instances       Size\n"
          ]
        },
        {
          "output_type": "stream",
          "name": "stderr",
          "text": [
            "     60/150      7.28G     0.8268     0.1247     0.1006     0.5778      1.157         45        640: 100%|██████████| 12/12 [00:03<00:00,  3.35it/s]\n",
            "                 Class     Images  Instances      Box(P          R      mAP50  mAP50-95)     Pose(P          R      mAP50  mAP50-95): 100%|██████████| 2/2 [00:00<00:00,  3.73it/s]"
          ]
        },
        {
          "output_type": "stream",
          "name": "stdout",
          "text": [
            "                   all         55         55      0.859      0.924      0.954      0.677      0.859      0.924      0.954      0.954\n"
          ]
        },
        {
          "output_type": "stream",
          "name": "stderr",
          "text": [
            "\n"
          ]
        },
        {
          "output_type": "stream",
          "name": "stdout",
          "text": [
            "\n",
            "      Epoch    GPU_mem   box_loss  pose_loss  kobj_loss   cls_loss   dfl_loss  Instances       Size\n"
          ]
        },
        {
          "output_type": "stream",
          "name": "stderr",
          "text": [
            "     61/150      7.32G      0.829     0.1146     0.1207     0.5616      1.152         41        640: 100%|██████████| 12/12 [00:03<00:00,  3.36it/s]\n",
            "                 Class     Images  Instances      Box(P          R      mAP50  mAP50-95)     Pose(P          R      mAP50  mAP50-95): 100%|██████████| 2/2 [00:00<00:00,  3.91it/s]"
          ]
        },
        {
          "output_type": "stream",
          "name": "stdout",
          "text": [
            "                   all         55         55      0.868      0.913      0.956      0.668      0.868      0.913      0.956      0.956\n"
          ]
        },
        {
          "output_type": "stream",
          "name": "stderr",
          "text": [
            "\n"
          ]
        },
        {
          "output_type": "stream",
          "name": "stdout",
          "text": [
            "\n",
            "      Epoch    GPU_mem   box_loss  pose_loss  kobj_loss   cls_loss   dfl_loss  Instances       Size\n"
          ]
        },
        {
          "output_type": "stream",
          "name": "stderr",
          "text": [
            "     62/150      7.39G     0.8607     0.1396     0.1144      0.573      1.189         39        640: 100%|██████████| 12/12 [00:04<00:00,  2.64it/s]\n",
            "                 Class     Images  Instances      Box(P          R      mAP50  mAP50-95)     Pose(P          R      mAP50  mAP50-95): 100%|██████████| 2/2 [00:00<00:00,  3.83it/s]"
          ]
        },
        {
          "output_type": "stream",
          "name": "stdout",
          "text": [
            "                   all         55         55      0.861      0.937      0.961      0.689      0.861      0.937      0.961      0.961\n"
          ]
        },
        {
          "output_type": "stream",
          "name": "stderr",
          "text": [
            "\n"
          ]
        },
        {
          "output_type": "stream",
          "name": "stdout",
          "text": [
            "\n",
            "      Epoch    GPU_mem   box_loss  pose_loss  kobj_loss   cls_loss   dfl_loss  Instances       Size\n"
          ]
        },
        {
          "output_type": "stream",
          "name": "stderr",
          "text": [
            "     63/150      3.88G     0.8199     0.1267     0.1126     0.5762      1.178         44        640: 100%|██████████| 12/12 [00:03<00:00,  3.37it/s]\n",
            "                 Class     Images  Instances      Box(P          R      mAP50  mAP50-95)     Pose(P          R      mAP50  mAP50-95): 100%|██████████| 2/2 [00:00<00:00,  3.70it/s]"
          ]
        },
        {
          "output_type": "stream",
          "name": "stdout",
          "text": [
            "                   all         55         55      0.889      0.907      0.953      0.694      0.889      0.907      0.953      0.953\n"
          ]
        },
        {
          "output_type": "stream",
          "name": "stderr",
          "text": [
            "\n"
          ]
        },
        {
          "output_type": "stream",
          "name": "stdout",
          "text": [
            "\n",
            "      Epoch    GPU_mem   box_loss  pose_loss  kobj_loss   cls_loss   dfl_loss  Instances       Size\n"
          ]
        },
        {
          "output_type": "stream",
          "name": "stderr",
          "text": [
            "     64/150      3.88G     0.8123     0.1055    0.09425     0.5792      1.148         35        640: 100%|██████████| 12/12 [00:03<00:00,  3.32it/s]\n",
            "                 Class     Images  Instances      Box(P          R      mAP50  mAP50-95)     Pose(P          R      mAP50  mAP50-95): 100%|██████████| 2/2 [00:00<00:00,  3.54it/s]"
          ]
        },
        {
          "output_type": "stream",
          "name": "stdout",
          "text": [
            "                   all         55         55       0.88      0.902      0.937      0.672       0.88      0.902      0.937      0.937\n"
          ]
        },
        {
          "output_type": "stream",
          "name": "stderr",
          "text": [
            "\n"
          ]
        },
        {
          "output_type": "stream",
          "name": "stdout",
          "text": [
            "\n",
            "      Epoch    GPU_mem   box_loss  pose_loss  kobj_loss   cls_loss   dfl_loss  Instances       Size\n"
          ]
        },
        {
          "output_type": "stream",
          "name": "stderr",
          "text": [
            "     65/150      3.88G      0.804     0.1081    0.09784     0.5555      1.169         30        640: 100%|██████████| 12/12 [00:04<00:00,  2.61it/s]\n",
            "                 Class     Images  Instances      Box(P          R      mAP50  mAP50-95)     Pose(P          R      mAP50  mAP50-95): 100%|██████████| 2/2 [00:00<00:00,  3.70it/s]"
          ]
        },
        {
          "output_type": "stream",
          "name": "stdout",
          "text": [
            "                   all         55         55      0.827      0.903      0.933      0.663      0.827      0.903      0.933      0.933\n"
          ]
        },
        {
          "output_type": "stream",
          "name": "stderr",
          "text": [
            "\n"
          ]
        },
        {
          "output_type": "stream",
          "name": "stdout",
          "text": [
            "\n",
            "      Epoch    GPU_mem   box_loss  pose_loss  kobj_loss   cls_loss   dfl_loss  Instances       Size\n"
          ]
        },
        {
          "output_type": "stream",
          "name": "stderr",
          "text": [
            "     66/150      3.88G      0.751    0.09153     0.1112     0.5067      1.126         42        640: 100%|██████████| 12/12 [00:03<00:00,  3.31it/s]\n",
            "                 Class     Images  Instances      Box(P          R      mAP50  mAP50-95)     Pose(P          R      mAP50  mAP50-95): 100%|██████████| 2/2 [00:00<00:00,  3.66it/s]"
          ]
        },
        {
          "output_type": "stream",
          "name": "stdout",
          "text": [
            "                   all         55         55      0.805      0.978      0.957      0.691      0.805      0.978      0.957      0.957\n"
          ]
        },
        {
          "output_type": "stream",
          "name": "stderr",
          "text": [
            "\n"
          ]
        },
        {
          "output_type": "stream",
          "name": "stdout",
          "text": [
            "\n",
            "      Epoch    GPU_mem   box_loss  pose_loss  kobj_loss   cls_loss   dfl_loss  Instances       Size\n"
          ]
        },
        {
          "output_type": "stream",
          "name": "stderr",
          "text": [
            "     67/150      3.88G     0.7849     0.1122     0.1051     0.5246       1.15         43        640: 100%|██████████| 12/12 [00:03<00:00,  3.30it/s]\n",
            "                 Class     Images  Instances      Box(P          R      mAP50  mAP50-95)     Pose(P          R      mAP50  mAP50-95): 100%|██████████| 2/2 [00:00<00:00,  2.51it/s]"
          ]
        },
        {
          "output_type": "stream",
          "name": "stdout",
          "text": [
            "                   all         55         55      0.825       0.98      0.961      0.711      0.825       0.98      0.961      0.961\n"
          ]
        },
        {
          "output_type": "stream",
          "name": "stderr",
          "text": [
            "\n"
          ]
        },
        {
          "output_type": "stream",
          "name": "stdout",
          "text": [
            "\n",
            "      Epoch    GPU_mem   box_loss  pose_loss  kobj_loss   cls_loss   dfl_loss  Instances       Size\n"
          ]
        },
        {
          "output_type": "stream",
          "name": "stderr",
          "text": [
            "     68/150      3.88G     0.7963     0.1135     0.1057     0.5381      1.169         34        640: 100%|██████████| 12/12 [00:04<00:00,  2.80it/s]\n",
            "                 Class     Images  Instances      Box(P          R      mAP50  mAP50-95)     Pose(P          R      mAP50  mAP50-95): 100%|██████████| 2/2 [00:00<00:00,  3.85it/s]"
          ]
        },
        {
          "output_type": "stream",
          "name": "stdout",
          "text": [
            "                   all         55         55      0.889      0.877      0.945      0.698      0.889      0.877      0.945      0.945\n"
          ]
        },
        {
          "output_type": "stream",
          "name": "stderr",
          "text": [
            "\n"
          ]
        },
        {
          "output_type": "stream",
          "name": "stdout",
          "text": [
            "\n",
            "      Epoch    GPU_mem   box_loss  pose_loss  kobj_loss   cls_loss   dfl_loss  Instances       Size\n"
          ]
        },
        {
          "output_type": "stream",
          "name": "stderr",
          "text": [
            "     69/150      3.92G     0.7827    0.09884     0.1154     0.5673      1.149         40        640: 100%|██████████| 12/12 [00:03<00:00,  3.29it/s]\n",
            "                 Class     Images  Instances      Box(P          R      mAP50  mAP50-95)     Pose(P          R      mAP50  mAP50-95): 100%|██████████| 2/2 [00:00<00:00,  3.97it/s]"
          ]
        },
        {
          "output_type": "stream",
          "name": "stdout",
          "text": [
            "                   all         55         55      0.926      0.848      0.932      0.709      0.926      0.848      0.932      0.932\n"
          ]
        },
        {
          "output_type": "stream",
          "name": "stderr",
          "text": [
            "\n"
          ]
        },
        {
          "output_type": "stream",
          "name": "stdout",
          "text": [
            "\n",
            "      Epoch    GPU_mem   box_loss  pose_loss  kobj_loss   cls_loss   dfl_loss  Instances       Size\n"
          ]
        },
        {
          "output_type": "stream",
          "name": "stderr",
          "text": [
            "     70/150      3.96G     0.8309    0.09138     0.1094     0.5346      1.184         31        640: 100%|██████████| 12/12 [00:03<00:00,  3.14it/s]\n",
            "                 Class     Images  Instances      Box(P          R      mAP50  mAP50-95)     Pose(P          R      mAP50  mAP50-95): 100%|██████████| 2/2 [00:00<00:00,  2.17it/s]"
          ]
        },
        {
          "output_type": "stream",
          "name": "stdout",
          "text": [
            "                   all         55         55      0.861      0.909      0.957      0.716      0.861      0.909      0.957      0.957\n"
          ]
        },
        {
          "output_type": "stream",
          "name": "stderr",
          "text": [
            "\n"
          ]
        },
        {
          "output_type": "stream",
          "name": "stdout",
          "text": [
            "\n",
            "      Epoch    GPU_mem   box_loss  pose_loss  kobj_loss   cls_loss   dfl_loss  Instances       Size\n"
          ]
        },
        {
          "output_type": "stream",
          "name": "stderr",
          "text": [
            "     71/150      3.99G     0.8028    0.09156    0.09155     0.5323      1.148         39        640: 100%|██████████| 12/12 [00:03<00:00,  3.05it/s]\n",
            "                 Class     Images  Instances      Box(P          R      mAP50  mAP50-95)     Pose(P          R      mAP50  mAP50-95): 100%|██████████| 2/2 [00:00<00:00,  3.61it/s]"
          ]
        },
        {
          "output_type": "stream",
          "name": "stdout",
          "text": [
            "                   all         55         55        0.8      0.973      0.949      0.708        0.8      0.973      0.949      0.949\n"
          ]
        },
        {
          "output_type": "stream",
          "name": "stderr",
          "text": [
            "\n"
          ]
        },
        {
          "output_type": "stream",
          "name": "stdout",
          "text": [
            "\n",
            "      Epoch    GPU_mem   box_loss  pose_loss  kobj_loss   cls_loss   dfl_loss  Instances       Size\n"
          ]
        },
        {
          "output_type": "stream",
          "name": "stderr",
          "text": [
            "     72/150      4.07G     0.8226     0.1054    0.09476      0.555       1.18         32        640: 100%|██████████| 12/12 [00:03<00:00,  3.37it/s]\n",
            "                 Class     Images  Instances      Box(P          R      mAP50  mAP50-95)     Pose(P          R      mAP50  mAP50-95): 100%|██████████| 2/2 [00:00<00:00,  3.73it/s]"
          ]
        },
        {
          "output_type": "stream",
          "name": "stdout",
          "text": [
            "                   all         55         55      0.851      0.882      0.939      0.707      0.851      0.882      0.939      0.939\n"
          ]
        },
        {
          "output_type": "stream",
          "name": "stderr",
          "text": [
            "\n"
          ]
        },
        {
          "output_type": "stream",
          "name": "stdout",
          "text": [
            "\n",
            "      Epoch    GPU_mem   box_loss  pose_loss  kobj_loss   cls_loss   dfl_loss  Instances       Size\n"
          ]
        },
        {
          "output_type": "stream",
          "name": "stderr",
          "text": [
            "     73/150      4.14G     0.7513    0.08802     0.1092     0.5237       1.12         39        640: 100%|██████████| 12/12 [00:04<00:00,  2.99it/s]\n",
            "                 Class     Images  Instances      Box(P          R      mAP50  mAP50-95)     Pose(P          R      mAP50  mAP50-95): 100%|██████████| 2/2 [00:01<00:00,  1.83it/s]"
          ]
        },
        {
          "output_type": "stream",
          "name": "stdout",
          "text": [
            "                   all         55         55      0.912      0.861       0.91      0.671      0.912      0.861       0.91       0.91\n"
          ]
        },
        {
          "output_type": "stream",
          "name": "stderr",
          "text": [
            "\n"
          ]
        },
        {
          "output_type": "stream",
          "name": "stdout",
          "text": [
            "\n",
            "      Epoch    GPU_mem   box_loss  pose_loss  kobj_loss   cls_loss   dfl_loss  Instances       Size\n"
          ]
        },
        {
          "output_type": "stream",
          "name": "stderr",
          "text": [
            "     74/150      4.21G     0.7937    0.09405      0.096     0.5338      1.164         45        640: 100%|██████████| 12/12 [00:03<00:00,  3.36it/s]\n",
            "                 Class     Images  Instances      Box(P          R      mAP50  mAP50-95)     Pose(P          R      mAP50  mAP50-95): 100%|██████████| 2/2 [00:00<00:00,  3.73it/s]"
          ]
        },
        {
          "output_type": "stream",
          "name": "stdout",
          "text": [
            "                   all         55         55      0.815      0.962      0.946      0.695      0.815      0.962      0.946      0.946\n"
          ]
        },
        {
          "output_type": "stream",
          "name": "stderr",
          "text": [
            "\n"
          ]
        },
        {
          "output_type": "stream",
          "name": "stdout",
          "text": [
            "\n",
            "      Epoch    GPU_mem   box_loss  pose_loss  kobj_loss   cls_loss   dfl_loss  Instances       Size\n"
          ]
        },
        {
          "output_type": "stream",
          "name": "stderr",
          "text": [
            "     75/150      4.28G     0.7713    0.09596     0.1092     0.5048      1.157         35        640: 100%|██████████| 12/12 [00:03<00:00,  3.38it/s]\n",
            "                 Class     Images  Instances      Box(P          R      mAP50  mAP50-95)     Pose(P          R      mAP50  mAP50-95): 100%|██████████| 2/2 [00:00<00:00,  3.65it/s]"
          ]
        },
        {
          "output_type": "stream",
          "name": "stdout",
          "text": [
            "                   all         55         55      0.858      0.915      0.915      0.663      0.858      0.915      0.915      0.915\n"
          ]
        },
        {
          "output_type": "stream",
          "name": "stderr",
          "text": [
            "\n"
          ]
        },
        {
          "output_type": "stream",
          "name": "stdout",
          "text": [
            "\n",
            "      Epoch    GPU_mem   box_loss  pose_loss  kobj_loss   cls_loss   dfl_loss  Instances       Size\n"
          ]
        },
        {
          "output_type": "stream",
          "name": "stderr",
          "text": [
            "     76/150      4.32G     0.7517     0.1014    0.09886     0.5171      1.123         39        640: 100%|██████████| 12/12 [00:04<00:00,  2.69it/s]\n",
            "                 Class     Images  Instances      Box(P          R      mAP50  mAP50-95)     Pose(P          R      mAP50  mAP50-95): 100%|██████████| 2/2 [00:00<00:00,  2.15it/s]"
          ]
        },
        {
          "output_type": "stream",
          "name": "stdout",
          "text": [
            "                   all         55         55      0.883      0.888      0.964      0.693      0.883      0.888      0.964      0.964\n"
          ]
        },
        {
          "output_type": "stream",
          "name": "stderr",
          "text": [
            "\n"
          ]
        },
        {
          "output_type": "stream",
          "name": "stdout",
          "text": [
            "\n",
            "      Epoch    GPU_mem   box_loss  pose_loss  kobj_loss   cls_loss   dfl_loss  Instances       Size\n"
          ]
        },
        {
          "output_type": "stream",
          "name": "stderr",
          "text": [
            "     77/150      4.39G     0.8312    0.09253    0.08946     0.5563      1.183         34        640: 100%|██████████| 12/12 [00:03<00:00,  3.43it/s]\n",
            "                 Class     Images  Instances      Box(P          R      mAP50  mAP50-95)     Pose(P          R      mAP50  mAP50-95): 100%|██████████| 2/2 [00:00<00:00,  3.78it/s]"
          ]
        },
        {
          "output_type": "stream",
          "name": "stdout",
          "text": [
            "                   all         55         55      0.851       0.94      0.967      0.695      0.851       0.94      0.967      0.967\n"
          ]
        },
        {
          "output_type": "stream",
          "name": "stderr",
          "text": [
            "\n"
          ]
        },
        {
          "output_type": "stream",
          "name": "stdout",
          "text": [
            "\n",
            "      Epoch    GPU_mem   box_loss  pose_loss  kobj_loss   cls_loss   dfl_loss  Instances       Size\n"
          ]
        },
        {
          "output_type": "stream",
          "name": "stderr",
          "text": [
            "     78/150      4.46G     0.7858    0.09353       0.12     0.5113      1.137         39        640: 100%|██████████| 12/12 [00:03<00:00,  3.39it/s]\n",
            "                 Class     Images  Instances      Box(P          R      mAP50  mAP50-95)     Pose(P          R      mAP50  mAP50-95): 100%|██████████| 2/2 [00:00<00:00,  3.77it/s]"
          ]
        },
        {
          "output_type": "stream",
          "name": "stdout",
          "text": [
            "                   all         55         55      0.941      0.886      0.966       0.69      0.941      0.886      0.966      0.966\n"
          ]
        },
        {
          "output_type": "stream",
          "name": "stderr",
          "text": [
            "\n"
          ]
        },
        {
          "output_type": "stream",
          "name": "stdout",
          "text": [
            "\n",
            "      Epoch    GPU_mem   box_loss  pose_loss  kobj_loss   cls_loss   dfl_loss  Instances       Size\n"
          ]
        },
        {
          "output_type": "stream",
          "name": "stderr",
          "text": [
            "     79/150      4.53G     0.7197    0.09404    0.09693     0.5019      1.098         40        640: 100%|██████████| 12/12 [00:04<00:00,  2.72it/s]\n",
            "                 Class     Images  Instances      Box(P          R      mAP50  mAP50-95)     Pose(P          R      mAP50  mAP50-95): 100%|██████████| 2/2 [00:00<00:00,  2.33it/s]"
          ]
        },
        {
          "output_type": "stream",
          "name": "stdout",
          "text": [
            "                   all         55         55      0.894      0.935      0.975      0.715      0.894      0.935      0.975      0.975\n"
          ]
        },
        {
          "output_type": "stream",
          "name": "stderr",
          "text": [
            "\n"
          ]
        },
        {
          "output_type": "stream",
          "name": "stdout",
          "text": [
            "\n",
            "      Epoch    GPU_mem   box_loss  pose_loss  kobj_loss   cls_loss   dfl_loss  Instances       Size\n"
          ]
        },
        {
          "output_type": "stream",
          "name": "stderr",
          "text": [
            "     80/150       4.6G     0.7424    0.09712    0.08114     0.5237      1.112         33        640: 100%|██████████| 12/12 [00:03<00:00,  3.36it/s]\n",
            "                 Class     Images  Instances      Box(P          R      mAP50  mAP50-95)     Pose(P          R      mAP50  mAP50-95): 100%|██████████| 2/2 [00:00<00:00,  3.60it/s]"
          ]
        },
        {
          "output_type": "stream",
          "name": "stdout",
          "text": [
            "                   all         55         55      0.814      0.872      0.934      0.658      0.814      0.872      0.934      0.934\n"
          ]
        },
        {
          "output_type": "stream",
          "name": "stderr",
          "text": [
            "\n"
          ]
        },
        {
          "output_type": "stream",
          "name": "stdout",
          "text": [
            "\n",
            "      Epoch    GPU_mem   box_loss  pose_loss  kobj_loss   cls_loss   dfl_loss  Instances       Size\n"
          ]
        },
        {
          "output_type": "stream",
          "name": "stderr",
          "text": [
            "     81/150      4.67G     0.8021    0.09379    0.08411     0.5257      1.154         51        640: 100%|██████████| 12/12 [00:03<00:00,  3.37it/s]\n",
            "                 Class     Images  Instances      Box(P          R      mAP50  mAP50-95)     Pose(P          R      mAP50  mAP50-95): 100%|██████████| 2/2 [00:00<00:00,  3.77it/s]"
          ]
        },
        {
          "output_type": "stream",
          "name": "stdout",
          "text": [
            "                   all         55         55      0.862      0.975      0.974      0.716      0.862      0.975      0.974      0.974\n"
          ]
        },
        {
          "output_type": "stream",
          "name": "stderr",
          "text": [
            "\n"
          ]
        },
        {
          "output_type": "stream",
          "name": "stdout",
          "text": [
            "\n",
            "      Epoch    GPU_mem   box_loss  pose_loss  kobj_loss   cls_loss   dfl_loss  Instances       Size\n"
          ]
        },
        {
          "output_type": "stream",
          "name": "stderr",
          "text": [
            "     82/150      4.74G     0.7276     0.1031     0.1042      0.504      1.115         42        640: 100%|██████████| 12/12 [00:04<00:00,  2.59it/s]\n",
            "                 Class     Images  Instances      Box(P          R      mAP50  mAP50-95)     Pose(P          R      mAP50  mAP50-95): 100%|██████████| 2/2 [00:00<00:00,  2.68it/s]"
          ]
        },
        {
          "output_type": "stream",
          "name": "stdout",
          "text": [
            "                   all         55         55       0.83      0.911      0.953      0.706       0.83      0.911      0.953      0.953\n"
          ]
        },
        {
          "output_type": "stream",
          "name": "stderr",
          "text": [
            "\n"
          ]
        },
        {
          "output_type": "stream",
          "name": "stdout",
          "text": [
            "\n",
            "      Epoch    GPU_mem   box_loss  pose_loss  kobj_loss   cls_loss   dfl_loss  Instances       Size\n"
          ]
        },
        {
          "output_type": "stream",
          "name": "stderr",
          "text": [
            "     83/150      4.81G     0.7286    0.08591    0.09559     0.4915      1.103         38        640: 100%|██████████| 12/12 [00:03<00:00,  3.35it/s]\n",
            "                 Class     Images  Instances      Box(P          R      mAP50  mAP50-95)     Pose(P          R      mAP50  mAP50-95): 100%|██████████| 2/2 [00:00<00:00,  3.84it/s]"
          ]
        },
        {
          "output_type": "stream",
          "name": "stdout",
          "text": [
            "                   all         55         55      0.906      0.944      0.959      0.701      0.906      0.944      0.959      0.959\n"
          ]
        },
        {
          "output_type": "stream",
          "name": "stderr",
          "text": [
            "\n"
          ]
        },
        {
          "output_type": "stream",
          "name": "stdout",
          "text": [
            "\n",
            "      Epoch    GPU_mem   box_loss  pose_loss  kobj_loss   cls_loss   dfl_loss  Instances       Size\n"
          ]
        },
        {
          "output_type": "stream",
          "name": "stderr",
          "text": [
            "     84/150      4.85G     0.7479    0.09249      0.104     0.4977      1.141         42        640: 100%|██████████| 12/12 [00:03<00:00,  3.35it/s]\n",
            "                 Class     Images  Instances      Box(P          R      mAP50  mAP50-95)     Pose(P          R      mAP50  mAP50-95): 100%|██████████| 2/2 [00:00<00:00,  3.85it/s]"
          ]
        },
        {
          "output_type": "stream",
          "name": "stdout",
          "text": [
            "                   all         55         55      0.902      0.944      0.955      0.696      0.902      0.944      0.955      0.955\n"
          ]
        },
        {
          "output_type": "stream",
          "name": "stderr",
          "text": [
            "\n"
          ]
        },
        {
          "output_type": "stream",
          "name": "stdout",
          "text": [
            "\n",
            "      Epoch    GPU_mem   box_loss  pose_loss  kobj_loss   cls_loss   dfl_loss  Instances       Size\n"
          ]
        },
        {
          "output_type": "stream",
          "name": "stderr",
          "text": [
            "     85/150      4.92G     0.7844    0.08221     0.1061     0.5115      1.165         35        640: 100%|██████████| 12/12 [00:04<00:00,  2.67it/s]\n",
            "                 Class     Images  Instances      Box(P          R      mAP50  mAP50-95)     Pose(P          R      mAP50  mAP50-95): 100%|██████████| 2/2 [00:00<00:00,  3.12it/s]"
          ]
        },
        {
          "output_type": "stream",
          "name": "stdout",
          "text": [
            "                   all         55         55      0.863      0.965      0.961      0.699      0.863      0.965      0.961      0.961\n"
          ]
        },
        {
          "output_type": "stream",
          "name": "stderr",
          "text": [
            "\n"
          ]
        },
        {
          "output_type": "stream",
          "name": "stdout",
          "text": [
            "\n",
            "      Epoch    GPU_mem   box_loss  pose_loss  kobj_loss   cls_loss   dfl_loss  Instances       Size\n"
          ]
        },
        {
          "output_type": "stream",
          "name": "stderr",
          "text": [
            "     86/150      4.99G     0.7172     0.0939    0.09128     0.5106      1.092         36        640: 100%|██████████| 12/12 [00:03<00:00,  3.31it/s]\n",
            "                 Class     Images  Instances      Box(P          R      mAP50  mAP50-95)     Pose(P          R      mAP50  mAP50-95): 100%|██████████| 2/2 [00:00<00:00,  3.56it/s]"
          ]
        },
        {
          "output_type": "stream",
          "name": "stdout",
          "text": [
            "                   all         55         55      0.876      0.863      0.954       0.69      0.876      0.863      0.954      0.954\n"
          ]
        },
        {
          "output_type": "stream",
          "name": "stderr",
          "text": [
            "\n"
          ]
        },
        {
          "output_type": "stream",
          "name": "stdout",
          "text": [
            "\n",
            "      Epoch    GPU_mem   box_loss  pose_loss  kobj_loss   cls_loss   dfl_loss  Instances       Size\n"
          ]
        },
        {
          "output_type": "stream",
          "name": "stderr",
          "text": [
            "     87/150      5.06G     0.7566    0.09464     0.1145     0.5145      1.153         35        640: 100%|██████████| 12/12 [00:03<00:00,  3.39it/s]\n",
            "                 Class     Images  Instances      Box(P          R      mAP50  mAP50-95)     Pose(P          R      mAP50  mAP50-95): 100%|██████████| 2/2 [00:00<00:00,  2.77it/s]"
          ]
        },
        {
          "output_type": "stream",
          "name": "stdout",
          "text": [
            "                   all         55         55      0.886      0.875      0.939      0.688      0.886      0.875      0.939      0.939\n"
          ]
        },
        {
          "output_type": "stream",
          "name": "stderr",
          "text": [
            "\n"
          ]
        },
        {
          "output_type": "stream",
          "name": "stdout",
          "text": [
            "\n",
            "      Epoch    GPU_mem   box_loss  pose_loss  kobj_loss   cls_loss   dfl_loss  Instances       Size\n"
          ]
        },
        {
          "output_type": "stream",
          "name": "stderr",
          "text": [
            "     88/150      5.13G      0.746    0.09361    0.09393     0.5213      1.135         39        640: 100%|██████████| 12/12 [00:04<00:00,  2.84it/s]\n",
            "                 Class     Images  Instances      Box(P          R      mAP50  mAP50-95)     Pose(P          R      mAP50  mAP50-95): 100%|██████████| 2/2 [00:00<00:00,  3.73it/s]"
          ]
        },
        {
          "output_type": "stream",
          "name": "stdout",
          "text": [
            "                   all         55         55      0.943      0.865      0.959      0.699      0.943      0.865      0.959      0.959\n"
          ]
        },
        {
          "output_type": "stream",
          "name": "stderr",
          "text": [
            "\n"
          ]
        },
        {
          "output_type": "stream",
          "name": "stdout",
          "text": [
            "\n",
            "      Epoch    GPU_mem   box_loss  pose_loss  kobj_loss   cls_loss   dfl_loss  Instances       Size\n"
          ]
        },
        {
          "output_type": "stream",
          "name": "stderr",
          "text": [
            "     89/150      5.21G     0.7181    0.08557      0.104     0.4746      1.112         33        640: 100%|██████████| 12/12 [00:03<00:00,  3.44it/s]\n",
            "                 Class     Images  Instances      Box(P          R      mAP50  mAP50-95)     Pose(P          R      mAP50  mAP50-95): 100%|██████████| 2/2 [00:00<00:00,  3.71it/s]"
          ]
        },
        {
          "output_type": "stream",
          "name": "stdout",
          "text": [
            "                   all         55         55      0.899      0.956      0.958      0.701      0.899      0.956      0.958      0.958\n"
          ]
        },
        {
          "output_type": "stream",
          "name": "stderr",
          "text": [
            "\n"
          ]
        },
        {
          "output_type": "stream",
          "name": "stdout",
          "text": [
            "\n",
            "      Epoch    GPU_mem   box_loss  pose_loss  kobj_loss   cls_loss   dfl_loss  Instances       Size\n"
          ]
        },
        {
          "output_type": "stream",
          "name": "stderr",
          "text": [
            "     90/150      5.24G     0.7424    0.08852    0.07644     0.4832      1.122         44        640: 100%|██████████| 12/12 [00:03<00:00,  3.22it/s]\n",
            "                 Class     Images  Instances      Box(P          R      mAP50  mAP50-95)     Pose(P          R      mAP50  mAP50-95): 100%|██████████| 2/2 [00:00<00:00,  2.38it/s]"
          ]
        },
        {
          "output_type": "stream",
          "name": "stdout",
          "text": [
            "                   all         55         55      0.922      0.901      0.962      0.701      0.922      0.901      0.962      0.962\n"
          ]
        },
        {
          "output_type": "stream",
          "name": "stderr",
          "text": [
            "\n"
          ]
        },
        {
          "output_type": "stream",
          "name": "stdout",
          "text": [
            "\n",
            "      Epoch    GPU_mem   box_loss  pose_loss  kobj_loss   cls_loss   dfl_loss  Instances       Size\n"
          ]
        },
        {
          "output_type": "stream",
          "name": "stderr",
          "text": [
            "     91/150      5.31G      0.728    0.08062     0.0925     0.4876      1.111         30        640: 100%|██████████| 12/12 [00:04<00:00,  2.95it/s]\n",
            "                 Class     Images  Instances      Box(P          R      mAP50  mAP50-95)     Pose(P          R      mAP50  mAP50-95): 100%|██████████| 2/2 [00:00<00:00,  3.73it/s]"
          ]
        },
        {
          "output_type": "stream",
          "name": "stdout",
          "text": [
            "                   all         55         55      0.949      0.959      0.971        0.7      0.949      0.959      0.971      0.971\n"
          ]
        },
        {
          "output_type": "stream",
          "name": "stderr",
          "text": [
            "\n"
          ]
        },
        {
          "output_type": "stream",
          "name": "stdout",
          "text": [
            "\n",
            "      Epoch    GPU_mem   box_loss  pose_loss  kobj_loss   cls_loss   dfl_loss  Instances       Size\n"
          ]
        },
        {
          "output_type": "stream",
          "name": "stderr",
          "text": [
            "     92/150      5.38G     0.7156    0.08371    0.08728     0.4857      1.107         35        640: 100%|██████████| 12/12 [00:03<00:00,  3.35it/s]\n",
            "                 Class     Images  Instances      Box(P          R      mAP50  mAP50-95)     Pose(P          R      mAP50  mAP50-95): 100%|██████████| 2/2 [00:00<00:00,  3.80it/s]"
          ]
        },
        {
          "output_type": "stream",
          "name": "stdout",
          "text": [
            "                   all         55         55      0.876      0.972       0.98      0.711      0.876      0.972       0.98       0.98\n"
          ]
        },
        {
          "output_type": "stream",
          "name": "stderr",
          "text": [
            "\n"
          ]
        },
        {
          "output_type": "stream",
          "name": "stdout",
          "text": [
            "\n",
            "      Epoch    GPU_mem   box_loss  pose_loss  kobj_loss   cls_loss   dfl_loss  Instances       Size\n"
          ]
        },
        {
          "output_type": "stream",
          "name": "stderr",
          "text": [
            "     93/150      5.46G     0.7365    0.09337    0.08504      0.474      1.121         40        640: 100%|██████████| 12/12 [00:03<00:00,  3.07it/s]\n",
            "                 Class     Images  Instances      Box(P          R      mAP50  mAP50-95)     Pose(P          R      mAP50  mAP50-95): 100%|██████████| 2/2 [00:00<00:00,  2.43it/s]"
          ]
        },
        {
          "output_type": "stream",
          "name": "stdout",
          "text": [
            "                   all         55         55      0.888      0.944       0.98      0.711      0.888      0.944       0.98       0.98\n"
          ]
        },
        {
          "output_type": "stream",
          "name": "stderr",
          "text": [
            "\n"
          ]
        },
        {
          "output_type": "stream",
          "name": "stdout",
          "text": [
            "\n",
            "      Epoch    GPU_mem   box_loss  pose_loss  kobj_loss   cls_loss   dfl_loss  Instances       Size\n"
          ]
        },
        {
          "output_type": "stream",
          "name": "stderr",
          "text": [
            "     94/150      5.53G     0.7115    0.08587      0.097     0.4756       1.11         41        640: 100%|██████████| 12/12 [00:03<00:00,  3.08it/s]\n",
            "                 Class     Images  Instances      Box(P          R      mAP50  mAP50-95)     Pose(P          R      mAP50  mAP50-95): 100%|██████████| 2/2 [00:00<00:00,  3.64it/s]"
          ]
        },
        {
          "output_type": "stream",
          "name": "stdout",
          "text": [
            "                   all         55         55      0.856      0.964      0.979      0.712      0.856      0.964      0.979      0.979\n"
          ]
        },
        {
          "output_type": "stream",
          "name": "stderr",
          "text": [
            "\n"
          ]
        },
        {
          "output_type": "stream",
          "name": "stdout",
          "text": [
            "\n",
            "      Epoch    GPU_mem   box_loss  pose_loss  kobj_loss   cls_loss   dfl_loss  Instances       Size\n"
          ]
        },
        {
          "output_type": "stream",
          "name": "stderr",
          "text": [
            "     95/150       5.6G     0.7126    0.08159    0.08495     0.4593      1.104         31        640: 100%|██████████| 12/12 [00:03<00:00,  3.37it/s]\n",
            "                 Class     Images  Instances      Box(P          R      mAP50  mAP50-95)     Pose(P          R      mAP50  mAP50-95): 100%|██████████| 2/2 [00:00<00:00,  3.88it/s]"
          ]
        },
        {
          "output_type": "stream",
          "name": "stdout",
          "text": [
            "                   all         55         55      0.905      0.972      0.976       0.71      0.905      0.972      0.976      0.976\n"
          ]
        },
        {
          "output_type": "stream",
          "name": "stderr",
          "text": [
            "\n"
          ]
        },
        {
          "output_type": "stream",
          "name": "stdout",
          "text": [
            "\n",
            "      Epoch    GPU_mem   box_loss  pose_loss  kobj_loss   cls_loss   dfl_loss  Instances       Size\n"
          ]
        },
        {
          "output_type": "stream",
          "name": "stderr",
          "text": [
            "     96/150      5.67G     0.6742     0.1001    0.08041     0.4334        1.1         38        640: 100%|██████████| 12/12 [00:04<00:00,  2.95it/s]\n",
            "                 Class     Images  Instances      Box(P          R      mAP50  mAP50-95)     Pose(P          R      mAP50  mAP50-95): 100%|██████████| 2/2 [00:00<00:00,  2.14it/s]"
          ]
        },
        {
          "output_type": "stream",
          "name": "stdout",
          "text": [
            "                   all         55         55       0.88      0.931      0.941      0.685       0.88      0.931      0.941      0.941\n"
          ]
        },
        {
          "output_type": "stream",
          "name": "stderr",
          "text": [
            "\n"
          ]
        },
        {
          "output_type": "stream",
          "name": "stdout",
          "text": [
            "\n",
            "      Epoch    GPU_mem   box_loss  pose_loss  kobj_loss   cls_loss   dfl_loss  Instances       Size\n"
          ]
        },
        {
          "output_type": "stream",
          "name": "stderr",
          "text": [
            "     97/150      5.71G     0.6857    0.09065    0.07903     0.4316      1.089         35        640: 100%|██████████| 12/12 [00:03<00:00,  3.29it/s]\n",
            "                 Class     Images  Instances      Box(P          R      mAP50  mAP50-95)     Pose(P          R      mAP50  mAP50-95): 100%|██████████| 2/2 [00:00<00:00,  3.60it/s]"
          ]
        },
        {
          "output_type": "stream",
          "name": "stdout",
          "text": [
            "                   all         55         55      0.874      0.927      0.919      0.666      0.874      0.927      0.919      0.919\n"
          ]
        },
        {
          "output_type": "stream",
          "name": "stderr",
          "text": [
            "\n"
          ]
        },
        {
          "output_type": "stream",
          "name": "stdout",
          "text": [
            "\n",
            "      Epoch    GPU_mem   box_loss  pose_loss  kobj_loss   cls_loss   dfl_loss  Instances       Size\n"
          ]
        },
        {
          "output_type": "stream",
          "name": "stderr",
          "text": [
            "     98/150      5.78G     0.6983    0.09172    0.08395     0.4305        1.1         41        640: 100%|██████████| 12/12 [00:03<00:00,  3.28it/s]\n",
            "                 Class     Images  Instances      Box(P          R      mAP50  mAP50-95)     Pose(P          R      mAP50  mAP50-95): 100%|██████████| 2/2 [00:00<00:00,  3.79it/s]"
          ]
        },
        {
          "output_type": "stream",
          "name": "stdout",
          "text": [
            "                   all         55         55      0.932      0.925       0.96      0.709      0.932      0.925       0.96       0.96\n"
          ]
        },
        {
          "output_type": "stream",
          "name": "stderr",
          "text": [
            "\n"
          ]
        },
        {
          "output_type": "stream",
          "name": "stdout",
          "text": [
            "\n",
            "      Epoch    GPU_mem   box_loss  pose_loss  kobj_loss   cls_loss   dfl_loss  Instances       Size\n"
          ]
        },
        {
          "output_type": "stream",
          "name": "stderr",
          "text": [
            "     99/150      5.85G     0.6557    0.07982     0.1059     0.4468      1.117         35        640: 100%|██████████| 12/12 [00:04<00:00,  2.77it/s]\n",
            "                 Class     Images  Instances      Box(P          R      mAP50  mAP50-95)     Pose(P          R      mAP50  mAP50-95): 100%|██████████| 2/2 [00:01<00:00,  1.82it/s]"
          ]
        },
        {
          "output_type": "stream",
          "name": "stdout",
          "text": [
            "                   all         55         55      0.932      0.875      0.957      0.686      0.932      0.875      0.957      0.957\n"
          ]
        },
        {
          "output_type": "stream",
          "name": "stderr",
          "text": [
            "\n"
          ]
        },
        {
          "output_type": "stream",
          "name": "stdout",
          "text": [
            "\n",
            "      Epoch    GPU_mem   box_loss  pose_loss  kobj_loss   cls_loss   dfl_loss  Instances       Size\n"
          ]
        },
        {
          "output_type": "stream",
          "name": "stderr",
          "text": [
            "    100/150      5.92G     0.7691    0.09761    0.07804     0.5044      1.142         38        640: 100%|██████████| 12/12 [00:03<00:00,  3.40it/s]\n",
            "                 Class     Images  Instances      Box(P          R      mAP50  mAP50-95)     Pose(P          R      mAP50  mAP50-95): 100%|██████████| 2/2 [00:00<00:00,  3.53it/s]"
          ]
        },
        {
          "output_type": "stream",
          "name": "stdout",
          "text": [
            "                   all         55         55      0.931      0.861      0.973      0.711      0.931      0.861      0.973      0.973\n"
          ]
        },
        {
          "output_type": "stream",
          "name": "stderr",
          "text": [
            "\n"
          ]
        },
        {
          "output_type": "stream",
          "name": "stdout",
          "text": [
            "\n",
            "      Epoch    GPU_mem   box_loss  pose_loss  kobj_loss   cls_loss   dfl_loss  Instances       Size\n"
          ]
        },
        {
          "output_type": "stream",
          "name": "stderr",
          "text": [
            "    101/150      5.99G     0.6781     0.0872    0.08712     0.4609      1.071         41        640: 100%|██████████| 12/12 [00:03<00:00,  3.35it/s]\n",
            "                 Class     Images  Instances      Box(P          R      mAP50  mAP50-95)     Pose(P          R      mAP50  mAP50-95): 100%|██████████| 2/2 [00:00<00:00,  3.80it/s]"
          ]
        },
        {
          "output_type": "stream",
          "name": "stdout",
          "text": [
            "                   all         55         55      0.973      0.885      0.981      0.705      0.973      0.885      0.981      0.981\n"
          ]
        },
        {
          "output_type": "stream",
          "name": "stderr",
          "text": [
            "\n"
          ]
        },
        {
          "output_type": "stream",
          "name": "stdout",
          "text": [
            "\n",
            "      Epoch    GPU_mem   box_loss  pose_loss  kobj_loss   cls_loss   dfl_loss  Instances       Size\n"
          ]
        },
        {
          "output_type": "stream",
          "name": "stderr",
          "text": [
            "    102/150      6.06G     0.6738     0.0871    0.09621     0.4497      1.079         37        640: 100%|██████████| 12/12 [00:04<00:00,  2.60it/s]\n",
            "                 Class     Images  Instances      Box(P          R      mAP50  mAP50-95)     Pose(P          R      mAP50  mAP50-95): 100%|██████████| 2/2 [00:00<00:00,  2.78it/s]"
          ]
        },
        {
          "output_type": "stream",
          "name": "stdout",
          "text": [
            "                   all         55         55      0.932      0.919      0.961      0.711      0.932      0.919      0.961      0.961\n"
          ]
        },
        {
          "output_type": "stream",
          "name": "stderr",
          "text": [
            "\n"
          ]
        },
        {
          "output_type": "stream",
          "name": "stdout",
          "text": [
            "\n",
            "      Epoch    GPU_mem   box_loss  pose_loss  kobj_loss   cls_loss   dfl_loss  Instances       Size\n"
          ]
        },
        {
          "output_type": "stream",
          "name": "stderr",
          "text": [
            "    103/150      6.13G     0.7408    0.07716    0.08496     0.4485      1.117         44        640: 100%|██████████| 12/12 [00:03<00:00,  3.34it/s]\n",
            "                 Class     Images  Instances      Box(P          R      mAP50  mAP50-95)     Pose(P          R      mAP50  mAP50-95): 100%|██████████| 2/2 [00:00<00:00,  3.84it/s]"
          ]
        },
        {
          "output_type": "stream",
          "name": "stdout",
          "text": [
            "                   all         55         55      0.915       0.92      0.958      0.698      0.915       0.92      0.958      0.958\n"
          ]
        },
        {
          "output_type": "stream",
          "name": "stderr",
          "text": [
            "\n"
          ]
        },
        {
          "output_type": "stream",
          "name": "stdout",
          "text": [
            "\n",
            "      Epoch    GPU_mem   box_loss  pose_loss  kobj_loss   cls_loss   dfl_loss  Instances       Size\n"
          ]
        },
        {
          "output_type": "stream",
          "name": "stderr",
          "text": [
            "    104/150      6.17G     0.7088    0.09043    0.08305       0.43      1.105         46        640: 100%|██████████| 12/12 [00:03<00:00,  3.33it/s]\n",
            "                 Class     Images  Instances      Box(P          R      mAP50  mAP50-95)     Pose(P          R      mAP50  mAP50-95): 100%|██████████| 2/2 [00:00<00:00,  3.77it/s]"
          ]
        },
        {
          "output_type": "stream",
          "name": "stdout",
          "text": [
            "                   all         55         55      0.891       0.92      0.956      0.679      0.891       0.92      0.956      0.956\n"
          ]
        },
        {
          "output_type": "stream",
          "name": "stderr",
          "text": [
            "\n"
          ]
        },
        {
          "output_type": "stream",
          "name": "stdout",
          "text": [
            "\n",
            "      Epoch    GPU_mem   box_loss  pose_loss  kobj_loss   cls_loss   dfl_loss  Instances       Size\n"
          ]
        },
        {
          "output_type": "stream",
          "name": "stderr",
          "text": [
            "    105/150      6.24G     0.6769    0.07023    0.07972     0.4204      1.116         43        640: 100%|██████████| 12/12 [00:04<00:00,  2.54it/s]\n",
            "                 Class     Images  Instances      Box(P          R      mAP50  mAP50-95)     Pose(P          R      mAP50  mAP50-95): 100%|██████████| 2/2 [00:00<00:00,  2.97it/s]"
          ]
        },
        {
          "output_type": "stream",
          "name": "stdout",
          "text": [
            "                   all         55         55      0.921      0.933      0.955      0.694      0.921      0.933      0.955      0.955\n"
          ]
        },
        {
          "output_type": "stream",
          "name": "stderr",
          "text": [
            "\n"
          ]
        },
        {
          "output_type": "stream",
          "name": "stdout",
          "text": [
            "\n",
            "      Epoch    GPU_mem   box_loss  pose_loss  kobj_loss   cls_loss   dfl_loss  Instances       Size\n"
          ]
        },
        {
          "output_type": "stream",
          "name": "stderr",
          "text": [
            "    106/150      6.31G     0.7199    0.09195    0.09978     0.4343      1.115         43        640: 100%|██████████| 12/12 [00:03<00:00,  3.33it/s]\n",
            "                 Class     Images  Instances      Box(P          R      mAP50  mAP50-95)     Pose(P          R      mAP50  mAP50-95): 100%|██████████| 2/2 [00:00<00:00,  3.85it/s]"
          ]
        },
        {
          "output_type": "stream",
          "name": "stdout",
          "text": [
            "                   all         55         55      0.932      0.919      0.976      0.703      0.932      0.919      0.976      0.976\n"
          ]
        },
        {
          "output_type": "stream",
          "name": "stderr",
          "text": [
            "\n"
          ]
        },
        {
          "output_type": "stream",
          "name": "stdout",
          "text": [
            "\n",
            "      Epoch    GPU_mem   box_loss  pose_loss  kobj_loss   cls_loss   dfl_loss  Instances       Size\n"
          ]
        },
        {
          "output_type": "stream",
          "name": "stderr",
          "text": [
            "    107/150      6.38G     0.6236    0.07183    0.08872     0.3904      1.064         35        640: 100%|██████████| 12/12 [00:03<00:00,  3.31it/s]\n",
            "                 Class     Images  Instances      Box(P          R      mAP50  mAP50-95)     Pose(P          R      mAP50  mAP50-95): 100%|██████████| 2/2 [00:00<00:00,  3.12it/s]"
          ]
        },
        {
          "output_type": "stream",
          "name": "stdout",
          "text": [
            "                   all         55         55      0.928      0.946      0.981      0.713      0.928      0.946      0.981      0.981\n"
          ]
        },
        {
          "output_type": "stream",
          "name": "stderr",
          "text": [
            "\n"
          ]
        },
        {
          "output_type": "stream",
          "name": "stdout",
          "text": [
            "\n",
            "      Epoch    GPU_mem   box_loss  pose_loss  kobj_loss   cls_loss   dfl_loss  Instances       Size\n"
          ]
        },
        {
          "output_type": "stream",
          "name": "stderr",
          "text": [
            "    108/150      6.45G     0.6773    0.08865    0.06906     0.4481       1.08         38        640: 100%|██████████| 12/12 [00:04<00:00,  2.68it/s]\n",
            "                 Class     Images  Instances      Box(P          R      mAP50  mAP50-95)     Pose(P          R      mAP50  mAP50-95): 100%|██████████| 2/2 [00:00<00:00,  3.80it/s]"
          ]
        },
        {
          "output_type": "stream",
          "name": "stdout",
          "text": [
            "                   all         55         55      0.963      0.932      0.986       0.73      0.963      0.932      0.986      0.986\n"
          ]
        },
        {
          "output_type": "stream",
          "name": "stderr",
          "text": [
            "\n"
          ]
        },
        {
          "output_type": "stream",
          "name": "stdout",
          "text": [
            "\n",
            "      Epoch    GPU_mem   box_loss  pose_loss  kobj_loss   cls_loss   dfl_loss  Instances       Size\n"
          ]
        },
        {
          "output_type": "stream",
          "name": "stderr",
          "text": [
            "    109/150      6.52G     0.7003     0.0716    0.07511     0.4325      1.115         38        640: 100%|██████████| 12/12 [00:03<00:00,  3.33it/s]\n",
            "                 Class     Images  Instances      Box(P          R      mAP50  mAP50-95)     Pose(P          R      mAP50  mAP50-95): 100%|██████████| 2/2 [00:00<00:00,  3.64it/s]"
          ]
        },
        {
          "output_type": "stream",
          "name": "stdout",
          "text": [
            "                   all         55         55      0.898      0.973      0.981      0.728      0.898      0.973      0.981      0.981\n"
          ]
        },
        {
          "output_type": "stream",
          "name": "stderr",
          "text": [
            "\n"
          ]
        },
        {
          "output_type": "stream",
          "name": "stdout",
          "text": [
            "\n",
            "      Epoch    GPU_mem   box_loss  pose_loss  kobj_loss   cls_loss   dfl_loss  Instances       Size\n"
          ]
        },
        {
          "output_type": "stream",
          "name": "stderr",
          "text": [
            "    110/150      6.56G      0.675    0.06682    0.07049      0.447      1.083         36        640: 100%|██████████| 12/12 [00:03<00:00,  3.31it/s]\n",
            "                 Class     Images  Instances      Box(P          R      mAP50  mAP50-95)     Pose(P          R      mAP50  mAP50-95): 100%|██████████| 2/2 [00:00<00:00,  2.46it/s]"
          ]
        },
        {
          "output_type": "stream",
          "name": "stdout",
          "text": [
            "                   all         55         55      0.893      0.968      0.975      0.721      0.893      0.968      0.975      0.975\n"
          ]
        },
        {
          "output_type": "stream",
          "name": "stderr",
          "text": [
            "\n"
          ]
        },
        {
          "output_type": "stream",
          "name": "stdout",
          "text": [
            "\n",
            "      Epoch    GPU_mem   box_loss  pose_loss  kobj_loss   cls_loss   dfl_loss  Instances       Size\n"
          ]
        },
        {
          "output_type": "stream",
          "name": "stderr",
          "text": [
            "    111/150      6.63G     0.6671    0.06329    0.07892      0.413        1.1         46        640: 100%|██████████| 12/12 [00:04<00:00,  2.83it/s]\n",
            "                 Class     Images  Instances      Box(P          R      mAP50  mAP50-95)     Pose(P          R      mAP50  mAP50-95): 100%|██████████| 2/2 [00:00<00:00,  3.65it/s]"
          ]
        },
        {
          "output_type": "stream",
          "name": "stdout",
          "text": [
            "                   all         55         55      0.927      0.932      0.974      0.725      0.927      0.932      0.974      0.974\n"
          ]
        },
        {
          "output_type": "stream",
          "name": "stderr",
          "text": [
            "\n"
          ]
        },
        {
          "output_type": "stream",
          "name": "stdout",
          "text": [
            "\n",
            "      Epoch    GPU_mem   box_loss  pose_loss  kobj_loss   cls_loss   dfl_loss  Instances       Size\n"
          ]
        },
        {
          "output_type": "stream",
          "name": "stderr",
          "text": [
            "    112/150       6.7G     0.6769    0.06536    0.06765     0.4031      1.094         40        640: 100%|██████████| 12/12 [00:03<00:00,  3.38it/s]\n",
            "                 Class     Images  Instances      Box(P          R      mAP50  mAP50-95)     Pose(P          R      mAP50  mAP50-95): 100%|██████████| 2/2 [00:00<00:00,  3.78it/s]"
          ]
        },
        {
          "output_type": "stream",
          "name": "stdout",
          "text": [
            "                   all         55         55      0.907      0.953      0.975      0.726      0.907      0.953      0.975      0.975\n"
          ]
        },
        {
          "output_type": "stream",
          "name": "stderr",
          "text": [
            "\n"
          ]
        },
        {
          "output_type": "stream",
          "name": "stdout",
          "text": [
            "\n",
            "      Epoch    GPU_mem   box_loss  pose_loss  kobj_loss   cls_loss   dfl_loss  Instances       Size\n"
          ]
        },
        {
          "output_type": "stream",
          "name": "stderr",
          "text": [
            "    113/150      6.77G      0.643    0.07191    0.07676     0.4142      1.086         37        640: 100%|██████████| 12/12 [00:03<00:00,  3.15it/s]\n",
            "                 Class     Images  Instances      Box(P          R      mAP50  mAP50-95)     Pose(P          R      mAP50  mAP50-95): 100%|██████████| 2/2 [00:00<00:00,  2.66it/s]"
          ]
        },
        {
          "output_type": "stream",
          "name": "stdout",
          "text": [
            "                   all         55         55      0.886      0.941      0.957       0.71      0.886      0.941      0.957      0.957\n"
          ]
        },
        {
          "output_type": "stream",
          "name": "stderr",
          "text": [
            "\n"
          ]
        },
        {
          "output_type": "stream",
          "name": "stdout",
          "text": [
            "\n",
            "      Epoch    GPU_mem   box_loss  pose_loss  kobj_loss   cls_loss   dfl_loss  Instances       Size\n"
          ]
        },
        {
          "output_type": "stream",
          "name": "stderr",
          "text": [
            "    114/150      6.85G      0.642    0.06913    0.08582     0.3972       1.08         34        640: 100%|██████████| 12/12 [00:03<00:00,  3.05it/s]\n",
            "                 Class     Images  Instances      Box(P          R      mAP50  mAP50-95)     Pose(P          R      mAP50  mAP50-95): 100%|██████████| 2/2 [00:00<00:00,  3.62it/s]"
          ]
        },
        {
          "output_type": "stream",
          "name": "stdout",
          "text": [
            "                   all         55         55      0.884       0.92       0.96       0.71      0.884       0.92       0.96       0.96\n"
          ]
        },
        {
          "output_type": "stream",
          "name": "stderr",
          "text": [
            "\n"
          ]
        },
        {
          "output_type": "stream",
          "name": "stdout",
          "text": [
            "\n",
            "      Epoch    GPU_mem   box_loss  pose_loss  kobj_loss   cls_loss   dfl_loss  Instances       Size\n"
          ]
        },
        {
          "output_type": "stream",
          "name": "stderr",
          "text": [
            "    115/150      6.88G      0.657    0.07959    0.07144     0.4077      1.082         40        640: 100%|██████████| 12/12 [00:03<00:00,  3.41it/s]\n",
            "                 Class     Images  Instances      Box(P          R      mAP50  mAP50-95)     Pose(P          R      mAP50  mAP50-95): 100%|██████████| 2/2 [00:00<00:00,  3.76it/s]"
          ]
        },
        {
          "output_type": "stream",
          "name": "stdout",
          "text": [
            "                   all         55         55      0.898      0.962       0.98      0.726      0.898      0.962       0.98       0.98\n"
          ]
        },
        {
          "output_type": "stream",
          "name": "stderr",
          "text": [
            "\n"
          ]
        },
        {
          "output_type": "stream",
          "name": "stdout",
          "text": [
            "\n",
            "      Epoch    GPU_mem   box_loss  pose_loss  kobj_loss   cls_loss   dfl_loss  Instances       Size\n"
          ]
        },
        {
          "output_type": "stream",
          "name": "stderr",
          "text": [
            "    116/150      6.95G     0.6438    0.06677    0.07364     0.3909      1.088         45        640: 100%|██████████| 12/12 [00:03<00:00,  3.01it/s]\n",
            "                 Class     Images  Instances      Box(P          R      mAP50  mAP50-95)     Pose(P          R      mAP50  mAP50-95): 100%|██████████| 2/2 [00:00<00:00,  2.02it/s]"
          ]
        },
        {
          "output_type": "stream",
          "name": "stdout",
          "text": [
            "                   all         55         55      0.908      0.935      0.967      0.714      0.908      0.935      0.967      0.967\n"
          ]
        },
        {
          "output_type": "stream",
          "name": "stderr",
          "text": [
            "\n"
          ]
        },
        {
          "output_type": "stream",
          "name": "stdout",
          "text": [
            "\n",
            "      Epoch    GPU_mem   box_loss  pose_loss  kobj_loss   cls_loss   dfl_loss  Instances       Size\n"
          ]
        },
        {
          "output_type": "stream",
          "name": "stderr",
          "text": [
            "    117/150      7.03G     0.6856    0.07554    0.08837     0.4452      1.112         32        640: 100%|██████████| 12/12 [00:03<00:00,  3.21it/s]\n",
            "                 Class     Images  Instances      Box(P          R      mAP50  mAP50-95)     Pose(P          R      mAP50  mAP50-95): 100%|██████████| 2/2 [00:00<00:00,  3.67it/s]"
          ]
        },
        {
          "output_type": "stream",
          "name": "stdout",
          "text": [
            "                   all         55         55      0.937       0.93      0.968      0.727      0.937       0.93      0.968      0.968\n"
          ]
        },
        {
          "output_type": "stream",
          "name": "stderr",
          "text": [
            "\n"
          ]
        },
        {
          "output_type": "stream",
          "name": "stdout",
          "text": [
            "\n",
            "      Epoch    GPU_mem   box_loss  pose_loss  kobj_loss   cls_loss   dfl_loss  Instances       Size\n"
          ]
        },
        {
          "output_type": "stream",
          "name": "stderr",
          "text": [
            "    118/150       7.1G     0.6303    0.06703    0.07868     0.3959      1.061         35        640: 100%|██████████| 12/12 [00:03<00:00,  3.36it/s]\n",
            "                 Class     Images  Instances      Box(P          R      mAP50  mAP50-95)     Pose(P          R      mAP50  mAP50-95): 100%|██████████| 2/2 [00:00<00:00,  3.81it/s]"
          ]
        },
        {
          "output_type": "stream",
          "name": "stdout",
          "text": [
            "                   all         55         55      0.929      0.986      0.987      0.743      0.929      0.986      0.987      0.987\n"
          ]
        },
        {
          "output_type": "stream",
          "name": "stderr",
          "text": [
            "\n"
          ]
        },
        {
          "output_type": "stream",
          "name": "stdout",
          "text": [
            "\n",
            "      Epoch    GPU_mem   box_loss  pose_loss  kobj_loss   cls_loss   dfl_loss  Instances       Size\n"
          ]
        },
        {
          "output_type": "stream",
          "name": "stderr",
          "text": [
            "    119/150      7.17G     0.6446    0.07446    0.06699     0.3971      1.088         40        640: 100%|██████████| 12/12 [00:04<00:00,  2.80it/s]\n",
            "                 Class     Images  Instances      Box(P          R      mAP50  mAP50-95)     Pose(P          R      mAP50  mAP50-95): 100%|██████████| 2/2 [00:00<00:00,  2.06it/s]"
          ]
        },
        {
          "output_type": "stream",
          "name": "stdout",
          "text": [
            "                   all         55         55      0.877       0.99      0.981      0.721      0.877       0.99      0.981      0.981\n"
          ]
        },
        {
          "output_type": "stream",
          "name": "stderr",
          "text": [
            "\n"
          ]
        },
        {
          "output_type": "stream",
          "name": "stdout",
          "text": [
            "\n",
            "      Epoch    GPU_mem   box_loss  pose_loss  kobj_loss   cls_loss   dfl_loss  Instances       Size\n"
          ]
        },
        {
          "output_type": "stream",
          "name": "stderr",
          "text": [
            "    120/150      7.24G     0.6196    0.06492    0.06454      0.411      1.081         38        640: 100%|██████████| 12/12 [00:03<00:00,  3.35it/s]\n",
            "                 Class     Images  Instances      Box(P          R      mAP50  mAP50-95)     Pose(P          R      mAP50  mAP50-95): 100%|██████████| 2/2 [00:00<00:00,  3.78it/s]"
          ]
        },
        {
          "output_type": "stream",
          "name": "stdout",
          "text": [
            "                   all         55         55      0.828          1      0.968      0.708      0.828          1      0.968      0.968\n"
          ]
        },
        {
          "output_type": "stream",
          "name": "stderr",
          "text": [
            "\n"
          ]
        },
        {
          "output_type": "stream",
          "name": "stdout",
          "text": [
            "\n",
            "      Epoch    GPU_mem   box_loss  pose_loss  kobj_loss   cls_loss   dfl_loss  Instances       Size\n"
          ]
        },
        {
          "output_type": "stream",
          "name": "stderr",
          "text": [
            "    121/150      7.28G     0.6111    0.08363    0.08647     0.3961      1.076         38        640: 100%|██████████| 12/12 [00:03<00:00,  3.37it/s]\n",
            "                 Class     Images  Instances      Box(P          R      mAP50  mAP50-95)     Pose(P          R      mAP50  mAP50-95): 100%|██████████| 2/2 [00:00<00:00,  3.77it/s]"
          ]
        },
        {
          "output_type": "stream",
          "name": "stdout",
          "text": [
            "                   all         55         55      0.859      0.992      0.967      0.703      0.859      0.992      0.967      0.967\n"
          ]
        },
        {
          "output_type": "stream",
          "name": "stderr",
          "text": [
            "\n"
          ]
        },
        {
          "output_type": "stream",
          "name": "stdout",
          "text": [
            "\n",
            "      Epoch    GPU_mem   box_loss  pose_loss  kobj_loss   cls_loss   dfl_loss  Instances       Size\n"
          ]
        },
        {
          "output_type": "stream",
          "name": "stderr",
          "text": [
            "    122/150      7.35G     0.6494    0.06461    0.06895     0.4032      1.077         33        640: 100%|██████████| 12/12 [00:04<00:00,  2.63it/s]\n",
            "                 Class     Images  Instances      Box(P          R      mAP50  mAP50-95)     Pose(P          R      mAP50  mAP50-95): 100%|██████████| 2/2 [00:00<00:00,  2.26it/s]"
          ]
        },
        {
          "output_type": "stream",
          "name": "stdout",
          "text": [
            "                   all         55         55      0.879      0.932      0.963      0.708      0.879      0.932      0.963      0.963\n"
          ]
        },
        {
          "output_type": "stream",
          "name": "stderr",
          "text": [
            "\n"
          ]
        },
        {
          "output_type": "stream",
          "name": "stdout",
          "text": [
            "\n",
            "      Epoch    GPU_mem   box_loss  pose_loss  kobj_loss   cls_loss   dfl_loss  Instances       Size\n"
          ]
        },
        {
          "output_type": "stream",
          "name": "stderr",
          "text": [
            "    123/150      7.42G     0.6538    0.07496    0.06796     0.3956       1.06         34        640: 100%|██████████| 12/12 [00:03<00:00,  3.40it/s]\n",
            "                 Class     Images  Instances      Box(P          R      mAP50  mAP50-95)     Pose(P          R      mAP50  mAP50-95): 100%|██████████| 2/2 [00:00<00:00,  3.66it/s]"
          ]
        },
        {
          "output_type": "stream",
          "name": "stdout",
          "text": [
            "                   all         55         55      0.883      0.918      0.949      0.691      0.883      0.918      0.949      0.949\n"
          ]
        },
        {
          "output_type": "stream",
          "name": "stderr",
          "text": [
            "\n"
          ]
        },
        {
          "output_type": "stream",
          "name": "stdout",
          "text": [
            "\n",
            "      Epoch    GPU_mem   box_loss  pose_loss  kobj_loss   cls_loss   dfl_loss  Instances       Size\n"
          ]
        },
        {
          "output_type": "stream",
          "name": "stderr",
          "text": [
            "    124/150      3.88G     0.6701    0.07081    0.08516     0.4194      1.098         33        640: 100%|██████████| 12/12 [00:03<00:00,  3.34it/s]\n",
            "                 Class     Images  Instances      Box(P          R      mAP50  mAP50-95)     Pose(P          R      mAP50  mAP50-95): 100%|██████████| 2/2 [00:00<00:00,  3.62it/s]"
          ]
        },
        {
          "output_type": "stream",
          "name": "stdout",
          "text": [
            "                   all         55         55      0.862      0.944      0.938      0.682      0.862      0.944      0.938      0.938\n"
          ]
        },
        {
          "output_type": "stream",
          "name": "stderr",
          "text": [
            "\n"
          ]
        },
        {
          "output_type": "stream",
          "name": "stdout",
          "text": [
            "\n",
            "      Epoch    GPU_mem   box_loss  pose_loss  kobj_loss   cls_loss   dfl_loss  Instances       Size\n"
          ]
        },
        {
          "output_type": "stream",
          "name": "stderr",
          "text": [
            "    125/150      3.88G      0.597    0.06316     0.0685     0.3772      1.051         37        640: 100%|██████████| 12/12 [00:04<00:00,  2.62it/s]\n",
            "                 Class     Images  Instances      Box(P          R      mAP50  mAP50-95)     Pose(P          R      mAP50  mAP50-95): 100%|██████████| 2/2 [00:00<00:00,  2.99it/s]"
          ]
        },
        {
          "output_type": "stream",
          "name": "stdout",
          "text": [
            "                   all         55         55      0.859      0.946      0.946      0.693      0.859      0.946      0.946      0.946\n"
          ]
        },
        {
          "output_type": "stream",
          "name": "stderr",
          "text": [
            "\n"
          ]
        },
        {
          "output_type": "stream",
          "name": "stdout",
          "text": [
            "\n",
            "      Epoch    GPU_mem   box_loss  pose_loss  kobj_loss   cls_loss   dfl_loss  Instances       Size\n"
          ]
        },
        {
          "output_type": "stream",
          "name": "stderr",
          "text": [
            "    126/150      3.88G     0.6189    0.06587    0.06776     0.3789      1.068         37        640: 100%|██████████| 12/12 [00:03<00:00,  3.37it/s]\n",
            "                 Class     Images  Instances      Box(P          R      mAP50  mAP50-95)     Pose(P          R      mAP50  mAP50-95): 100%|██████████| 2/2 [00:00<00:00,  3.93it/s]"
          ]
        },
        {
          "output_type": "stream",
          "name": "stdout",
          "text": [
            "                   all         55         55      0.892      0.946      0.967      0.713      0.892      0.946      0.967      0.967\n"
          ]
        },
        {
          "output_type": "stream",
          "name": "stderr",
          "text": [
            "\n"
          ]
        },
        {
          "output_type": "stream",
          "name": "stdout",
          "text": [
            "\n",
            "      Epoch    GPU_mem   box_loss  pose_loss  kobj_loss   cls_loss   dfl_loss  Instances       Size\n"
          ]
        },
        {
          "output_type": "stream",
          "name": "stderr",
          "text": [
            "    127/150      3.88G     0.6353    0.05882    0.08142     0.3832      1.096         39        640: 100%|██████████| 12/12 [00:03<00:00,  3.36it/s]\n",
            "                 Class     Images  Instances      Box(P          R      mAP50  mAP50-95)     Pose(P          R      mAP50  mAP50-95): 100%|██████████| 2/2 [00:00<00:00,  2.38it/s]"
          ]
        },
        {
          "output_type": "stream",
          "name": "stdout",
          "text": [
            "                   all         55         55      0.908      0.973      0.969      0.705      0.908      0.973      0.969      0.969\n"
          ]
        },
        {
          "output_type": "stream",
          "name": "stderr",
          "text": [
            "\n"
          ]
        },
        {
          "output_type": "stream",
          "name": "stdout",
          "text": [
            "\n",
            "      Epoch    GPU_mem   box_loss  pose_loss  kobj_loss   cls_loss   dfl_loss  Instances       Size\n"
          ]
        },
        {
          "output_type": "stream",
          "name": "stderr",
          "text": [
            "    128/150      3.88G     0.6237    0.06642    0.08157     0.3829      1.093         35        640: 100%|██████████| 12/12 [00:04<00:00,  2.85it/s]\n",
            "                 Class     Images  Instances      Box(P          R      mAP50  mAP50-95)     Pose(P          R      mAP50  mAP50-95): 100%|██████████| 2/2 [00:00<00:00,  3.80it/s]"
          ]
        },
        {
          "output_type": "stream",
          "name": "stdout",
          "text": [
            "                   all         55         55      0.882      0.945      0.968      0.711      0.882      0.945      0.968      0.968\n"
          ]
        },
        {
          "output_type": "stream",
          "name": "stderr",
          "text": [
            "\n"
          ]
        },
        {
          "output_type": "stream",
          "name": "stdout",
          "text": [
            "\n",
            "      Epoch    GPU_mem   box_loss  pose_loss  kobj_loss   cls_loss   dfl_loss  Instances       Size\n"
          ]
        },
        {
          "output_type": "stream",
          "name": "stderr",
          "text": [
            "    129/150      3.88G     0.6269    0.05881    0.07947     0.3938      1.094         36        640: 100%|██████████| 12/12 [00:03<00:00,  3.36it/s]\n",
            "                 Class     Images  Instances      Box(P          R      mAP50  mAP50-95)     Pose(P          R      mAP50  mAP50-95): 100%|██████████| 2/2 [00:00<00:00,  3.99it/s]"
          ]
        },
        {
          "output_type": "stream",
          "name": "stdout",
          "text": [
            "                   all         55         55      0.883      0.966      0.963      0.716      0.883      0.966      0.963      0.963\n"
          ]
        },
        {
          "output_type": "stream",
          "name": "stderr",
          "text": [
            "\n"
          ]
        },
        {
          "output_type": "stream",
          "name": "stdout",
          "text": [
            "\n",
            "      Epoch    GPU_mem   box_loss  pose_loss  kobj_loss   cls_loss   dfl_loss  Instances       Size\n"
          ]
        },
        {
          "output_type": "stream",
          "name": "stderr",
          "text": [
            "    130/150      3.91G     0.5917    0.06534     0.0787      0.383      1.059         35        640: 100%|██████████| 12/12 [00:03<00:00,  3.25it/s]\n",
            "                 Class     Images  Instances      Box(P          R      mAP50  mAP50-95)     Pose(P          R      mAP50  mAP50-95): 100%|██████████| 2/2 [00:00<00:00,  2.44it/s]"
          ]
        },
        {
          "output_type": "stream",
          "name": "stdout",
          "text": [
            "                   all         55         55      0.943      0.931       0.96      0.705      0.943      0.931       0.96       0.96\n"
          ]
        },
        {
          "output_type": "stream",
          "name": "stderr",
          "text": [
            "\n"
          ]
        },
        {
          "output_type": "stream",
          "name": "stdout",
          "text": [
            "\n",
            "      Epoch    GPU_mem   box_loss  pose_loss  kobj_loss   cls_loss   dfl_loss  Instances       Size\n"
          ]
        },
        {
          "output_type": "stream",
          "name": "stderr",
          "text": [
            "    131/150      3.95G     0.6359    0.07093    0.06522     0.3984      1.103         30        640: 100%|██████████| 12/12 [00:04<00:00,  2.96it/s]\n",
            "                 Class     Images  Instances      Box(P          R      mAP50  mAP50-95)     Pose(P          R      mAP50  mAP50-95): 100%|██████████| 2/2 [00:00<00:00,  3.83it/s]"
          ]
        },
        {
          "output_type": "stream",
          "name": "stdout",
          "text": [
            "                   all         55         55      0.898       0.98       0.96       0.71      0.898       0.98       0.96       0.96\n"
          ]
        },
        {
          "output_type": "stream",
          "name": "stderr",
          "text": [
            "\n"
          ]
        },
        {
          "output_type": "stream",
          "name": "stdout",
          "text": [
            "\n",
            "      Epoch    GPU_mem   box_loss  pose_loss  kobj_loss   cls_loss   dfl_loss  Instances       Size\n"
          ]
        },
        {
          "output_type": "stream",
          "name": "stderr",
          "text": [
            "    132/150      3.99G     0.6397    0.06692    0.06961     0.3721      1.053         37        640: 100%|██████████| 12/12 [00:03<00:00,  3.35it/s]\n",
            "                 Class     Images  Instances      Box(P          R      mAP50  mAP50-95)     Pose(P          R      mAP50  mAP50-95): 100%|██████████| 2/2 [00:00<00:00,  3.89it/s]"
          ]
        },
        {
          "output_type": "stream",
          "name": "stdout",
          "text": [
            "                   all         55         55      0.921       0.98      0.963      0.703      0.921       0.98      0.963      0.963\n"
          ]
        },
        {
          "output_type": "stream",
          "name": "stderr",
          "text": [
            "\n"
          ]
        },
        {
          "output_type": "stream",
          "name": "stdout",
          "text": [
            "\n",
            "      Epoch    GPU_mem   box_loss  pose_loss  kobj_loss   cls_loss   dfl_loss  Instances       Size\n"
          ]
        },
        {
          "output_type": "stream",
          "name": "stderr",
          "text": [
            "    133/150      4.06G     0.6234    0.06747    0.05517     0.4005      1.053         37        640: 100%|██████████| 12/12 [00:03<00:00,  3.08it/s]\n",
            "                 Class     Images  Instances      Box(P          R      mAP50  mAP50-95)     Pose(P          R      mAP50  mAP50-95): 100%|██████████| 2/2 [00:00<00:00,  2.33it/s]"
          ]
        },
        {
          "output_type": "stream",
          "name": "stdout",
          "text": [
            "                   all         55         55      0.892      0.983      0.969      0.703      0.892      0.983      0.969      0.969\n"
          ]
        },
        {
          "output_type": "stream",
          "name": "stderr",
          "text": [
            "\n"
          ]
        },
        {
          "output_type": "stream",
          "name": "stdout",
          "text": [
            "\n",
            "      Epoch    GPU_mem   box_loss  pose_loss  kobj_loss   cls_loss   dfl_loss  Instances       Size\n"
          ]
        },
        {
          "output_type": "stream",
          "name": "stderr",
          "text": [
            "    134/150      4.13G     0.5721    0.05761    0.07529     0.3597      1.046         41        640: 100%|██████████| 12/12 [00:03<00:00,  3.05it/s]\n",
            "                 Class     Images  Instances      Box(P          R      mAP50  mAP50-95)     Pose(P          R      mAP50  mAP50-95): 100%|██████████| 2/2 [00:00<00:00,  3.83it/s]"
          ]
        },
        {
          "output_type": "stream",
          "name": "stdout",
          "text": [
            "                   all         55         55      0.853      0.991      0.974      0.703      0.853      0.991      0.974      0.974\n"
          ]
        },
        {
          "output_type": "stream",
          "name": "stderr",
          "text": [
            "\n"
          ]
        },
        {
          "output_type": "stream",
          "name": "stdout",
          "text": [
            "\n",
            "      Epoch    GPU_mem   box_loss  pose_loss  kobj_loss   cls_loss   dfl_loss  Instances       Size\n"
          ]
        },
        {
          "output_type": "stream",
          "name": "stderr",
          "text": [
            "    135/150       4.2G     0.5637    0.06723    0.06458     0.3647      1.061         38        640: 100%|██████████| 12/12 [00:03<00:00,  3.39it/s]\n",
            "                 Class     Images  Instances      Box(P          R      mAP50  mAP50-95)     Pose(P          R      mAP50  mAP50-95): 100%|██████████| 2/2 [00:00<00:00,  3.90it/s]"
          ]
        },
        {
          "output_type": "stream",
          "name": "stdout",
          "text": [
            "                   all         55         55       0.86      0.992      0.979      0.706       0.86      0.992      0.979      0.979\n"
          ]
        },
        {
          "output_type": "stream",
          "name": "stderr",
          "text": [
            "\n"
          ]
        },
        {
          "output_type": "stream",
          "name": "stdout",
          "text": [
            "\n",
            "      Epoch    GPU_mem   box_loss  pose_loss  kobj_loss   cls_loss   dfl_loss  Instances       Size\n"
          ]
        },
        {
          "output_type": "stream",
          "name": "stderr",
          "text": [
            "    136/150      4.28G      0.572    0.06396    0.07217      0.346      1.059         33        640: 100%|██████████| 12/12 [00:04<00:00,  2.97it/s]\n",
            "                 Class     Images  Instances      Box(P          R      mAP50  mAP50-95)     Pose(P          R      mAP50  mAP50-95): 100%|██████████| 2/2 [00:00<00:00,  2.20it/s]"
          ]
        },
        {
          "output_type": "stream",
          "name": "stdout",
          "text": [
            "                   all         55         55      0.884      0.959      0.978      0.707      0.884      0.959      0.978      0.978\n"
          ]
        },
        {
          "output_type": "stream",
          "name": "stderr",
          "text": [
            "\n"
          ]
        },
        {
          "output_type": "stream",
          "name": "stdout",
          "text": [
            "\n",
            "      Epoch    GPU_mem   box_loss  pose_loss  kobj_loss   cls_loss   dfl_loss  Instances       Size\n"
          ]
        },
        {
          "output_type": "stream",
          "name": "stderr",
          "text": [
            "    137/150      4.35G     0.5859    0.05326    0.06924     0.3557      1.055         43        640: 100%|██████████| 12/12 [00:03<00:00,  3.18it/s]\n",
            "                 Class     Images  Instances      Box(P          R      mAP50  mAP50-95)     Pose(P          R      mAP50  mAP50-95): 100%|██████████| 2/2 [00:00<00:00,  3.74it/s]"
          ]
        },
        {
          "output_type": "stream",
          "name": "stdout",
          "text": [
            "                   all         55         55      0.929      0.931      0.976      0.717      0.929      0.931      0.976      0.976\n"
          ]
        },
        {
          "output_type": "stream",
          "name": "stderr",
          "text": [
            "\n"
          ]
        },
        {
          "output_type": "stream",
          "name": "stdout",
          "text": [
            "\n",
            "      Epoch    GPU_mem   box_loss  pose_loss  kobj_loss   cls_loss   dfl_loss  Instances       Size\n"
          ]
        },
        {
          "output_type": "stream",
          "name": "stderr",
          "text": [
            "    138/150      4.42G     0.5894     0.0571    0.07104     0.3615      1.043         32        640: 100%|██████████| 12/12 [00:03<00:00,  3.37it/s]\n",
            "                 Class     Images  Instances      Box(P          R      mAP50  mAP50-95)     Pose(P          R      mAP50  mAP50-95): 100%|██████████| 2/2 [00:00<00:00,  3.83it/s]"
          ]
        },
        {
          "output_type": "stream",
          "name": "stdout",
          "text": [
            "                   all         55         55      0.941      0.931      0.974      0.717      0.941      0.931      0.974      0.974\n"
          ]
        },
        {
          "output_type": "stream",
          "name": "stderr",
          "text": [
            "\n"
          ]
        },
        {
          "output_type": "stream",
          "name": "stdout",
          "text": [
            "\n",
            "      Epoch    GPU_mem   box_loss  pose_loss  kobj_loss   cls_loss   dfl_loss  Instances       Size\n"
          ]
        },
        {
          "output_type": "stream",
          "name": "stderr",
          "text": [
            "    139/150      4.49G     0.5652    0.06577    0.06988     0.3517      1.053         40        640: 100%|██████████| 12/12 [00:04<00:00,  2.76it/s]\n",
            "                 Class     Images  Instances      Box(P          R      mAP50  mAP50-95)     Pose(P          R      mAP50  mAP50-95): 100%|██████████| 2/2 [00:00<00:00,  2.03it/s]"
          ]
        },
        {
          "output_type": "stream",
          "name": "stdout",
          "text": [
            "                   all         55         55      0.913      0.976      0.974      0.715      0.913      0.976      0.974      0.974\n"
          ]
        },
        {
          "output_type": "stream",
          "name": "stderr",
          "text": [
            "\n"
          ]
        },
        {
          "output_type": "stream",
          "name": "stdout",
          "text": [
            "\n",
            "      Epoch    GPU_mem   box_loss  pose_loss  kobj_loss   cls_loss   dfl_loss  Instances       Size\n"
          ]
        },
        {
          "output_type": "stream",
          "name": "stderr",
          "text": [
            "    140/150      4.53G     0.5773    0.05953    0.06782     0.3387      1.037         37        640: 100%|██████████| 12/12 [00:03<00:00,  3.28it/s]\n",
            "                 Class     Images  Instances      Box(P          R      mAP50  mAP50-95)     Pose(P          R      mAP50  mAP50-95): 100%|██████████| 2/2 [00:00<00:00,  3.76it/s]"
          ]
        },
        {
          "output_type": "stream",
          "name": "stdout",
          "text": [
            "                   all         55         55      0.923      0.982      0.972      0.707      0.923      0.982      0.972      0.972\n"
          ]
        },
        {
          "output_type": "stream",
          "name": "stderr",
          "text": [
            "\n"
          ]
        },
        {
          "output_type": "stream",
          "name": "stdout",
          "text": [
            "Closing dataloader mosaic\n",
            "\u001b[34m\u001b[1malbumentations: \u001b[0mBlur(p=0.01, blur_limit=(3, 7)), MedianBlur(p=0.01, blur_limit=(3, 7)), ToGray(p=0.01, method='weighted_average', num_output_channels=3), CLAHE(p=0.01, clip_limit=(1.0, 4.0), tile_grid_size=(8, 8))\n",
            "\n",
            "      Epoch    GPU_mem   box_loss  pose_loss  kobj_loss   cls_loss   dfl_loss  Instances       Size\n"
          ]
        },
        {
          "output_type": "stream",
          "name": "stderr",
          "text": [
            "    141/150      4.86G     0.5088    0.04569    0.02253     0.2878      1.054         15        640: 100%|██████████| 12/12 [00:05<00:00,  2.12it/s]\n",
            "                 Class     Images  Instances      Box(P          R      mAP50  mAP50-95)     Pose(P          R      mAP50  mAP50-95): 100%|██████████| 2/2 [00:00<00:00,  2.28it/s]"
          ]
        },
        {
          "output_type": "stream",
          "name": "stdout",
          "text": [
            "                   all         55         55      0.897      0.982      0.961      0.701      0.897      0.982      0.961      0.961\n"
          ]
        },
        {
          "output_type": "stream",
          "name": "stderr",
          "text": [
            "\n"
          ]
        },
        {
          "output_type": "stream",
          "name": "stdout",
          "text": [
            "\n",
            "      Epoch    GPU_mem   box_loss  pose_loss  kobj_loss   cls_loss   dfl_loss  Instances       Size\n"
          ]
        },
        {
          "output_type": "stream",
          "name": "stderr",
          "text": [
            "    142/150       4.9G     0.4705    0.03714    0.03087     0.2655       1.05         15        640: 100%|██████████| 12/12 [00:04<00:00,  3.00it/s]\n",
            "                 Class     Images  Instances      Box(P          R      mAP50  mAP50-95)     Pose(P          R      mAP50  mAP50-95): 100%|██████████| 2/2 [00:00<00:00,  3.73it/s]"
          ]
        },
        {
          "output_type": "stream",
          "name": "stdout",
          "text": [
            "                   all         55         55       0.89      0.973      0.955      0.686       0.89      0.973      0.955      0.955\n"
          ]
        },
        {
          "output_type": "stream",
          "name": "stderr",
          "text": [
            "\n"
          ]
        },
        {
          "output_type": "stream",
          "name": "stdout",
          "text": [
            "\n",
            "      Epoch    GPU_mem   box_loss  pose_loss  kobj_loss   cls_loss   dfl_loss  Instances       Size\n"
          ]
        },
        {
          "output_type": "stream",
          "name": "stderr",
          "text": [
            "    143/150      4.94G     0.4787    0.03456    0.03294     0.2581      1.025         15        640: 100%|██████████| 12/12 [00:03<00:00,  3.36it/s]\n",
            "                 Class     Images  Instances      Box(P          R      mAP50  mAP50-95)     Pose(P          R      mAP50  mAP50-95): 100%|██████████| 2/2 [00:00<00:00,  3.80it/s]"
          ]
        },
        {
          "output_type": "stream",
          "name": "stdout",
          "text": [
            "                   all         55         55      0.896      0.973      0.954      0.683      0.896      0.973      0.954      0.954\n"
          ]
        },
        {
          "output_type": "stream",
          "name": "stderr",
          "text": [
            "\n"
          ]
        },
        {
          "output_type": "stream",
          "name": "stdout",
          "text": [
            "\n",
            "      Epoch    GPU_mem   box_loss  pose_loss  kobj_loss   cls_loss   dfl_loss  Instances       Size\n"
          ]
        },
        {
          "output_type": "stream",
          "name": "stderr",
          "text": [
            "    144/150      4.97G     0.4551    0.03432    0.02929     0.2476      1.021         15        640: 100%|██████████| 12/12 [00:03<00:00,  3.08it/s]\n",
            "                 Class     Images  Instances      Box(P          R      mAP50  mAP50-95)     Pose(P          R      mAP50  mAP50-95): 100%|██████████| 2/2 [00:00<00:00,  2.27it/s]"
          ]
        },
        {
          "output_type": "stream",
          "name": "stdout",
          "text": [
            "                   all         55         55      0.883      0.979      0.958      0.691      0.883      0.979      0.958      0.958\n"
          ]
        },
        {
          "output_type": "stream",
          "name": "stderr",
          "text": [
            "\n"
          ]
        },
        {
          "output_type": "stream",
          "name": "stdout",
          "text": [
            "\n",
            "      Epoch    GPU_mem   box_loss  pose_loss  kobj_loss   cls_loss   dfl_loss  Instances       Size\n"
          ]
        },
        {
          "output_type": "stream",
          "name": "stderr",
          "text": [
            "    145/150      5.01G     0.4613    0.03609    0.04816      0.241       1.03         15        640: 100%|██████████| 12/12 [00:03<00:00,  3.13it/s]\n",
            "                 Class     Images  Instances      Box(P          R      mAP50  mAP50-95)     Pose(P          R      mAP50  mAP50-95): 100%|██████████| 2/2 [00:00<00:00,  3.35it/s]"
          ]
        },
        {
          "output_type": "stream",
          "name": "stdout",
          "text": [
            "                   all         55         55      0.881      0.986      0.963      0.698      0.881      0.986      0.963      0.963\n"
          ]
        },
        {
          "output_type": "stream",
          "name": "stderr",
          "text": [
            "\n"
          ]
        },
        {
          "output_type": "stream",
          "name": "stdout",
          "text": [
            "\n",
            "      Epoch    GPU_mem   box_loss  pose_loss  kobj_loss   cls_loss   dfl_loss  Instances       Size\n"
          ]
        },
        {
          "output_type": "stream",
          "name": "stderr",
          "text": [
            "    146/150      5.05G     0.4697    0.03594    0.02183     0.2508      1.022         15        640: 100%|██████████| 12/12 [00:03<00:00,  3.26it/s]\n",
            "                 Class     Images  Instances      Box(P          R      mAP50  mAP50-95)     Pose(P          R      mAP50  mAP50-95): 100%|██████████| 2/2 [00:00<00:00,  3.80it/s]"
          ]
        },
        {
          "output_type": "stream",
          "name": "stdout",
          "text": [
            "                   all         55         55      0.876      0.986      0.966      0.698      0.876      0.986      0.966      0.966\n"
          ]
        },
        {
          "output_type": "stream",
          "name": "stderr",
          "text": [
            "\n"
          ]
        },
        {
          "output_type": "stream",
          "name": "stdout",
          "text": [
            "\n",
            "      Epoch    GPU_mem   box_loss  pose_loss  kobj_loss   cls_loss   dfl_loss  Instances       Size\n"
          ]
        },
        {
          "output_type": "stream",
          "name": "stderr",
          "text": [
            "    147/150      5.09G     0.4503    0.03526    0.03395     0.2395      1.022         15        640: 100%|██████████| 12/12 [00:04<00:00,  2.97it/s]\n",
            "                 Class     Images  Instances      Box(P          R      mAP50  mAP50-95)     Pose(P          R      mAP50  mAP50-95): 100%|██████████| 2/2 [00:00<00:00,  2.43it/s]"
          ]
        },
        {
          "output_type": "stream",
          "name": "stdout",
          "text": [
            "                   all         55         55      0.874      0.986      0.967      0.706      0.874      0.986      0.967      0.967\n"
          ]
        },
        {
          "output_type": "stream",
          "name": "stderr",
          "text": [
            "\n"
          ]
        },
        {
          "output_type": "stream",
          "name": "stdout",
          "text": [
            "\n",
            "      Epoch    GPU_mem   box_loss  pose_loss  kobj_loss   cls_loss   dfl_loss  Instances       Size\n"
          ]
        },
        {
          "output_type": "stream",
          "name": "stderr",
          "text": [
            "    148/150      5.12G     0.4536    0.03313    0.01296      0.256      1.032         15        640: 100%|██████████| 12/12 [00:03<00:00,  3.23it/s]\n",
            "                 Class     Images  Instances      Box(P          R      mAP50  mAP50-95)     Pose(P          R      mAP50  mAP50-95): 100%|██████████| 2/2 [00:00<00:00,  3.82it/s]"
          ]
        },
        {
          "output_type": "stream",
          "name": "stdout",
          "text": [
            "                   all         55         55       0.87      0.986      0.969      0.703       0.87      0.986      0.969      0.969\n"
          ]
        },
        {
          "output_type": "stream",
          "name": "stderr",
          "text": [
            "\n"
          ]
        },
        {
          "output_type": "stream",
          "name": "stdout",
          "text": [
            "\n",
            "      Epoch    GPU_mem   box_loss  pose_loss  kobj_loss   cls_loss   dfl_loss  Instances       Size\n"
          ]
        },
        {
          "output_type": "stream",
          "name": "stderr",
          "text": [
            "    149/150      5.16G     0.4446    0.03236    0.03792     0.2345     0.9974         15        640: 100%|██████████| 12/12 [00:03<00:00,  3.44it/s]\n",
            "                 Class     Images  Instances      Box(P          R      mAP50  mAP50-95)     Pose(P          R      mAP50  mAP50-95): 100%|██████████| 2/2 [00:00<00:00,  3.61it/s]"
          ]
        },
        {
          "output_type": "stream",
          "name": "stdout",
          "text": [
            "                   all         55         55      0.855      0.986      0.971      0.705      0.855      0.986      0.971      0.971\n"
          ]
        },
        {
          "output_type": "stream",
          "name": "stderr",
          "text": [
            "\n"
          ]
        },
        {
          "output_type": "stream",
          "name": "stdout",
          "text": [
            "\n",
            "      Epoch    GPU_mem   box_loss  pose_loss  kobj_loss   cls_loss   dfl_loss  Instances       Size\n"
          ]
        },
        {
          "output_type": "stream",
          "name": "stderr",
          "text": [
            "    150/150       5.2G     0.4377    0.03613    0.03904     0.2346      1.012         15        640: 100%|██████████| 12/12 [00:04<00:00,  2.85it/s]\n",
            "                 Class     Images  Instances      Box(P          R      mAP50  mAP50-95)     Pose(P          R      mAP50  mAP50-95): 100%|██████████| 2/2 [00:00<00:00,  2.33it/s]"
          ]
        },
        {
          "output_type": "stream",
          "name": "stdout",
          "text": [
            "                   all         55         55      0.926      0.903      0.971      0.704      0.926      0.903      0.971      0.971\n"
          ]
        },
        {
          "output_type": "stream",
          "name": "stderr",
          "text": [
            "\n"
          ]
        },
        {
          "output_type": "stream",
          "name": "stdout",
          "text": [
            "\n",
            "150 epochs completed in 0.211 hours.\n",
            "Optimizer stripped from runs/pose/train2/weights/last.pt, 23.1MB\n",
            "Optimizer stripped from runs/pose/train2/weights/best.pt, 23.1MB\n",
            "\n",
            "Validating runs/pose/train2/weights/best.pt...\n",
            "Ultralytics 8.3.159 🚀 Python-3.11.13 torch-2.6.0+cu124 CUDA:0 (Tesla T4, 15095MiB)\n",
            "YOLOv8s-pose summary (fused): 81 layers, 11,413,137 parameters, 0 gradients, 29.4 GFLOPs\n"
          ]
        },
        {
          "output_type": "stream",
          "name": "stderr",
          "text": [
            "                 Class     Images  Instances      Box(P          R      mAP50  mAP50-95)     Pose(P          R      mAP50  mAP50-95): 100%|██████████| 2/2 [00:00<00:00,  2.44it/s]\n"
          ]
        },
        {
          "output_type": "stream",
          "name": "stdout",
          "text": [
            "                   all         55         55      0.929      0.986      0.987      0.743      0.929      0.986      0.987      0.987\n",
            "                   Bad         37         37      0.918      0.973       0.99      0.785      0.918      0.973       0.99       0.99\n",
            "                  Good         18         18       0.94          1      0.983        0.7       0.94          1      0.983      0.983\n",
            "Speed: 0.2ms preprocess, 4.4ms inference, 0.0ms loss, 2.1ms postprocess per image\n",
            "Results saved to \u001b[1mruns/pose/train2\u001b[0m\n"
          ]
        }
      ]
    },
    {
      "cell_type": "code",
      "source": [
        "%matplotlib inline\n",
        "import pandas as pd\n",
        "import matplotlib.pyplot as plt\n",
        "\n",
        "# Baca file CSV hasil training\n",
        "results_csv = '/content/runs/pose/train2/results.csv'\n",
        "df = pd.read_csv(results_csv)\n",
        "\n",
        "# Grafik Loss\n",
        "plt.figure(figsize=(12, 6))\n",
        "plt.plot(df['epoch'], df['train/box_loss'], label='Train Box Loss')\n",
        "plt.plot(df['epoch'], df['val/box_loss'], label='Val Box Loss')\n",
        "plt.plot(df['epoch'], df['train/cls_loss'], label='Train Class Loss')\n",
        "plt.plot(df['epoch'], df['val/cls_loss'], label='Val Class Loss')\n",
        "plt.xlabel('Epoch')\n",
        "plt.ylabel('Loss')\n",
        "plt.title('Training vs Validation Loss')\n",
        "plt.legend()\n",
        "plt.grid(True)\n",
        "plt.show()\n",
        "\n",
        "# Grafik mAP dan Precision\n",
        "plt.figure(figsize=(12, 6))\n",
        "plt.plot(df['epoch'], df['metrics/precision(B)'], label='Precision')\n",
        "plt.plot(df['epoch'], df['metrics/recall(B)'], label='Recall')\n",
        "plt.plot(df['epoch'], df['metrics/mAP50(B)'], label='mAP@0.5')\n",
        "plt.plot(df['epoch'], df['metrics/mAP50-95(B)'], label='mAP@0.5:0.95')\n",
        "plt.xlabel('Epoch')\n",
        "plt.ylabel('Score')\n",
        "plt.title('Precision, Recall, and mAP over Epochs')\n",
        "plt.legend()\n",
        "plt.grid(True)\n",
        "plt.show()\n"
      ],
      "metadata": {
        "colab": {
          "base_uri": "https://localhost:8080/",
          "height": 1000
        },
        "id": "1svcQlbz6pBo",
        "outputId": "9723b0fb-e4b9-4351-8580-54dacc0d872d"
      },
      "execution_count": null,
      "outputs": [
        {
          "output_type": "display_data",
          "data": {
            "text/plain": [
              "<Figure size 1200x600 with 1 Axes>"
            ],
            "image/png": "[encoded data removed]"
          },
          "metadata": {}
        },
        {
          "output_type": "display_data",
          "data": {
            "text/plain": [
              "<Figure size 1200x600 with 1 Axes>"
            ],
            "image/png": "[encoded data removed]"
          },
          "metadata": {}
        }
      ]
    }
  ]
}